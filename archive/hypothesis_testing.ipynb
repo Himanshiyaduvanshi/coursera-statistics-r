{
 "cells": [
  {
   "cell_type": "markdown",
   "metadata": {},
   "source": [
    "# Hypothesis Testing"
   ]
  },
  {
   "cell_type": "markdown",
   "metadata": {},
   "source": [
    "## Hypothesis Testing Framework"
   ]
  },
  {
   "cell_type": "markdown",
   "metadata": {},
   "source": [
    "* We start with a **null hypothesis (H0)** that represents the status quo.\n",
    "* We also have an **alternative hypothesis (HA)** that represents our research question, i.e. what we're testing for.\n",
    "* We conduct a hypothesis test under the assumption that the null hypothesis is true, either via\n",
    "simulation or theorectical methods - methods that rely on the CLT.\n",
    "* If the test results suggest that the data do not provide convincing evidence for the alternative\n",
    "hypothesis, we stick with the null hypothesis. If they do, then we reject the null hypothesis in\n",
    "favor of the alternative."
   ]
  },
  {
   "cell_type": "markdown",
   "metadata": {},
   "source": [
    "## Hypothesis Testing (for a Mean)\n",
    "\n",
    "### Hypothesis\n",
    "* null - H0 : Ofen either a skeptical perspective or a claim to be tested (=)\n",
    "* alternative - HA : Represents an alternative claim under consideration and is often represented by a range of possible parameter values. (<, >, !=)\n",
    "* The skeptic will not abandon the H0 unless the evidence in favor of the HA is so strong that she rejects H0 in favor of HA.\n",
    "* Hypothesis is always about population parameters, but never about sample statistics."
   ]
  },
  {
   "cell_type": "markdown",
   "metadata": {},
   "source": [
    "### P-Value\n",
    "\n",
    "* **P(observed or more extreme outcome | H0 true)**\n",
    "* We use the test statistic to calculate the p-value, the probability of observing data at least as favorable to the alternative hypothesis as our current data set, if the null hypothesis was true.\n",
    "* If the p-value is low (lower than the **significance level** $ \\alpha $, which is usually 5%) we say that it would be very unlikely to observe the data if the null hypothesis were true, and hence **reject H0**.\n",
    "* If the p-value is high (higher than $ \\alpha $) we say that it is likely to observe the data even if the null\n",
    "hypothesis were true, and hence **do not reject H0**."
   ]
  },
  {
   "cell_type": "markdown",
   "metadata": {},
   "source": [
    "**Example**\n",
    "* Earlier we calculated a 95% confidence interval for the average number of exclusive relationships college students have been in to be 2.7 to 3.7. \n",
    "* Based on this confidence interval, do these data support the hypothesis that college students on average have been in more than three exclusive relationships?"
   ]
  },
  {
   "cell_type": "markdown",
   "metadata": {},
   "source": [
    "$$\n",
    "P(\\bar{x} > 3.2 | H_0 : \\mu = 3)\n",
    "$$"
   ]
  },
  {
   "cell_type": "code",
   "execution_count": 21,
   "metadata": {},
   "outputs": [
    {
     "data": {
      "text/html": [
       "0.81"
      ],
      "text/latex": [
       "0.81"
      ],
      "text/markdown": [
       "0.81"
      ],
      "text/plain": [
       "[1] 0.81"
      ]
     },
     "metadata": {},
     "output_type": "display_data"
    },
    {
     "data": {
      "text/html": [
       "0.21"
      ],
      "text/latex": [
       "0.21"
      ],
      "text/markdown": [
       "0.21"
      ],
      "text/plain": [
       "[1] 0.21"
      ]
     },
     "metadata": {},
     "output_type": "display_data"
    }
   ],
   "source": [
    "# H0: mu = 3\n",
    "# Collage students have been in 3 exclusive relationships, on average.\n",
    "\n",
    "# HA: mu > 3\n",
    "# Collage students have been in more than 3 exclusive relationships, on average.\n",
    "\n",
    "# P(x_bar > 3.2 | H0: mu = 3)\n",
    "\n",
    "# Since we assumme H0 is true, we can construct the sampling distribution based on the CLT.\n",
    "\n",
    "# x_bar ~ N(mu = 3, se = 0.246)\n",
    "\n",
    "# test statistic (z-score for normal distribution)\n",
    "(z <- round((3.2 - 3)/0.246, 2))\n",
    "\n",
    "# p-value\n",
    "(p_value <- round(1 - pnorm(z), 2))\n",
    "\n",
    "# Since p-value is high, we do not reject H0."
   ]
  },
  {
   "cell_type": "code",
   "execution_count": 22,
   "metadata": {},
   "outputs": [],
   "source": [
    "# If in fact college students have been in 3 exclusive relationships on average (H0 true), there is a \n",
    "# 21% (0.21) chance that a random sample of 50 college student would yield a sample mean of 3.2 or higher.\n",
    "\n",
    "# This is a high probability, so we think that a sample mean of 3.2 or more exclusive relationships is \n",
    "# likely to happen simply by chance or sampling variability."
   ]
  },
  {
   "cell_type": "markdown",
   "metadata": {},
   "source": [
    "### Two-Sided Tests\n",
    "\n",
    "* Often instead of looking for a divergence from the null in a specific direction, we might be interested\n",
    "in divergence in any direction.\n",
    "* We call such hypothesis tests **two-sided** (or **two-tailed**).\n",
    "* The definition of a p-value is the same regardless of doing a one or a two-sided test. However, the calculation becomes slightly different and ever so slightly more complicated since we need to consider \"at least as extreme as the observed outcome\" in both directions away from the mean."
   ]
  },
  {
   "cell_type": "markdown",
   "metadata": {},
   "source": [
    "**Example**\n",
    "\n",
    "$$\n",
    "P(\\bar{x} > 3.2  \\text{ OR }  \\bar{x} < 2.8 | H_0 : \\mu = 3)\n",
    "$$"
   ]
  },
  {
   "cell_type": "code",
   "execution_count": 40,
   "metadata": {},
   "outputs": [
    {
     "data": {
      "text/html": [
       "0.81"
      ],
      "text/latex": [
       "0.81"
      ],
      "text/markdown": [
       "0.81"
      ],
      "text/plain": [
       "[1] 0.81"
      ]
     },
     "metadata": {},
     "output_type": "display_data"
    },
    {
     "data": {
      "text/html": [
       "-0.81"
      ],
      "text/latex": [
       "-0.81"
      ],
      "text/markdown": [
       "-0.81"
      ],
      "text/plain": [
       "[1] -0.81"
      ]
     },
     "metadata": {},
     "output_type": "display_data"
    },
    {
     "data": {
      "text/html": [
       "0.209"
      ],
      "text/latex": [
       "0.209"
      ],
      "text/markdown": [
       "0.209"
      ],
      "text/plain": [
       "[1] 0.209"
      ]
     },
     "metadata": {},
     "output_type": "display_data"
    },
    {
     "data": {
      "text/html": [
       "0.209"
      ],
      "text/latex": [
       "0.209"
      ],
      "text/markdown": [
       "0.209"
      ],
      "text/plain": [
       "[1] 0.209"
      ]
     },
     "metadata": {},
     "output_type": "display_data"
    },
    {
     "data": {
      "text/html": [
       "0.418"
      ],
      "text/latex": [
       "0.418"
      ],
      "text/markdown": [
       "0.418"
      ],
      "text/plain": [
       "[1] 0.418"
      ]
     },
     "metadata": {},
     "output_type": "display_data"
    }
   ],
   "source": [
    "# test statistic\n",
    "(z_upper <- round((3.2 - 3)/0.246, 2))\n",
    "(z_lower <- round((2.8 - 3)/0.246, 2))\n",
    "\n",
    "# p-value\n",
    "(p_upper <- round(1 - pnorm(z_upper), 3))\n",
    "(p_lower <- round(pnorm(z_lower), 3))\n",
    "\n",
    "(p_value <- p_upper + p_lower)"
   ]
  },
  {
   "cell_type": "markdown",
   "metadata": {},
   "source": [
    "### Step-by-Step\n",
    "\n",
    "1. Set the **hypotheses**\n",
    "    * $H_0 : \\mu = \\text{null value}$\n",
    "    * $H_A: \\mu < or > or \\neq \\text{null value}$\n",
    "2. Calculate the **point estimate**: $\\bar{x}$\n",
    "3. Check **conditions**\n",
    "    * Independence\n",
    "    * Sample size/skew\n",
    "4. Draw **sampling distribution**, shape **p-value**, calculate **test statistic**\n",
    "    * $ z = \\frac{\\bar{x} - \\mu}{SE} $\n",
    "    * $ SE = \\frac{s}{\\sqrt{n}} $\n",
    "5. Make a decision, and interpret it in context of the research question\n",
    "    * If p-value < $\\alpha$, reject $H_0$; the data provide convincing evidence for $H_A$.\n",
    "    * If p-value > $\\alpha$, fail to reject $H_0$ the data do not provide convincing evidence for $H_A$."
   ]
  },
  {
   "cell_type": "markdown",
   "metadata": {},
   "source": [
    "**Example**\n",
    "* Researchers investigating characteristics of gifted children collected data from schools in a large city on a random sample of 36 children who were identified as gifted children soon after they reached the age of four. \n",
    "* In this study, along with variables on the children, the researchers also collected data on their mothers' IQ scores. The histogram shows the distribution of these data, and also provided our some sample statistics.\n",
    "    * n = 36\n",
    "    * min = 101\n",
    "    * mean = 118.2\n",
    "    * sd = 6.5\n",
    "    * max = 131\n",
    "* Perform a hypothesis test to evaluate if these data provide convincing evidence of a difference between the average IQ score of mothers of gifted children And the average IQ score for the population at large, which happens to be 100. We're also asked to use a significance level of .01."
   ]
  },
  {
   "cell_type": "code",
   "execution_count": 41,
   "metadata": {},
   "outputs": [],
   "source": [
    "# (1) Set the hypotheses\n",
    "# H0: mu = 100\n",
    "# H1: mu != 100"
   ]
  },
  {
   "cell_type": "code",
   "execution_count": 42,
   "metadata": {},
   "outputs": [],
   "source": [
    "# (2) Calculate the point estimate\n",
    "x_bar <- 118.2"
   ]
  },
  {
   "cell_type": "code",
   "execution_count": 43,
   "metadata": {},
   "outputs": [],
   "source": [
    "# (3) Check the conditions\n",
    "# random & 35 < 10% of all gifted child -> independence\n",
    "# n > 30 & sample not skewed -> nearly normal sampling distribution"
   ]
  },
  {
   "cell_type": "code",
   "execution_count": 63,
   "metadata": {},
   "outputs": [
    {
     "data": {
      "text/html": [
       "1.083"
      ],
      "text/latex": [
       "1.083"
      ],
      "text/markdown": [
       "1.083"
      ],
      "text/plain": [
       "[1] 1.083"
      ]
     },
     "metadata": {},
     "output_type": "display_data"
    },
    {
     "data": {
      "text/html": [
       "16.8051708217913"
      ],
      "text/latex": [
       "16.8051708217913"
      ],
      "text/markdown": [
       "16.8051708217913"
      ],
      "text/plain": [
       "[1] 16.80517"
      ]
     },
     "metadata": {},
     "output_type": "display_data"
    },
    {
     "data": {
      "text/html": [
       "-16.8051708217913"
      ],
      "text/latex": [
       "-16.8051708217913"
      ],
      "text/markdown": [
       "-16.8051708217913"
      ],
      "text/plain": [
       "[1] -16.80517"
      ]
     },
     "metadata": {},
     "output_type": "display_data"
    },
    {
     "data": {
      "text/html": [
       "2.2366732644382e-63"
      ],
      "text/latex": [
       "2.2366732644382e-63"
      ],
      "text/markdown": [
       "2.2366732644382e-63"
      ],
      "text/plain": [
       "[1] 2.236673e-63"
      ]
     },
     "metadata": {},
     "output_type": "display_data"
    }
   ],
   "source": [
    "# (4) Sampling distribution, p-value, test statistic\n",
    "(se <- round(6.5/sqrt(36), 3))\n",
    "\n",
    "(z_upper <- (118.2-100)/se)\n",
    "(z_lower <- (81.8-100)/se)\n",
    "\n",
    "(p_value <- (pnorm(z_upper, lower.tail = FALSE)) + pnorm(z_lower))"
   ]
  },
  {
   "cell_type": "code",
   "execution_count": 64,
   "metadata": {},
   "outputs": [],
   "source": [
    "# (5) Make a decision\n",
    "# p-value is very low -> strong evidence against the null\n",
    "# We reject the null hypothesis and conclude that the data provide convincing evidence of a difference between \n",
    "# the average IQ score of mothers of gifted child and the average IQ score for the populatin at large."
   ]
  },
  {
   "cell_type": "markdown",
   "metadata": {},
   "source": [
    "**Example**\n",
    "* A statistics student interested in sleep habits of domestic cats took a random sample of 144 cats and monitored their sleep. The cats slept an average of 16 hours per day. According to our online resources, domestic dogs actually sleep on average 14 hours a day. \n",
    "* We want to find out if these data provide convincing evidence of different sleeping habits for domestic cats and dogs with respect to how much they sleep. Note that the test statistic calculated was 1.73.\n",
    "* What is the interpretation of this p-value in context of these data?"
   ]
  },
  {
   "cell_type": "code",
   "execution_count": 68,
   "metadata": {},
   "outputs": [
    {
     "data": {
      "text/html": [
       "0.0836302752271899"
      ],
      "text/latex": [
       "0.0836302752271899"
      ],
      "text/markdown": [
       "0.0836302752271899"
      ],
      "text/plain": [
       "[1] 0.08363028"
      ]
     },
     "metadata": {},
     "output_type": "display_data"
    }
   ],
   "source": [
    "# H0: mu = 14\n",
    "# H1: mu != 14\n",
    "\n",
    "(p_value <- pnorm(-1.73) * 2)"
   ]
  },
  {
   "cell_type": "code",
   "execution_count": 70,
   "metadata": {},
   "outputs": [],
   "source": [
    "# p(obtaining a random sample of 144 cats that sleep 16 hours or more or 12 hours or less, \n",
    "# on average, if in fact cats truly slept 14 hours per day on average) = 0.0836\n",
    "\n",
    "# The p-value is larger than the significance level 0.05. Hence the evidence is not strong\n",
    "# enough to reject the null hypotheses. Hence, we cannot decide that there is a\n",
    "# difference between the sleeping habits for domestic cats and dogs.\n",
    "# If the average hours of sleep for domestic cat is 14, there is a 8% chance \n",
    "# that a random sample of size 144 would yield a sample mean of 16."
   ]
  },
  {
   "cell_type": "markdown",
   "metadata": {},
   "source": [
    "## Exercises\n",
    "\n",
    "OpenIntro Statistics, 3rd edition<br>\n",
    "4.17, 4.19, 4.23, 4.25, 4.27"
   ]
  },
  {
   "cell_type": "markdown",
   "metadata": {},
   "source": [
    "**4.17 Identify hypotheses, Part I.** \n",
    "* Write the null and alternative hypotheses in words and\n",
    "then symbols for each of the following situations.\n",
    "* (a) New York is known as “the city that never sleeps”. A random sample of 25 New Yorkers were\n",
    "asked how much sleep they get per night. Do these data provide convincing evidence that\n",
    "New Yorkers on average sleep less than 8 hours a night?\n",
    "* (b) Employers at a firm are worried about the effect of March Madness, a basketball championship\n",
    "held each spring in the US, on employee productivity. They estimate that on a regular business\n",
    "day employees spend on average 15 minutes of company time checking personal email, making\n",
    "personal phone calls, etc. They also collect data on how much company time employees spend\n",
    "on such non- business activities during March Madness. They want to determine if these data\n",
    "provide convincing evidence that employee productivity decreases during March Madness"
   ]
  },
  {
   "cell_type": "code",
   "execution_count": 1,
   "metadata": {},
   "outputs": [],
   "source": [
    "# (a)\n",
    "\n",
    "# H0: mu = 8\n",
    "# HA: mu < 8\n",
    "\n",
    "# The null hypotheses assumes that the average sleep hours of New Yorkers \n",
    "# is no difference to the average sleep hours of other city \n",
    "# which is 8 hours.\n",
    "\n",
    "# The alternative hypotheses is that New Yorkers on average sleep less \n",
    "# than 8 hours."
   ]
  },
  {
   "cell_type": "markdown",
   "metadata": {},
   "source": [
    "**4.19 Online communication.**\n",
    "* A study suggests that the average college student spends 10\n",
    "hours per week communicating with others online. You believe that this is an underestimate and\n",
    "decide to collect your own sample for a hypothesis test. You randomly sample 60 students from\n",
    "your dorm and find that on average they spent 13.5 hours a week communicating with others\n",
    "online. \n",
    "* A friend of yours, who offers to help you with the hypothesis test, comes up with the\n",
    "following set of hypotheses. Indicate any errors you see.\n",
    "$$H_0 : \\bar{x} < 10 \\text{ hours}$$\n",
    "$$H_A : \\bar{x} > 13.5 \\text{ hours}$$"
   ]
  },
  {
   "cell_type": "code",
   "execution_count": 3,
   "metadata": {},
   "outputs": [],
   "source": [
    "# The null hypotheses should be mu = 10 hours.\n",
    "# The alternative hypotheses should be mu > 10 hours."
   ]
  },
  {
   "cell_type": "markdown",
   "metadata": {},
   "source": [
    "**4.23 Nutrition labels.** \n",
    "* The nutrition label on a bag of potato chips says that a one ounce\n",
    "(28 gram) serving of potato chips has 130 calories and contains ten grams of fat, with three grams\n",
    "of saturated fat. A random sample of 35 bags yielded a sample mean of 134 calories with a standard\n",
    "deviation of 17 calories. \n",
    "* Is there evidence that the nutrition label does not provide an accurate\n",
    "measure of calories in the bags of potato chips? We have verified the independence, sample size,\n",
    "and skew conditions are satisfied."
   ]
  },
  {
   "cell_type": "code",
   "execution_count": 7,
   "metadata": {},
   "outputs": [
    {
     "data": {
      "text/html": [
       "2.87352446607696"
      ],
      "text/latex": [
       "2.87352446607696"
      ],
      "text/markdown": [
       "2.87352446607696"
      ],
      "text/plain": [
       "[1] 2.873524"
      ]
     },
     "metadata": {},
     "output_type": "display_data"
    },
    {
     "data": {
      "text/html": [
       "1.39201877249403"
      ],
      "text/latex": [
       "1.39201877249403"
      ],
      "text/markdown": [
       "1.39201877249403"
      ],
      "text/plain": [
       "[1] 1.392019"
      ]
     },
     "metadata": {},
     "output_type": "display_data"
    },
    {
     "data": {
      "text/html": [
       "0.163916713380565"
      ],
      "text/latex": [
       "0.163916713380565"
      ],
      "text/markdown": [
       "0.163916713380565"
      ],
      "text/plain": [
       "[1] 0.1639167"
      ]
     },
     "metadata": {},
     "output_type": "display_data"
    }
   ],
   "source": [
    "# H0: mu = 130\n",
    "# HA: mu != 130\n",
    "\n",
    "x <- 130\n",
    "p <- 134\n",
    "sd <- 17\n",
    "n <- 35\n",
    "\n",
    "(se <- sd/sqrt(n))\n",
    "\n",
    "(z <- (134-130)/se)\n",
    "\n",
    "pnorm(z, lower.tail = FALSE) * 2\n",
    "\n",
    "# If the null hypotheses is true (mean is 130), there is a 0.164\n",
    "# chance during a random sample of 130 yielding a sample mean of 134.\n",
    "# Let alpha be 0.05, the p-value is higher than the significance\n",
    "# level and we failed to reject the null hypotheses. Hence,\n",
    "# there is no strong evidence suggesting the measure of calories in the\n",
    "# bags of potato chips is inaccurate."
   ]
  },
  {
   "cell_type": "markdown",
   "metadata": {},
   "source": [
    "**4.25 Waiting at an ER, Part III.** \n",
    "* The hospital administrator mentioned in Exercise 4.13\n",
    "randomly selected 64 patients and measured the time (in minutes) between when they checked in\n",
    "to the ER and the time they were first seen by a doctor. The average time is 137.5 minutes and\n",
    "the standard deviation is 39 minutes. She is getting grief from her supervisor on the basis that\n",
    "the wait times in the ER has increased greatly from last year’s average of 127 minutes. However,\n",
    "she claims that the increase is probably just due to chance.\n",
    "* (a) Are conditions for inference met? Note any assumptions you must make to proceed.\n",
    "* (b) Using a significance level of α = 0.05, is the change in wait times statistically significant? Use\n",
    "a two-sided test since it seems the supervisor had to inspect the data before she suggested an\n",
    "increase occurred.\n",
    "* (c) Would the conclusion of the hypothesis test change if the significance level was changed to\n",
    "α = 0.01?\n"
   ]
  },
  {
   "cell_type": "code",
   "execution_count": 14,
   "metadata": {},
   "outputs": [],
   "source": [
    "# (a)\n",
    "# Independence: Since the patients are randomly selected, the independence \n",
    "# condition is met, and should make up of less than 10% of the ER residents.\n",
    "# Sample size: The sample size is 64, greater than 30. It's large enough\n",
    "# to perform inference with normal distribution.\n",
    "# Skewness: There's no information regarding the skewness but \n",
    "# we could assume that it's not skewed."
   ]
  },
  {
   "cell_type": "code",
   "execution_count": 12,
   "metadata": {},
   "outputs": [
    {
     "data": {
      "text/html": [
       "4.875"
      ],
      "text/latex": [
       "4.875"
      ],
      "text/markdown": [
       "4.875"
      ],
      "text/plain": [
       "[1] 4.875"
      ]
     },
     "metadata": {},
     "output_type": "display_data"
    },
    {
     "data": {
      "text/html": [
       "-2.15384615384615"
      ],
      "text/latex": [
       "-2.15384615384615"
      ],
      "text/markdown": [
       "-2.15384615384615"
      ],
      "text/plain": [
       "[1] -2.153846"
      ]
     },
     "metadata": {},
     "output_type": "display_data"
    },
    {
     "data": {
      "text/html": [
       "0.0312522388569388"
      ],
      "text/latex": [
       "0.0312522388569388"
      ],
      "text/markdown": [
       "0.0312522388569388"
      ],
      "text/plain": [
       "[1] 0.03125224"
      ]
     },
     "metadata": {},
     "output_type": "display_data"
    }
   ],
   "source": [
    "# (b)\n",
    "# H0: mu = 127\n",
    "# HA: mu != 127\n",
    "\n",
    "n <- 64\n",
    "x <- 137.5\n",
    "p <- 127\n",
    "sd <- 39\n",
    "\n",
    "(se <- sd / sqrt(n))\n",
    "\n",
    "(z <- (p - x)/se)\n",
    "\n",
    "pnorm(z)*2\n",
    "\n",
    "# The p-value 0.03 is smaller than the significance level of 0.05.\n",
    "# Hence, the null hypotheses can be rejected in favor of the\n",
    "# alternative hypotheses. The data provide convincing evidence that\n",
    "# the average ER wait time has increased over the last year."
   ]
  },
  {
   "cell_type": "code",
   "execution_count": 13,
   "metadata": {},
   "outputs": [],
   "source": [
    "# (c)\n",
    "\n",
    "# If the alpha is changed to 0.01, the p-value is larger than the \n",
    "# significance level and hence we cannot reject the null hypotheses."
   ]
  },
  {
   "cell_type": "markdown",
   "metadata": {},
   "source": [
    "**4.27 Working backwards, one-sided.** \n",
    "\n",
    "* You are given the following hypotheses:\n",
    "$$H_0 : µ = 30$$\n",
    "$$H_A : µ > 30$$\n",
    "* We know that the sample standard deviation is 10 and the sample size is 70. For what sample\n",
    "mean would the p-value be equal to 0.05? Assume that all conditions necessary for inference are\n",
    "satisfied."
   ]
  },
  {
   "cell_type": "code",
   "execution_count": 23,
   "metadata": {},
   "outputs": [
    {
     "data": {
      "text/html": [
       "1.19522860933439"
      ],
      "text/latex": [
       "1.19522860933439"
      ],
      "text/markdown": [
       "1.19522860933439"
      ],
      "text/plain": [
       "[1] 1.195229"
      ]
     },
     "metadata": {},
     "output_type": "display_data"
    },
    {
     "data": {
      "text/html": [
       "-1.64485362695147"
      ],
      "text/latex": [
       "-1.64485362695147"
      ],
      "text/markdown": [
       "-1.64485362695147"
      ],
      "text/plain": [
       "[1] -1.644854"
      ]
     },
     "metadata": {},
     "output_type": "display_data"
    },
    {
     "data": {
      "text/html": [
       "28.0340238869002"
      ],
      "text/latex": [
       "28.0340238869002"
      ],
      "text/markdown": [
       "28.0340238869002"
      ],
      "text/plain": [
       "[1] 28.03402"
      ]
     },
     "metadata": {},
     "output_type": "display_data"
    }
   ],
   "source": [
    "n <- 70\n",
    "x <- 30\n",
    "sd <- 10\n",
    "\n",
    "(se <- 10/sqrt(70))\n",
    "\n",
    "# Find the required z value if p-value = 0.05\n",
    "(z <- qnorm(0.05))\n",
    "\n",
    "# Find the required mean\n",
    "# z = (p - x)/se\n",
    "z * se + x"
   ]
  }
 ],
 "metadata": {
  "kernelspec": {
   "display_name": "R",
   "language": "R",
   "name": "ir"
  },
  "language_info": {
   "codemirror_mode": "r",
   "file_extension": ".r",
   "mimetype": "text/x-r-source",
   "name": "R",
   "pygments_lexer": "r",
   "version": "3.6.0"
  }
 },
 "nbformat": 4,
 "nbformat_minor": 2
}
