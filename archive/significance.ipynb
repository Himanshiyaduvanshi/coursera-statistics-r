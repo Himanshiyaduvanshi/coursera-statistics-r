{
 "cells": [
  {
   "cell_type": "markdown",
   "metadata": {},
   "source": [
    "# Significance"
   ]
  },
  {
   "cell_type": "markdown",
   "metadata": {},
   "source": [
    "## Inference for Other Estimators\n",
    "\n",
    "* Any **nearly normal sampling distributions**\n",
    "    * Sample mean $\\bar{x}$\n",
    "    * Difference between sample means $\\bar{x}_1 - \\bar{x}_2$\n",
    "    * Sample proportion $\\hat{p}$\n",
    "    * Diffefference between sample proportions $\\hat{p}_1 - \\hat{p}_2$\n",
    "* **Unbiased estimator**\n",
    "    * An important assumption about the point estimates is that they're unbiased, i.e. the sampling distribution of the estimate is centered at the true population parameter it estimates.\n",
    "    * An unbiased estimate does not naturally over or underestimate the parameter but instead it provides a good estimate. \n",
    "    * We know that the sample mean is an example of an unbiased point estimate.\n",
    "    \n",
    "### Confidence Intervals\n",
    "* **Confidence intervals** for nearly normal point estimates\n",
    "    $$ \\text{point estimate} \\pm z^{\\star} \\times SE $$\n",
    "    \n",
    "### Hypothesis Testing\n",
    "* **Hypothesis testing** for nearly normal point estimates\n",
    "    $$ Z = \\frac{\\text{ point estimate } - \\text{ null value }}{SE} $$"
   ]
  },
  {
   "cell_type": "markdown",
   "metadata": {},
   "source": [
    "**Example**\n",
    "* A 2010 Pew Research foundation poll indicates that among 1,099 college graduates, 33% watch the Daily Show. An American late-night TV Show. The standard error of this estimate is 0.014. \n",
    "* We are asked to estimate the 95% confidence interval for the proportion of college graduates who watch The Daily Show."
   ]
  },
  {
   "cell_type": "code",
   "execution_count": 1,
   "metadata": {},
   "outputs": [
    {
     "data": {
      "text/html": [
       "0.35744"
      ],
      "text/latex": [
       "0.35744"
      ],
      "text/markdown": [
       "0.35744"
      ],
      "text/plain": [
       "[1] 0.35744"
      ]
     },
     "metadata": {},
     "output_type": "display_data"
    },
    {
     "data": {
      "text/html": [
       "0.30256"
      ],
      "text/latex": [
       "0.30256"
      ],
      "text/markdown": [
       "0.30256"
      ],
      "text/plain": [
       "[1] 0.30256"
      ]
     },
     "metadata": {},
     "output_type": "display_data"
    }
   ],
   "source": [
    "p <- 0.33\n",
    "se <- 0.014\n",
    "\n",
    "p + 1.96 * se\n",
    "p - 1.96 * se"
   ]
  },
  {
   "cell_type": "markdown",
   "metadata": {},
   "source": [
    "**Example**\n",
    "\n",
    "* The 3rd national health and nutrition examination survey NHANES, collected body fat percentage and gender data from over 13,000 subjects in ages between 20 to 80. The average body fat percentage for the 6,580 men in the sample was 23.9%. And this value was 35% for the, for the 7,021 women. The standard error for the difference between the average male and female body fat percentages was 0.114. \n",
    "* Do these data provide convincing evidence that men and women have different average body fat percentages? You may assume that the distribution of the point estimate is nearly normal. "
   ]
  },
  {
   "cell_type": "code",
   "execution_count": 11,
   "metadata": {},
   "outputs": [
    {
     "data": {
      "text/html": [
       "-11.1"
      ],
      "text/latex": [
       "-11.1"
      ],
      "text/markdown": [
       "-11.1"
      ],
      "text/plain": [
       "[1] -11.1"
      ]
     },
     "metadata": {},
     "output_type": "display_data"
    },
    {
     "data": {
      "text/html": [
       "-97.3684210526316"
      ],
      "text/latex": [
       "-97.3684210526316"
      ],
      "text/markdown": [
       "-97.3684210526316"
      ],
      "text/plain": [
       "[1] -97.36842"
      ]
     },
     "metadata": {},
     "output_type": "display_data"
    },
    {
     "data": {
      "text/html": [
       "0"
      ],
      "text/latex": [
       "0"
      ],
      "text/markdown": [
       "0"
      ],
      "text/plain": [
       "[1] 0"
      ]
     },
     "metadata": {},
     "output_type": "display_data"
    }
   ],
   "source": [
    "# H0: mu_men = mu_women -> mu_men - mu_women = 0\n",
    "# H1: mu_men = mu_women -> mu_men - mu_women != 0\n",
    "\n",
    "# Point estimate\n",
    "# mu_men - mu_women\n",
    "(p <- 23.9 - 35)\n",
    "\n",
    "mu <- 0\n",
    "se <- 0.114\n",
    "\n",
    "(z <- (-11.1 - 0)/0.114)\n",
    "\n",
    "(p_value <- pnorm(z) * 2)\n",
    "\n",
    "# Reject the null hypothesis."
   ]
  },
  {
   "cell_type": "markdown",
   "metadata": {},
   "source": [
    "## Decision Errors\n",
    "\n",
    "* **Type I error** ($\\alpha$) is rejecting the H0 when H0 is true. (Declaring the defendant guilty when they are actually innocent.)\n",
    "* **Type II error** ($\\beta$) is failing to reject H0 when HA is true. (Declaring the defendant innocent when they are actually guilty.)\n",
    "* **Power** ($1 - \\beta$) of a test is the probability of correctly rejecting H0.\n",
    "\n",
    "\n",
    "* We (almost) never know if H0 or HA is true, but we need to consider all possibilities."
   ]
  },
  {
   "cell_type": "markdown",
   "metadata": {},
   "source": [
    "### Type I Error Rate\n",
    "* We reject the null hypothesis when the p-value is less than 0.05 ($\\alpha = 0.05$). \n",
    "* This means that, for those cases where the null hypothesis is actually true, we do not want to incorrectly reject it more than 5% of those times.\n",
    "* In other words, when using a 5% significance level, there is about a 5% chance of making a type one error if the null hypothesis is true. \n",
    "\n",
    "$$ P(\\text{Type I error } | H_0 \\text{ true}) = \\alpha $$\n",
    "\n",
    "* This is why we prefer small values of $\\alpha$ - increasing $\\alpha$ increases the Type I error rate.\n",
    "* If Type I Error is dangerous or especially costly, choose a small significance level (e.g. 0.01). Goal: We want to be very cautious about rejecting H0, so we demand very strong evidence favoring HA before we should do so.\n",
    "* If Type II Error is relatively more dangerous or much more costly, choose a higher significance level (e.g. 0.10). Goal: We want to be cautious about failing to reject H0 when the null is actually false.\n",
    "\n",
    "### Type II Error Rate\n",
    "\n",
    "* If the alternative hypothesis is actually true, what is the chance that we make a type two error? In other words, what is the chance that we fail to reject the null hypothesis, even when we should reject it?\n",
    "* The answer to this is not obvious. \n",
    "* If the true population average is very close to the null value, it will be very difficult to detect a difference and to reject the null hypothesis. \n",
    "* In other words, if the true population average is very different from the null value, it will be much easier to detect a difference.\n",
    "* Clearly then, $\\beta$, the probability of making a type two area depends on our effect size. An **effect size** is defined as the difference between the point estimate and the null value."
   ]
  },
  {
   "cell_type": "markdown",
   "metadata": {},
   "source": [
    "## Significance vs Confidence Level\n",
    "\n",
    "* Broadly we can say that a significance level and a confidence level are complements of each other.\n",
    "* A two sided hypothesis with threshold of $\\alpha$ is equivalent to a confidence interval with $CL = 1 - \\alpha$.\n",
    "* A one sided hypothesis with threshold of $\\alpha$ is equivalent to a confidence interval with $CL = 1 - (2 \\times \\alpha)$.\n",
    "* If H0 is rejected, a confidence interval that agrees with the result of the hypothesis test should not include the null value.\n",
    "* If H0 is failed to be rejected, a confidence interval that agrees with the result of the hypothesis test should include the null value."
   ]
  },
  {
   "cell_type": "markdown",
   "metadata": {},
   "source": [
    "## Statistical vs Practical Significance\n",
    "\n",
    "* Real differences between the point estimate and the null value are easier to detect with large samples. \n",
    "* However very large samples will result in statistical significance even for tiny differences between the sample mean and the null value or our effect size, even when the difference is not practically significant."
   ]
  },
  {
   "cell_type": "markdown",
   "metadata": {},
   "source": [
    "## Exercises\n",
    "\n",
    "OpenIntro Statistics, 3rd edition<br>\n",
    "4.43, 4.45<br>\n",
    "4.29, 4.31, 4.47"
   ]
  },
  {
   "cell_type": "markdown",
   "metadata": {},
   "source": [
    "**4.43 Spam mail counts.** \n",
    "* The 2004 National Technology Readiness Survey sponsored by the\n",
    "Smith School of Business at the University of Maryland surveyed 418 randomly sampled Americans,\n",
    "asking them how many spam emails they receive per day. The survey was repeated on a new\n",
    "random sample of 499 Americans in 2009.\n",
    "* (a) What are the hypotheses for evaluating if the average spam emails per day has changed from\n",
    "2004 to 2009.\n",
    "* (b) In 2004 the mean was 18.5 spam emails per day, and in 2009 this value was 14.9 emails per\n",
    "day. What is the point estimate for the difference between the two population means?\n",
    "* (c) A report on the survey states that the observed difference between the sample means is not\n",
    "statistically significant. Explain what this means in context of the hypothesis test and data.\n",
    "* (d) Would you expect a confidence interval for the difference between the two population means\n",
    "to contain 0? Explain your reasoning."
   ]
  },
  {
   "cell_type": "code",
   "execution_count": 1,
   "metadata": {},
   "outputs": [],
   "source": [
    "# (a)\n",
    "# H0: mu_2009 - mu_2004 = 0\n",
    "# HA: mu_2009 - mu_2004 != 0"
   ]
  },
  {
   "cell_type": "code",
   "execution_count": 3,
   "metadata": {},
   "outputs": [
    {
     "data": {
      "text/html": [
       "3.6"
      ],
      "text/latex": [
       "3.6"
      ],
      "text/markdown": [
       "3.6"
      ],
      "text/plain": [
       "[1] 3.6"
      ]
     },
     "metadata": {},
     "output_type": "display_data"
    }
   ],
   "source": [
    "# (b)\n",
    "(p <- 18.5 - 14.9)"
   ]
  },
  {
   "cell_type": "code",
   "execution_count": 4,
   "metadata": {},
   "outputs": [],
   "source": [
    "# (c)\n",
    "# It means that assuming the null hypotheses is true, where the difference\n",
    "# between the average spam emails per day in 2004 and 2009 is 0,\n",
    "# the probability of observing a sample difference of 3.6\n",
    "# is higher than the significance level alpha, in other words, \n",
    "# not rare. Hence, we cannot reject the null hypotheses and say\n",
    "# that the data provides statistically strong evidence in favor of\n",
    "# the alternative hypotheses."
   ]
  },
  {
   "cell_type": "code",
   "execution_count": 5,
   "metadata": {},
   "outputs": [],
   "source": [
    "# (d)\n",
    "# Yes. Since the result is not statistically significant, we cannot\n",
    "# reject the null hypotheses. Hence, we would expect 0 to be \n",
    "# include in our confidence interval, i.e. it's highly plausible\n",
    "# to see the value 0."
   ]
  },
  {
   "cell_type": "markdown",
   "metadata": {},
   "source": [
    "**4.45 Spam mail percentages.** \n",
    "* The National Technology Readiness Survey sponsored by the\n",
    "Smith School of Business at the University of Maryland surveyed 418 randomly sampled Americans,\n",
    "asking them how often they delete spam emails. In 2004, 23% of the respondents said they delete\n",
    "their spam mail once a month or less, and in 2009 this value was 16%.\n",
    "* (a) What are the hypotheses for evaluating if the proportion of those who delete their email once\n",
    "a month or less has changed from 2004 to 2009?\n",
    "* (b) What is the point estimate for the difference between the two population proportions?\n",
    "* (c) A report on the survey states that the observed decrease from 2004 to 2009 is statistically\n",
    "significant. Explain what this means in context of the hypothesis test and the data.\n",
    "* (d) Would you expect a confidence interval for the difference between the two population proportions to contain 0? Explain your reasoning.\n"
   ]
  },
  {
   "cell_type": "code",
   "execution_count": 6,
   "metadata": {},
   "outputs": [],
   "source": [
    "# (a)\n",
    "# H0: p_2004 = p_2009\n",
    "# HA: p_2004 != p_2009"
   ]
  },
  {
   "cell_type": "code",
   "execution_count": 7,
   "metadata": {},
   "outputs": [
    {
     "data": {
      "text/html": [
       "-0.07"
      ],
      "text/latex": [
       "-0.07"
      ],
      "text/markdown": [
       "-0.07"
      ],
      "text/plain": [
       "[1] -0.07"
      ]
     },
     "metadata": {},
     "output_type": "display_data"
    }
   ],
   "source": [
    "# (b)\n",
    "(p <- 0.16 - 0.23)"
   ]
  },
  {
   "cell_type": "code",
   "execution_count": 8,
   "metadata": {},
   "outputs": [],
   "source": [
    "# (c) \n",
    "# It means that assuming the null hypotheses is true, the probability\n",
    "# of observing a difference of 0.07 is very small, and smaller than\n",
    "# the significance level, hence we reject the null hypotheses \n",
    "# and say that the data provides evidence that there are difference \n",
    "# between the two population proportions, and the difference is not due\n",
    "# to sampling variability."
   ]
  },
  {
   "cell_type": "code",
   "execution_count": 9,
   "metadata": {},
   "outputs": [],
   "source": [
    "# (d)\n",
    "# No. As we rejected the null hypotheses."
   ]
  },
  {
   "cell_type": "markdown",
   "metadata": {},
   "source": [
    "**4.29 Testing for Fibromyalgia.** \n",
    "* A patient named Diana was diagnosed with Fibromyalgia, a\n",
    "long-term syndrome of body pain, and was prescribed anti-depressants. Being the skeptic that she\n",
    "is, Diana didn’t initially believe that anti-depressants would help her symptoms. However after\n",
    "a couple months of being on the medication she decides that the anti-depressants are working,\n",
    "because she feels like her symptoms are in fact getting better.\n",
    "* (a) Write the hypotheses in words for Diana’s skeptical position when she started taking the\n",
    "anti-depressants.\n",
    "* (b) What is a Type 1 Error in this context?\n",
    "* (c) What is a Type 2 Error in this context?"
   ]
  },
  {
   "cell_type": "code",
   "execution_count": 10,
   "metadata": {},
   "outputs": [],
   "source": [
    "# (a)\n",
    "# H0: The anti-depressants are not working.\n",
    "# HA: The anti-depressants are working."
   ]
  },
  {
   "cell_type": "code",
   "execution_count": 12,
   "metadata": {},
   "outputs": [],
   "source": [
    "# (b)\n",
    "# Type 1 error is to declare the anti-depressants to be working \n",
    "# when the truth is they are useless."
   ]
  },
  {
   "cell_type": "code",
   "execution_count": 13,
   "metadata": {},
   "outputs": [],
   "source": [
    "# (c)\n",
    "# Type 2 error is to declare the anti-depressants to be useless\n",
    "# when the truth is they are helping the symptoms."
   ]
  },
  {
   "cell_type": "markdown",
   "metadata": {},
   "source": [
    "**4.31 Which is higher?** \n",
    "* In each part below, there is a value of interest and two scenarios (I and\n",
    "II). For each part, report if the value of interest is larger under scenario I, scenario II, or whether\n",
    "the value is equal under the scenarios.\n",
    "* (a) The standard error of $\\bar{x}$ when s = 120 and (I) n = 25 or (II) n = 125.\n",
    "* (b) The margin of error of a confidence interval when the confidence level is (I) 90% or (II) 80%.\n",
    "* (c) The p-value for a Z-statistic of 2.5 when (I) n = 500 or (II) n = 1000.\n",
    "* (d) The probability of making a Type 2 Error when the alternative hypothesis is true and the\n",
    "significance level is (I) 0.05 or (II) 0.10."
   ]
  },
  {
   "cell_type": "code",
   "execution_count": 14,
   "metadata": {},
   "outputs": [],
   "source": [
    "# (a)\n",
    "# SE of mean is inversely relating to sample size. SE is larger in (I)."
   ]
  },
  {
   "cell_type": "code",
   "execution_count": 16,
   "metadata": {},
   "outputs": [
    {
     "data": {
      "text/html": [
       "-1.64485362695147"
      ],
      "text/latex": [
       "-1.64485362695147"
      ],
      "text/markdown": [
       "-1.64485362695147"
      ],
      "text/plain": [
       "[1] -1.644854"
      ]
     },
     "metadata": {},
     "output_type": "display_data"
    },
    {
     "data": {
      "text/html": [
       "-1.2815515655446"
      ],
      "text/latex": [
       "-1.2815515655446"
      ],
      "text/markdown": [
       "-1.2815515655446"
      ],
      "text/plain": [
       "[1] -1.281552"
      ]
     },
     "metadata": {},
     "output_type": "display_data"
    }
   ],
   "source": [
    "# (b)\n",
    "# The margin of error depends on the z-score calculated by the confidence \n",
    "# interval and the standard error.\n",
    "qnorm((1-.9)/2)\n",
    "qnorm((1-.8)/2)\n",
    "# A higher confidence interval yield a higher z-score and hence a higher\n",
    "# margin of error. (I) has a higher margin of error."
   ]
  },
  {
   "cell_type": "code",
   "execution_count": 21,
   "metadata": {},
   "outputs": [],
   "source": [
    "# (d)\n",
    "# Type 2 error is failing to reject the null hypotheses when the \n",
    "# alternative hypotheses is true. In other words,\n",
    "# declare a person innocent when he's actually guilty.\n",
    "# When significance level is small, it's harder to declare a person guilty, \n",
    "# or to reject the null hypotheses. Hence, we're easier to \n",
    "# declare a person innocent when he's guilty. \n",
    "# (I) has a higher probability of making type 2 error."
   ]
  },
  {
   "cell_type": "markdown",
   "metadata": {},
   "source": [
    "**4.47 Practical vs. statistical.** \n",
    "* Determine whether the following statement is true or false, and\n",
    "explain your reasoning: “With large sample sizes, even small differences between the null value\n",
    "and the point estimate can be statistically significant.”"
   ]
  },
  {
   "cell_type": "code",
   "execution_count": 39,
   "metadata": {},
   "outputs": [
    {
     "data": {
      "text/html": [
       "0.000782701129001275"
      ],
      "text/latex": [
       "0.000782701129001275"
      ],
      "text/markdown": [
       "0.000782701129001275"
      ],
      "text/plain": [
       "[1] 0.0007827011"
      ]
     },
     "metadata": {},
     "output_type": "display_data"
    },
    {
     "data": {
      "text/html": [
       "0.239750061093477"
      ],
      "text/latex": [
       "0.239750061093477"
      ],
      "text/markdown": [
       "0.239750061093477"
      ],
      "text/plain": [
       "[1] 0.2397501"
      ]
     },
     "metadata": {},
     "output_type": "display_data"
    }
   ],
   "source": [
    "# True. \n",
    "n1 <- 1000\n",
    "n2 <- 50\n",
    "x <- 50\n",
    "p <- 52\n",
    "sd <- 10\n",
    "\n",
    "se1 <- sd/sqrt(n1)\n",
    "z1 <- (1-0)/se1\n",
    "pnorm(z1, lower.tail = FALSE)\n",
    "\n",
    "se2 <- sd/sqrt(n2)\n",
    "z2 <- (1-0)/se2\n",
    "pnorm(z2, lower.tail = FALSE)\n",
    "\n",
    "# For large sample size, the standard error will be lower,\n",
    "# and hence a larger test statistics and smaller p value."
   ]
  }
 ],
 "metadata": {
  "kernelspec": {
   "display_name": "R",
   "language": "R",
   "name": "ir"
  },
  "language_info": {
   "codemirror_mode": "r",
   "file_extension": ".r",
   "mimetype": "text/x-r-source",
   "name": "R",
   "pygments_lexer": "r",
   "version": "3.6.0"
  }
 },
 "nbformat": 4,
 "nbformat_minor": 2
}
