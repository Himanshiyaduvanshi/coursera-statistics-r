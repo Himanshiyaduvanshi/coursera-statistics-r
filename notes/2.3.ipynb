{
 "cells": [
  {
   "cell_type": "markdown",
   "metadata": {},
   "source": [
    "**Inferential Statistics - Week 3**"
   ]
  },
  {
   "cell_type": "markdown",
   "metadata": {},
   "source": [
    "# T-Distribution and Comparing Two Means"
   ]
  },
  {
   "cell_type": "markdown",
   "metadata": {},
   "source": [
    "## T-Distribution\n",
    "\n",
    "* When $\\sigma$ is unknown (almost always), use the t-distribution to address\n",
    "the uncertainty of the standard error estimate\n",
    "* Bell shaped but thicker tails than the normal distribution\n",
    "    * Observations more likely to fall beyond 2 SDs from the mean (more conservative)\n",
    "    * Extra thick tails helpful for mitigating the effect of a less reliable estimate for the standard error of the sampling distribution\n",
    "\n",
    "\n",
    "* Always centered at 0 (like the standard normal)\n",
    "* One parameter: **degrees of freedom (df)** - determines the thickness of tails (normal distribution has two parameters: mean and SD)\n",
    "* When degrees of freedom increases, the shape of the t-distribution approaches the normal distribution\n",
    "\n",
    "### T-Score\n",
    "\n",
    "$$\n",
    "T = \\frac{obs-null}{SE}\n",
    "$$"
   ]
  },
  {
   "cell_type": "code",
   "execution_count": 1,
   "metadata": {},
   "outputs": [
    {
     "data": {
      "text/html": [
       "0.0455002638963584"
      ],
      "text/latex": [
       "0.0455002638963584"
      ],
      "text/markdown": [
       "0.0455002638963584"
      ],
      "text/plain": [
       "[1] 0.04550026"
      ]
     },
     "metadata": {},
     "output_type": "display_data"
    },
    {
     "data": {
      "text/html": [
       "0.0509470687376933"
      ],
      "text/latex": [
       "0.0509470687376933"
      ],
      "text/markdown": [
       "0.0509470687376933"
      ],
      "text/plain": [
       "[1] 0.05094707"
      ]
     },
     "metadata": {},
     "output_type": "display_data"
    },
    {
     "data": {
      "text/html": [
       "0.0733880347707404"
      ],
      "text/latex": [
       "0.0733880347707404"
      ],
      "text/markdown": [
       "0.0733880347707404"
      ],
      "text/plain": [
       "[1] 0.07338803"
      ]
     },
     "metadata": {},
     "output_type": "display_data"
    }
   ],
   "source": [
    "# P(|Z| > 2)\n",
    "pnorm(2, lower.tail = FALSE) * 2\n",
    "\n",
    "# P(|t_df=50| > 2)\n",
    "pt(2, df = 50, lower.tail = FALSE) * 2\n",
    "\n",
    "# P(|t_df=10| > 2)\n",
    "pt(2, df = 10, lower.tail = FALSE) * 2"
   ]
  },
  {
   "cell_type": "markdown",
   "metadata": {},
   "source": [
    "## Inference for a Mean\n",
    "\n",
    "### Confidence Interval\n",
    "\n",
    "$$\n",
    "\\bar{x} \\pm t^{\\star}_{df} SE_\\bar{x} \\\\\n",
    "\\bar{x} \\pm t^{\\star}_{df} \\frac{s}{\\sqrt{n}} \\\\\n",
    "\\bar{x} \\pm t^{\\star}_{n-1} \\frac{s}{\\sqrt{n}}\n",
    "$$\n",
    "\n",
    "### Degrees of Freedom for T-Statistic for Inference on One Sample Mean\n",
    "\n",
    "$$\n",
    "df = n - 1\n",
    "$$"
   ]
  },
  {
   "cell_type": "code",
   "execution_count": 2,
   "metadata": {},
   "outputs": [
    {
     "data": {
      "text/html": [
       "-2.07961384472768"
      ],
      "text/latex": [
       "-2.07961384472768"
      ],
      "text/markdown": [
       "-2.07961384472768"
      ],
      "text/plain": [
       "[1] -2.079614"
      ]
     },
     "metadata": {},
     "output_type": "display_data"
    }
   ],
   "source": [
    "# Critical t-score for 0.95 confidence interval with df = 21\n",
    "qt((1-0.95)/2, df = 21)"
   ]
  },
  {
   "cell_type": "markdown",
   "metadata": {},
   "source": [
    "**Example**\n",
    "\n",
    "Suppose the suggested serving of these biscuits is 30 grams. Do these data provide convincing evidence that the amount of snacks consumed by distracted eaters post lunch is different than the suggested serving size?\n",
    "\n",
    "* x̄ = 52.1\n",
    "* s = 45.1\n",
    "* n = 22\n",
    "* t_21 = 2.08"
   ]
  },
  {
   "cell_type": "code",
   "execution_count": 4,
   "metadata": {},
   "outputs": [
    {
     "data": {
      "text/html": [
       "72.0999327998871"
      ],
      "text/latex": [
       "72.0999327998871"
      ],
      "text/markdown": [
       "72.0999327998871"
      ],
      "text/plain": [
       "[1] 72.09993"
      ]
     },
     "metadata": {},
     "output_type": "display_data"
    },
    {
     "data": {
      "text/html": [
       "32.1000672001129"
      ],
      "text/latex": [
       "32.1000672001129"
      ],
      "text/markdown": [
       "32.1000672001129"
      ],
      "text/plain": [
       "[1] 32.10007"
      ]
     },
     "metadata": {},
     "output_type": "display_data"
    }
   ],
   "source": [
    "# Confidence interval\n",
    "52.1 + 2.08 * 45.1/sqrt(22)\n",
    "52.1 - 2.08 * 45.1/sqrt(22)"
   ]
  },
  {
   "cell_type": "code",
   "execution_count": 7,
   "metadata": {},
   "outputs": [
    {
     "data": {
      "text/html": [
       "2.29840772266292"
      ],
      "text/latex": [
       "2.29840772266292"
      ],
      "text/markdown": [
       "2.29840772266292"
      ],
      "text/plain": [
       "[1] 2.298408"
      ]
     },
     "metadata": {},
     "output_type": "display_data"
    },
    {
     "data": {
      "text/html": [
       "0.0319084875743967"
      ],
      "text/latex": [
       "0.0319084875743967"
      ],
      "text/markdown": [
       "0.0319084875743967"
      ],
      "text/plain": [
       "[1] 0.03190849"
      ]
     },
     "metadata": {},
     "output_type": "display_data"
    }
   ],
   "source": [
    "# H0: mu = 30\n",
    "# HA: mu != 30\n",
    "\n",
    "# T-score\n",
    "(t = (52.1 - 30) / (45.1/sqrt(22)))\n",
    "\n",
    "# P-value\n",
    "pt(t, df = 21, lower.tail = FALSE) * 2"
   ]
  },
  {
   "cell_type": "markdown",
   "metadata": {},
   "source": [
    "## Inference for Comparing Two Independent Means\n",
    "\n",
    "### Confidence Interval\n",
    "\n",
    "$$\n",
    "(\\bar{x}_1 - \\bar{x}_2) \\pm t^{\\star}_{df} SE_{(\\bar{x}_1 - \\bar{x}_2)} \\\\\n",
    "(\\bar{x}_1 - \\bar{x}_2) \\pm t^{\\star}_{df} \\sqrt{\\frac{s^2_1}{n_1} + \\frac{s^2_2}{n_2}} \\\\\n",
    "(\\bar{x}_1 - \\bar{x}_2) \\pm t^{\\star}_{min(n_1 - 1, n_2 - 1）} \\sqrt{\\frac{s^2_1}{n_1} + \\frac{s^2_2}{n_2}}\n",
    "$$\n",
    "\n",
    "### Standard Error of Difference between Two Independent Means\n",
    "\n",
    "$$\n",
    "SE_{(\\bar{x}_1 - \\bar{x}_2)} = \\sqrt{\\frac{s^2_1}{n_1} + \\frac{s^2_2}{n_2}}\n",
    "$$\n",
    "\n",
    "### Degrees of Freedom for T-Statistic for Inference on Difference of Two Means\n",
    "\n",
    "$$\n",
    "df = min(n_1 - 1, n_2 - 1）\n",
    "$$"
   ]
  },
  {
   "cell_type": "markdown",
   "metadata": {},
   "source": [
    "**Example**\n",
    "\n",
    "* Solitaire\n",
    "    * x̄ = 52.1\n",
    "    * s = 45.1\n",
    "    * n = 22\n",
    "* No Distraction\n",
    "    * x̄ = 27.1\n",
    "    * s = 26.4\n",
    "    * n = 22\n"
   ]
  },
  {
   "cell_type": "code",
   "execution_count": 12,
   "metadata": {},
   "outputs": [
    {
     "data": {
      "text/html": [
       "21"
      ],
      "text/latex": [
       "21"
      ],
      "text/markdown": [
       "21"
      ],
      "text/plain": [
       "[1] 21"
      ]
     },
     "metadata": {},
     "output_type": "display_data"
    },
    {
     "data": {
      "text/html": [
       "-2.07961384472768"
      ],
      "text/latex": [
       "-2.07961384472768"
      ],
      "text/markdown": [
       "-2.07961384472768"
      ],
      "text/plain": [
       "[1] -2.079614"
      ]
     },
     "metadata": {},
     "output_type": "display_data"
    },
    {
     "data": {
      "text/html": [
       "11.1415887556488"
      ],
      "text/latex": [
       "11.1415887556488"
      ],
      "text/markdown": [
       "11.1415887556488"
      ],
      "text/plain": [
       "[1] 11.14159"
      ]
     },
     "metadata": {},
     "output_type": "display_data"
    },
    {
     "data": {
      "text/html": [
       "1.82549538825047"
      ],
      "text/latex": [
       "1.82549538825047"
      ],
      "text/markdown": [
       "1.82549538825047"
      ],
      "text/plain": [
       "[1] 1.825495"
      ]
     },
     "metadata": {},
     "output_type": "display_data"
    },
    {
     "data": {
      "text/html": [
       "48.1745046117495"
      ],
      "text/latex": [
       "48.1745046117495"
      ],
      "text/markdown": [
       "48.1745046117495"
      ],
      "text/plain": [
       "[1] 48.1745"
      ]
     },
     "metadata": {},
     "output_type": "display_data"
    }
   ],
   "source": [
    "# Confidence interval\n",
    "\n",
    "(df = 22-1)\n",
    "(t_21 = qt((1-0.95)/2, df = 21)) \n",
    "\n",
    "(se = sqrt(45.1^2/22 + 26.4^2/22))\n",
    "\n",
    "(52.1 - 27.1) - 2.08 * se\n",
    "(52.1 - 27.1) + 2.08 * se\n",
    "\n",
    "# We are 95% confident that those who eat with distractions \n",
    "# consume 1.83 g and 48.17 g more snacks than those \n",
    "# who eat without distractions, on average."
   ]
  },
  {
   "cell_type": "code",
   "execution_count": 14,
   "metadata": {},
   "outputs": [
    {
     "data": {
      "text/html": [
       "2.24384515963443"
      ],
      "text/latex": [
       "2.24384515963443"
      ],
      "text/markdown": [
       "2.24384515963443"
      ],
      "text/plain": [
       "[1] 2.243845"
      ]
     },
     "metadata": {},
     "output_type": "display_data"
    },
    {
     "data": {
      "text/html": [
       "0.0357508226714153"
      ],
      "text/latex": [
       "0.0357508226714153"
      ],
      "text/markdown": [
       "0.0357508226714153"
      ],
      "text/plain": [
       "[1] 0.03575082"
      ]
     },
     "metadata": {},
     "output_type": "display_data"
    }
   ],
   "source": [
    "# H0: mu1 - mu2 = 0\n",
    "# HA: mu1 - mu2 != 0\n",
    "\n",
    "# T-score\n",
    "(t = ((52.1 - 27.1) - 0) / se)\n",
    "\n",
    "# P-value\n",
    "pt(t, df = 21, lower.tail = FALSE) * 2"
   ]
  },
  {
   "cell_type": "markdown",
   "metadata": {},
   "source": [
    "## Inference for Comparing Two Paired Means\n",
    "\n",
    "* Same as the inference for a single population mean, only the mean is a difference between the two paired means.\n",
    "\n",
    "\n",
    "* $\\mu_{\\text{diff}}$ : Parameter of Interest\n",
    "* $\\bar{x}_{\\text{diff}}$ : Point Estimate"
   ]
  },
  {
   "cell_type": "markdown",
   "metadata": {},
   "source": [
    "**Example**\n",
    "\n",
    "* x̄_diff = -0.545\n",
    "* s_diff = 8.887\n",
    "* n_diff = 200"
   ]
  },
  {
   "cell_type": "code",
   "execution_count": 18,
   "metadata": {},
   "outputs": [
    {
     "data": {
      "text/html": [
       "-0.867273986152061"
      ],
      "text/latex": [
       "-0.867273986152061"
      ],
      "text/markdown": [
       "-0.867273986152061"
      ],
      "text/plain": [
       "[1] -0.867274"
      ]
     },
     "metadata": {},
     "output_type": "display_data"
    },
    {
     "data": {
      "text/html": [
       "0.386836474199347"
      ],
      "text/latex": [
       "0.386836474199347"
      ],
      "text/markdown": [
       "0.386836474199347"
      ],
      "text/plain": [
       "[1] 0.3868365"
      ]
     },
     "metadata": {},
     "output_type": "display_data"
    }
   ],
   "source": [
    "# H0: mu_diff = 0\n",
    "# HA: mu_diff != 0\n",
    "\n",
    "# Standard error\n",
    "se = 8.887 / sqrt(200)\n",
    "\n",
    "# T-score\n",
    "(t = (-0.545 - 0) / se)\n",
    "\n",
    "# P-value\n",
    "pt(t, df = 199) * 2"
   ]
  },
  {
   "cell_type": "markdown",
   "metadata": {},
   "source": [
    "## Power\n",
    "\n",
    "* $\\alpha$ : Type I error - P(reject H0 | H0 true)\n",
    "* $\\beta$ : Type II error - P(fail to reject H0 | HA true)\n",
    "* $1 - \\beta$ : **Power** - P(reject H0 | HA true)"
   ]
  },
  {
   "cell_type": "markdown",
   "metadata": {},
   "source": [
    "**Example**\n",
    "\n",
    "* sd = 12\n",
    "* n = 100 (per group)"
   ]
  },
  {
   "cell_type": "code",
   "execution_count": 21,
   "metadata": {},
   "outputs": [
    {
     "data": {
      "text/html": [
       "1.69705627484771"
      ],
      "text/latex": [
       "1.69705627484771"
      ],
      "text/markdown": [
       "1.69705627484771"
      ],
      "text/plain": [
       "[1] 1.697056"
      ]
     },
     "metadata": {},
     "output_type": "display_data"
    }
   ],
   "source": [
    "# H0: mu1 - mu2 = 0\n",
    "# HA: mu1 - mu2 != 0\n",
    "\n",
    "# Standard error\n",
    "sqrt(12^2/100 + 12^2/100)"
   ]
  },
  {
   "cell_type": "markdown",
   "metadata": {},
   "source": [
    "* For what values of difference would we reject the null hypothesis at the 5% significance level?"
   ]
  },
  {
   "cell_type": "code",
   "execution_count": 23,
   "metadata": {},
   "outputs": [
    {
     "data": {
      "text/html": [
       "3.332"
      ],
      "text/latex": [
       "3.332"
      ],
      "text/markdown": [
       "3.332"
      ],
      "text/plain": [
       "[1] 3.332"
      ]
     },
     "metadata": {},
     "output_type": "display_data"
    }
   ],
   "source": [
    "1.96 * 1.7"
   ]
  },
  {
   "cell_type": "markdown",
   "metadata": {},
   "source": [
    "* Suppose the company cares about finding any effect that is 3mmHg or larger vs\n",
    "the standard medication.\n",
    "* What is the power of the test that can detect this effect.\n",
    "\n",
    "\n",
    "* effect size = -3"
   ]
  },
  {
   "cell_type": "code",
   "execution_count": 26,
   "metadata": {},
   "outputs": [
    {
     "data": {
      "text/html": [
       "-0.195294117647059"
      ],
      "text/latex": [
       "-0.195294117647059"
      ],
      "text/markdown": [
       "-0.195294117647059"
      ],
      "text/plain": [
       "[1] -0.1952941"
      ]
     },
     "metadata": {},
     "output_type": "display_data"
    },
    {
     "data": {
      "text/html": [
       "0.422581350925617"
      ],
      "text/latex": [
       "0.422581350925617"
      ],
      "text/markdown": [
       "0.422581350925617"
      ],
      "text/plain": [
       "[1] 0.4225814"
      ]
     },
     "metadata": {},
     "output_type": "display_data"
    }
   ],
   "source": [
    "# Distribution with mu1 - mu2 = -3\n",
    "\n",
    "(z = (-3.332 - (-3)) / 1.7)\n",
    "\n",
    "# Power of the test\n",
    "pnorm(z)"
   ]
  },
  {
   "cell_type": "markdown",
   "metadata": {},
   "source": [
    "* What sample size will lead to a power of 80% for this test?"
   ]
  },
  {
   "cell_type": "code",
   "execution_count": 28,
   "metadata": {},
   "outputs": [
    {
     "data": {
      "text/html": [
       "0.841621233572914"
      ],
      "text/latex": [
       "0.841621233572914"
      ],
      "text/markdown": [
       "0.841621233572914"
      ],
      "text/plain": [
       "[1] 0.8416212"
      ]
     },
     "metadata": {},
     "output_type": "display_data"
    }
   ],
   "source": [
    "# Z-score that marks the 80th percentile of the normal curve\n",
    "qnorm(0.8)"
   ]
  },
  {
   "cell_type": "markdown",
   "metadata": {},
   "source": [
    "## Exercises\n",
    "\n",
    "OpenIntro Statistics, 3rd edition<br>\n",
    "5.1, 5.3, 5.5, 5.13, 5.17, 5.19, 5.21, 5.23, 5.27, 5.31, 5.35, 5.37<br>\n",
    "5.39<br>\n",
    "5.41, 5.43, 5.45, 5.47, 5.49, 5.51"
   ]
  },
  {
   "cell_type": "markdown",
   "metadata": {},
   "source": [
    "**5.1 Identify the critical t.**\n",
    "\n",
    "* An independent random sample is selected from an approximately normal population with unknown standard deviation. Find the degrees of freedom and the critical t-value (t*) for the given sample size and confidence level.\n",
    "* (a) n = 6, CL = 90% \n",
    "* (b) n = 21, CL = 98% \n",
    "* (c) n = 29, CL = 95% \n",
    "* (d) n = 12, CL = 99%"
   ]
  },
  {
   "cell_type": "code",
   "execution_count": 1,
   "metadata": {},
   "outputs": [
    {
     "data": {
      "text/html": [
       "-2.01504837333302"
      ],
      "text/latex": [
       "-2.01504837333302"
      ],
      "text/markdown": [
       "-2.01504837333302"
      ],
      "text/plain": [
       "[1] -2.015048"
      ]
     },
     "metadata": {},
     "output_type": "display_data"
    }
   ],
   "source": [
    "# (a)\n",
    "qt(.05, 5)"
   ]
  },
  {
   "cell_type": "code",
   "execution_count": 2,
   "metadata": {},
   "outputs": [
    {
     "data": {
      "text/html": [
       "-2.52797700274157"
      ],
      "text/latex": [
       "-2.52797700274157"
      ],
      "text/markdown": [
       "-2.52797700274157"
      ],
      "text/plain": [
       "[1] -2.527977"
      ]
     },
     "metadata": {},
     "output_type": "display_data"
    }
   ],
   "source": [
    "# (b)\n",
    "qt(.01, 20)"
   ]
  },
  {
   "cell_type": "code",
   "execution_count": 3,
   "metadata": {},
   "outputs": [
    {
     "data": {
      "text/html": [
       "-2.04840714179524"
      ],
      "text/latex": [
       "-2.04840714179524"
      ],
      "text/markdown": [
       "-2.04840714179524"
      ],
      "text/plain": [
       "[1] -2.048407"
      ]
     },
     "metadata": {},
     "output_type": "display_data"
    }
   ],
   "source": [
    "# (c)\n",
    "qt(.025, 28)"
   ]
  },
  {
   "cell_type": "code",
   "execution_count": 4,
   "metadata": {},
   "outputs": [
    {
     "data": {
      "text/html": [
       "-3.10580651553928"
      ],
      "text/latex": [
       "-3.10580651553928"
      ],
      "text/markdown": [
       "-3.10580651553928"
      ],
      "text/plain": [
       "[1] -3.105807"
      ]
     },
     "metadata": {},
     "output_type": "display_data"
    }
   ],
   "source": [
    "# (d)\n",
    "qt(.005, 11)"
   ]
  },
  {
   "cell_type": "markdown",
   "metadata": {},
   "source": [
    "**5.3 Find the p-value, Part I.** \n",
    "* An independent random sample is selected from an approximately normal population with an unknown standard deviation. Find the p-value for the given set of hypotheses and T test statistic. Also determine if the null hypothesis would be rejected at α = 0.05.\n",
    "* (a) HA : μ > μ0, n = 11, T = 1.91 \n",
    "* (b) HA : μ < μ0, n = 17, T = −3.45 \n",
    "* (c) HA : μ != μ0, n = 7, T = 0.83 \n",
    "* (d) HA : μ > μ0, n = 28, T = 2.1"
   ]
  },
  {
   "cell_type": "code",
   "execution_count": 6,
   "metadata": {},
   "outputs": [
    {
     "data": {
      "text/html": [
       "0.0426024383225782"
      ],
      "text/latex": [
       "0.0426024383225782"
      ],
      "text/markdown": [
       "0.0426024383225782"
      ],
      "text/plain": [
       "[1] 0.04260244"
      ]
     },
     "metadata": {},
     "output_type": "display_data"
    }
   ],
   "source": [
    "# (a)\n",
    "pt(1.91, 10, lower.tail = FALSE)\n",
    "# H0 rejected"
   ]
  },
  {
   "cell_type": "code",
   "execution_count": 7,
   "metadata": {},
   "outputs": [
    {
     "data": {
      "text/html": [
       "0.00164678570189846"
      ],
      "text/latex": [
       "0.00164678570189846"
      ],
      "text/markdown": [
       "0.00164678570189846"
      ],
      "text/plain": [
       "[1] 0.001646786"
      ]
     },
     "metadata": {},
     "output_type": "display_data"
    }
   ],
   "source": [
    "# (b)\n",
    "pt(-3.45, 16)\n",
    "# H0 rejected"
   ]
  },
  {
   "cell_type": "code",
   "execution_count": 9,
   "metadata": {},
   "outputs": [
    {
     "data": {
      "text/html": [
       "0.438308401565986"
      ],
      "text/latex": [
       "0.438308401565986"
      ],
      "text/markdown": [
       "0.438308401565986"
      ],
      "text/plain": [
       "[1] 0.4383084"
      ]
     },
     "metadata": {},
     "output_type": "display_data"
    }
   ],
   "source": [
    "# (c)\n",
    "pt(0.83, 6, lower.tail = FALSE) * 2\n",
    "# H0 not rejected"
   ]
  },
  {
   "cell_type": "code",
   "execution_count": 11,
   "metadata": {},
   "outputs": [
    {
     "data": {
      "text/html": [
       "0.0226043642593865"
      ],
      "text/latex": [
       "0.0226043642593865"
      ],
      "text/markdown": [
       "0.0226043642593865"
      ],
      "text/plain": [
       "[1] 0.02260436"
      ]
     },
     "metadata": {},
     "output_type": "display_data"
    }
   ],
   "source": [
    "# (d)\n",
    "pt(2.1, 27, lower.tail = FALSE)\n",
    "# H0 rejected"
   ]
  },
  {
   "cell_type": "markdown",
   "metadata": {},
   "source": [
    "**5.5 Working backwards, Part I.** \n",
    "* A 95% confidence interval for a population mean, μ, is given as (18.985, 21.015). This confidence interval is based on a simple random sample of 36 observations. \n",
    "* Calculate the sample mean and standard deviation. Assume that all conditions necessary for inference are satisfied. Use the t-distribution in any calculations"
   ]
  },
  {
   "cell_type": "code",
   "execution_count": 14,
   "metadata": {},
   "outputs": [
    {
     "data": {
      "text/html": [
       "-2.03010792825034"
      ],
      "text/latex": [
       "-2.03010792825034"
      ],
      "text/markdown": [
       "-2.03010792825034"
      ],
      "text/plain": [
       "[1] -2.030108"
      ]
     },
     "metadata": {},
     "output_type": "display_data"
    }
   ],
   "source": [
    "# t\n",
    "qt(.025, 35)"
   ]
  },
  {
   "cell_type": "code",
   "execution_count": 16,
   "metadata": {},
   "outputs": [
    {
     "data": {
      "text/html": [
       "1.015"
      ],
      "text/latex": [
       "1.015"
      ],
      "text/markdown": [
       "1.015"
      ],
      "text/plain": [
       "[1] 1.015"
      ]
     },
     "metadata": {},
     "output_type": "display_data"
    }
   ],
   "source": [
    "# me\n",
    "(21.015 - 18.985) / 2"
   ]
  },
  {
   "cell_type": "code",
   "execution_count": 22,
   "metadata": {},
   "outputs": [
    {
     "data": {
      "text/html": [
       "3"
      ],
      "text/latex": [
       "3"
      ],
      "text/markdown": [
       "3"
      ],
      "text/plain": [
       "[1] 3"
      ]
     },
     "metadata": {},
     "output_type": "display_data"
    }
   ],
   "source": [
    "# me = t * s / sqrt(n)\n",
    "# 1.015 = 2.03 * s / sqrt(36)\n",
    "# s\n",
    "1.015 / 2.03 * sqrt(36)"
   ]
  },
  {
   "cell_type": "code",
   "execution_count": 18,
   "metadata": {},
   "outputs": [
    {
     "data": {
      "text/html": [
       "20"
      ],
      "text/latex": [
       "20"
      ],
      "text/markdown": [
       "20"
      ],
      "text/plain": [
       "[1] 20"
      ]
     },
     "metadata": {},
     "output_type": "display_data"
    }
   ],
   "source": [
    "# mean\n",
    "18.985 + 1.015"
   ]
  },
  {
   "cell_type": "markdown",
   "metadata": {},
   "source": [
    "**5.13 Car insurance savings.** \n",
    "* A market researcher wants to evaluate car insurance savings at a competing company. Based on past studies he is assuming that the standard deviation of savings is 100. \n",
    "He wants to collect data such that he can get a margin of error of no more than 10 at a 95% confidence level. How large of a sample should he collect?"
   ]
  },
  {
   "cell_type": "code",
   "execution_count": 27,
   "metadata": {},
   "outputs": [
    {
     "data": {
      "text/html": [
       "384.16"
      ],
      "text/latex": [
       "384.16"
      ],
      "text/markdown": [
       "384.16"
      ],
      "text/plain": [
       "[1] 384.16"
      ]
     },
     "metadata": {},
     "output_type": "display_data"
    }
   ],
   "source": [
    "# s = 100\n",
    "# me = 10\n",
    "\n",
    "# me = z * s / sqrt(n)\n",
    "\n",
    "# 10 = 1.96 * 100 / sqrt(n)\n",
    "(1.96 * 100 / 10)^2\n",
    "\n",
    "# 385"
   ]
  },
  {
   "cell_type": "markdown",
   "metadata": {},
   "source": [
    "**5.17 Paired or not, Part I?** \n",
    "* In each of the following scenarios, determine if the data are paired.\n",
    "* (a) Compare pre- (beginning of semester) and post-test (end of semester) scores of students.\n",
    "* (b) Assess gender-related salary gap by comparing salaries of randomly sampled men and women.\n",
    "* (c) Compare artery thicknesses at the beginning of a study and after 2 years of taking Vitamin E for the same group of patients.\n",
    "* (d) Assess effectiveness of a diet regimen by comparing the before and after weights of subjects."
   ]
  },
  {
   "cell_type": "code",
   "execution_count": 28,
   "metadata": {},
   "outputs": [],
   "source": [
    "# (a)\n",
    "# Yes, pre- and post-test scores are paired because they're scores of the same student, and thus are not independent.\n",
    "\n",
    "# (b)\n",
    "# No, as data are randomly sampled, they're assuemed to be independent.\n",
    "\n",
    "# (c)\n",
    "# Yes, because they're of the same group of patients.\n",
    "\n",
    "# (d)\n",
    "# Yes, because they're of the same subjects."
   ]
  },
  {
   "cell_type": "markdown",
   "metadata": {},
   "source": [
    "**5.19 Global warming, Part I.** \n",
    "* Is there strong evidence of global warming? Let’s consider a small scale example, comparing how temperatures have changed in the US from 1968 to 2008. The daily high temperature reading on January 1 was collected in 1968 and 2008 for 51 randomly selected locations in the continental US. Then the difference between the two readings (temperature in 2008 - temperature in 1968) was calculated for each of the 51 different locations. The average of these 51 values was 1.1 degrees with a standard deviation of 4.9 degrees. We are interested in determining whether these data provide strong evidence of temperature warming in the continental US.\n",
    "* (a) Is there a relationship between the observations collected in 1968 and 2008? Or are the observations in the two groups independent? Explain.\n",
    "* (b) Write hypotheses for this research in symbols and in words.\n",
    "* (c) Check the conditions required to complete this test.\n",
    "* (d) Calculate the test statistic and find the p-value.\n",
    "* (e) What do you conclude? Interpret your conclusion in context.\n",
    "* (f) What type of error might we have made? Explain in context what the error means.\n",
    "* (g) Based on the results of this hypothesis test, would you expect a confidence interval for the average difference between the temperature measurements from 1968 and 2008 to include 0? Explain your reasoning."
   ]
  },
  {
   "cell_type": "code",
   "execution_count": 30,
   "metadata": {},
   "outputs": [],
   "source": [
    "# (a)\n",
    "# The observations collected in 1968 and 2008 are not independent. \n",
    "# Although the 51 locations are randomly selected, the observations collected\n",
    "# in two different years are from the same locations.\n",
    "# The data are paired."
   ]
  },
  {
   "cell_type": "code",
   "execution_count": 31,
   "metadata": {},
   "outputs": [],
   "source": [
    "# (b)\n",
    "# H0: mu_diff = 0\n",
    "# HA: mu_diff > 0\n",
    "\n",
    "# The null hypothesis assume that the mean of the difference in temperature in 2008 and 1968 is 0.\n",
    "# The alternative hypothesis assume that the mean of the difference greater than 0, i.e. warming."
   ]
  },
  {
   "cell_type": "code",
   "execution_count": 36,
   "metadata": {},
   "outputs": [
    {
     "data": {
      "text/html": [
       "0.686137241173725"
      ],
      "text/latex": [
       "0.686137241173725"
      ],
      "text/markdown": [
       "0.686137241173725"
      ],
      "text/plain": [
       "[1] 0.6861372"
      ]
     },
     "metadata": {},
     "output_type": "display_data"
    },
    {
     "data": {
      "text/html": [
       "1.60317781048921"
      ],
      "text/latex": [
       "1.60317781048921"
      ],
      "text/markdown": [
       "1.60317781048921"
      ],
      "text/plain": [
       "[1] 1.603178"
      ]
     },
     "metadata": {},
     "output_type": "display_data"
    },
    {
     "data": {
      "text/html": [
       "0.0575973078920081"
      ],
      "text/latex": [
       "0.0575973078920081"
      ],
      "text/markdown": [
       "0.0575973078920081"
      ],
      "text/plain": [
       "[1] 0.05759731"
      ]
     },
     "metadata": {},
     "output_type": "display_data"
    }
   ],
   "source": [
    "# (d)\n",
    "n = 51\n",
    "x = 1.1\n",
    "s = 4.9\n",
    "\n",
    "(se = 4.9 / sqrt(n))\n",
    "\n",
    "(t = 1.1 / se)\n",
    "\n",
    "pt(t, 50, lower.tail = FALSE) "
   ]
  },
  {
   "cell_type": "code",
   "execution_count": 37,
   "metadata": {},
   "outputs": [],
   "source": [
    "# (e)\n",
    "# Assume the significance level to be 0.05, the p-value is not large enough to reject the null hypothesis.\n",
    "# Hence, there is not enough evidence to say that the temperature is warming in the continental US."
   ]
  },
  {
   "cell_type": "code",
   "execution_count": 38,
   "metadata": {},
   "outputs": [],
   "source": [
    "# (f)\n",
    "# Type II error. There is actually temperature warming but we failed to reject the null hypothesis."
   ]
  },
  {
   "cell_type": "code",
   "execution_count": 39,
   "metadata": {},
   "outputs": [],
   "source": [
    "# (g)\n",
    "# Yes. Since the null hypothesis is not rejected, the null hypothesis assume that the mean is 0. \n",
    "# Hence the confidence interval should include 0."
   ]
  },
  {
   "cell_type": "markdown",
   "metadata": {},
   "source": [
    "**5.21 Global warming, Part II.** \n",
    "* We considered the differences between the temperature readings in January 1 of 1968 and 2008 at 51 locations in the continental US in Exercise 5.19. The mean and standard deviation of the reported differences are 1.1 degrees and 4.9 degrees.\n",
    "* (a) Calculate a 90% confidence interval for the average difference between the temperature measurements between 1968 and 2008.\n",
    "* (b) Interpret this interval in context.\n",
    "* (c) Does the confidence interval provide convincing evidence that the temperature was higher in 2008 than in 1968 in the continental US? Explain"
   ]
  },
  {
   "cell_type": "code",
   "execution_count": 46,
   "metadata": {},
   "outputs": [
    {
     "data": {
      "text/html": [
       "-1.6759050251631"
      ],
      "text/latex": [
       "-1.6759050251631"
      ],
      "text/markdown": [
       "-1.6759050251631"
      ],
      "text/plain": [
       "[1] -1.675905"
      ]
     },
     "metadata": {},
     "output_type": "display_data"
    },
    {
     "data": {
      "text/html": [
       "1.14989740248305"
      ],
      "text/latex": [
       "1.14989740248305"
      ],
      "text/markdown": [
       "1.14989740248305"
      ],
      "text/plain": [
       "[1] 1.149897"
      ]
     },
     "metadata": {},
     "output_type": "display_data"
    }
   ],
   "source": [
    "# (a)\n",
    "# t\n",
    "qt(0.05, 50)\n",
    "\n",
    "# me\n",
    "(me = 1.6759 * se)"
   ]
  },
  {
   "cell_type": "code",
   "execution_count": 47,
   "metadata": {},
   "outputs": [
    {
     "data": {
      "text/html": [
       "2.24989740248305"
      ],
      "text/latex": [
       "2.24989740248305"
      ],
      "text/markdown": [
       "2.24989740248305"
      ],
      "text/plain": [
       "[1] 2.249897"
      ]
     },
     "metadata": {},
     "output_type": "display_data"
    },
    {
     "data": {
      "text/html": [
       "-0.0498974024830452"
      ],
      "text/latex": [
       "-0.0498974024830452"
      ],
      "text/markdown": [
       "-0.0498974024830452"
      ],
      "text/plain": [
       "[1] -0.0498974"
      ]
     },
     "metadata": {},
     "output_type": "display_data"
    }
   ],
   "source": [
    "# ci\n",
    "1.1 + me\n",
    "1.1 - me"
   ]
  },
  {
   "cell_type": "code",
   "execution_count": 48,
   "metadata": {},
   "outputs": [],
   "source": [
    "# (b)\n",
    "# We are 90% confident that the average difference between the temperature measurements between 1968 and 2008 \n",
    "# with a sample size of 51 is between -0.05 and 2.25."
   ]
  },
  {
   "cell_type": "code",
   "execution_count": 49,
   "metadata": {},
   "outputs": [],
   "source": [
    "# (c)\n",
    "# The confidence interval also has a negative range. Hence there is no convincing evidence that the temperature \n",
    "# was higher in 2008 than in 1968."
   ]
  },
  {
   "cell_type": "markdown",
   "metadata": {},
   "source": [
    "**5.23 Gifted children.** \n",
    "* Researchers collected a simple random sample of 36 children who had been identified as gifted in a large city. The following histograms show the distributions of the IQ scores of mothers and fathers of these children. Also provided are some sample statistics.\n",
    "\n",
    "|/|Mother|Father|Diff|\n",
    "|---|---|---|---|\n",
    "|Mean|118.2|114.8|3.4|\n",
    "|SD|6.5|3.5|7.5|\n",
    "|n|36|36|36|\n",
    "\n",
    "* (a) Are the IQs of mothers and the IQs of fathers in this data set related? Explain.\n",
    "* (b) Conduct a hypothesis test to evaluate if the scores are equal on average. Make sure to clearly state your hypotheses, check the relevant conditions, and state your conclusion in the context of the data"
   ]
  },
  {
   "cell_type": "code",
   "execution_count": 51,
   "metadata": {},
   "outputs": [],
   "source": [
    "# (a)\n",
    "# Yes. Since IQ could be a factor affecting marriage. The IQ of mothers and fathers are paired."
   ]
  },
  {
   "cell_type": "code",
   "execution_count": 54,
   "metadata": {},
   "outputs": [],
   "source": [
    "# (b)\n",
    "\n",
    "# H0: mu_diff = 0\n",
    "# HA: mu_diff != 0 \n",
    "\n",
    "# The null hypothesis assumes that there are no difference between the average IQ of mother and father.\n",
    "# The alternative assumes that there are difference between the average IQ of mother and father.\n",
    "\n",
    "# A random sample of 36 obviously will be less than 10% of the population of a large city.\n",
    "# The distribution of IQ difference is slightly skewed.\n",
    "# But the sample size of 36 is large enough to meet the condition."
   ]
  },
  {
   "cell_type": "code",
   "execution_count": 56,
   "metadata": {},
   "outputs": [
    {
     "data": {
      "text/html": [
       "1.25"
      ],
      "text/latex": [
       "1.25"
      ],
      "text/markdown": [
       "1.25"
      ],
      "text/plain": [
       "[1] 1.25"
      ]
     },
     "metadata": {},
     "output_type": "display_data"
    },
    {
     "data": {
      "text/html": [
       "2.72"
      ],
      "text/latex": [
       "2.72"
      ],
      "text/markdown": [
       "2.72"
      ],
      "text/plain": [
       "[1] 2.72"
      ]
     },
     "metadata": {},
     "output_type": "display_data"
    },
    {
     "data": {
      "text/html": [
       "0.0100951233108302"
      ],
      "text/latex": [
       "0.0100951233108302"
      ],
      "text/markdown": [
       "0.0100951233108302"
      ],
      "text/plain": [
       "[1] 0.01009512"
      ]
     },
     "metadata": {},
     "output_type": "display_data"
    }
   ],
   "source": [
    "(se = 7.5/sqrt(36))\n",
    "(t = (3.4-0)/se)\n",
    "pt(t, 35, lower.tail = FALSE) * 2"
   ]
  },
  {
   "cell_type": "code",
   "execution_count": 57,
   "metadata": {},
   "outputs": [],
   "source": [
    "# With a significance level of 0.05, a p-value of 0.01 is small enough to reject the null hypothesis\n",
    "# and conclude that our data provide strong evidence that there are difference between the average IQ of mother and father,\n",
    "# and the data indicate that mothers’ scores are higher than fathers’ scores for the parents of gifted children."
   ]
  },
  {
   "cell_type": "markdown",
   "metadata": {},
   "source": [
    "**5.27 Friday the 13th, Part I.** \n",
    "* In the early 1990’s, researchers in the UK collected data on traffic flow, number of shoppers, and traffic accident related emergency room admissions on Friday the 13th and the previous Friday, Friday the 6th. The histograms below show the distribution of number of cars passing by a specific intersection on Friday the 6th and Friday the 13th for many such date pairs. Also given are some sample statistics, where the difference is the number of cars on the 6th minus the number of cars on the 13th.\n",
    "\n",
    "|/|6th|13th|Diff|\n",
    "|---|---|---|---|\n",
    "|Mean|128385|126550|1835|\n",
    "|SD|7259|7664|1176|\n",
    "|n|10|10|10|\n",
    "\n",
    "* (a) Are there any underlying structures in these data that should be considered in an analysis? Explain.\n",
    "* (b) What are the hypotheses for evaluating whether the number of people out on Friday the 6th is different than the number out on Friday the 13th? \n",
    "* (c) Check conditions to carry out the hypothesis test from part (b).\n",
    "* (d) Calculate the test statistic and the p-value.\n",
    "* (e) What is the conclusion of the hypothesis test? \n",
    "* (f) Interpret the p-value in this context.\n",
    "* (g) What type of error might have been made in the conclusion of your test? Explain."
   ]
  },
  {
   "cell_type": "code",
   "execution_count": 58,
   "metadata": {},
   "outputs": [],
   "source": [
    "# (a)\n",
    "# The number of cars on the 6th and the number of cars on the 13th should be paired."
   ]
  },
  {
   "cell_type": "code",
   "execution_count": 59,
   "metadata": {},
   "outputs": [],
   "source": [
    "# (b)\n",
    "# H0: mu_diff = 0\n",
    "# HA: mu_diff != 0"
   ]
  },
  {
   "cell_type": "code",
   "execution_count": 66,
   "metadata": {},
   "outputs": [
    {
     "data": {
      "text/html": [
       "9"
      ],
      "text/latex": [
       "9"
      ],
      "text/markdown": [
       "9"
      ],
      "text/plain": [
       "[1] 9"
      ]
     },
     "metadata": {},
     "output_type": "display_data"
    },
    {
     "data": {
      "text/html": [
       "371.883852835801"
      ],
      "text/latex": [
       "371.883852835801"
      ],
      "text/markdown": [
       "371.883852835801"
      ],
      "text/plain": [
       "[1] 371.8839"
      ]
     },
     "metadata": {},
     "output_type": "display_data"
    },
    {
     "data": {
      "text/html": [
       "4.93433631497362"
      ],
      "text/latex": [
       "4.93433631497362"
      ],
      "text/markdown": [
       "4.93433631497362"
      ],
      "text/plain": [
       "[1] 4.934336"
      ]
     },
     "metadata": {},
     "output_type": "display_data"
    },
    {
     "data": {
      "text/html": [
       "0.000808506455402362"
      ],
      "text/latex": [
       "0.000808506455402362"
      ],
      "text/markdown": [
       "0.000808506455402362"
      ],
      "text/plain": [
       "[1] 0.0008085065"
      ]
     },
     "metadata": {},
     "output_type": "display_data"
    }
   ],
   "source": [
    "# (d)\n",
    "(df = 10 - 1)\n",
    "(se = 1176/sqrt(10))\n",
    "(t = (1835 - 0) / se)\n",
    "\n",
    "pt(t, df, lower.tail = FALSE) * 2"
   ]
  },
  {
   "cell_type": "code",
   "execution_count": 70,
   "metadata": {},
   "outputs": [],
   "source": [
    "# (e)\n",
    "# The p-value of 0.0008 is much smaller than the significance level of 0.05\n",
    "# and hence reject the null hypothesis. "
   ]
  },
  {
   "cell_type": "code",
   "execution_count": 68,
   "metadata": {},
   "outputs": [],
   "source": [
    "# (f)\n",
    "# The p-value is the probability of observing a difference of the mean of the number of cars\n",
    "# on 6th and 13th as large as the observation difference under\n",
    "# the assumption that the null hypothesis is true, i.e. there are no difference."
   ]
  },
  {
   "cell_type": "code",
   "execution_count": 69,
   "metadata": {},
   "outputs": [],
   "source": [
    "# (g)\n",
    "# Type I error. There might actually be no difference but we wrongly \n",
    "# rejected the null hypothesis and state that there is a difference."
   ]
  },
  {
   "cell_type": "markdown",
   "metadata": {},
   "source": [
    "**5.31 Chicken diet and weight, Part I.** \n",
    "\n",
    "* Chicken farming is a multi-billion dollar industry, and any methods that increase the growth rate of young chicks can reduce consumer costs while increasing company profits, possibly by millions of dollars. An experiment was conducted to measure and compare the effectiveness of various feed supplements on the growth rate of chickens. Newly hatched chicks were randomly allocated into six groups, and each group was given a different feed supplement. Below are some summary statistics from this data set along with box plots showing the distribution of weights by feed type.\n",
    "\n",
    "|/|Mean|SD|n|\n",
    "|---|---|---|---|\n",
    "|casein |323.58 |64.43 |12 |\n",
    "|<mark>horsebean</mark> |160.20 |38.63 |10 |\n",
    "|<mark>linseed</mark> |218.75 |52.24| 12 |\n",
    "|meatmeal |276.91 |64.90 |11 |\n",
    "|soybean |246.43 |54.13 |14 |\n",
    "|sunflower |328.92 |48.84 |12 |\n",
    "\n",
    "* (a) Describe the distributions of weights of chickens that were fed linseed and horsebean.\n",
    "* (b) Do these data provide strong evidence that the average weights of chickens that were fed linseed and horsebean are different? Use a 5% significance level.\n",
    "* (c) What type of error might we have committed? Explain.\n",
    "* (d) Would your conclusion change if we used α = 0.01?"
   ]
  },
  {
   "cell_type": "code",
   "execution_count": 71,
   "metadata": {},
   "outputs": [],
   "source": [
    "# (a)\n",
    "# The distribution of chickens fed linseed is normal, whereas that of linseed is slightly skewed."
   ]
  },
  {
   "cell_type": "code",
   "execution_count": 77,
   "metadata": {},
   "outputs": [
    {
     "data": {
      "text/html": [
       "19.4073651826654"
      ],
      "text/latex": [
       "19.4073651826654"
      ],
      "text/markdown": [
       "19.4073651826654"
      ],
      "text/plain": [
       "[1] 19.40737"
      ]
     },
     "metadata": {},
     "output_type": "display_data"
    },
    {
     "data": {
      "text/html": [
       "3.01689587684456"
      ],
      "text/latex": [
       "3.01689587684456"
      ],
      "text/markdown": [
       "3.01689587684456"
      ],
      "text/plain": [
       "[1] 3.016896"
      ]
     },
     "metadata": {},
     "output_type": "display_data"
    },
    {
     "data": {
      "text/html": [
       "0.0145523176477712"
      ],
      "text/latex": [
       "0.0145523176477712"
      ],
      "text/markdown": [
       "0.0145523176477712"
      ],
      "text/plain": [
       "[1] 0.01455232"
      ]
     },
     "metadata": {},
     "output_type": "display_data"
    }
   ],
   "source": [
    "# (b)\n",
    "\n",
    "# The newly hatched chicks were randomly allocated into groups, there are no evidence of dependent relationship between them.\n",
    "\n",
    "# H0: mu_linseed - mu_horsebean = 0\n",
    "# HA: mu_linseed - mu_horsebean != 0\n",
    "\n",
    "df = min(12,10) - 1\n",
    "(se = sqrt(52.24^2/12 + 38.63^2/10))\n",
    "\n",
    "(t = (218.75-160.2)/se)\n",
    "\n",
    "pt(t, df, lower.tail = FALSE) * 2\n",
    "\n",
    "# Reject H0. There is strong evidence that average weights of checking fed linseed is different from horsebean."
   ]
  },
  {
   "cell_type": "code",
   "execution_count": 78,
   "metadata": {},
   "outputs": [],
   "source": [
    "# (c)\n",
    "# Type I error. Failed to reject H0."
   ]
  },
  {
   "cell_type": "code",
   "execution_count": 79,
   "metadata": {},
   "outputs": [],
   "source": [
    "# (d)\n",
    "# If alpha is 0.01, we failed to reject H0 with a p-value of 0.015."
   ]
  },
  {
   "cell_type": "markdown",
   "metadata": {},
   "source": [
    "**5.35 Gaming and distracted eating, Part I.**\n",
    "* A group of researchers are interested in the possible effects of distracting stimuli during eating, such as an increase or decrease in the amount of food consumption. \n",
    "* To test this hypothesis, they monitored food intake for a group of 44 patients who were randomized into two equal groups. The treatment group ate lunch while playing solitaire, and the control group ate lunch without any added distractions. \n",
    "* Patients in the treatment group ate 52.1 grams of biscuits, with a standard deviation of 45.1 grams, and patients in the control group ate 27.1 grams of biscuits, with a standard deviation of 26.4 grams. \n",
    "* Do these data provide convincing evidence that the average food intake (measured in amount of biscuits consumed) is different for the patients in the treatment group? Assume that conditions for inference are satisfied."
   ]
  },
  {
   "cell_type": "code",
   "execution_count": 80,
   "metadata": {},
   "outputs": [
    {
     "data": {
      "text/html": [
       "11.1415887556488"
      ],
      "text/latex": [
       "11.1415887556488"
      ],
      "text/markdown": [
       "11.1415887556488"
      ],
      "text/plain": [
       "[1] 11.14159"
      ]
     },
     "metadata": {},
     "output_type": "display_data"
    },
    {
     "data": {
      "text/html": [
       "2.24384515963443"
      ],
      "text/latex": [
       "2.24384515963443"
      ],
      "text/markdown": [
       "2.24384515963443"
      ],
      "text/plain": [
       "[1] 2.243845"
      ]
     },
     "metadata": {},
     "output_type": "display_data"
    },
    {
     "data": {
      "text/html": [
       "0.0357508226714153"
      ],
      "text/latex": [
       "0.0357508226714153"
      ],
      "text/markdown": [
       "0.0357508226714153"
      ],
      "text/plain": [
       "[1] 0.03575082"
      ]
     },
     "metadata": {},
     "output_type": "display_data"
    }
   ],
   "source": [
    "# Since the two groups of patients are randomly assigned, they're independent of each other.\n",
    "\n",
    "# H0: mu_a - mu_b = 0\n",
    "# HA: mu_a - mu_b != 0\n",
    "\n",
    "df = 22 - 1\n",
    "(se = sqrt(45.1^2/22 + 26.4^2/22))\n",
    "(t = (52.1-27.1-0)/se)\n",
    "\n",
    "pt(t, df, lower.tail = FALSE) * 2\n",
    "\n",
    "# Yes."
   ]
  },
  {
   "cell_type": "markdown",
   "metadata": {},
   "source": [
    "**5.37 Prison isolation experiment, Part I.**\n",
    "* Subjects from Central Prison in Raleigh, NC, volunteered for an experiment involving an “isolation” experience. The goal of the experiment was to find a treatment that reduces subjects’ psychopathic deviant T scores. This score measures a person’s need for control or their rebellion against control, and it is part of a commonly used mental health test called the Minnesota Multiphasic Personality Inventory (MMPI) test. The experiment had three treatment groups: \n",
    "* (1) Four hours of sensory restriction plus a 15 minute “therapeutic” tape advising that professional help is available.\n",
    "* (2) Four hours of sensory restriction plus a 15 minute “emotionally neutral” tape on training hunting dogs.\n",
    "* (3) Four hours of sensory restriction but no taped message.\n",
    "* Forty-two subjects were randomly assigned to these treatment groups, and an MMPI test was administered before and after the treatment. Distributions of the differences between pre and post treatment scores (pre - post) are shown below, along with some sample statistics. Use this information to independently test the effectiveness of each treatment. Make sure to clearly state your hypotheses, check conditions, and interpret results in the context of the data.\n",
    "\n",
    "|/|Tr 1|Tr 2|Tr 3|\n",
    "|---|---|---|---|\n",
    "|Mean|6.21|2.86|-3.21|\n",
    "|SD|12.3|7.94|8.57|\n",
    "|n|14|14|14|"
   ]
  },
  {
   "cell_type": "code",
   "execution_count": 89,
   "metadata": {},
   "outputs": [
    {
     "data": {
      "text/html": [
       "3.28731327552282"
      ],
      "text/latex": [
       "3.28731327552282"
      ],
      "text/markdown": [
       "3.28731327552282"
      ],
      "text/plain": [
       "[1] 3.287313"
      ]
     },
     "metadata": {},
     "output_type": "display_data"
    },
    {
     "data": {
      "text/html": [
       "1.88908068063953"
      ],
      "text/latex": [
       "1.88908068063953"
      ],
      "text/markdown": [
       "1.88908068063953"
      ],
      "text/plain": [
       "[1] 1.889081"
      ]
     },
     "metadata": {},
     "output_type": "display_data"
    },
    {
     "data": {
      "text/html": [
       "0.0416408602265248"
      ],
      "text/latex": [
       "0.0416408602265248"
      ],
      "text/markdown": [
       "0.0416408602265248"
      ],
      "text/plain": [
       "[1] 0.04164086"
      ]
     },
     "metadata": {},
     "output_type": "display_data"
    }
   ],
   "source": [
    "# The 42 subjects are randomly assigned, hence they're independent of each other.\n",
    "\n",
    "# Treatment 1 \n",
    "\n",
    "# H0: mu_diff_1 = 0\n",
    "# HA: mu_diff_1 > 0\n",
    "\n",
    "df = 13 - 1 \n",
    "(se = 12.3/sqrt(14))\n",
    "(t = (6.21-0)/se)\n",
    "\n",
    "pt(t, df, lower.tail = FALSE) "
   ]
  },
  {
   "cell_type": "code",
   "execution_count": 90,
   "metadata": {},
   "outputs": [
    {
     "data": {
      "text/html": [
       "2.12205426078465"
      ],
      "text/latex": [
       "2.12205426078465"
      ],
      "text/markdown": [
       "2.12205426078465"
      ],
      "text/plain": [
       "[1] 2.122054"
      ]
     },
     "metadata": {},
     "output_type": "display_data"
    },
    {
     "data": {
      "text/html": [
       "1.34775064561379"
      ],
      "text/latex": [
       "1.34775064561379"
      ],
      "text/markdown": [
       "1.34775064561379"
      ],
      "text/plain": [
       "[1] 1.347751"
      ]
     },
     "metadata": {},
     "output_type": "display_data"
    },
    {
     "data": {
      "text/html": [
       "0.101316309606214"
      ],
      "text/latex": [
       "0.101316309606214"
      ],
      "text/markdown": [
       "0.101316309606214"
      ],
      "text/plain": [
       "[1] 0.1013163"
      ]
     },
     "metadata": {},
     "output_type": "display_data"
    }
   ],
   "source": [
    "# Treatment 2\n",
    "\n",
    "# H0: mu_diff_2 = 0\n",
    "# HA: mu_diff_2 > 0\n",
    "\n",
    "df = 13 - 1 \n",
    "(se = 7.94/sqrt(14))\n",
    "(t = (2.86-0)/se)\n",
    "\n",
    "pt(t, df, lower.tail = FALSE) "
   ]
  },
  {
   "cell_type": "code",
   "execution_count": 92,
   "metadata": {},
   "outputs": [
    {
     "data": {
      "text/html": [
       "2.29042884318948"
      ],
      "text/latex": [
       "2.29042884318948"
      ],
      "text/markdown": [
       "2.29042884318948"
      ],
      "text/plain": [
       "[1] 2.290429"
      ]
     },
     "metadata": {},
     "output_type": "display_data"
    },
    {
     "data": {
      "text/html": [
       "-1.40148427205885"
      ],
      "text/latex": [
       "-1.40148427205885"
      ],
      "text/markdown": [
       "-1.40148427205885"
      ],
      "text/plain": [
       "[1] -1.401484"
      ]
     },
     "metadata": {},
     "output_type": "display_data"
    },
    {
     "data": {
      "text/html": [
       "0.906800211653283"
      ],
      "text/latex": [
       "0.906800211653283"
      ],
      "text/markdown": [
       "0.906800211653283"
      ],
      "text/plain": [
       "[1] 0.9068002"
      ]
     },
     "metadata": {},
     "output_type": "display_data"
    }
   ],
   "source": [
    "# Treatment 3\n",
    "\n",
    "# H0: mu_diff_3 = 0\n",
    "# HA: mu_diff_3 > 0\n",
    "\n",
    "df = 13 - 1 \n",
    "(se = 8.57/sqrt(14))\n",
    "(t = (-3.21-0)/se)\n",
    "\n",
    "pt(t, df, lower.tail = FALSE) "
   ]
  },
  {
   "cell_type": "markdown",
   "metadata": {},
   "source": [
    "**5.39 Increasing corn yield.**\n",
    "* A large farm wants to try out a new type of fertilizer to evaluate whether it will improve the farm’s corn production. The land is broken into plots that produce an average of 1,215 pounds of corn with a standard deviation of 94 pounds per plot. The owner is interested in detecting any average difference of at least 40 pounds per plot. How many plots of land would be needed for the experiment if the desired power level is 90%? Assume each plot of land gets treated with either the current fertilizer or the new fertilizer."
   ]
  },
  {
   "cell_type": "code",
   "execution_count": 14,
   "metadata": {},
   "outputs": [
    {
     "data": {
      "text/html": [
       "115.945992"
      ],
      "text/latex": [
       "115.945992"
      ],
      "text/markdown": [
       "115.945992"
      ],
      "text/plain": [
       "[1] 115.946"
      ]
     },
     "metadata": {},
     "output_type": "display_data"
    }
   ],
   "source": [
    "# effect size = 40\n",
    "# power = 0.9\n",
    "\n",
    "s = 94\n",
    "\n",
    "# x_old\n",
    "# x_new\n",
    "\n",
    "# se = sqrt( 94^2 / n + 94^2 / n )\n",
    "\n",
    "# 40 = (qnorm(.9) + abs(qnorm(.05/2))) * se\n",
    "# 40 = 3.24 * sqrt( 94^2 / n + 94^2 / n )\n",
    "# 40^2 = 3.24^2 * 94^2*2 / n\n",
    "# n = 3.24^2 * 94^2*2 / 40^2\n",
    "3.24^2 * 94^2*2 / 40^2\n",
    "\n",
    "# The sample size should be at least 116 plots\n",
    "# of land per fertilizer."
   ]
  },
  {
   "cell_type": "markdown",
   "metadata": {
    "toc-hr-collapsed": false
   },
   "source": [
    "# ANOVA and Bootstrapping"
   ]
  },
  {
   "cell_type": "markdown",
   "metadata": {},
   "source": [
    "## Comparing More Than Two Means\n",
    "\n",
    "* Compare means of 2 groups using a T statistic.\n",
    "* Compare means of 3+ groups using a new test called **analysis of variance (ANOVA)** and a new statistic called **F**.\n",
    "\n",
    "\n",
    "* ANOVA\n",
    "    * H0: The mean outcome is the same across all categories.\n",
    "    * HA: At least one pair of means are different from each other.\n",
    "\n",
    "\n",
    "$$ F = \\frac{\\text{variability between groups}}{\\text{variability within groups}}$$\n",
    "\n",
    "* Obtaining a large F statistic requires that the variability between sample means is greater than the variability within the samples."
   ]
  },
  {
   "cell_type": "markdown",
   "metadata": {},
   "source": [
    "## ANOVA\n",
    "\n",
    "* Variability partitioning.\n",
    "\n",
    "\n",
    "* **Group** : **Between group variablity**.\n",
    "* **Error** : **Within group variablity**.\n",
    "\n",
    "\n",
    "### Degrees of Freedom\n",
    "\n",
    "* **Total degress of freedom** is calculated as sample size minus one.\n",
    "\n",
    "$$\n",
    "df_T = n - 1\n",
    "$$\n",
    "\n",
    "* **Group degrees of freedom** is calculated as number of groups minus one.\n",
    "\n",
    "$$\n",
    "df_G = k - 1\n",
    "$$\n",
    "\n",
    "* **Error degrees of freedom** is the difference between the above two DF.\n",
    "\n",
    "$$\n",
    "df_E = df_T - df_G\n",
    "$$\n",
    "\n",
    "### Sum of Squares\n",
    "\n",
    "* **Sum of squares total (SST)** measures the **total variability** in the response variable. \n",
    "* Calculated very similarly to variance (except not scaled by the sample size).\n",
    "\n",
    "$$\n",
    "SST = \\sum^n_{i=1} (y_i - \\bar{y})^2\n",
    "$$\n",
    "\n",
    "$$\n",
    "SST = SSG + SSE\n",
    "$$\n",
    "\n",
    "* **Sum of squares groups (SSG)** measures the variability **between groups**. \n",
    "* It is the **explained variability**.\n",
    "\n",
    "$$\n",
    "SSG = \\sum^k_{j=1} n_j (\\bar{y}_j - \\bar{y})^2\n",
    "$$\n",
    "\n",
    "* **Sum of squares error (SSE)** measures the variability **within groups**.\n",
    "* It is the **unexplained variability**, unexplained by the group variable, due to other reasons.\n",
    "\n",
    "$$\n",
    "SSE = SST - SSG\n",
    "$$\n",
    "\n",
    "### Mean Squares\n",
    "\n",
    "* Mean sqares is the average variability between and withing groups, calculated as the total variability (sum of squares) scaled by the associated degress of freedom.\n",
    "\n",
    "* **Mean squares group (MSG)**\n",
    "\n",
    "$$\n",
    "MSG = \\frac{SSG}{df_G}\n",
    "$$\n",
    "\n",
    "* **Mean squares error (MSE)**\n",
    "\n",
    "$$\n",
    "MSE = \\frac{SSE}{df_E}\n",
    "$$\n",
    "\n",
    "### F-Statistic\n",
    "\n",
    "* **F-statistic** is the ratio of the average between group and within \n",
    "group variabilities.\n",
    "* It is never negative. Hence it's right-skewed.\n",
    "\n",
    "$$\n",
    "F = \\frac{MSG}{MSE}\n",
    "$$\n",
    "\n",
    "### P-Value\n",
    "\n",
    "* **P-value** is the probability of at least as large a ratio between the \"between\" and \"within\" group variabilities if in fact the means of all groups are equal."
   ]
  },
  {
   "cell_type": "markdown",
   "metadata": {},
   "source": [
    "**Example**\n",
    "\n",
    "* F-statistics = 21.735\n",
    "* DF_G = 3\n",
    "* DF_E = 791"
   ]
  },
  {
   "cell_type": "code",
   "execution_count": 1,
   "metadata": {},
   "outputs": [
    {
     "data": {
      "text/html": [
       "1.55985531902116e-13"
      ],
      "text/latex": [
       "1.55985531902116e-13"
      ],
      "text/markdown": [
       "1.55985531902116e-13"
      ],
      "text/plain": [
       "[1] 1.559855e-13"
      ]
     },
     "metadata": {},
     "output_type": "display_data"
    }
   ],
   "source": [
    "pf(q = 21.735, df1 = 3, df2 = 791, lower.tail = FALSE)\n",
    "\n",
    "# If p-value is small (less than alpha), the data provide convincing\n",
    "# evidence that at least one pair of population means are different\n",
    "# from each other (but we can't tell which one).\n",
    "\n",
    "# If p-value is large, the data do not provide convincing evidence that \n",
    "# at least one pair of population means are different from each other,\n",
    "# the observed differences in sample means are attributable to \n",
    "# sampling variability (or chance)."
   ]
  },
  {
   "cell_type": "markdown",
   "metadata": {},
   "source": [
    "## Conditions for ANOVA\n",
    "\n",
    "* (1) **Independence**\n",
    "    * Within groups: sampled observations must be independent.\n",
    "        * Random sample / assignment\n",
    "        * Each $n_j$ less than 10% of respective population\n",
    "    * Between groups: the groups must be independent of each other (non-paired).\n",
    "        * Carefully consider whether the groups may be dependent -> repeated measures anova\n",
    "* (2) **Approximate normality**: distribution should be nearly normal within each group.\n",
    "    * Especially important when sample sizes are small.\n",
    "* (3) **Equal variance**: groups should have roughly equal variability.\n",
    "    * Especially important when sample sizes differ between groups."
   ]
  },
  {
   "cell_type": "markdown",
   "metadata": {},
   "source": [
    "## Multiple Comparisons\n",
    "\n",
    "* Which means are different?\n",
    "\n",
    "\n",
    "* Two sample T tests for differences in each possible pair of groups.\n",
    "* Multiple tests will inflate the Type I error rate ($\\alpha$ significance level).\n",
    "* Solution: use **modified significance level**.\n",
    "\n",
    "\n",
    "* Testing many pairs of groups is called **multiple comparisons**.\n",
    "* The **Bonferroni correction** $\\alpha^\\star$ suggests that a more stringent significance level is more appropriate for these tests.\n",
    "    * Adjust $\\alpha$ by the number of comparisons $K$ being considered.\n",
    "\n",
    "$$\n",
    "K = \\frac{k(k-1)}{2}\n",
    "$$\n",
    "\n",
    "$$\n",
    "\\alpha^\\star = \\frac{\\alpha}{K}\n",
    "$$\n",
    "\n",
    "* Constant variance: use consistent standard error and degrees of freedom for all tests.\n",
    "* Compare the p-values from each test to the modified significance level.\n",
    "\n",
    "\n",
    "* **Standard error for multiple pairwise comparisons**\n",
    "\n",
    "$$\n",
    "SE = \\sqrt{\n",
    "\\frac{MSE}{n_1} + \\frac{MSE}{n_2}\n",
    "}\n",
    "$$\n",
    "\n",
    "* **Degrees of freedom for multiple pairwise comparisons**\n",
    "\n",
    "$$\n",
    "df = df_E\n",
    "$$"
   ]
  },
  {
   "cell_type": "markdown",
   "metadata": {},
   "source": [
    "**Example**\n",
    "\n",
    "* If the explanatory variable in an ANOVA has 3 levels, and the F-test in ANOVA yields a significant result, how many pairwise comparisons are needed to compare each group to one another?"
   ]
  },
  {
   "cell_type": "code",
   "execution_count": 4,
   "metadata": {},
   "outputs": [
    {
     "data": {
      "text/html": [
       "3"
      ],
      "text/latex": [
       "3"
      ],
      "text/markdown": [
       "3"
      ],
      "text/plain": [
       "[1] 3"
      ]
     },
     "metadata": {},
     "output_type": "display_data"
    }
   ],
   "source": [
    "3 * (3-1) / 2"
   ]
  },
  {
   "cell_type": "markdown",
   "metadata": {},
   "source": [
    "**Example**\n",
    "\n",
    "* 4 class levels\n",
    "* $\\alpha$ = 0.05 for the original ANOVA"
   ]
  },
  {
   "cell_type": "code",
   "execution_count": 5,
   "metadata": {},
   "outputs": [
    {
     "data": {
      "text/html": [
       "6"
      ],
      "text/latex": [
       "6"
      ],
      "text/markdown": [
       "6"
      ],
      "text/plain": [
       "[1] 6"
      ]
     },
     "metadata": {},
     "output_type": "display_data"
    },
    {
     "data": {
      "text/html": [
       "0.00833333333333333"
      ],
      "text/latex": [
       "0.00833333333333333"
      ],
      "text/markdown": [
       "0.00833333333333333"
      ],
      "text/plain": [
       "[1] 0.008333333"
      ]
     },
     "metadata": {},
     "output_type": "display_data"
    }
   ],
   "source": [
    "# Number of comparisons\n",
    "(K <- 4 * (4-1) / 2)\n",
    "# Corrected significance level\n",
    "0.05 / K"
   ]
  },
  {
   "cell_type": "markdown",
   "metadata": {},
   "source": [
    "* Is there a difference between the average vocabulary scores between middle and lower class Americans> (A single pairwise comparison.)\n",
    "* DF_E = 691\n",
    "* MSE = 3.628\n",
    "* Lower class\n",
    "    * N = 41\n",
    "    * Mean = 5.07\n",
    "* Middle class\n",
    "    * N = 331\n",
    "    * Mean = 6.76"
   ]
  },
  {
   "cell_type": "code",
   "execution_count": 13,
   "metadata": {},
   "outputs": [
    {
     "data": {
      "text/html": [
       "0.315354609849892"
      ],
      "text/latex": [
       "0.315354609849892"
      ],
      "text/markdown": [
       "0.315354609849892"
      ],
      "text/plain": [
       "[1] 0.3153546"
      ]
     },
     "metadata": {},
     "output_type": "display_data"
    },
    {
     "data": {
      "text/html": [
       "5.35904644236669"
      ],
      "text/latex": [
       "5.35904644236669"
      ],
      "text/markdown": [
       "5.35904644236669"
      ],
      "text/plain": [
       "[1] 5.359046"
      ]
     },
     "metadata": {},
     "output_type": "display_data"
    },
    {
     "data": {
      "text/html": [
       "1.09827956570617e-07"
      ],
      "text/latex": [
       "1.09827956570617e-07"
      ],
      "text/markdown": [
       "1.09827956570617e-07"
      ],
      "text/plain": [
       "[1] 1.09828e-07"
      ]
     },
     "metadata": {},
     "output_type": "display_data"
    }
   ],
   "source": [
    "# H0: mu_middle - mu_lower = 0\n",
    "# HA: mu_middle - mu_lower != 0\n",
    "\n",
    "(se <- sqrt(3.628/41 + 3.628/331))\n",
    "\n",
    "(t = ((6.76 - 5.07) - 0) / se)\n",
    "\n",
    "pt(t, df = 791, lower.tail = FALSE) * 2\n",
    "\n",
    "# P-value is smaller than the alpha 0.00833. Reject the null hypothesis."
   ]
  },
  {
   "cell_type": "markdown",
   "metadata": {},
   "source": [
    "## Bootstrapping\n",
    "\n",
    "* Take a bootstrap sample - a random sample taken **with replacement** from **the original sample**, of **the same size** as the original sample.\n",
    "* Calculate the bootstrap statistic - a statistic such as mean, median, proportion, etc. computed on the bootstrap samples.\n",
    "* Repeat the above two steps many times to create a bootstrap distribution - a distribution of bootstrap statistics.\n",
    "\n",
    "\n",
    "* **Percentile method**\n",
    "* **Standard error method**\n",
    "\n",
    "\n",
    "* Not as rigid conditions as CLT based methods.\n",
    "* If the bootstrap distribution is extremely skewed or sparse, the bootstrap interval might be unreliable.\n",
    "* A representative sample is still required - if the sample is biased, the estimates resulting from this sample will also be biased."
   ]
  },
  {
   "cell_type": "markdown",
   "metadata": {},
   "source": [
    "## Exercises\n",
    "\n",
    "OpenIntro Statistics, 3rd edition<br>\n",
    "5.41, 5.43, 5.45, 5.47, 5.49, 5.51"
   ]
  },
  {
   "cell_type": "markdown",
   "metadata": {},
   "source": [
    "**5.41 Fill in the blank.**\n",
    "* When doing an ANOVA, you observe large differences in means between groups. Within the ANOVA framework, this would most likely be interpreted as evidence strongly favoring the ? hypothesis."
   ]
  },
  {
   "cell_type": "code",
   "execution_count": 1,
   "metadata": {},
   "outputs": [],
   "source": [
    "# alternative"
   ]
  },
  {
   "cell_type": "markdown",
   "metadata": {},
   "source": [
    "**5.43 Chicken diet and weight, Part III.**\n",
    "* In Exercises 5.31 and 5.33 we compared the effects of two types of feed at a time. A better analysis would first consider all feed types at once: casein, horsebean, linseed, meat meal, soybean, and sunflower. The ANOVA output below can be used to test for differences between the average weights of chicks on different diets.\n",
    "\n",
    "|/|Df |Sum Sq |Mean Sq |F value |Pr(>F) |\n",
    "|---|---|---|---|---|---|\n",
    "|feed |5 |231,129.16 |46,225.83 |15.36 |0.0000 |\n",
    "|Residuals |65 |195,556.02 |3,008.55 | \n",
    "\n",
    "* Conduct a hypothesis test to determine if these data provide convincing evidence that the average weight of chicks varies across some (or all) groups. Make sure to check relevant conditions. Figures and summary statistics are shown below."
   ]
  },
  {
   "cell_type": "code",
   "execution_count": 5,
   "metadata": {},
   "outputs": [
    {
     "data": {
      "text/html": [
       "15.3648202622526"
      ],
      "text/latex": [
       "15.3648202622526"
      ],
      "text/markdown": [
       "15.3648202622526"
      ],
      "text/plain": [
       "[1] 15.36482"
      ]
     },
     "metadata": {},
     "output_type": "display_data"
    },
    {
     "data": {
      "text/html": [
       "5.93628564750325e-10"
      ],
      "text/latex": [
       "5.93628564750325e-10"
      ],
      "text/markdown": [
       "5.93628564750325e-10"
      ],
      "text/plain": [
       "[1] 5.936286e-10"
      ]
     },
     "metadata": {},
     "output_type": "display_data"
    }
   ],
   "source": [
    "# H0: The mean outcome is the same across all feed types.\n",
    "# HA: At least one pair of means are different from each other.\n",
    "\n",
    "# F = MSG / MSE\n",
    "(f = 46225.83/3008.55)\n",
    "\n",
    "pf(f, 5, 65, lower.tail = FALSE)"
   ]
  },
  {
   "cell_type": "markdown",
   "metadata": {},
   "source": [
    "**5.45 Coffee, depression, and physical activity.** \n",
    "* Caffeine is the world’s most widely used stimulant, with approximately 80% consumed in the form of coffee. Participants in a study investigating the relationship between coffee consumption and exercise were asked to report the number of hours they spent per week on moderate (e.g., brisk walking) and vigorous (e.g., strenuous sports and jogging) exercise. Based on these data the researchers estimated the total hours of metabolic equivalent tasks (MET) per week, a value always greater than 0. The table below gives summary statistics of MET for women in this study based on the amount of coffee consumed.\n",
    "\n",
    "|/|≤ 1 cup/week |2-6 cups/week |1 cup/day |2-3 cups/day |≥ 4 cups/day |Total |\n",
    "|---|---|---|---|---|---|---|\n",
    "|Mean |18.7 |19.6 |19.3 |18.9 |17.5 ||\n",
    "|SD |21.1 |25.5 |22.5 |22.0 |22.0 ||\n",
    "|n |12,215 |6,617 |17,234 |12,290 |2,383 |50,739|\n",
    "\n",
    "* (a) Write the hypotheses for evaluating if the average physical activity level varies among the different levels of coffee consumption.\n",
    "* (b) Check conditions and describe any assumptions you must make to proceed with the test.\n",
    "* (c) Below is part of the output associated with this test. Fill in the empty cells.\n",
    "* (d) What is the conclusion of the test?"
   ]
  },
  {
   "cell_type": "code",
   "execution_count": 6,
   "metadata": {},
   "outputs": [],
   "source": [
    "# (a)\n",
    "# H0: The mean MET is the same across all groups of coffee consumption.\n",
    "# HA: At least one pair of means is different."
   ]
  },
  {
   "cell_type": "code",
   "execution_count": 9,
   "metadata": {},
   "outputs": [
    {
     "data": {
      "text/html": [
       "50738"
      ],
      "text/latex": [
       "50738"
      ],
      "text/markdown": [
       "50738"
      ],
      "text/plain": [
       "[1] 50738"
      ]
     },
     "metadata": {},
     "output_type": "display_data"
    },
    {
     "data": {
      "text/html": [
       "4"
      ],
      "text/latex": [
       "4"
      ],
      "text/markdown": [
       "4"
      ],
      "text/plain": [
       "[1] 4"
      ]
     },
     "metadata": {},
     "output_type": "display_data"
    },
    {
     "data": {
      "text/html": [
       "50734"
      ],
      "text/latex": [
       "50734"
      ],
      "text/markdown": [
       "50734"
      ],
      "text/plain": [
       "[1] 50734"
      ]
     },
     "metadata": {},
     "output_type": "display_data"
    }
   ],
   "source": [
    "# (c)\n",
    "(df_total = 50739 - 1)\n",
    "(df_coffee = 5 - 1)\n",
    "(df_residuals = df_total - df_coffee)"
   ]
  },
  {
   "cell_type": "code",
   "execution_count": 10,
   "metadata": {},
   "outputs": [
    {
     "data": {
      "text/html": [
       "10508"
      ],
      "text/latex": [
       "10508"
      ],
      "text/markdown": [
       "10508"
      ],
      "text/plain": [
       "[1] 10508"
      ]
     },
     "metadata": {},
     "output_type": "display_data"
    }
   ],
   "source": [
    "(sum_sq_coffee = 25575327 - 25564819)"
   ]
  },
  {
   "cell_type": "code",
   "execution_count": 12,
   "metadata": {},
   "outputs": [
    {
     "data": {
      "text/html": [
       "2627"
      ],
      "text/latex": [
       "2627"
      ],
      "text/markdown": [
       "2627"
      ],
      "text/plain": [
       "[1] 2627"
      ]
     },
     "metadata": {},
     "output_type": "display_data"
    },
    {
     "data": {
      "text/html": [
       "503.899140615761"
      ],
      "text/latex": [
       "503.899140615761"
      ],
      "text/markdown": [
       "503.899140615761"
      ],
      "text/plain": [
       "[1] 503.8991"
      ]
     },
     "metadata": {},
     "output_type": "display_data"
    }
   ],
   "source": [
    "(mean_sq_coffee = 10508 / df_coffee)\n",
    "(mean_sq_residuals = 25564819 / df_residuals)"
   ]
  },
  {
   "cell_type": "code",
   "execution_count": 14,
   "metadata": {},
   "outputs": [
    {
     "data": {
      "text/html": [
       "5.2133448705426"
      ],
      "text/latex": [
       "5.2133448705426"
      ],
      "text/markdown": [
       "5.2133448705426"
      ],
      "text/plain": [
       "[1] 5.213345"
      ]
     },
     "metadata": {},
     "output_type": "display_data"
    }
   ],
   "source": [
    "# F = MSG / MSE\n",
    "(f = mean_sq_coffee / mean_sq_residuals)"
   ]
  },
  {
   "cell_type": "code",
   "execution_count": 17,
   "metadata": {},
   "outputs": [
    {
     "data": {
      "text/html": [
       "0.000341258949098462"
      ],
      "text/latex": [
       "0.000341258949098462"
      ],
      "text/markdown": [
       "0.000341258949098462"
      ],
      "text/plain": [
       "[1] 0.0003412589"
      ]
     },
     "metadata": {},
     "output_type": "display_data"
    }
   ],
   "source": [
    "pf(5.21, 4, 50734, lower.tail = FALSE)"
   ]
  },
  {
   "cell_type": "markdown",
   "metadata": {},
   "source": [
    "|/|Df |Sum Sq |Mean Sq |F value |Pr(>F) |\n",
    "|---|---|---|---|---|---|\n",
    "|coffee| 4| 10508| 2627| 5.21|**0.0003** |\n",
    "|Residuals| 50734|**25,564,819**| 503.9| /|/ |\n",
    "|Total| 50738|**25,575,327**| /| /| /|"
   ]
  },
  {
   "cell_type": "code",
   "execution_count": 18,
   "metadata": {},
   "outputs": [],
   "source": [
    "# (d)\n",
    "# Since p-value is very small,\n",
    "# reject the null hypothesis and conclude that there is\n",
    "# at least one mean of MET that is different."
   ]
  },
  {
   "cell_type": "markdown",
   "metadata": {},
   "source": [
    "**5.47 GPA and major.** \n",
    "* Undergraduate students taking an introductory statistics course at Duke University conducted a survey about GPA and major. The side-by-side box plots show the distribution of GPA among three groups of majors. Also provided is the ANOVA output.\n",
    "\n",
    "|/|Df |Sum Sq |Mean Sq |F value |Pr(>F) |\n",
    "|---|---|---|---|---|---|\n",
    "|major| 2| 0.03| 0.015| 0.185| 0.8313|\n",
    "|Residuals| 195| 15.77| 0.081| /|/ |\n",
    "\n",
    "* (a) Write the hypotheses for testing for a difference between average GPA across majors.\n",
    "* (b) What is the conclusion of the hypothesis test? \n",
    "* (c) How many students answered these questions on the survey, i.e. what is the sample size?"
   ]
  },
  {
   "cell_type": "code",
   "execution_count": 19,
   "metadata": {},
   "outputs": [],
   "source": [
    "# (a)\n",
    "# H0: The average GPA across majors is the same.\n",
    "# HA: At least one pair of average GPA is different."
   ]
  },
  {
   "cell_type": "code",
   "execution_count": 20,
   "metadata": {},
   "outputs": [],
   "source": [
    "# (b)\n",
    "# The p-value is too large and we cannot reject the null hypothesis.\n",
    "# We cannot conclude that there're any difference between \n",
    "# average GPA across majors."
   ]
  },
  {
   "cell_type": "code",
   "execution_count": 22,
   "metadata": {},
   "outputs": [
    {
     "data": {
      "text/html": [
       "198"
      ],
      "text/latex": [
       "198"
      ],
      "text/markdown": [
       "198"
      ],
      "text/plain": [
       "[1] 198"
      ]
     },
     "metadata": {},
     "output_type": "display_data"
    }
   ],
   "source": [
    "# (c)\n",
    "195+2+1"
   ]
  },
  {
   "cell_type": "markdown",
   "metadata": {},
   "source": [
    "**5.49 True / False: ANOVA, Part I.** \n",
    "* Determine if the following statements are true or false in ANOVA, and explain your reasoning for statements you identify as false.\n",
    "* (a) As the number of groups increases, the modified significance level for pairwise tests increases as well.\n",
    "* (b) As the total sample size increases, the degrees of freedom for the residuals increases as well.\n",
    "* (c) The constant variance condition can be somewhat relaxed when the sample sizes are relatively consistent across groups.\n",
    "* (d) The independence assumption can be relaxed when the total sample size is large."
   ]
  },
  {
   "cell_type": "code",
   "execution_count": 23,
   "metadata": {},
   "outputs": [],
   "source": [
    "# (a)\n",
    "# K = (k * (k-1)) / 2\n",
    "# a_modified = a / K\n",
    "\n",
    "# False\n",
    "# The larger the number of groups, the larger the number of comparisons K,\n",
    "# hence the smaller the modified significance level."
   ]
  },
  {
   "cell_type": "code",
   "execution_count": 24,
   "metadata": {},
   "outputs": [],
   "source": [
    "# (b)\n",
    "# df_residuals = df_total - df_group\n",
    "# df_residuals = (n) - (k - 1)\n",
    "\n",
    "# True"
   ]
  },
  {
   "cell_type": "code",
   "execution_count": 26,
   "metadata": {},
   "outputs": [],
   "source": [
    "# (c)\n",
    "# True"
   ]
  },
  {
   "cell_type": "code",
   "execution_count": 27,
   "metadata": {},
   "outputs": [],
   "source": [
    "# (d)\n",
    "# False"
   ]
  },
  {
   "cell_type": "markdown",
   "metadata": {},
   "source": [
    "**5.51 Prison isolation experiment, Part II.**\n",
    "* Exercise 5.37 introduced an experiment that was conducted with the goal of identifying a treatment that reduces subjects’ psychopathic deviant T scores, where this score measures a person’s need for control or his rebellion against control. In Exercise 5.37 you evaluated the success of each treatment individually. An alternative analysis involves comparing the success of treatments. The relevant ANOVA output is given below.\n",
    "\n",
    "|/|Df |Sum Sq |Mean Sq |F value |Pr(>F) |\n",
    "|---|---|---|---|---|---|\n",
    "|treatment |2 |639.48 |319.74 |3.33 |0.0461 |\n",
    "|Residuals |39 |3740.43 |95.91 |\n",
    "*s_pooled = 9.793 on df = 39*\n",
    "\n",
    "* (a) What are the hypotheses? \n",
    "* (b) What is the conclusion of the test? Use a 5% significance level.\n",
    "* (c) If in part (b) you determined that the test is significant, conduct pairwise tests to determine which groups are different from each other. If you did not reject the null hypothesis in part (b), recheck your answer.\n",
    "\n",
    "|/|Tr 1|Tr 2|Tr 3|\n",
    "|---|---|---|---|\n",
    "|Mean|6.21|2.86|-3.21|\n",
    "|SD|12.3|7.94|8.57|\n",
    "|n|14|14|14|"
   ]
  },
  {
   "cell_type": "code",
   "execution_count": 28,
   "metadata": {},
   "outputs": [],
   "source": [
    "# (b)\n",
    "# Since p is smaller than 0.05, reject the null hypothesis\n",
    "# and conclude that at least one pair of mean score is different."
   ]
  },
  {
   "cell_type": "code",
   "execution_count": 32,
   "metadata": {},
   "outputs": [
    {
     "data": {
      "text/html": [
       "3"
      ],
      "text/latex": [
       "3"
      ],
      "text/markdown": [
       "3"
      ],
      "text/plain": [
       "[1] 3"
      ]
     },
     "metadata": {},
     "output_type": "display_data"
    },
    {
     "data": {
      "text/html": [
       "0.0166666666666667"
      ],
      "text/latex": [
       "0.0166666666666667"
      ],
      "text/markdown": [
       "0.0166666666666667"
      ],
      "text/plain": [
       "[1] 0.01666667"
      ]
     },
     "metadata": {},
     "output_type": "display_data"
    }
   ],
   "source": [
    "# (c)\n",
    "\n",
    "# K = (k * (k-1)) / 2\n",
    "(K = 3 * 2 / 2)\n",
    "\n",
    "# a_modified = a / K\n",
    "(a_modified = 0.05 / K)"
   ]
  },
  {
   "cell_type": "code",
   "execution_count": 33,
   "metadata": {},
   "outputs": [],
   "source": [
    "s_pooled = 9.793\n",
    "df = 39"
   ]
  },
  {
   "cell_type": "code",
   "execution_count": 34,
   "metadata": {},
   "outputs": [
    {
     "data": {
      "text/html": [
       "3.70140608417936"
      ],
      "text/latex": [
       "3.70140608417936"
      ],
      "text/markdown": [
       "3.70140608417936"
      ],
      "text/plain": [
       "[1] 3.701406"
      ]
     },
     "metadata": {},
     "output_type": "display_data"
    }
   ],
   "source": [
    "(se = sqrt(9.793^2/14 + 9.793^2/14))"
   ]
  },
  {
   "cell_type": "code",
   "execution_count": 41,
   "metadata": {},
   "outputs": [
    {
     "data": {
      "text/html": [
       "0.905061461458836"
      ],
      "text/latex": [
       "0.905061461458836"
      ],
      "text/markdown": [
       "0.905061461458836"
      ],
      "text/plain": [
       "[1] 0.9050615"
      ]
     },
     "metadata": {},
     "output_type": "display_data"
    },
    {
     "data": {
      "text/html": [
       "0.370990254619147"
      ],
      "text/latex": [
       "0.370990254619147"
      ],
      "text/markdown": [
       "0.370990254619147"
      ],
      "text/plain": [
       "[1] 0.3709903"
      ]
     },
     "metadata": {},
     "output_type": "display_data"
    }
   ],
   "source": [
    "# tr 1, tr 2\n",
    "(t = (6.21-2.86)/se)\n",
    "pt(t, df, lower.tail = FALSE) * 2"
   ]
  },
  {
   "cell_type": "code",
   "execution_count": 40,
   "metadata": {},
   "outputs": [
    {
     "data": {
      "text/html": [
       "2.54497879610216"
      ],
      "text/latex": [
       "2.54497879610216"
      ],
      "text/markdown": [
       "2.54497879610216"
      ],
      "text/plain": [
       "[1] 2.544979"
      ]
     },
     "metadata": {},
     "output_type": "display_data"
    },
    {
     "data": {
      "text/html": [
       "0.0149976319390607"
      ],
      "text/latex": [
       "0.0149976319390607"
      ],
      "text/markdown": [
       "0.0149976319390607"
      ],
      "text/plain": [
       "[1] 0.01499763"
      ]
     },
     "metadata": {},
     "output_type": "display_data"
    }
   ],
   "source": [
    "# tr 1, tr 3\n",
    "(t = (6.21-(-3.21))/se)\n",
    "pt(t, df, lower.tail = FALSE) * 2"
   ]
  },
  {
   "cell_type": "code",
   "execution_count": 42,
   "metadata": {},
   "outputs": [
    {
     "data": {
      "text/html": [
       "1.63991733464332"
      ],
      "text/latex": [
       "1.63991733464332"
      ],
      "text/markdown": [
       "1.63991733464332"
      ],
      "text/plain": [
       "[1] 1.639917"
      ]
     },
     "metadata": {},
     "output_type": "display_data"
    },
    {
     "data": {
      "text/html": [
       "0.10906494816541"
      ],
      "text/latex": [
       "0.10906494816541"
      ],
      "text/markdown": [
       "0.10906494816541"
      ],
      "text/plain": [
       "[1] 0.1090649"
      ]
     },
     "metadata": {},
     "output_type": "display_data"
    }
   ],
   "source": [
    "# tr 1, tr 3\n",
    "(t = (2.86-(-3.21))/se)\n",
    "pt(t, df, lower.tail = FALSE) * 2"
   ]
  }
 ],
 "metadata": {
  "kernelspec": {
   "display_name": "R",
   "language": "R",
   "name": "ir"
  },
  "language_info": {
   "codemirror_mode": "r",
   "file_extension": ".r",
   "mimetype": "text/x-r-source",
   "name": "R",
   "pygments_lexer": "r",
   "version": "3.6.0"
  }
 },
 "nbformat": 4,
 "nbformat_minor": 2
}
