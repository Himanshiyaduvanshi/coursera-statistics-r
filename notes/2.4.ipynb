{
 "cells": [
  {
   "cell_type": "markdown",
   "metadata": {},
   "source": [
    "**Inferential Statistics - Week 4**"
   ]
  },
  {
   "cell_type": "markdown",
   "metadata": {
    "toc-hr-collapsed": false
   },
   "source": [
    "# Inference for Proportions"
   ]
  },
  {
   "cell_type": "markdown",
   "metadata": {},
   "source": [
    "- Inference for proportions works with **categorical variables**.\n",
    "- One categorical variable\n",
    "  - Two levels: success-failure\n",
    "  - More than two levels\n",
    "- Two categorical variables\n",
    "  - Two levels: success-failture\n",
    "  - More than two levels"
   ]
  },
  {
   "cell_type": "markdown",
   "metadata": {
    "toc-hr-collapsed": false
   },
   "source": [
    "## Sampling Variability and CLT for Proportions"
   ]
  },
  {
   "cell_type": "markdown",
   "metadata": {},
   "source": [
    "### Central Limit Theorem for a Proportion \n",
    "\n",
    "- When observations are independent and the sample size is sufficiently large, the sample proportion $\\hat{p}$ will tend to follow a normal distribution with the following mean and standard error.\n",
    "\n",
    "### Mean for a Proportion \n",
    "\n",
    "$$\n",
    "\\mu = p\n",
    "$$\n",
    "\n",
    "### Standard Error for a Proportion \n",
    "\n",
    "$$\n",
    "SE = \\sqrt{\\frac{p(1-p)}{n}}\n",
    "$$\n",
    "\n",
    "### Conditions for Central Limit Theorem for a Proportion \n",
    "\n",
    "- Independence\n",
    "- **Success-Failure Condition**: The sample size should be sufficiently large with $np \\ge 10$ and $n(1-p) \\ge 10$.\n",
    "\n",
    "\n",
    "- If the success-failure condition is not met:\n",
    "- The center of the sampling distribution will still be around the true population proportion.\n",
    "- The spread of the sampling distribution can still be approximated using the same formula for the standard error.\n",
    "- The shape of the distribution will depend on whether the true population proportion $p$ is closer to 0 or closer to 1."
   ]
  },
  {
   "cell_type": "markdown",
   "metadata": {},
   "source": [
    "**Example**\n",
    "\n",
    "- 90% of all plant species are classified as angiosperms. These are flowering plants. \n",
    "- If you were to randomly sample 200 plants from the list of all known plant species, what is the probability that at least 95% of the plants in your sample will be flowering plants?"
   ]
  },
  {
   "cell_type": "code",
   "execution_count": 1,
   "metadata": {},
   "outputs": [],
   "source": [
    "p = 0.9\n",
    "n = 200\n",
    "# P(p_hat > 0.95)?\n",
    "p_hat = 0.95"
   ]
  },
  {
   "cell_type": "code",
   "execution_count": 3,
   "metadata": {},
   "outputs": [
    {
     "data": {
      "text/html": [
       "180"
      ],
      "text/latex": [
       "180"
      ],
      "text/markdown": [
       "180"
      ],
      "text/plain": [
       "[1] 180"
      ]
     },
     "metadata": {},
     "output_type": "display_data"
    },
    {
     "data": {
      "text/html": [
       "20"
      ],
      "text/latex": [
       "20"
      ],
      "text/markdown": [
       "20"
      ],
      "text/plain": [
       "[1] 20"
      ]
     },
     "metadata": {},
     "output_type": "display_data"
    }
   ],
   "source": [
    "# Check the conditions:\n",
    "# 1. Random sampled + 10% of all plants -> Independent \n",
    "# 2. Success-failure condition\n",
    "(n_success = n * 0.9)\n",
    "(n_failure = n * (1-0.9))"
   ]
  },
  {
   "cell_type": "code",
   "execution_count": 7,
   "metadata": {},
   "outputs": [
    {
     "data": {
      "text/html": [
       "0.0212132034355964"
      ],
      "text/latex": [
       "0.0212132034355964"
      ],
      "text/markdown": [
       "0.0212132034355964"
      ],
      "text/plain": [
       "[1] 0.0212132"
      ]
     },
     "metadata": {},
     "output_type": "display_data"
    },
    {
     "data": {
      "text/html": [
       "2.35702260395516"
      ],
      "text/latex": [
       "2.35702260395516"
      ],
      "text/markdown": [
       "2.35702260395516"
      ],
      "text/plain": [
       "[1] 2.357023"
      ]
     },
     "metadata": {},
     "output_type": "display_data"
    },
    {
     "data": {
      "text/html": [
       "0.00921106272704958"
      ],
      "text/latex": [
       "0.00921106272704958"
      ],
      "text/markdown": [
       "0.00921106272704958"
      ],
      "text/plain": [
       "[1] 0.009211063"
      ]
     },
     "metadata": {},
     "output_type": "display_data"
    }
   ],
   "source": [
    "(se = sqrt(p * (1-p) / n))\n",
    "(z = (p_hat - p) / se)\n",
    "(prob = pnorm(z, lower.tail = FALSE))"
   ]
  },
  {
   "cell_type": "markdown",
   "metadata": {},
   "source": [
    "- If you were to randomly sample 200 plants from the list of all known plant species, would it be considered unusual if 87.5% of the plants in a random sample of 200 were angiosperms?"
   ]
  },
  {
   "cell_type": "code",
   "execution_count": 8,
   "metadata": {},
   "outputs": [
    {
     "data": {
      "text/html": [
       "-1.17851130197758"
      ],
      "text/latex": [
       "-1.17851130197758"
      ],
      "text/markdown": [
       "-1.17851130197758"
      ],
      "text/plain": [
       "[1] -1.178511"
      ]
     },
     "metadata": {},
     "output_type": "display_data"
    }
   ],
   "source": [
    "# 0.875 is within 2 se from the sample mean,\n",
    "# hence it is not unusual.\n",
    "p_hat = 0.875\n",
    "(z = (p_hat - p) / se)"
   ]
  },
  {
   "cell_type": "markdown",
   "metadata": {},
   "source": [
    "- What would you expect the shape of the sampling distribution of percentages of angiosperms in random samples of 50 plants to look like? (Remember, 90% of all plants species are classified as angiosperms.)"
   ]
  },
  {
   "cell_type": "code",
   "execution_count": 9,
   "metadata": {},
   "outputs": [
    {
     "data": {
      "text/html": [
       "45"
      ],
      "text/latex": [
       "45"
      ],
      "text/markdown": [
       "45"
      ],
      "text/plain": [
       "[1] 45"
      ]
     },
     "metadata": {},
     "output_type": "display_data"
    },
    {
     "data": {
      "text/html": [
       "5"
      ],
      "text/latex": [
       "5"
      ],
      "text/markdown": [
       "5"
      ],
      "text/plain": [
       "[1] 5"
      ]
     },
     "metadata": {},
     "output_type": "display_data"
    }
   ],
   "source": [
    "# The success-failture condition does not met\n",
    "# as the number of failure is 5, which is smaller\n",
    "# than 10. The shape of the sampling distribution\n",
    "# will be strongly left skewed as p = 0.9.\n",
    "(n_success = 50 * 0.9) \n",
    "(n_failture = 50 * 0.1)"
   ]
  },
  {
   "cell_type": "markdown",
   "metadata": {},
   "source": [
    "## Confidence Interval for a Proportion \n",
    "\n",
    "### Confidence Interval for a Proportion \n",
    "\n",
    "$$\n",
    "\\text{CI} = \\hat{p} \\pm z^\\star SE_{\\hat{p}}\n",
    "$$\n",
    "\n",
    "### ME for a Proportion \n",
    "\n",
    "$$\n",
    "\\text{ME} = z^\\star \\sqrt{\\frac{\\hat{p}(1-\\hat{p})}{n}}\n",
    "$$\n",
    "\n",
    "- If we have the value of $\\hat{p}$, we can use that in the calculation of the required sample size.\n",
    "- If not, use $\\hat{p} = 0.5$. 50-50 is a good guess. It\n",
    "gives the most conservative estimate - highest possible sample size."
   ]
  },
  {
   "cell_type": "markdown",
   "metadata": {},
   "source": [
    "**Example**\n",
    "\n",
    "- The general social survey found that 571 out of 670, that's roughly 85% of Americans, answered the question on experiment design correctly. \n",
    "- We are asked to estimate using a 95% confidence interval, the proportion of all Americans who have good intuition about experiment design."
   ]
  },
  {
   "cell_type": "code",
   "execution_count": 20,
   "metadata": {},
   "outputs": [
    {
     "data": {
      "text/html": [
       "0.852238805970149"
      ],
      "text/latex": [
       "0.852238805970149"
      ],
      "text/markdown": [
       "0.852238805970149"
      ],
      "text/plain": [
       "[1] 0.8522388"
      ]
     },
     "metadata": {},
     "output_type": "display_data"
    },
    {
     "data": {
      "text/html": [
       "0.0137095578147403"
      ],
      "text/latex": [
       "0.0137095578147403"
      ],
      "text/markdown": [
       "0.0137095578147403"
      ],
      "text/plain": [
       "[1] 0.01370956"
      ]
     },
     "metadata": {},
     "output_type": "display_data"
    },
    {
     "data": {
      "text/html": [
       "0.026870733316891"
      ],
      "text/latex": [
       "0.026870733316891"
      ],
      "text/markdown": [
       "0.026870733316891"
      ],
      "text/plain": [
       "[1] 0.02687073"
      ]
     },
     "metadata": {},
     "output_type": "display_data"
    },
    {
     "data": {
      "text/html": [
       "0.825368072653258"
      ],
      "text/latex": [
       "0.825368072653258"
      ],
      "text/markdown": [
       "0.825368072653258"
      ],
      "text/plain": [
       "[1] 0.8253681"
      ]
     },
     "metadata": {},
     "output_type": "display_data"
    },
    {
     "data": {
      "text/html": [
       "0.87910953928704"
      ],
      "text/latex": [
       "0.87910953928704"
      ],
      "text/markdown": [
       "0.87910953928704"
      ],
      "text/plain": [
       "[1] 0.8791095"
      ]
     },
     "metadata": {},
     "output_type": "display_data"
    }
   ],
   "source": [
    "n = 670\n",
    "(p = 571/670)\n",
    "(se = sqrt(p * (1-p) / n))\n",
    "(me = 1.96 * se)\n",
    "p - me; p + me\n",
    "# We are 95% confident that 82.5% to 88.9% of all Americans\n",
    "# have good intuition about experimental design."
   ]
  },
  {
   "cell_type": "markdown",
   "metadata": {},
   "source": [
    "- The margin of error for this previous confidence interval was 2.7%. If, for a new confidence interval based on a new sample, we wanted to reduce the margin of error to 1% while keeping the confidence level the same. At least how many respondents should we sample? "
   ]
  },
  {
   "cell_type": "code",
   "execution_count": 21,
   "metadata": {},
   "outputs": [
    {
     "data": {
      "text/html": [
       "4838"
      ],
      "text/latex": [
       "4838"
      ],
      "text/markdown": [
       "4838"
      ],
      "text/plain": [
       "[1] 4838"
      ]
     },
     "metadata": {},
     "output_type": "display_data"
    }
   ],
   "source": [
    "# me = z * se\n",
    "# me = z * sqrt(p * (1 - p) / n)\n",
    "# n = (p * (1 - p)) / (me / z)^2\n",
    "ceiling(p * (1 - p) / (0.01 / 1.96)^2)"
   ]
  },
  {
   "cell_type": "markdown",
   "metadata": {},
   "source": [
    "- If we wanted to estimate the percentage of Data Analysis and Statistical Inference students who have good intuition about experimental design using a 95% confidence interval and a margin of error no larger than 3%, at least how many students would we need to sample?"
   ]
  },
  {
   "cell_type": "code",
   "execution_count": 22,
   "metadata": {},
   "outputs": [
    {
     "data": {
      "text/html": [
       "1068"
      ],
      "text/latex": [
       "1068"
      ],
      "text/markdown": [
       "1068"
      ],
      "text/plain": [
       "[1] 1068"
      ]
     },
     "metadata": {},
     "output_type": "display_data"
    }
   ],
   "source": [
    "# me = z * sqrt(p * (1 - p) / n)\n",
    "# n = (p * (1 - p)) / (me / z)^2\n",
    "n = (0.5 * 0.5) / (0.03 / 1.96)^2\n",
    "ceiling(n)"
   ]
  },
  {
   "cell_type": "markdown",
   "metadata": {},
   "source": [
    "## Hypothesis Test for a Proportion \n",
    "\n",
    "- When we check the success-failure condition for the convidence interval, we use the **observed proportion**.\n",
    "- When we check the success-failure condition for doing a hypothesis test, we use the **expected proportion** (the null proportion).\n",
    "\n",
    "### Hypothesis Testing for a Proportion \n",
    "\n",
    "$$\n",
    "H_0: p = \\text{null value}\\\\\n",
    "H_A: p < or > or\\ne \\text{null value}\n",
    "$$"
   ]
  },
  {
   "cell_type": "markdown",
   "metadata": {},
   "source": [
    "**Example**\n",
    "\n",
    "- A 2013 Pew Research poll found that 60% of 1,983 randomly sampled American adults believe in evolution. Does this provide convincing evidence that majority of Americans believe in evolution?"
   ]
  },
  {
   "cell_type": "code",
   "execution_count": 23,
   "metadata": {},
   "outputs": [
    {
     "data": {
      "text/html": [
       "TRUE"
      ],
      "text/latex": [
       "TRUE"
      ],
      "text/markdown": [
       "TRUE"
      ],
      "text/plain": [
       "[1] TRUE"
      ]
     },
     "metadata": {},
     "output_type": "display_data"
    },
    {
     "data": {
      "text/html": [
       "0.0110013064827218"
      ],
      "text/latex": [
       "0.0110013064827218"
      ],
      "text/markdown": [
       "0.0110013064827218"
      ],
      "text/plain": [
       "[1] 0.01100131"
      ]
     },
     "metadata": {},
     "output_type": "display_data"
    },
    {
     "data": {
      "text/html": [
       "9.08982948134892"
      ],
      "text/latex": [
       "9.08982948134892"
      ],
      "text/markdown": [
       "9.08982948134892"
      ],
      "text/plain": [
       "[1] 9.089829"
      ]
     },
     "metadata": {},
     "output_type": "display_data"
    },
    {
     "data": {
      "text/html": [
       "4.95972523881919e-20"
      ],
      "text/latex": [
       "4.95972523881919e-20"
      ],
      "text/markdown": [
       "4.95972523881919e-20"
      ],
      "text/plain": [
       "[1] 4.959725e-20"
      ]
     },
     "metadata": {},
     "output_type": "display_data"
    }
   ],
   "source": [
    "n = 1983\n",
    "p = 0.5\n",
    "p_hat = 0.6\n",
    "\n",
    "# Randomly sampled + n < 10% of population -> independent\n",
    "# Success-failure condition calculate with expected p (the null p) -> true\n",
    "(success_failure = (n * p) > 10 & (n * (1 - p)) > 10)\n",
    "\n",
    "# H0: p = 0.5\n",
    "# HA: p > 0.5\n",
    "\n",
    "(se = sqrt(p_hat * (1 - p_hat) / n))\n",
    "(z = (p_hat - p) / se)\n",
    "(pvalue = pnorm(z, lower.tail = FALSE))\n",
    "\n",
    "# The p-value is significantly smaller than the significance level 0.05,\n",
    "# hence reject null hypothesis and conclude that there is strong evidence\n",
    "# convincing that the majority (> 0.5) of American adults believe in evolution.\n",
    "\n",
    "# There is almost 0% chance of obtaining a random sample of 1,983 Americans where 60% or more believe in evolution, if in fact 50% of Americans believe \n",
    "# in evolution."
   ]
  },
  {
   "cell_type": "markdown",
   "metadata": {},
   "source": [
    "## Estimating the Difference Between Two Proportions \n",
    "\n",
    "- To estimate the difference between two proportions, we label one of our categorical variables the **explanatory variable** and the other one our **response variable**.\n",
    "\n",
    "### Standard Error for the Difference between Two Proportions \n",
    "\n",
    "$$\n",
    "SE = \\sqrt{\n",
    "\\frac{\\hat{p}_1(1-\\hat{p}_1)}{n_1} +\n",
    "\\frac{\\hat{p}_2(1-\\hat{p}_2)}{n_2}\n",
    "} \n",
    "$$\n",
    "\n",
    "### Confidence Interval for the Difference between Two Proportions \n",
    "\n",
    "$$\n",
    "\\text{CI} = (\\hat{p}_1 - \\hat{p}_2) \\pm z^\\star SE_{(\\hat{p}_1 - \\hat{p}_2)}\n",
    "$$\n",
    "\n",
    "### Conditions for Comparing two Independent Proportions \n",
    "\n",
    "- Independence\n",
    "  - Within groups\n",
    "    - Random sample / assignment\n",
    "    - If sampling without replacement, n < 10% of population\n",
    "  - Between groups\n",
    "    - The two groups must be independent of each other (non-paired)\n",
    "- Success-failure condition\n",
    "  - Each sample should meet the success-failure condition"
   ]
  },
  {
   "cell_type": "markdown",
   "metadata": {},
   "source": [
    "**Example**\n",
    "\n",
    "- How do Coursera students and the American public at large compare with respect to their views on laws banning possession of handguns?"
   ]
  },
  {
   "cell_type": "code",
   "execution_count": 33,
   "metadata": {},
   "outputs": [
    {
     "data": {
      "text/html": [
       "<table>\n",
       "<caption>A data.frame: 2 × 4</caption>\n",
       "<thead>\n",
       "\t<tr><th scope=col>.</th><th scope=col>suc</th><th scope=col>n</th><th scope=col>p_hat</th></tr>\n",
       "\t<tr><th scope=col>&lt;fct&gt;</th><th scope=col>&lt;dbl&gt;</th><th scope=col>&lt;dbl&gt;</th><th scope=col>&lt;dbl&gt;</th></tr>\n",
       "</thead>\n",
       "<tbody>\n",
       "\t<tr><td>US      </td><td>257</td><td>1028</td><td>0.25</td></tr>\n",
       "\t<tr><td>Coursera</td><td> 59</td><td>  84</td><td>0.71</td></tr>\n",
       "</tbody>\n",
       "</table>\n"
      ],
      "text/latex": [
       "A data.frame: 2 × 4\n",
       "\\begin{tabular}{r|llll}\n",
       " . & suc & n & p\\_hat\\\\\n",
       " <fct> & <dbl> & <dbl> & <dbl>\\\\\n",
       "\\hline\n",
       "\t US       & 257 & 1028 & 0.25\\\\\n",
       "\t Coursera &  59 &   84 & 0.71\\\\\n",
       "\\end{tabular}\n"
      ],
      "text/markdown": [
       "\n",
       "A data.frame: 2 × 4\n",
       "\n",
       "| . &lt;fct&gt; | suc &lt;dbl&gt; | n &lt;dbl&gt; | p_hat &lt;dbl&gt; |\n",
       "|---|---|---|---|\n",
       "| US       | 257 | 1028 | 0.25 |\n",
       "| Coursera |  59 |   84 | 0.71 |\n",
       "\n"
      ],
      "text/plain": [
       "  .        suc n    p_hat\n",
       "1 US       257 1028 0.25 \n",
       "2 Coursera  59   84 0.71 "
      ]
     },
     "metadata": {},
     "output_type": "display_data"
    }
   ],
   "source": [
    "data.frame(\n",
    "  `.` = c('US', 'Coursera'),\n",
    "  suc = c(257, 59),\n",
    "  n = c(1028, 84),\n",
    "  p_hat = c(0.25, 0.71)\n",
    ")"
   ]
  },
  {
   "cell_type": "code",
   "execution_count": 26,
   "metadata": {},
   "outputs": [
    {
     "data": {
      "text/html": [
       "0.0513184515773754"
      ],
      "text/latex": [
       "0.0513184515773754"
      ],
      "text/markdown": [
       "0.0513184515773754"
      ],
      "text/plain": [
       "[1] 0.05131845"
      ]
     },
     "metadata": {},
     "output_type": "display_data"
    },
    {
     "data": {
      "text/html": [
       "0.46"
      ],
      "text/latex": [
       "0.46"
      ],
      "text/markdown": [
       "0.46"
      ],
      "text/plain": [
       "[1] 0.46"
      ]
     },
     "metadata": {},
     "output_type": "display_data"
    },
    {
     "data": {
      "text/html": [
       "0.359415834908344"
      ],
      "text/latex": [
       "0.359415834908344"
      ],
      "text/markdown": [
       "0.359415834908344"
      ],
      "text/plain": [
       "[1] 0.3594158"
      ]
     },
     "metadata": {},
     "output_type": "display_data"
    },
    {
     "data": {
      "text/html": [
       "0.560584165091656"
      ],
      "text/latex": [
       "0.560584165091656"
      ],
      "text/markdown": [
       "0.560584165091656"
      ],
      "text/plain": [
       "[1] 0.5605842"
      ]
     },
     "metadata": {},
     "output_type": "display_data"
    }
   ],
   "source": [
    "p_c = 0.71\n",
    "n_c = 84\n",
    "\n",
    "p_us = 0.25\n",
    "n_us = 1028\n",
    "\n",
    "(se = sqrt(p_c*(1-p_c)/n_c + p_us*(1-p_us)/n_us))\n",
    "\n",
    "(p = p_c - p_us)\n",
    "p - 1.96 * se; p + 1.96 * se"
   ]
  },
  {
   "cell_type": "markdown",
   "metadata": {},
   "source": [
    "- Based on the confidence interval we calculated, should we expect to find a significant difference (at the equivalent significance level) between the population proportions of Coursera students and the American public at large who believe there should be a law banning the possession of handguns?"
   ]
  },
  {
   "cell_type": "code",
   "execution_count": 27,
   "metadata": {},
   "outputs": [],
   "source": [
    "# In this hypothesis test the null value for the difference\n",
    "# between the two population proportions \n",
    "# would be 0, and 0 isn't in the interval, hence \n",
    "#we should expect to find a difference."
   ]
  },
  {
   "cell_type": "markdown",
   "metadata": {},
   "source": [
    "## Hypothesis Test for Comparing Two Proportions \n",
    "\n",
    "- Recall that when we check the success-failure condition for doing a hypothesis test, we use the **expected proportion** (the null proportion).\n",
    "- But for doing a hypothesis test with two proportions, since the null value is $H0: p1 = p2$, we use the **pooled proportion**.\n",
    "\n",
    "### Pooled Proportion \n",
    "\n",
    "$$\n",
    "\\begin{align}\n",
    "\\hat{p}_{pool} &= \\frac{\\text{total success}}{\\text{total }n} \\\\\n",
    "&= \\frac{\\text{# of success}_1 + \\text{# of success}_2}\n",
    "{n_1 + n_2}\n",
    "\\end{align}\n",
    "$$\n",
    "\n",
    "- The success-failure condition is thus $n_1 \\hat{p}_{pool} \\ge 10$, $n_1 (1 - \\hat{p}_{pool}) \\ge 10$, $n_2 \\hat{p}_{pool} \\ge 10$, $n_2 (1 - \\hat{p}_{pool}) \\ge 10$.\n",
    "\n",
    "### Standard Error for Hypothesis Test for Comparing Two Proportions\n",
    "\n",
    "$$\n",
    "SE = \\sqrt{\n",
    "\\frac{\\hat{p}_{pool}(1-\\hat{p}_{pool})}{n_1} +\n",
    "\\frac{\\hat{p}_{pool}(1-\\hat{p}_{pool})}{n_2}\n",
    "} \n",
    "$$"
   ]
  },
  {
   "cell_type": "markdown",
   "metadata": {},
   "source": [
    "**Example**\n",
    "\n",
    "- Evaluate whether males and females are equally likely to answer \"Yes\" to the question about whether any of their children have ever been the victim of bullying."
   ]
  },
  {
   "cell_type": "code",
   "execution_count": 32,
   "metadata": {},
   "outputs": [
    {
     "data": {
      "text/html": [
       "<table>\n",
       "<caption>A data.frame: 2 × 6</caption>\n",
       "<thead>\n",
       "\t<tr><th scope=col>.</th><th scope=col>yes</th><th scope=col>no</th><th scope=col>not_sure</th><th scope=col>total</th><th scope=col>p_hat</th></tr>\n",
       "\t<tr><th scope=col>&lt;fct&gt;</th><th scope=col>&lt;dbl&gt;</th><th scope=col>&lt;dbl&gt;</th><th scope=col>&lt;dbl&gt;</th><th scope=col>&lt;dbl&gt;</th><th scope=col>&lt;dbl&gt;</th></tr>\n",
       "</thead>\n",
       "<tbody>\n",
       "\t<tr><td>Male  </td><td>34</td><td>52</td><td>4</td><td> 90</td><td>0.38</td></tr>\n",
       "\t<tr><td>Female</td><td>61</td><td>61</td><td>0</td><td>122</td><td>0.50</td></tr>\n",
       "</tbody>\n",
       "</table>\n"
      ],
      "text/latex": [
       "A data.frame: 2 × 6\n",
       "\\begin{tabular}{r|llllll}\n",
       " . & yes & no & not\\_sure & total & p\\_hat\\\\\n",
       " <fct> & <dbl> & <dbl> & <dbl> & <dbl> & <dbl>\\\\\n",
       "\\hline\n",
       "\t Male   & 34 & 52 & 4 &  90 & 0.38\\\\\n",
       "\t Female & 61 & 61 & 0 & 122 & 0.50\\\\\n",
       "\\end{tabular}\n"
      ],
      "text/markdown": [
       "\n",
       "A data.frame: 2 × 6\n",
       "\n",
       "| . &lt;fct&gt; | yes &lt;dbl&gt; | no &lt;dbl&gt; | not_sure &lt;dbl&gt; | total &lt;dbl&gt; | p_hat &lt;dbl&gt; |\n",
       "|---|---|---|---|---|---|\n",
       "| Male   | 34 | 52 | 4 |  90 | 0.38 |\n",
       "| Female | 61 | 61 | 0 | 122 | 0.50 |\n",
       "\n"
      ],
      "text/plain": [
       "  .      yes no not_sure total p_hat\n",
       "1 Male   34  52 4         90   0.38 \n",
       "2 Female 61  61 0        122   0.50 "
      ]
     },
     "metadata": {},
     "output_type": "display_data"
    }
   ],
   "source": [
    "data.frame(\n",
    "  `.` = c('Male', 'Female'),\n",
    "  yes = c(34, 61),\n",
    "  no = c(52, 61),\n",
    "  not_sure = c(4, 0),\n",
    "  total = c(90, 122),\n",
    "  p_hat = round(c(34/90, 61/122), 2)\n",
    ")"
   ]
  },
  {
   "cell_type": "code",
   "execution_count": 29,
   "metadata": {},
   "outputs": [
    {
     "data": {
      "text/html": [
       "0.44811320754717"
      ],
      "text/latex": [
       "0.44811320754717"
      ],
      "text/markdown": [
       "0.44811320754717"
      ],
      "text/plain": [
       "[1] 0.4481132"
      ]
     },
     "metadata": {},
     "output_type": "display_data"
    },
    {
     "data": {
      "text/html": [
       "-0.12"
      ],
      "text/latex": [
       "-0.12"
      ],
      "text/markdown": [
       "-0.12"
      ],
      "text/plain": [
       "[1] -0.12"
      ]
     },
     "metadata": {},
     "output_type": "display_data"
    },
    {
     "data": {
      "text/html": [
       "0.0691012069484473"
      ],
      "text/latex": [
       "0.0691012069484473"
      ],
      "text/markdown": [
       "0.0691012069484473"
      ],
      "text/plain": [
       "[1] 0.06910121"
      ]
     },
     "metadata": {},
     "output_type": "display_data"
    },
    {
     "data": {
      "text/html": [
       "-1.73658327110734"
      ],
      "text/latex": [
       "-1.73658327110734"
      ],
      "text/markdown": [
       "-1.73658327110734"
      ],
      "text/plain": [
       "[1] -1.736583"
      ]
     },
     "metadata": {},
     "output_type": "display_data"
    },
    {
     "data": {
      "text/html": [
       "0.0824607544527886"
      ],
      "text/latex": [
       "0.0824607544527886"
      ],
      "text/markdown": [
       "0.0824607544527886"
      ],
      "text/plain": [
       "[1] 0.08246075"
      ]
     },
     "metadata": {},
     "output_type": "display_data"
    }
   ],
   "source": [
    "# H0: p_male = p_female\n",
    "# HA: p_male != p_female\n",
    "\n",
    "p_male = 0.38\n",
    "p_female = 0.50\n",
    "\n",
    "n_male = 90\n",
    "n_female = 122\n",
    "\n",
    "(p_pool = (34 + 61) / (n_male + n_female))\n",
    "\n",
    "conditions = n_male * p_pool >= 10 &\n",
    "  n_male * (1 - p_pool) >= 10 &\n",
    "  n_female * p_pool >= 10 &\n",
    "  n_female * (1 - p_pool) >= 10\n",
    "\n",
    "(p = p_male - p_female)\n",
    "\n",
    "(se = sqrt(\n",
    "  p_pool*(1-p_pool)/n_male + p_pool*(1-p_pool)/n_female\n",
    "))\n",
    "\n",
    "(z = (p - 0) / se)\n",
    "\n",
    "(pvalue = pnorm(z) * 2)"
   ]
  },
  {
   "cell_type": "markdown",
   "metadata": {
    "toc-hr-collapsed": false
   },
   "source": [
    "# Simulation Based Inference for Proportions and Chi-Square Testing "
   ]
  },
  {
   "cell_type": "markdown",
   "metadata": {},
   "source": [
    "## Small Sample Proportions\n",
    "\n",
    "- When sample size is too small, the success-failure condition is not met.\n",
    "- Hence, we cannot rely on the central limit theorem to do our inference.\n",
    "- Under such circumstance, **simulation-based inference** comes to our rescue.\n",
    "\n",
    "\n",
    "- The ultimate goal of a hypothesis test is a p-value.\n",
    "- Inference via simulation devise a simulation scheme that assumes the null hypothesis is true.\n",
    "- Repeat the simulation many times and record relevant sample statistic.\n",
    "- Calculate p-value as the proportion of simulations that yield a result favorable to the alternative hypothesis."
   ]
  },
  {
   "cell_type": "markdown",
   "metadata": {},
   "source": [
    "**Example**\n",
    "\n",
    "Paul the Octopus predicted 9 World Cup games, and predicted them all correctly. Does this provide convincing evidence that Paul actually has psychic powers? In other words, that he does better than just randomly guessing. "
   ]
  },
  {
   "cell_type": "code",
   "execution_count": 15,
   "metadata": {},
   "outputs": [],
   "source": [
    "library(statsr)\n",
    "options(repr.plot.width = 10, repr.plot.height = 3)"
   ]
  },
  {
   "cell_type": "code",
   "execution_count": 11,
   "metadata": {},
   "outputs": [
    {
     "name": "stdout",
     "output_type": "stream",
     "text": [
      "Single proportion -- success: yes \n",
      "Summary statistics: p_hat = 1 ;  n = 8 \n",
      "H0: p = 0.5 \n",
      "HA: p > 0.5 \n",
      "p-value =  0.0036 \n"
     ]
    },
    {
     "data": {
      "image/png": "[encoded data removed]",
      "text/plain": [
       "Plot with title “”"
      ]
     },
     "metadata": {},
     "output_type": "display_data"
    }
   ],
   "source": [
    "# H0: p = 0.5\n",
    "# HA: p > 0.5\n",
    "n = 8\n",
    "p_hat = 1\n",
    "\n",
    "# p_value = p(p_sim > 1 | p = 0.5)\n",
    "\n",
    "paul = factor(\n",
    "    c(rep(\"yes\", 8), rep(\"no\", 0)), \n",
    "    levels = c(\"yes\", \"no\")\n",
    ")\n",
    "inference(\n",
    "    paul, est = 'proportion', type = 'ht', method = 'simulation',\n",
    "    success = 'yes', null = 0.5, alternative = 'greater'\n",
    ")"
   ]
  },
  {
   "cell_type": "markdown",
   "metadata": {},
   "source": [
    "**Example**\n",
    "\n",
    "- There's a saying in English,\" to know something like the back of your hand\", which means to know something very well. Myth Busters, a popular TV show, put to test the validity of the saying. They recruited 12 volunteers, each of whom were shown 10 pictures, of backs of their hands, while wearing gloves, so they couldn't actually see their own hands, and they were asked to identify their own hand among the ten pictures.\n",
    "- Eleven out of twelve people completed the task successfully, meaning they were indeed able to recognize the backs of their own hands.\n",
    "- What are the hypotheses for evaluating whether these data provide convincing evidence of the validity of the saying. In other words, that people do better than random guessing when it comes to recognizing the back of their own hand."
   ]
  },
  {
   "cell_type": "code",
   "execution_count": 26,
   "metadata": {},
   "outputs": [
    {
     "name": "stdout",
     "output_type": "stream",
     "text": [
      "Single proportion -- success: correct \n",
      "Summary statistics: p_hat = 0.9167 ;  n = 12 \n",
      "H0: p = 0.1 \n",
      "HA: p > 0.1 \n",
      "p-value =  0 \n"
     ]
    },
    {
     "data": {
      "image/png": "[encoded data removed]",
      "text/plain": [
       "Plot with title “”"
      ]
     },
     "metadata": {},
     "output_type": "display_data"
    }
   ],
   "source": [
    "# H0: p = 0.1\n",
    "# HA: p > 0.1\n",
    "\n",
    "# 1. Use a *10-sided* fair die to represent the sampling \n",
    "# space, and call 1 a success, and all other outcomes\n",
    "# failures.\n",
    "\n",
    "# 2. Roll the die *12* times (each representing one of *12*\n",
    "# people in the experiment), count the number rolls that resulted\n",
    "# in *ones*, and calculate the proportion of correct guess in one\n",
    "# simulation of *12* rolls.\n",
    "\n",
    "# 3. Repeat step (2) 100 times, each time recording the proportion\n",
    "# of simulated successes in a series of *12* rolls of the die.\n",
    "\n",
    "# 4. Creat a dot plot of the *simulated* proportions from\n",
    "# step (3) and count the number of simulations where the proportion\n",
    "# is *11/12 or greater* (the *observed* proportion).\n",
    "\n",
    "back = factor(\n",
    "    c(rep(\"correct\", 11), rep(\"incorrect\", 1)),\n",
    "    levels = c(\"correct\", \"incorrect\")\n",
    ")\n",
    "inference(\n",
    "    back, est = 'proportion', type = 'ht',\n",
    "    success = 'correct', method = 'simulation',\n",
    "    null = 0.1, alternative = 'greater', nsim = 100\n",
    ")\n",
    "\n",
    "# p_value = P(p_hat >= 0.9167 | p = 0.10)"
   ]
  },
  {
   "cell_type": "markdown",
   "metadata": {},
   "source": [
    "## Comparing Two Small Sample Proportions"
   ]
  },
  {
   "cell_type": "markdown",
   "metadata": {},
   "source": [
    "**Example**\n",
    "\n",
    "- Do these data provide convincing evidence that there is a difference in how good people are at recognizing the backs and the palms of their hands? "
   ]
  },
  {
   "cell_type": "code",
   "execution_count": 30,
   "metadata": {},
   "outputs": [
    {
     "data": {
      "text/html": [
       "<table>\n",
       "<caption>A data.frame: 3 × 5</caption>\n",
       "<thead>\n",
       "\t<tr><th scope=col>.</th><th scope=col>correct</th><th scope=col>incorrect</th><th scope=col>total</th><th scope=col>p_hat</th></tr>\n",
       "\t<tr><th scope=col>&lt;fct&gt;</th><th scope=col>&lt;dbl&gt;</th><th scope=col>&lt;dbl&gt;</th><th scope=col>&lt;dbl&gt;</th><th scope=col>&lt;dbl&gt;</th></tr>\n",
       "</thead>\n",
       "<tbody>\n",
       "\t<tr><td>back </td><td>11</td><td>1</td><td>12</td><td>0.9167</td></tr>\n",
       "\t<tr><td>palm </td><td> 7</td><td>5</td><td>12</td><td>0.5833</td></tr>\n",
       "\t<tr><td>total</td><td>18</td><td>6</td><td>24</td><td>0.7500</td></tr>\n",
       "</tbody>\n",
       "</table>\n"
      ],
      "text/latex": [
       "A data.frame: 3 × 5\n",
       "\\begin{tabular}{r|lllll}\n",
       " . & correct & incorrect & total & p\\_hat\\\\\n",
       " <fct> & <dbl> & <dbl> & <dbl> & <dbl>\\\\\n",
       "\\hline\n",
       "\t back  & 11 & 1 & 12 & 0.9167\\\\\n",
       "\t palm  &  7 & 5 & 12 & 0.5833\\\\\n",
       "\t total & 18 & 6 & 24 & 0.7500\\\\\n",
       "\\end{tabular}\n"
      ],
      "text/markdown": [
       "\n",
       "A data.frame: 3 × 5\n",
       "\n",
       "| . &lt;fct&gt; | correct &lt;dbl&gt; | incorrect &lt;dbl&gt; | total &lt;dbl&gt; | p_hat &lt;dbl&gt; |\n",
       "|---|---|---|---|---|\n",
       "| back  | 11 | 1 | 12 | 0.9167 |\n",
       "| palm  |  7 | 5 | 12 | 0.5833 |\n",
       "| total | 18 | 6 | 24 | 0.7500 |\n",
       "\n"
      ],
      "text/plain": [
       "  .     correct incorrect total p_hat \n",
       "1 back  11      1         12    0.9167\n",
       "2 palm   7      5         12    0.5833\n",
       "3 total 18      6         24    0.7500"
      ]
     },
     "metadata": {},
     "output_type": "display_data"
    }
   ],
   "source": [
    "data.frame(\n",
    "    `.` = c(\"back\", \"palm\", \"total\"),\n",
    "    correct = c(11, 7, 18),\n",
    "    incorrect = c(1, 5, 6),\n",
    "    total = c(12, 12, 24),\n",
    "    p_hat = c(0.9167, 0.5833, 0.75)\n",
    ")"
   ]
  },
  {
   "cell_type": "code",
   "execution_count": 31,
   "metadata": {},
   "outputs": [],
   "source": [
    "# H0: p_back - p_palm = 0\n",
    "# HA: p_back - p_palm != 0\n",
    "\n",
    "# 1. We have 24 trials so we can use 24 index cards, \n",
    "# where each card represents a subject or a guess at least. \n",
    "\n",
    "# 2. We mark 18 of the cards as correct and the \n",
    "# remaining six as wrong. \n",
    "\n",
    "# 3. We shuffle the cards and split them into two groups \n",
    "# of size 12 for back of the hand and palm of the hand. \n",
    "\n",
    "# 4. Then we calculate the difference between the proportions\n",
    "# of quote unquote correct, in the back and palm decks and \n",
    "# record this number. \n",
    "\n",
    "# 5. Finally, we repeat steps three and four many, \n",
    "# many times to build our randomization distribution of \n",
    "# differences in simulated proportions."
   ]
  },
  {
   "cell_type": "markdown",
   "metadata": {},
   "source": [
    "## Chi-Square GOF Test\n",
    "\n",
    "- Quantify how different the observed **counts** are from the expected counts.\n",
    "- Large deviations from what would be expected base on sampling variation (chance) alone provide strong evidence for the alternative hypothesis.\n",
    "- This is called a **goodness-of-fit** test since we're evaluating how well the observed data **fit** the expected distribution.\n",
    "\n",
    "### Anatomy of a Test Statistic\n",
    "\n",
    "$$\n",
    "\\frac{\\text{point estimate} - \\text{null value}}{\\text{SE of point estimate}}\n",
    "$$\n",
    "\n",
    "### Chi-Square Statistic\n",
    "\n",
    "- When dealing with counts and investigating how far the observed counts are from the expected counts, we use a new test statistic called the **chi-square $\\chi^2$ statistc**.\n",
    "\n",
    "$$\n",
    "\\chi^2 = \\sum^k_{i=1} \\frac{(O-E)^2}{E}\n",
    "$$\n",
    "\n",
    "- $O$: observed\n",
    "- $E$: expected\n",
    "- $k$: number of cells\n",
    "\n",
    "\n",
    "- Why square?\n",
    "- Positive standardized difference.\n",
    "- Highly unusual differences between observed and expected will appear even more unusal.\n",
    "\n",
    "### Conditions for Chi-Square Test\n",
    "\n",
    "- **Independence**: Sample observations must be independent.\n",
    "    - Random sample / assignment.\n",
    "    - If sampling without replacement, n < 10% of polulation.\n",
    "    - Each case only contributes to one cell in the table.\n",
    "- **Sample Size**: Each particular scenario (e.g. cell) must have at least 5 expected cases."
   ]
  },
  {
   "cell_type": "markdown",
   "metadata": {},
   "source": [
    "**Example**\n",
    "\n",
    "- In a county where jury selection is supposed to be random, a civil rights group sues the county, claiming racial disparities in jury selection. \n",
    "- Distribution of ethnicities of people in the county who are eligible for jury duty based on census results are given in this table."
   ]
  },
  {
   "cell_type": "code",
   "execution_count": 36,
   "metadata": {},
   "outputs": [
    {
     "data": {
      "text/html": [
       "<table>\n",
       "<caption>A data.frame: 5 × 2</caption>\n",
       "<thead>\n",
       "\t<tr><th scope=col>ethnicity</th><th scope=col>percent_population</th></tr>\n",
       "\t<tr><th scope=col>&lt;fct&gt;</th><th scope=col>&lt;dbl&gt;</th></tr>\n",
       "</thead>\n",
       "<tbody>\n",
       "\t<tr><td>white   </td><td>0.8029</td></tr>\n",
       "\t<tr><td>black   </td><td>0.1206</td></tr>\n",
       "\t<tr><td>nat_amer</td><td>0.0079</td></tr>\n",
       "\t<tr><td>asian_pi</td><td>0.0292</td></tr>\n",
       "\t<tr><td>other   </td><td>0.0394</td></tr>\n",
       "</tbody>\n",
       "</table>\n"
      ],
      "text/latex": [
       "A data.frame: 5 × 2\n",
       "\\begin{tabular}{r|ll}\n",
       " ethnicity & percent\\_population\\\\\n",
       " <fct> & <dbl>\\\\\n",
       "\\hline\n",
       "\t white    & 0.8029\\\\\n",
       "\t black    & 0.1206\\\\\n",
       "\t nat\\_amer & 0.0079\\\\\n",
       "\t asian\\_pi & 0.0292\\\\\n",
       "\t other    & 0.0394\\\\\n",
       "\\end{tabular}\n"
      ],
      "text/markdown": [
       "\n",
       "A data.frame: 5 × 2\n",
       "\n",
       "| ethnicity &lt;fct&gt; | percent_population &lt;dbl&gt; |\n",
       "|---|---|\n",
       "| white    | 0.8029 |\n",
       "| black    | 0.1206 |\n",
       "| nat_amer | 0.0079 |\n",
       "| asian_pi | 0.0292 |\n",
       "| other    | 0.0394 |\n",
       "\n"
      ],
      "text/plain": [
       "  ethnicity percent_population\n",
       "1 white     0.8029            \n",
       "2 black     0.1206            \n",
       "3 nat_amer  0.0079            \n",
       "4 asian_pi  0.0292            \n",
       "5 other     0.0394            "
      ]
     },
     "metadata": {},
     "output_type": "display_data"
    }
   ],
   "source": [
    "data.frame(\n",
    "    ethnicity = c('white', 'black', 'nat_amer', 'asian_pi', 'other'),\n",
    "    percent_population = c(.8029, .1206, .0079, .0292, .0394)\n",
    ")"
   ]
  },
  {
   "cell_type": "markdown",
   "metadata": {},
   "source": [
    "- We are also given the distribution of 2500 people who were selected for jury duty in the previous year."
   ]
  },
  {
   "cell_type": "code",
   "execution_count": 37,
   "metadata": {},
   "outputs": [
    {
     "data": {
      "text/html": [
       "<table>\n",
       "<caption>A data.frame: 5 × 2</caption>\n",
       "<thead>\n",
       "\t<tr><th scope=col>ethnicity</th><th scope=col>n_observed</th></tr>\n",
       "\t<tr><th scope=col>&lt;fct&gt;</th><th scope=col>&lt;dbl&gt;</th></tr>\n",
       "</thead>\n",
       "<tbody>\n",
       "\t<tr><td>white   </td><td>1920</td></tr>\n",
       "\t<tr><td>black   </td><td> 347</td></tr>\n",
       "\t<tr><td>nat_amer</td><td>  19</td></tr>\n",
       "\t<tr><td>asian_pi</td><td>  84</td></tr>\n",
       "\t<tr><td>other   </td><td> 130</td></tr>\n",
       "</tbody>\n",
       "</table>\n"
      ],
      "text/latex": [
       "A data.frame: 5 × 2\n",
       "\\begin{tabular}{r|ll}\n",
       " ethnicity & n\\_observed\\\\\n",
       " <fct> & <dbl>\\\\\n",
       "\\hline\n",
       "\t white    & 1920\\\\\n",
       "\t black    &  347\\\\\n",
       "\t nat\\_amer &   19\\\\\n",
       "\t asian\\_pi &   84\\\\\n",
       "\t other    &  130\\\\\n",
       "\\end{tabular}\n"
      ],
      "text/markdown": [
       "\n",
       "A data.frame: 5 × 2\n",
       "\n",
       "| ethnicity &lt;fct&gt; | n_observed &lt;dbl&gt; |\n",
       "|---|---|\n",
       "| white    | 1920 |\n",
       "| black    |  347 |\n",
       "| nat_amer |   19 |\n",
       "| asian_pi |   84 |\n",
       "| other    |  130 |\n",
       "\n"
      ],
      "text/plain": [
       "  ethnicity n_observed\n",
       "1 white     1920      \n",
       "2 black      347      \n",
       "3 nat_amer    19      \n",
       "4 asian_pi    84      \n",
       "5 other      130      "
      ]
     },
     "metadata": {},
     "output_type": "display_data"
    }
   ],
   "source": [
    "data.frame(\n",
    "    ethnicity = c('white', 'black', 'nat_amer', 'asian_pi', 'other'),\n",
    "    n_observed = c(1920, 347, 19, 84, 130)\n",
    ")"
   ]
  },
  {
   "cell_type": "markdown",
   "metadata": {},
   "source": [
    "- The court retains you as an independent expert to assess the statistical evidence that there was discrimination. You propose to formulate this issue as a hypothesis test."
   ]
  },
  {
   "cell_type": "code",
   "execution_count": 38,
   "metadata": {},
   "outputs": [],
   "source": [
    "# H0: People selected for jury duty are a simple random sample\n",
    "# from the population of potential jurors. The observed counts\n",
    "# of jurors from various race/ethnicities *follow the same*\n",
    "# ethnicity *distribution* in the polulation.\n",
    "\n",
    "# HA: People selected for jury duty are not a simple random sample\n",
    "# from the population of potential jurors. The observed counts\n",
    "# of jurors from various race/ethnicities *do not follow the same*\n",
    "# ethnicity *distribution* in the polulation."
   ]
  },
  {
   "cell_type": "markdown",
   "metadata": {},
   "source": [
    "- Calculate expected number of jurors from each ehnicity if in fact the jury selection is random."
   ]
  },
  {
   "cell_type": "code",
   "execution_count": 39,
   "metadata": {},
   "outputs": [
    {
     "name": "stderr",
     "output_type": "stream",
     "text": [
      "\n",
      "Attaching package: ‘dplyr’\n",
      "\n",
      "The following objects are masked from ‘package:stats’:\n",
      "\n",
      "    filter, lag\n",
      "\n",
      "The following objects are masked from ‘package:base’:\n",
      "\n",
      "    intersect, setdiff, setequal, union\n",
      "\n"
     ]
    }
   ],
   "source": [
    "library(dplyr)"
   ]
  },
  {
   "cell_type": "code",
   "execution_count": 41,
   "metadata": {},
   "outputs": [
    {
     "data": {
      "text/html": [
       "<table>\n",
       "<caption>A data.frame: 6 × 3</caption>\n",
       "<thead>\n",
       "\t<tr><th scope=col>ethnicity</th><th scope=col>percent_population</th><th scope=col>n_expected</th></tr>\n",
       "\t<tr><th scope=col>&lt;fct&gt;</th><th scope=col>&lt;dbl&gt;</th><th scope=col>&lt;dbl&gt;</th></tr>\n",
       "</thead>\n",
       "<tbody>\n",
       "\t<tr><td>white   </td><td>0.8029</td><td>2007.25</td></tr>\n",
       "\t<tr><td>black   </td><td>0.1206</td><td> 301.50</td></tr>\n",
       "\t<tr><td>nat_amer</td><td>0.0079</td><td>  19.75</td></tr>\n",
       "\t<tr><td>asian_pi</td><td>0.0292</td><td>  73.00</td></tr>\n",
       "\t<tr><td>other   </td><td>0.0394</td><td>  98.50</td></tr>\n",
       "\t<tr><td>total   </td><td>1.0000</td><td>2500.00</td></tr>\n",
       "</tbody>\n",
       "</table>\n"
      ],
      "text/latex": [
       "A data.frame: 6 × 3\n",
       "\\begin{tabular}{r|lll}\n",
       " ethnicity & percent\\_population & n\\_expected\\\\\n",
       " <fct> & <dbl> & <dbl>\\\\\n",
       "\\hline\n",
       "\t white    & 0.8029 & 2007.25\\\\\n",
       "\t black    & 0.1206 &  301.50\\\\\n",
       "\t nat\\_amer & 0.0079 &   19.75\\\\\n",
       "\t asian\\_pi & 0.0292 &   73.00\\\\\n",
       "\t other    & 0.0394 &   98.50\\\\\n",
       "\t total    & 1.0000 & 2500.00\\\\\n",
       "\\end{tabular}\n"
      ],
      "text/markdown": [
       "\n",
       "A data.frame: 6 × 3\n",
       "\n",
       "| ethnicity &lt;fct&gt; | percent_population &lt;dbl&gt; | n_expected &lt;dbl&gt; |\n",
       "|---|---|---|\n",
       "| white    | 0.8029 | 2007.25 |\n",
       "| black    | 0.1206 |  301.50 |\n",
       "| nat_amer | 0.0079 |   19.75 |\n",
       "| asian_pi | 0.0292 |   73.00 |\n",
       "| other    | 0.0394 |   98.50 |\n",
       "| total    | 1.0000 | 2500.00 |\n",
       "\n"
      ],
      "text/plain": [
       "  ethnicity percent_population n_expected\n",
       "1 white     0.8029             2007.25   \n",
       "2 black     0.1206              301.50   \n",
       "3 nat_amer  0.0079               19.75   \n",
       "4 asian_pi  0.0292               73.00   \n",
       "5 other     0.0394               98.50   \n",
       "6 total     1.0000             2500.00   "
      ]
     },
     "metadata": {},
     "output_type": "display_data"
    }
   ],
   "source": [
    "data.frame(\n",
    "    ethnicity = c('white', 'black', 'nat_amer', 'asian_pi', 'other', 'total'),\n",
    "    percent_population = c(.8029, .1206, .0079, .0292, .0394, 1)\n",
    ") %>% mutate(n_expected = 2500 * percent_population)"
   ]
  },
  {
   "cell_type": "code",
   "execution_count": null,
   "metadata": {},
   "outputs": [],
   "source": []
  }
 ],
 "metadata": {
  "kernelspec": {
   "display_name": "R",
   "language": "R",
   "name": "ir"
  },
  "language_info": {
   "codemirror_mode": "r",
   "file_extension": ".r",
   "mimetype": "text/x-r-source",
   "name": "R",
   "pygments_lexer": "r",
   "version": "3.6.0"
  }
 },
 "nbformat": 4,
 "nbformat_minor": 2
}
