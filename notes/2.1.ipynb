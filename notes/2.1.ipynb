{
 "cells": [
  {
   "cell_type": "markdown",
   "metadata": {},
   "source": [
    "**Inferential Statistics - Week 1**"
   ]
  },
  {
   "cell_type": "markdown",
   "metadata": {},
   "source": [
    "# Central Limit Theorem"
   ]
  },
  {
   "cell_type": "markdown",
   "metadata": {},
   "source": [
    "## Sampling Variability and CLT"
   ]
  },
  {
   "cell_type": "markdown",
   "metadata": {},
   "source": [
    "**Example**"
   ]
  },
  {
   "cell_type": "markdown",
   "metadata": {},
   "source": [
    "* P(Length of song lasts more than 5 minutes)?"
   ]
  },
  {
   "cell_type": "code",
   "execution_count": 1,
   "metadata": {},
   "outputs": [],
   "source": [
    "# iPod song = 3000 \n",
    "n <- 3000\n",
    "# mean song length = 3.45 mins\n",
    "mu <- 3.45\n",
    "# sd of song length = 1.63 mins\n",
    "s <- 1.63"
   ]
  },
  {
   "cell_type": "code",
   "execution_count": 2,
   "metadata": {},
   "outputs": [
    {
     "data": {
      "text/html": [
       "0.166666666666667"
      ],
      "text/latex": [
       "0.166666666666667"
      ],
      "text/markdown": [
       "0.166666666666667"
      ],
      "text/plain": [
       "[1] 0.1666667"
      ]
     },
     "metadata": {},
     "output_type": "display_data"
    }
   ],
   "source": [
    "# x = length of song lasts more than 5 mins\n",
    "# P(x > 5)\n",
    "(p_x_greater_5 <- (350+100+25+20+5) / n)"
   ]
  },
  {
   "cell_type": "markdown",
   "metadata": {},
   "source": [
    "* P(Average length of song lasts more than 6 minutes)?"
   ]
  },
  {
   "cell_type": "code",
   "execution_count": 3,
   "metadata": {},
   "outputs": [],
   "source": [
    "# sample size is 100 songs\n",
    "m <- 100\n",
    "# standard error = sd / sqrt(m)\n",
    "se <- s/sqrt(m)"
   ]
  },
  {
   "cell_type": "code",
   "execution_count": 4,
   "metadata": {},
   "outputs": [
    {
     "data": {
      "text/html": [
       "0.178722267514752"
      ],
      "text/latex": [
       "0.178722267514752"
      ],
      "text/markdown": [
       "0.178722267514752"
      ],
      "text/plain": [
       "[1] 0.1787223"
      ]
     },
     "metadata": {},
     "output_type": "display_data"
    }
   ],
   "source": [
    "# 6 hours = 360 mins\n",
    "# P(x1 + x2 + ... x100 > 360 mins)\n",
    "# = P(mean x >= 3.6 mins)\n",
    "(p_xbar_greater_3.6 <- 1 - pnorm(3.6, mu, se))"
   ]
  },
  {
   "cell_type": "markdown",
   "metadata": {},
   "source": [
    "## Exercises\n",
    "\n",
    "OpenIntro Statistics, 4th edition <br>\n",
    "5.1, 5.3, 5.5"
   ]
  },
  {
   "cell_type": "markdown",
   "metadata": {},
   "source": [
    "**5.1 Identify the parameter, Part I.** \n",
    "\n",
    "* For each of the following situations, state whether the parameter of interest is a mean or a proportion. It may be helpful to examine whether individual responses are numerical or categorical.\n",
    "* (a) In a survey, one hundred college students are asked how many hours per week they spend on the Internet.\n",
    "* (b) In a survey, one hundred college students are asked: “What percentage of the time you spend on the Internet is part of your course work?”\n",
    "* (c) In a survey, one hundred college students are asked whether or not they cited information from Wikipedia in their papers.\n",
    "* (d) In a survey, one hundred college students are asked what percentage of their total weekly spending is on alcoholic beverages.\n",
    "* (e) In a sample of one hundred recent college graduates, it is found that 85 percent expect to get a job within one year of their graduation date."
   ]
  },
  {
   "cell_type": "code",
   "execution_count": 45,
   "metadata": {},
   "outputs": [],
   "source": [
    "# (a) Mean. The response is numerical - number of hours.\n",
    "# (b) Mean. The response is numerical - a percentage.\n",
    "# (c) Proportion. The response is a binary categorical - yes or no. \n",
    "# (d) Mean. The response is numerical - a percentage.\n",
    "# (e) Proportion. The response is a binary categorical - get a job or not get a job. "
   ]
  },
  {
   "cell_type": "markdown",
   "metadata": {},
   "source": [
    "**5.3 Quality control.** \n",
    "\n",
    "* As part of a quality control process for computer chips, an engineer at a factory randomly samples 212 chips during a week of production to test the current rate of chips with severe defects. She finds that 27 of the chips are defective.\n",
    "* (a) What population is under consideration in the data set? \n",
    "* (b) What parameter is being estimated? \n",
    "* (c) What is the point estimate for the parameter? \n",
    "* (d) What is the name of the statistic can we use to measure the uncertainty of the point estimate? \n",
    "* (e) Compute the value from part (d) for this context.\n",
    "* (f) The historical rate of defects is 10%. Should the engineer be surprised by the observed rate of defects during the current week? \n",
    "* (g) Suppose the true population value was found to be 10%. If we use this proportion to recompute the value in part (e) using p = 0.1 instead of ˆ p, does the resulting value change much?"
   ]
  },
  {
   "cell_type": "code",
   "execution_count": 46,
   "metadata": {},
   "outputs": [],
   "source": [
    "# (a) The population is all the computer chips during a week of production.\n",
    "# (b) The parameter is the rate of defects."
   ]
  },
  {
   "cell_type": "code",
   "execution_count": 50,
   "metadata": {},
   "outputs": [
    {
     "data": {
      "text/html": [
       "0.127"
      ],
      "text/latex": [
       "0.127"
      ],
      "text/markdown": [
       "0.127"
      ],
      "text/plain": [
       "[1] 0.127"
      ]
     },
     "metadata": {},
     "output_type": "display_data"
    }
   ],
   "source": [
    "# (c) Point estimate.\n",
    "round(27/212, 3)"
   ]
  },
  {
   "cell_type": "code",
   "execution_count": 49,
   "metadata": {},
   "outputs": [],
   "source": [
    "# (d) Standard error / margin of error."
   ]
  },
  {
   "cell_type": "code",
   "execution_count": 57,
   "metadata": {},
   "outputs": [
    {
     "data": {
      "text/html": [
       "0.023"
      ],
      "text/latex": [
       "0.023"
      ],
      "text/markdown": [
       "0.023"
      ],
      "text/plain": [
       "[1] 0.023"
      ]
     },
     "metadata": {},
     "output_type": "display_data"
    }
   ],
   "source": [
    "# (e) SE = sqrt(p * (1-p) / n)\n",
    "round(sqrt((0.127 * (1-0.127)) / 212), 3)"
   ]
  },
  {
   "cell_type": "code",
   "execution_count": 60,
   "metadata": {},
   "outputs": [
    {
     "data": {
      "text/html": [
       "0.08192"
      ],
      "text/latex": [
       "0.08192"
      ],
      "text/markdown": [
       "0.08192"
      ],
      "text/plain": [
       "[1] 0.08192"
      ]
     },
     "metadata": {},
     "output_type": "display_data"
    },
    {
     "data": {
      "text/html": [
       "0.17208"
      ],
      "text/latex": [
       "0.17208"
      ],
      "text/markdown": [
       "0.17208"
      ],
      "text/plain": [
       "[1] 0.17208"
      ]
     },
     "metadata": {},
     "output_type": "display_data"
    }
   ],
   "source": [
    "# (f) We compute the 95% confidence interval which is between 0.08 and 0.17. \n",
    "# The historical rate of defects lie within our confidence interval hence we're not supprised.\n",
    "me <- 1.96 * 0.023\n",
    "0.127 - me\n",
    "0.127 + me"
   ]
  },
  {
   "cell_type": "code",
   "execution_count": 61,
   "metadata": {},
   "outputs": [
    {
     "data": {
      "text/html": [
       "0.021"
      ],
      "text/latex": [
       "0.021"
      ],
      "text/markdown": [
       "0.021"
      ],
      "text/plain": [
       "[1] 0.021"
      ]
     },
     "metadata": {},
     "output_type": "display_data"
    }
   ],
   "source": [
    "# (g) The value does not change much.\n",
    "round(sqrt(0.1 * (1-0.1) / 212), 3)"
   ]
  },
  {
   "cell_type": "markdown",
   "metadata": {},
   "source": [
    "**5.5 Repeated water samples.** \n",
    "\n",
    "* A nonprofit wants to understand the fraction of households that have elevated levels of lead in their drinking water. They expect at least 5% of homes will have elevated levels of lead, but not more than about 30%. They randomly sample 800 homes and work with the owners to retrieve water samples, and they compute the fraction of these homes with elevated lead levels. They repeat this 1,000 times and build a distribution of sample proportions.\n",
    "* (a) What is this distribution called? \n",
    "* (b) Would you expect the shape of this distribution to be symmetric, right skewed, or left skewed? Explain your reasoning.\n",
    "* (c) If the proportions are distributed around 8%, what is the variability of the distribution? \n",
    "* (d) What is the formal name of the value you computed in (c)? \n",
    "* (e) Suppose the researchers’ budget is reduced, and they are only able to collect 250 observations per sample, but they can still collect 1,000 samples. They build a new distribution of sample proportions. How will the variability of this new distribution compare to the variability of the distribution when each sample contained 800 observations?"
   ]
  },
  {
   "cell_type": "code",
   "execution_count": 5,
   "metadata": {},
   "outputs": [],
   "source": [
    "# (a) Sampling distribution.\n",
    "# (b) If the population proportion is in the 5-30% range, the success-failure condition would be satisfied\n",
    "# and the sampling distribution would be symmetric."
   ]
  },
  {
   "cell_type": "code",
   "execution_count": 8,
   "metadata": {},
   "outputs": [
    {
     "data": {
      "text/html": [
       "0.0096"
      ],
      "text/latex": [
       "0.0096"
      ],
      "text/markdown": [
       "0.0096"
      ],
      "text/plain": [
       "[1] 0.0096"
      ]
     },
     "metadata": {},
     "output_type": "display_data"
    }
   ],
   "source": [
    "# (c) The variability can be represented by the standard error.\n",
    "mu <- 0.08\n",
    "round(sqrt(0.08 * (1-0.08) / 800), 4)\n",
    "# (d) Standard error."
   ]
  },
  {
   "cell_type": "code",
   "execution_count": 9,
   "metadata": {},
   "outputs": [],
   "source": [
    "# (e) The variability will increase as the sample size decreases."
   ]
  },
  {
   "cell_type": "markdown",
   "metadata": {},
   "source": [
    "# Confidence Interval"
   ]
  },
  {
   "cell_type": "markdown",
   "metadata": {},
   "source": [
    "## Confidence Interval (for a Mean)"
   ]
  },
  {
   "cell_type": "markdown",
   "metadata": {},
   "source": [
    "$$ \n",
    "ME = z^\\star \\frac{s}{\\sqrt{n}}\n",
    "$$"
   ]
  },
  {
   "cell_type": "code",
   "execution_count": 40,
   "metadata": {},
   "outputs": [
    {
     "data": {
      "text/html": [
       "-1.95996398454005"
      ],
      "text/latex": [
       "-1.95996398454005"
      ],
      "text/markdown": [
       "-1.95996398454005"
      ],
      "text/plain": [
       "[1] -1.959964"
      ]
     },
     "metadata": {},
     "output_type": "display_data"
    }
   ],
   "source": [
    "# 95% CI = mu +/- 1.96 se\n",
    "qnorm((1-0.95)/2)"
   ]
  },
  {
   "cell_type": "code",
   "execution_count": 41,
   "metadata": {},
   "outputs": [
    {
     "data": {
      "text/html": [
       "-2.32634787404084"
      ],
      "text/latex": [
       "-2.32634787404084"
      ],
      "text/markdown": [
       "-2.32634787404084"
      ],
      "text/plain": [
       "[1] -2.326348"
      ]
     },
     "metadata": {},
     "output_type": "display_data"
    }
   ],
   "source": [
    "# 98% CI = mu +/- 2.32 se\n",
    "qnorm((1-0.98)/2)"
   ]
  },
  {
   "cell_type": "code",
   "execution_count": 42,
   "metadata": {},
   "outputs": [
    {
     "data": {
      "text/html": [
       "-2.5758293035489"
      ],
      "text/latex": [
       "-2.5758293035489"
      ],
      "text/markdown": [
       "-2.5758293035489"
      ],
      "text/plain": [
       "[1] -2.575829"
      ]
     },
     "metadata": {},
     "output_type": "display_data"
    }
   ],
   "source": [
    "# 99% CI = mu +/- 2.58 se\n",
    "qnorm((1-0.99)/2)"
   ]
  },
  {
   "cell_type": "markdown",
   "metadata": {},
   "source": [
    "## Accuracy vs Precision\n",
    "* Commonly used CI are 90%, 95%, 98%, and 99%.\n",
    "* A wider interval (higher CI) indicates a higher probability of capturing the true polulation, which increases the accuracy, but decreases the precision.\n",
    "* The way to get both a higher precision and higher accuracy is to increase the sample size, as it shrinks the standard error and margin of error."
   ]
  },
  {
   "cell_type": "markdown",
   "metadata": {},
   "source": [
    "**Example**\n",
    "* The General Social Survey (GSS) is a sociological survey used to collect data on demographic characteristics and attitudes of residents of the United States. \n",
    "* In 2010, the survey collected responses from 1,154 US residents. Based on the survey results, a 95% confidence interval for the average number of hours Americans have to relax or pursue activities that you enjoy after an average work day is 3.53 to 3.83 hours."
   ]
  },
  {
   "cell_type": "code",
   "execution_count": 43,
   "metadata": {},
   "outputs": [
    {
     "data": {
      "text/html": [
       "3.68"
      ],
      "text/latex": [
       "3.68"
      ],
      "text/markdown": [
       "3.68"
      ],
      "text/plain": [
       "[1] 3.68"
      ]
     },
     "metadata": {},
     "output_type": "display_data"
    }
   ],
   "source": [
    "# sample mean\n",
    "3.53 + (3.83-3.53)/2"
   ]
  },
  {
   "cell_type": "code",
   "execution_count": 44,
   "metadata": {},
   "outputs": [
    {
     "data": {
      "text/html": [
       "0.076530612244898"
      ],
      "text/latex": [
       "0.076530612244898"
      ],
      "text/markdown": [
       "0.076530612244898"
      ],
      "text/plain": [
       "[1] 0.07653061"
      ]
     },
     "metadata": {},
     "output_type": "display_data"
    }
   ],
   "source": [
    "# standard error\n",
    "(3.83-3.53)/2/1.96"
   ]
  },
  {
   "cell_type": "code",
   "execution_count": 45,
   "metadata": {},
   "outputs": [
    {
     "data": {
      "text/html": [
       "0.15"
      ],
      "text/latex": [
       "0.15"
      ],
      "text/markdown": [
       "0.15"
      ],
      "text/plain": [
       "[1] 0.15"
      ]
     },
     "metadata": {},
     "output_type": "display_data"
    }
   ],
   "source": [
    "# margin of error\n",
    "(3.83-3.53)/2"
   ]
  },
  {
   "cell_type": "markdown",
   "metadata": {},
   "source": [
    "## Required Sample Size for Margin of Error (ME)\n",
    "* All else held constant, as sample size increases, the margin of error decreases."
   ]
  },
  {
   "cell_type": "markdown",
   "metadata": {},
   "source": [
    "$$ \n",
    "n = ( \\frac{z^\\star s}{ME} )^2\n",
    "$$"
   ]
  },
  {
   "cell_type": "markdown",
   "metadata": {},
   "source": [
    "**Example**\n",
    "\n",
    "* Suppose a group of researchers want to test the possible effect of an epilepsy medication taken by pregnant mothers on the cognitive development of their children. As evidence, they want to estimate the IQs of three-year-old children born to mothers who were on this medication during their pregnancy.\n",
    "* Previous studies suggest that the standard deviation of IQ scores of three-year-old children is 18 points. \n",
    "\n",
    "* How many such children should the researches sample in order to obtain a 90% confidence interval with a margin of error less than or equal to four points?"
   ]
  },
  {
   "cell_type": "code",
   "execution_count": 58,
   "metadata": {},
   "outputs": [
    {
     "data": {
      "text/html": [
       "54.4644"
      ],
      "text/latex": [
       "54.4644"
      ],
      "text/markdown": [
       "54.4644"
      ],
      "text/plain": [
       "[1] 54.4644"
      ]
     },
     "metadata": {},
     "output_type": "display_data"
    },
    {
     "data": {
      "text/html": [
       "55"
      ],
      "text/latex": [
       "55"
      ],
      "text/markdown": [
       "55"
      ],
      "text/plain": [
       "[1] 55"
      ]
     },
     "metadata": {},
     "output_type": "display_data"
    }
   ],
   "source": [
    "me <- 4  \n",
    "ci <- 0.9  \n",
    "sd <- 18 \n",
    "z <- qnorm((1-ci)/2)\n",
    "\n",
    "(n <- ((1.64 * sd)/me)^2)\n",
    "ceiling(n)"
   ]
  },
  {
   "cell_type": "markdown",
   "metadata": {},
   "source": [
    "* How would the required sample size change if we want to further decrease the margin of error, to two points?"
   ]
  },
  {
   "cell_type": "markdown",
   "metadata": {},
   "source": [
    "$$ \n",
    "\\frac{1}{x} ME = z^\\star \\frac{s}{\\sqrt{n}} \\frac{1}{x}\n",
    "\\\\\n",
    "\\frac{1}{x} ME = z^\\star \\frac{s}{\\sqrt{n x^2}} \n",
    "$$"
   ]
  },
  {
   "cell_type": "code",
   "execution_count": 60,
   "metadata": {},
   "outputs": [
    {
     "data": {
      "text/html": [
       "217.8576"
      ],
      "text/latex": [
       "217.8576"
      ],
      "text/markdown": [
       "217.8576"
      ],
      "text/plain": [
       "[1] 217.8576"
      ]
     },
     "metadata": {},
     "output_type": "display_data"
    },
    {
     "data": {
      "text/html": [
       "218"
      ],
      "text/latex": [
       "218"
      ],
      "text/markdown": [
       "218"
      ],
      "text/plain": [
       "[1] 218"
      ]
     },
     "metadata": {},
     "output_type": "display_data"
    }
   ],
   "source": [
    "me <- 2\n",
    "(n <- ((1.64 * sd)/me)^2)\n",
    "ceiling(n)"
   ]
  },
  {
   "cell_type": "markdown",
   "metadata": {},
   "source": [
    "**Example**\n",
    "\n",
    "* A sample of 50 college students were asked, how many exclusive relationships they've been in so far? \n",
    "* The students in the sample had an average of 3.2 exclusive relationships, with a standard deviation of 1.74.\n",
    "* In addition, the same distribution was only slightly skewed to the right. \n",
    "\n",
    "* Estimate the true number of exclusive relationships based on this sample using a 95% confidence interval."
   ]
  },
  {
   "cell_type": "code",
   "execution_count": 77,
   "metadata": {},
   "outputs": [
    {
     "data": {
      "text/html": [
       "2.71769660668828"
      ],
      "text/latex": [
       "2.71769660668828"
      ],
      "text/markdown": [
       "2.71769660668828"
      ],
      "text/plain": [
       "[1] 2.717697"
      ]
     },
     "metadata": {},
     "output_type": "display_data"
    },
    {
     "data": {
      "text/html": [
       "3.68230339331172"
      ],
      "text/latex": [
       "3.68230339331172"
      ],
      "text/markdown": [
       "3.68230339331172"
      ],
      "text/plain": [
       "[1] 3.682303"
      ]
     },
     "metadata": {},
     "output_type": "display_data"
    }
   ],
   "source": [
    "n <- 50  \n",
    "mu <- 3.2  \n",
    "sd <- 1.74  \n",
    "\n",
    "ci <- 0.95\n",
    "z <- abs(round(qnorm((1-ci)/2), 2))\n",
    "\n",
    "se <- sd/sqrt(n)\n",
    "\n",
    "me <- z * se\n",
    "\n",
    "# 1.96 * 1.74/sqrt(50)\n",
    "\n",
    "mu - me\n",
    "mu + me"
   ]
  },
  {
   "cell_type": "markdown",
   "metadata": {},
   "source": [
    "* What is the correct calculation of the 98% confidence interval for the average number of exclusive relationships college students on average have been in?"
   ]
  },
  {
   "cell_type": "code",
   "execution_count": 78,
   "metadata": {},
   "outputs": [
    {
     "data": {
      "text/html": [
       "2.6266495375427"
      ],
      "text/latex": [
       "2.6266495375427"
      ],
      "text/markdown": [
       "2.6266495375427"
      ],
      "text/plain": [
       "[1] 2.62665"
      ]
     },
     "metadata": {},
     "output_type": "display_data"
    },
    {
     "data": {
      "text/html": [
       "3.7733504624573"
      ],
      "text/latex": [
       "3.7733504624573"
      ],
      "text/markdown": [
       "3.7733504624573"
      ],
      "text/plain": [
       "[1] 3.77335"
      ]
     },
     "metadata": {},
     "output_type": "display_data"
    }
   ],
   "source": [
    "ci <- 0.98\n",
    "z <- abs(round(qnorm((1-ci)/2), 2))\n",
    "me <- z * se\n",
    "\n",
    "# 2.33 * 1.74/sqrt(50)\n",
    "\n",
    "mu - me\n",
    "mu + me"
   ]
  },
  {
   "cell_type": "markdown",
   "metadata": {},
   "source": [
    "## Exercises\n",
    "\n",
    "OpenIntro Statistics, 4th edition<br>\n",
    "5.7, 5.9, 5.11, 5.13"
   ]
  },
  {
   "cell_type": "markdown",
   "metadata": {},
   "source": [
    "**5.7 Chronic illness, Part I.** \n",
    "* In 2013, the Pew Research Foundation reported that “45% of U.S. adults report\n",
    "that they live with one or more chronic conditions”. However, this value was based on a sample, so it may not be a perfect estimate for the population parameter of interest on its own. The study reported a standard error of about 1.2%, and a normal model may reasonably be used in this setting. \n",
    "* Create a 95% confidence interval for the proportion of U.S. adults who live with one or more chronic conditions. \n",
    "* Also interpret the confidence interval in the context of the study."
   ]
  },
  {
   "cell_type": "code",
   "execution_count": 1,
   "metadata": {},
   "outputs": [
    {
     "data": {
      "text/html": [
       "0.42648"
      ],
      "text/latex": [
       "0.42648"
      ],
      "text/markdown": [
       "0.42648"
      ],
      "text/plain": [
       "[1] 0.42648"
      ]
     },
     "metadata": {},
     "output_type": "display_data"
    },
    {
     "data": {
      "text/html": [
       "0.47352"
      ],
      "text/latex": [
       "0.47352"
      ],
      "text/markdown": [
       "0.47352"
      ],
      "text/plain": [
       "[1] 0.47352"
      ]
     },
     "metadata": {},
     "output_type": "display_data"
    }
   ],
   "source": [
    "mu <- 0.45\n",
    "se <- 0.012\n",
    "mu - se * 1.96\n",
    "mu + se * 1.96\n",
    "# We are 95% confident that the proportion of U.S. adults who live with \n",
    "# one or more chronic conditions is between 42.6% to 47.4%."
   ]
  },
  {
   "cell_type": "markdown",
   "metadata": {},
   "source": [
    "**5.9 Chronic illness, Part II.** \n",
    "* In 2013, the Pew Research Foundation reported that “45% of U.S. adults report that they live with one or more chronic conditions”, and the standard error for this estimate is 1.2%.\n",
    "Identify each of the following statements as true or false. Provide an explanation to justify each of your answers.\n",
    "* (a) We can say with certainty that the confidence interval from Exercise 5.7 contains the true percentage of U.S. adults who suffer from a chronic illness.\n",
    "* (b) If we repeated this study 1,000 times and constructed a 95% confidence interval for each study, then approximately 950 of those confidence intervals would contain the true fraction of U.S. adults who suffer from chronic illnesses.\n",
    "* (c) The poll provides statistically significant evidence (at the α = 0.05 level) that the percentage of U.S. adults who suffer from chronic illnesses is below 50%.\n",
    "* (d) Since the standard error is 1.2%, only 1.2% of people in the study communicated uncertainty about their answer."
   ]
  },
  {
   "cell_type": "code",
   "execution_count": 4,
   "metadata": {},
   "outputs": [],
   "source": [
    "# (a) False. We are only 95% confident that the confidence interval from Exercise 5.7\n",
    "# contains the true parameter. Within a range of plausible values, \n",
    "# sometimes the truth is missed. 5% of our samples misses the truth \n",
    "# under the 95% confidence interval. \n",
    "# (b) True. 950 out of 1000 samples represents 95% of of the samples.\n",
    "# (d) False. The standard error represents the variability between samples,\n",
    "# it describes the uncertainty in the overall point estimate due to randomness,\n",
    "# but not the uncertainty corresponding to individual's responses."
   ]
  },
  {
   "cell_type": "markdown",
   "metadata": {},
   "source": [
    "**5.11 Waiting at an ER, Part I.** \n",
    "* A hospital administrator hoping to improve wait times decides to estimate the average emergency room waiting time at her hospital. She collects a simple random sample of 64 patients and determines the time (in minutes) between when they checked in to the ER until they were first seen by a doctor. A 95% confidence interval based on this sample is (128 minutes, 147 minutes), which is based on the normal model for the mean. Determine whether the following statements are true or false, and explain your reasoning.\n",
    "* (a) We are 95% confident that the average waiting time of these 64 emergency room patients is between 128 and 147 minutes.\n",
    "* (b) We are 95% confident that the average waiting time of all patients at this hospital’s emergency room is\n",
    "between 128 and 147 minutes.\n",
    "* (c) 95% of random samples have a sample mean between 128 and 147 minutes.\n",
    "* (d) A 99% confidence interval would be narrower than the 95% confidence interval since we need to be more sure of our estimate.\n",
    "* (e) The margin of error is 9.5 and the sample mean is 137.5.\n",
    "* (f) In order to decrease the margin of error of a 95% confidence interval to half of what it is now, we would need to double the sample size."
   ]
  },
  {
   "cell_type": "code",
   "execution_count": 17,
   "metadata": {},
   "outputs": [],
   "source": [
    "# (a) False. We are 100% confident that the average waiting time of the sampled 64 patients\n",
    "# is 137.5. We are 95% confident about the polulation waiting time, but not the sample.\n",
    "# (b) True. If the samples are independent, and the success-failture condition is satisfied.\n",
    "# (c) False. The confidence interval is not about a sample mean.\n",
    "# (d) False. A 99% confidence interval would be wider since we have to capture more plausible \n",
    "# values of the true parameter.\n",
    "# (e) False. The mean is 137.5 which is the mid-point of the interval.\n",
    "# The margin of error is half the width of the interval.\n",
    "# (f) False. We have to have 4 times the sample size."
   ]
  },
  {
   "cell_type": "markdown",
   "metadata": {},
   "source": [
    "**5.13 Website registration.** \n",
    "* A website is trying to increase registration for first-time visitors, exposing 1% of these visitors to a new site design. Of 752 randomly sampled visitors over a month who saw the new design, 64 registered.\n",
    "* (a) Check any conditions required for constructing a confidence interval.\n",
    "* (b) Compute the standard error.\n",
    "* (c) Construct and interpret a 90% confidence interval for the fraction of first-time visitors of the site who would register under the new design (assuming stable behaviors by new visitors over time)."
   ]
  },
  {
   "cell_type": "code",
   "execution_count": 38,
   "metadata": {},
   "outputs": [
    {
     "data": {
      "text/html": [
       "0.0851063829787234"
      ],
      "text/latex": [
       "0.0851063829787234"
      ],
      "text/markdown": [
       "0.0851063829787234"
      ],
      "text/plain": [
       "[1] 0.08510638"
      ]
     },
     "metadata": {},
     "output_type": "display_data"
    },
    {
     "data": {
      "text/html": [
       "64"
      ],
      "text/latex": [
       "64"
      ],
      "text/markdown": [
       "64"
      ],
      "text/plain": [
       "[1] 64"
      ]
     },
     "metadata": {},
     "output_type": "display_data"
    },
    {
     "data": {
      "text/html": [
       "688"
      ],
      "text/latex": [
       "688"
      ],
      "text/markdown": [
       "688"
      ],
      "text/plain": [
       "[1] 688"
      ]
     },
     "metadata": {},
     "output_type": "display_data"
    }
   ],
   "source": [
    "# (a) As the visitors are randomly sampled, independence is assumed. \n",
    "# The success-failure condition is also satisfied. Hence, central limite theorem should\n",
    "# hold and the sampling distribution should follow a nearly normal distribution.\n",
    "(p <- 64/752)\n",
    "752 * p\n",
    "752 * (1-p)"
   ]
  },
  {
   "cell_type": "code",
   "execution_count": 24,
   "metadata": {},
   "outputs": [
    {
     "data": {
      "text/html": [
       "0.01"
      ],
      "text/latex": [
       "0.01"
      ],
      "text/markdown": [
       "0.01"
      ],
      "text/plain": [
       "[1] 0.01"
      ]
     },
     "metadata": {},
     "output_type": "display_data"
    }
   ],
   "source": [
    "# (b)\n",
    "round(sqrt(p * (1-p) / 752), 3)"
   ]
  },
  {
   "cell_type": "code",
   "execution_count": 37,
   "metadata": {},
   "outputs": [
    {
     "data": {
      "text/html": [
       "1.645"
      ],
      "text/latex": [
       "1.645"
      ],
      "text/markdown": [
       "1.645"
      ],
      "text/plain": [
       "[1] 1.645"
      ]
     },
     "metadata": {},
     "output_type": "display_data"
    },
    {
     "data": {
      "text/html": [
       "0.01645"
      ],
      "text/latex": [
       "0.01645"
      ],
      "text/markdown": [
       "0.01645"
      ],
      "text/plain": [
       "[1] 0.01645"
      ]
     },
     "metadata": {},
     "output_type": "display_data"
    },
    {
     "data": {
      "text/html": [
       "0.102"
      ],
      "text/latex": [
       "0.102"
      ],
      "text/markdown": [
       "0.102"
      ],
      "text/plain": [
       "[1] 0.102"
      ]
     },
     "metadata": {},
     "output_type": "display_data"
    },
    {
     "data": {
      "text/html": [
       "0.069"
      ],
      "text/latex": [
       "0.069"
      ],
      "text/markdown": [
       "0.069"
      ],
      "text/plain": [
       "[1] 0.069"
      ]
     },
     "metadata": {},
     "output_type": "display_data"
    }
   ],
   "source": [
    "# (c)\n",
    "(z <- abs(round(qnorm((1-0.9)/2), 3)))\n",
    "(me <- z * 0.01)\n",
    "\n",
    "round(p + me, 3)\n",
    "round(p - me, 3)"
   ]
  }
 ],
 "metadata": {
  "kernelspec": {
   "display_name": "R",
   "language": "R",
   "name": "ir"
  },
  "language_info": {
   "codemirror_mode": "r",
   "file_extension": ".r",
   "mimetype": "text/x-r-source",
   "name": "R",
   "pygments_lexer": "r",
   "version": "3.6.0"
  }
 },
 "nbformat": 4,
 "nbformat_minor": 2
}
