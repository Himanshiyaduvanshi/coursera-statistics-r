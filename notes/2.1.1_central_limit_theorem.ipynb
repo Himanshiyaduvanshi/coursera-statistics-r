{
 "cells": [
  {
   "cell_type": "markdown",
   "metadata": {},
   "source": [
    "# Central Limit Theorem"
   ]
  },
  {
   "cell_type": "markdown",
   "metadata": {},
   "source": [
    "## Sampling Variability and CLT"
   ]
  },
  {
   "cell_type": "markdown",
   "metadata": {},
   "source": [
    "**Example**"
   ]
  },
  {
   "cell_type": "markdown",
   "metadata": {},
   "source": [
    "* P(Length of song lasts more than 5 minutes)?"
   ]
  },
  {
   "cell_type": "code",
   "execution_count": 1,
   "metadata": {},
   "outputs": [],
   "source": [
    "# iPod song = 3000 \n",
    "n <- 3000\n",
    "# mean song length = 3.45 mins\n",
    "mu <- 3.45\n",
    "# sd of song length = 1.63 mins\n",
    "s <- 1.63"
   ]
  },
  {
   "cell_type": "code",
   "execution_count": 2,
   "metadata": {},
   "outputs": [
    {
     "data": {
      "text/html": [
       "0.166666666666667"
      ],
      "text/latex": [
       "0.166666666666667"
      ],
      "text/markdown": [
       "0.166666666666667"
      ],
      "text/plain": [
       "[1] 0.1666667"
      ]
     },
     "metadata": {},
     "output_type": "display_data"
    }
   ],
   "source": [
    "# x = length of song lasts more than 5 mins\n",
    "# P(x > 5)\n",
    "(p_x_greater_5 <- (350+100+25+20+5) / n)"
   ]
  },
  {
   "cell_type": "markdown",
   "metadata": {},
   "source": [
    "* P(Average length of song lasts more than 6 minutes)?"
   ]
  },
  {
   "cell_type": "code",
   "execution_count": 3,
   "metadata": {},
   "outputs": [],
   "source": [
    "# sample size is 100 songs\n",
    "m <- 100\n",
    "# standard error = sd / sqrt(m)\n",
    "se <- s/sqrt(m)"
   ]
  },
  {
   "cell_type": "code",
   "execution_count": 4,
   "metadata": {},
   "outputs": [
    {
     "data": {
      "text/html": [
       "0.178722267514752"
      ],
      "text/latex": [
       "0.178722267514752"
      ],
      "text/markdown": [
       "0.178722267514752"
      ],
      "text/plain": [
       "[1] 0.1787223"
      ]
     },
     "metadata": {},
     "output_type": "display_data"
    }
   ],
   "source": [
    "# 6 hours = 360 mins\n",
    "# P(x1 + x2 + ... x100 > 360 mins)\n",
    "# = P(mean x >= 3.6 mins)\n",
    "(p_xbar_greater_3.6 <- 1 - pnorm(3.6, mu, se))"
   ]
  },
  {
   "cell_type": "markdown",
   "metadata": {},
   "source": [
    "## Exercises\n",
    "\n",
    "OpenIntro Statistics, 4th edition <br>\n",
    "5.1, 5.3, 5.5"
   ]
  },
  {
   "cell_type": "markdown",
   "metadata": {},
   "source": [
    "**5.1 Identify the parameter, Part I.** \n",
    "\n",
    "* For each of the following situations, state whether the parameter of interest is a mean or a proportion. It may be helpful to examine whether individual responses are numerical or categorical.\n",
    "* (a) In a survey, one hundred college students are asked how many hours per week they spend on the Internet.\n",
    "* (b) In a survey, one hundred college students are asked: “What percentage of the time you spend on the Internet is part of your course work?”\n",
    "* (c) In a survey, one hundred college students are asked whether or not they cited information from Wikipedia in their papers.\n",
    "* (d) In a survey, one hundred college students are asked what percentage of their total weekly spending is on alcoholic beverages.\n",
    "* (e) In a sample of one hundred recent college graduates, it is found that 85 percent expect to get a job within one year of their graduation date."
   ]
  },
  {
   "cell_type": "code",
   "execution_count": 45,
   "metadata": {},
   "outputs": [],
   "source": [
    "# (a) Mean. The response is numerical - number of hours.\n",
    "# (b) Mean. The response is numerical - a percentage.\n",
    "# (c) Proportion. The response is a binary categorical - yes or no. \n",
    "# (d) Mean. The response is numerical - a percentage.\n",
    "# (e) Proportion. The response is a binary categorical - get a job or not get a job. "
   ]
  },
  {
   "cell_type": "markdown",
   "metadata": {},
   "source": [
    "**5.3 Quality control.** \n",
    "\n",
    "* As part of a quality control process for computer chips, an engineer at a factory randomly samples 212 chips during a week of production to test the current rate of chips with severe defects. She finds that 27 of the chips are defective.\n",
    "* (a) What population is under consideration in the data set? \n",
    "* (b) What parameter is being estimated? \n",
    "* (c) What is the point estimate for the parameter? \n",
    "* (d) What is the name of the statistic can we use to measure the uncertainty of the point estimate? \n",
    "* (e) Compute the value from part (d) for this context.\n",
    "* (f) The historical rate of defects is 10%. Should the engineer be surprised by the observed rate of defects during the current week? \n",
    "* (g) Suppose the true population value was found to be 10%. If we use this proportion to recompute the value in part (e) using p = 0.1 instead of ˆ p, does the resulting value change much?"
   ]
  },
  {
   "cell_type": "code",
   "execution_count": 46,
   "metadata": {},
   "outputs": [],
   "source": [
    "# (a) The population is all the computer chips during a week of production.\n",
    "# (b) The parameter is the rate of defects."
   ]
  },
  {
   "cell_type": "code",
   "execution_count": 50,
   "metadata": {},
   "outputs": [
    {
     "data": {
      "text/html": [
       "0.127"
      ],
      "text/latex": [
       "0.127"
      ],
      "text/markdown": [
       "0.127"
      ],
      "text/plain": [
       "[1] 0.127"
      ]
     },
     "metadata": {},
     "output_type": "display_data"
    }
   ],
   "source": [
    "# (c) Point estimate.\n",
    "round(27/212, 3)"
   ]
  },
  {
   "cell_type": "code",
   "execution_count": 49,
   "metadata": {},
   "outputs": [],
   "source": [
    "# (d) Standard error / margin of error."
   ]
  },
  {
   "cell_type": "code",
   "execution_count": 57,
   "metadata": {},
   "outputs": [
    {
     "data": {
      "text/html": [
       "0.023"
      ],
      "text/latex": [
       "0.023"
      ],
      "text/markdown": [
       "0.023"
      ],
      "text/plain": [
       "[1] 0.023"
      ]
     },
     "metadata": {},
     "output_type": "display_data"
    }
   ],
   "source": [
    "# (e) SE = sqrt(p * (1-p) / n)\n",
    "round(sqrt((0.127 * (1-0.127)) / 212), 3)"
   ]
  },
  {
   "cell_type": "code",
   "execution_count": 60,
   "metadata": {},
   "outputs": [
    {
     "data": {
      "text/html": [
       "0.08192"
      ],
      "text/latex": [
       "0.08192"
      ],
      "text/markdown": [
       "0.08192"
      ],
      "text/plain": [
       "[1] 0.08192"
      ]
     },
     "metadata": {},
     "output_type": "display_data"
    },
    {
     "data": {
      "text/html": [
       "0.17208"
      ],
      "text/latex": [
       "0.17208"
      ],
      "text/markdown": [
       "0.17208"
      ],
      "text/plain": [
       "[1] 0.17208"
      ]
     },
     "metadata": {},
     "output_type": "display_data"
    }
   ],
   "source": [
    "# (f) We compute the 95% confidence interval which is between 0.08 and 0.17. \n",
    "# The historical rate of defects lie within our confidence interval hence we're not supprised.\n",
    "me <- 1.96 * 0.023\n",
    "0.127 - me\n",
    "0.127 + me"
   ]
  },
  {
   "cell_type": "code",
   "execution_count": 61,
   "metadata": {},
   "outputs": [
    {
     "data": {
      "text/html": [
       "0.021"
      ],
      "text/latex": [
       "0.021"
      ],
      "text/markdown": [
       "0.021"
      ],
      "text/plain": [
       "[1] 0.021"
      ]
     },
     "metadata": {},
     "output_type": "display_data"
    }
   ],
   "source": [
    "# (g) The value does not change much.\n",
    "round(sqrt(0.1 * (1-0.1) / 212), 3)"
   ]
  },
  {
   "cell_type": "markdown",
   "metadata": {},
   "source": [
    "**5.5 Repeated water samples.** \n",
    "\n",
    "* A nonprofit wants to understand the fraction of households that have elevated levels of lead in their drinking water. They expect at least 5% of homes will have elevated levels of lead, but not more than about 30%. They randomly sample 800 homes and work with the owners to retrieve water samples, and they compute the fraction of these homes with elevated lead levels. They repeat this 1,000 times and build a distribution of sample proportions.\n",
    "* (a) What is this distribution called? \n",
    "* (b) Would you expect the shape of this distribution to be symmetric, right skewed, or left skewed? Explain your reasoning.\n",
    "* (c) If the proportions are distributed around 8%, what is the variability of the distribution? \n",
    "* (d) What is the formal name of the value you computed in (c)? \n",
    "* (e) Suppose the researchers’ budget is reduced, and they are only able to collect 250 observations per sample, but they can still collect 1,000 samples. They build a new distribution of sample proportions. How will the variability of this new distribution compare to the variability of the distribution when each sample contained 800 observations?"
   ]
  },
  {
   "cell_type": "code",
   "execution_count": 5,
   "metadata": {},
   "outputs": [],
   "source": [
    "# (a) Sampling distribution.\n",
    "# (b) If the population proportion is in the 5-30% range, the success-failure condition would be satisfied\n",
    "# and the sampling distribution would be symmetric."
   ]
  },
  {
   "cell_type": "code",
   "execution_count": 8,
   "metadata": {},
   "outputs": [
    {
     "data": {
      "text/html": [
       "0.0096"
      ],
      "text/latex": [
       "0.0096"
      ],
      "text/markdown": [
       "0.0096"
      ],
      "text/plain": [
       "[1] 0.0096"
      ]
     },
     "metadata": {},
     "output_type": "display_data"
    }
   ],
   "source": [
    "# (c) The variability can be represented by the standard error.\n",
    "mu <- 0.08\n",
    "round(sqrt(0.08 * (1-0.08) / 800), 4)\n",
    "# (d) Standard error."
   ]
  },
  {
   "cell_type": "code",
   "execution_count": 9,
   "metadata": {},
   "outputs": [],
   "source": [
    "# (e) The variability will increase as the sample size decreases."
   ]
  }
 ],
 "metadata": {
  "kernelspec": {
   "display_name": "R",
   "language": "R",
   "name": "ir"
  },
  "language_info": {
   "codemirror_mode": "r",
   "file_extension": ".r",
   "mimetype": "text/x-r-source",
   "name": "R",
   "pygments_lexer": "r",
   "version": "3.6.0"
  }
 },
 "nbformat": 4,
 "nbformat_minor": 2
}
