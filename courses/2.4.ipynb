{
 "cells": [
  {
   "cell_type": "markdown",
   "metadata": {},
   "source": [
    "**Inferential Statistics - Week 4**"
   ]
  },
  {
   "cell_type": "markdown",
   "metadata": {
    "toc-hr-collapsed": false
   },
   "source": [
    "# Inference for Proportions"
   ]
  },
  {
   "cell_type": "markdown",
   "metadata": {},
   "source": [
    "- Inference for proportions works with **categorical variables**.\n",
    "- One categorical variable\n",
    "  - Two levels: success-failure\n",
    "  - More than two levels\n",
    "- Two categorical variables\n",
    "  - Two levels: success-failture\n",
    "  - More than two levels"
   ]
  },
  {
   "cell_type": "markdown",
   "metadata": {
    "toc-hr-collapsed": false
   },
   "source": [
    "## Sampling Variability and CLT for Proportions"
   ]
  },
  {
   "cell_type": "markdown",
   "metadata": {},
   "source": [
    "### Central Limit Theorem for a Proportion \n",
    "\n",
    "- When observations are independent and the sample size is sufficiently large, the sample proportion $\\hat{p}$ will tend to follow a normal distribution with the following mean and standard error.\n",
    "\n",
    "### Mean for a Proportion \n",
    "\n",
    "$$\n",
    "\\mu = p\n",
    "$$\n",
    "\n",
    "### Standard Error for a Proportion \n",
    "\n",
    "$$\n",
    "SE = \\sqrt{\\frac{p(1-p)}{n}}\n",
    "$$\n",
    "\n",
    "### Conditions for Central Limit Theorem for a Proportion \n",
    "\n",
    "- Independence\n",
    "- **Success-Failure Condition**: The sample size should be sufficiently large with $np \\ge 10$ and $n(1-p) \\ge 10$.\n",
    "\n",
    "\n",
    "- If the success-failure condition is not met:\n",
    "- The center of the sampling distribution will still be around the true population proportion.\n",
    "- The spread of the sampling distribution can still be approximated using the same formula for the standard error.\n",
    "- The shape of the distribution will depend on whether the true population proportion $p$ is closer to 0 or closer to 1."
   ]
  },
  {
   "cell_type": "markdown",
   "metadata": {},
   "source": [
    "**Example**\n",
    "\n",
    "- 90% of all plant species are classified as angiosperms. These are flowering plants. \n",
    "- If you were to randomly sample 200 plants from the list of all known plant species, what is the probability that at least 95% of the plants in your sample will be flowering plants?"
   ]
  },
  {
   "cell_type": "code",
   "execution_count": 1,
   "metadata": {},
   "outputs": [],
   "source": [
    "p = 0.9\n",
    "n = 200\n",
    "# P(p_hat > 0.95)?\n",
    "p_hat = 0.95"
   ]
  },
  {
   "cell_type": "code",
   "execution_count": 3,
   "metadata": {},
   "outputs": [
    {
     "data": {
      "text/html": [
       "180"
      ],
      "text/latex": [
       "180"
      ],
      "text/markdown": [
       "180"
      ],
      "text/plain": [
       "[1] 180"
      ]
     },
     "metadata": {},
     "output_type": "display_data"
    },
    {
     "data": {
      "text/html": [
       "20"
      ],
      "text/latex": [
       "20"
      ],
      "text/markdown": [
       "20"
      ],
      "text/plain": [
       "[1] 20"
      ]
     },
     "metadata": {},
     "output_type": "display_data"
    }
   ],
   "source": [
    "# Check the conditions:\n",
    "# 1. Random sampled + 10% of all plants -> Independent \n",
    "# 2. Success-failure condition\n",
    "(n_success = n * 0.9)\n",
    "(n_failure = n * (1-0.9))"
   ]
  },
  {
   "cell_type": "code",
   "execution_count": 7,
   "metadata": {},
   "outputs": [
    {
     "data": {
      "text/html": [
       "0.0212132034355964"
      ],
      "text/latex": [
       "0.0212132034355964"
      ],
      "text/markdown": [
       "0.0212132034355964"
      ],
      "text/plain": [
       "[1] 0.0212132"
      ]
     },
     "metadata": {},
     "output_type": "display_data"
    },
    {
     "data": {
      "text/html": [
       "2.35702260395516"
      ],
      "text/latex": [
       "2.35702260395516"
      ],
      "text/markdown": [
       "2.35702260395516"
      ],
      "text/plain": [
       "[1] 2.357023"
      ]
     },
     "metadata": {},
     "output_type": "display_data"
    },
    {
     "data": {
      "text/html": [
       "0.00921106272704958"
      ],
      "text/latex": [
       "0.00921106272704958"
      ],
      "text/markdown": [
       "0.00921106272704958"
      ],
      "text/plain": [
       "[1] 0.009211063"
      ]
     },
     "metadata": {},
     "output_type": "display_data"
    }
   ],
   "source": [
    "(se = sqrt(p * (1-p) / n))\n",
    "(z = (p_hat - p) / se)\n",
    "(prob = pnorm(z, lower.tail = FALSE))"
   ]
  },
  {
   "cell_type": "markdown",
   "metadata": {},
   "source": [
    "- If you were to randomly sample 200 plants from the list of all known plant species, would it be considered unusual if 87.5% of the plants in a random sample of 200 were angiosperms?"
   ]
  },
  {
   "cell_type": "code",
   "execution_count": 8,
   "metadata": {},
   "outputs": [
    {
     "data": {
      "text/html": [
       "-1.17851130197758"
      ],
      "text/latex": [
       "-1.17851130197758"
      ],
      "text/markdown": [
       "-1.17851130197758"
      ],
      "text/plain": [
       "[1] -1.178511"
      ]
     },
     "metadata": {},
     "output_type": "display_data"
    }
   ],
   "source": [
    "# 0.875 is within 2 se from the sample mean,\n",
    "# hence it is not unusual.\n",
    "p_hat = 0.875\n",
    "(z = (p_hat - p) / se)"
   ]
  },
  {
   "cell_type": "markdown",
   "metadata": {},
   "source": [
    "- What would you expect the shape of the sampling distribution of percentages of angiosperms in random samples of 50 plants to look like? (Remember, 90% of all plants species are classified as angiosperms.)"
   ]
  },
  {
   "cell_type": "code",
   "execution_count": 9,
   "metadata": {},
   "outputs": [
    {
     "data": {
      "text/html": [
       "45"
      ],
      "text/latex": [
       "45"
      ],
      "text/markdown": [
       "45"
      ],
      "text/plain": [
       "[1] 45"
      ]
     },
     "metadata": {},
     "output_type": "display_data"
    },
    {
     "data": {
      "text/html": [
       "5"
      ],
      "text/latex": [
       "5"
      ],
      "text/markdown": [
       "5"
      ],
      "text/plain": [
       "[1] 5"
      ]
     },
     "metadata": {},
     "output_type": "display_data"
    }
   ],
   "source": [
    "# The success-failture condition does not met\n",
    "# as the number of failure is 5, which is smaller\n",
    "# than 10. The shape of the sampling distribution\n",
    "# will be strongly left skewed as p = 0.9.\n",
    "(n_success = 50 * 0.9) \n",
    "(n_failture = 50 * 0.1)"
   ]
  },
  {
   "cell_type": "markdown",
   "metadata": {},
   "source": [
    "## Confidence Interval for a Proportion \n",
    "\n",
    "### Confidence Interval for a Proportion \n",
    "\n",
    "$$\n",
    "\\text{CI} = \\hat{p} \\pm z^\\star SE_{\\hat{p}}\n",
    "$$\n",
    "\n",
    "### ME for a Proportion \n",
    "\n",
    "$$\n",
    "\\text{ME} = z^\\star \\sqrt{\\frac{\\hat{p}(1-\\hat{p})}{n}}\n",
    "$$\n",
    "\n",
    "- If we have the value of $\\hat{p}$, we can use that in the calculation of the required sample size.\n",
    "- If not, use $\\hat{p} = 0.5$. 50-50 is a good guess. It\n",
    "gives the most conservative estimate - highest possible sample size."
   ]
  },
  {
   "cell_type": "markdown",
   "metadata": {},
   "source": [
    "**Example**\n",
    "\n",
    "- The general social survey found that 571 out of 670, that's roughly 85% of Americans, answered the question on experiment design correctly. \n",
    "- We are asked to estimate using a 95% confidence interval, the proportion of all Americans who have good intuition about experiment design."
   ]
  },
  {
   "cell_type": "code",
   "execution_count": 20,
   "metadata": {},
   "outputs": [
    {
     "data": {
      "text/html": [
       "0.852238805970149"
      ],
      "text/latex": [
       "0.852238805970149"
      ],
      "text/markdown": [
       "0.852238805970149"
      ],
      "text/plain": [
       "[1] 0.8522388"
      ]
     },
     "metadata": {},
     "output_type": "display_data"
    },
    {
     "data": {
      "text/html": [
       "0.0137095578147403"
      ],
      "text/latex": [
       "0.0137095578147403"
      ],
      "text/markdown": [
       "0.0137095578147403"
      ],
      "text/plain": [
       "[1] 0.01370956"
      ]
     },
     "metadata": {},
     "output_type": "display_data"
    },
    {
     "data": {
      "text/html": [
       "0.026870733316891"
      ],
      "text/latex": [
       "0.026870733316891"
      ],
      "text/markdown": [
       "0.026870733316891"
      ],
      "text/plain": [
       "[1] 0.02687073"
      ]
     },
     "metadata": {},
     "output_type": "display_data"
    },
    {
     "data": {
      "text/html": [
       "0.825368072653258"
      ],
      "text/latex": [
       "0.825368072653258"
      ],
      "text/markdown": [
       "0.825368072653258"
      ],
      "text/plain": [
       "[1] 0.8253681"
      ]
     },
     "metadata": {},
     "output_type": "display_data"
    },
    {
     "data": {
      "text/html": [
       "0.87910953928704"
      ],
      "text/latex": [
       "0.87910953928704"
      ],
      "text/markdown": [
       "0.87910953928704"
      ],
      "text/plain": [
       "[1] 0.8791095"
      ]
     },
     "metadata": {},
     "output_type": "display_data"
    }
   ],
   "source": [
    "n = 670\n",
    "(p = 571/670)\n",
    "(se = sqrt(p * (1-p) / n))\n",
    "(me = 1.96 * se)\n",
    "p - me; p + me\n",
    "# We are 95% confident that 82.5% to 88.9% of all Americans\n",
    "# have good intuition about experimental design."
   ]
  },
  {
   "cell_type": "markdown",
   "metadata": {},
   "source": [
    "- The margin of error for this previous confidence interval was 2.7%. If, for a new confidence interval based on a new sample, we wanted to reduce the margin of error to 1% while keeping the confidence level the same. At least how many respondents should we sample? "
   ]
  },
  {
   "cell_type": "code",
   "execution_count": 21,
   "metadata": {},
   "outputs": [
    {
     "data": {
      "text/html": [
       "4838"
      ],
      "text/latex": [
       "4838"
      ],
      "text/markdown": [
       "4838"
      ],
      "text/plain": [
       "[1] 4838"
      ]
     },
     "metadata": {},
     "output_type": "display_data"
    }
   ],
   "source": [
    "# me = z * se\n",
    "# me = z * sqrt(p * (1 - p) / n)\n",
    "# n = (p * (1 - p)) / (me / z)^2\n",
    "ceiling(p * (1 - p) / (0.01 / 1.96)^2)"
   ]
  },
  {
   "cell_type": "markdown",
   "metadata": {},
   "source": [
    "- If we wanted to estimate the percentage of Data Analysis and Statistical Inference students who have good intuition about experimental design using a 95% confidence interval and a margin of error no larger than 3%, at least how many students would we need to sample?"
   ]
  },
  {
   "cell_type": "code",
   "execution_count": 22,
   "metadata": {},
   "outputs": [
    {
     "data": {
      "text/html": [
       "1068"
      ],
      "text/latex": [
       "1068"
      ],
      "text/markdown": [
       "1068"
      ],
      "text/plain": [
       "[1] 1068"
      ]
     },
     "metadata": {},
     "output_type": "display_data"
    }
   ],
   "source": [
    "# me = z * sqrt(p * (1 - p) / n)\n",
    "# n = (p * (1 - p)) / (me / z)^2\n",
    "n = (0.5 * 0.5) / (0.03 / 1.96)^2\n",
    "ceiling(n)"
   ]
  },
  {
   "cell_type": "markdown",
   "metadata": {},
   "source": [
    "## Hypothesis Test for a Proportion \n",
    "\n",
    "- When we check the success-failure condition for the convidence interval, we use the **observed proportion**.\n",
    "- When we check the success-failure condition for doing a hypothesis test, we use the **expected proportion** (the null proportion).\n",
    "\n",
    "### Hypothesis Testing for a Proportion \n",
    "\n",
    "$$\n",
    "H_0: p = \\text{null value}\\\\\n",
    "H_A: p < or > or\\ne \\text{null value}\n",
    "$$"
   ]
  },
  {
   "cell_type": "markdown",
   "metadata": {},
   "source": [
    "**Example**\n",
    "\n",
    "- A 2013 Pew Research poll found that 60% of 1,983 randomly sampled American adults believe in evolution. Does this provide convincing evidence that majority of Americans believe in evolution?"
   ]
  },
  {
   "cell_type": "code",
   "execution_count": 23,
   "metadata": {},
   "outputs": [
    {
     "data": {
      "text/html": [
       "TRUE"
      ],
      "text/latex": [
       "TRUE"
      ],
      "text/markdown": [
       "TRUE"
      ],
      "text/plain": [
       "[1] TRUE"
      ]
     },
     "metadata": {},
     "output_type": "display_data"
    },
    {
     "data": {
      "text/html": [
       "0.0110013064827218"
      ],
      "text/latex": [
       "0.0110013064827218"
      ],
      "text/markdown": [
       "0.0110013064827218"
      ],
      "text/plain": [
       "[1] 0.01100131"
      ]
     },
     "metadata": {},
     "output_type": "display_data"
    },
    {
     "data": {
      "text/html": [
       "9.08982948134892"
      ],
      "text/latex": [
       "9.08982948134892"
      ],
      "text/markdown": [
       "9.08982948134892"
      ],
      "text/plain": [
       "[1] 9.089829"
      ]
     },
     "metadata": {},
     "output_type": "display_data"
    },
    {
     "data": {
      "text/html": [
       "4.95972523881919e-20"
      ],
      "text/latex": [
       "4.95972523881919e-20"
      ],
      "text/markdown": [
       "4.95972523881919e-20"
      ],
      "text/plain": [
       "[1] 4.959725e-20"
      ]
     },
     "metadata": {},
     "output_type": "display_data"
    }
   ],
   "source": [
    "n = 1983\n",
    "p = 0.5\n",
    "p_hat = 0.6\n",
    "\n",
    "# Randomly sampled + n < 10% of population -> independent\n",
    "# Success-failure condition calculate with expected p (the null p) -> true\n",
    "(success_failure = (n * p) > 10 & (n * (1 - p)) > 10)\n",
    "\n",
    "# H0: p = 0.5\n",
    "# HA: p > 0.5\n",
    "\n",
    "(se = sqrt(p_hat * (1 - p_hat) / n))\n",
    "(z = (p_hat - p) / se)\n",
    "(pvalue = pnorm(z, lower.tail = FALSE))\n",
    "\n",
    "# The p-value is significantly smaller than the significance level 0.05,\n",
    "# hence reject null hypothesis and conclude that there is strong evidence\n",
    "# convincing that the majority (> 0.5) of American adults believe in evolution.\n",
    "\n",
    "# There is almost 0% chance of obtaining a random sample of 1,983 Americans where 60% or more believe in evolution, if in fact 50% of Americans believe \n",
    "# in evolution."
   ]
  },
  {
   "cell_type": "markdown",
   "metadata": {},
   "source": [
    "## Estimating the Difference Between Two Proportions \n",
    "\n",
    "- To estimate the difference between two proportions, we label one of our categorical variables the **explanatory variable** and the other one our **response variable**.\n",
    "\n",
    "### Standard Error for the Difference between Two Proportions \n",
    "\n",
    "$$\n",
    "SE = \\sqrt{\n",
    "\\frac{\\hat{p}_1(1-\\hat{p}_1)}{n_1} +\n",
    "\\frac{\\hat{p}_2(1-\\hat{p}_2)}{n_2}\n",
    "} \n",
    "$$\n",
    "\n",
    "### Confidence Interval for the Difference between Two Proportions \n",
    "\n",
    "$$\n",
    "\\text{CI} = (\\hat{p}_1 - \\hat{p}_2) \\pm z^\\star SE_{(\\hat{p}_1 - \\hat{p}_2)}\n",
    "$$\n",
    "\n",
    "### Conditions for Comparing two Independent Proportions \n",
    "\n",
    "- Independence\n",
    "  - Within groups\n",
    "    - Random sample / assignment\n",
    "    - If sampling without replacement, n < 10% of population\n",
    "  - Between groups\n",
    "    - The two groups must be independent of each other (non-paired)\n",
    "- Success-failure condition\n",
    "  - Each sample should meet the success-failure condition"
   ]
  },
  {
   "cell_type": "markdown",
   "metadata": {},
   "source": [
    "**Example**\n",
    "\n",
    "- How do Coursera students and the American public at large compare with respect to their views on laws banning possession of handguns?"
   ]
  },
  {
   "cell_type": "code",
   "execution_count": 33,
   "metadata": {},
   "outputs": [
    {
     "data": {
      "text/html": [
       "<table>\n",
       "<caption>A data.frame: 2 × 4</caption>\n",
       "<thead>\n",
       "\t<tr><th scope=col>.</th><th scope=col>suc</th><th scope=col>n</th><th scope=col>p_hat</th></tr>\n",
       "\t<tr><th scope=col>&lt;fct&gt;</th><th scope=col>&lt;dbl&gt;</th><th scope=col>&lt;dbl&gt;</th><th scope=col>&lt;dbl&gt;</th></tr>\n",
       "</thead>\n",
       "<tbody>\n",
       "\t<tr><td>US      </td><td>257</td><td>1028</td><td>0.25</td></tr>\n",
       "\t<tr><td>Coursera</td><td> 59</td><td>  84</td><td>0.71</td></tr>\n",
       "</tbody>\n",
       "</table>\n"
      ],
      "text/latex": [
       "A data.frame: 2 × 4\n",
       "\\begin{tabular}{r|llll}\n",
       " . & suc & n & p\\_hat\\\\\n",
       " <fct> & <dbl> & <dbl> & <dbl>\\\\\n",
       "\\hline\n",
       "\t US       & 257 & 1028 & 0.25\\\\\n",
       "\t Coursera &  59 &   84 & 0.71\\\\\n",
       "\\end{tabular}\n"
      ],
      "text/markdown": [
       "\n",
       "A data.frame: 2 × 4\n",
       "\n",
       "| . &lt;fct&gt; | suc &lt;dbl&gt; | n &lt;dbl&gt; | p_hat &lt;dbl&gt; |\n",
       "|---|---|---|---|\n",
       "| US       | 257 | 1028 | 0.25 |\n",
       "| Coursera |  59 |   84 | 0.71 |\n",
       "\n"
      ],
      "text/plain": [
       "  .        suc n    p_hat\n",
       "1 US       257 1028 0.25 \n",
       "2 Coursera  59   84 0.71 "
      ]
     },
     "metadata": {},
     "output_type": "display_data"
    }
   ],
   "source": [
    "data.frame(\n",
    "  `.` = c('US', 'Coursera'),\n",
    "  suc = c(257, 59),\n",
    "  n = c(1028, 84),\n",
    "  p_hat = c(0.25, 0.71)\n",
    ")"
   ]
  },
  {
   "cell_type": "code",
   "execution_count": 26,
   "metadata": {},
   "outputs": [
    {
     "data": {
      "text/html": [
       "0.0513184515773754"
      ],
      "text/latex": [
       "0.0513184515773754"
      ],
      "text/markdown": [
       "0.0513184515773754"
      ],
      "text/plain": [
       "[1] 0.05131845"
      ]
     },
     "metadata": {},
     "output_type": "display_data"
    },
    {
     "data": {
      "text/html": [
       "0.46"
      ],
      "text/latex": [
       "0.46"
      ],
      "text/markdown": [
       "0.46"
      ],
      "text/plain": [
       "[1] 0.46"
      ]
     },
     "metadata": {},
     "output_type": "display_data"
    },
    {
     "data": {
      "text/html": [
       "0.359415834908344"
      ],
      "text/latex": [
       "0.359415834908344"
      ],
      "text/markdown": [
       "0.359415834908344"
      ],
      "text/plain": [
       "[1] 0.3594158"
      ]
     },
     "metadata": {},
     "output_type": "display_data"
    },
    {
     "data": {
      "text/html": [
       "0.560584165091656"
      ],
      "text/latex": [
       "0.560584165091656"
      ],
      "text/markdown": [
       "0.560584165091656"
      ],
      "text/plain": [
       "[1] 0.5605842"
      ]
     },
     "metadata": {},
     "output_type": "display_data"
    }
   ],
   "source": [
    "p_c = 0.71\n",
    "n_c = 84\n",
    "\n",
    "p_us = 0.25\n",
    "n_us = 1028\n",
    "\n",
    "(se = sqrt(p_c*(1-p_c)/n_c + p_us*(1-p_us)/n_us))\n",
    "\n",
    "(p = p_c - p_us)\n",
    "p - 1.96 * se; p + 1.96 * se"
   ]
  },
  {
   "cell_type": "markdown",
   "metadata": {},
   "source": [
    "- Based on the confidence interval we calculated, should we expect to find a significant difference (at the equivalent significance level) between the population proportions of Coursera students and the American public at large who believe there should be a law banning the possession of handguns?"
   ]
  },
  {
   "cell_type": "code",
   "execution_count": 27,
   "metadata": {},
   "outputs": [],
   "source": [
    "# In this hypothesis test the null value for the difference\n",
    "# between the two population proportions \n",
    "# would be 0, and 0 isn't in the interval, hence \n",
    "#we should expect to find a difference."
   ]
  },
  {
   "cell_type": "markdown",
   "metadata": {},
   "source": [
    "## Hypothesis Test for Comparing Two Proportions \n",
    "\n",
    "- Recall that when we check the success-failure condition for doing a hypothesis test, we use the **expected proportion** (the null proportion).\n",
    "- But for doing a hypothesis test with two proportions, since the null value is $H0: p1 = p2$, we use the **pooled proportion**.\n",
    "\n",
    "### Pooled Proportion \n",
    "\n",
    "$$\n",
    "\\begin{align}\n",
    "\\hat{p}_{pool} &= \\frac{\\text{total success}}{\\text{total }n} \\\\\n",
    "&= \\frac{\\text{# of success}_1 + \\text{# of success}_2}\n",
    "{n_1 + n_2}\n",
    "\\end{align}\n",
    "$$\n",
    "\n",
    "- The success-failure condition is thus $n_1 \\hat{p}_{pool} \\ge 10$, $n_1 (1 - \\hat{p}_{pool}) \\ge 10$, $n_2 \\hat{p}_{pool} \\ge 10$, $n_2 (1 - \\hat{p}_{pool}) \\ge 10$.\n",
    "\n",
    "### Standard Error for Hypothesis Test for Comparing Two Proportions\n",
    "\n",
    "$$\n",
    "SE = \\sqrt{\n",
    "\\frac{\\hat{p}_{pool}(1-\\hat{p}_{pool})}{n_1} +\n",
    "\\frac{\\hat{p}_{pool}(1-\\hat{p}_{pool})}{n_2}\n",
    "} \n",
    "$$"
   ]
  },
  {
   "cell_type": "markdown",
   "metadata": {},
   "source": [
    "**Example**\n",
    "\n",
    "- Evaluate whether males and females are equally likely to answer \"Yes\" to the question about whether any of their children have ever been the victim of bullying."
   ]
  },
  {
   "cell_type": "code",
   "execution_count": 32,
   "metadata": {},
   "outputs": [
    {
     "data": {
      "text/html": [
       "<table>\n",
       "<caption>A data.frame: 2 × 6</caption>\n",
       "<thead>\n",
       "\t<tr><th scope=col>.</th><th scope=col>yes</th><th scope=col>no</th><th scope=col>not_sure</th><th scope=col>total</th><th scope=col>p_hat</th></tr>\n",
       "\t<tr><th scope=col>&lt;fct&gt;</th><th scope=col>&lt;dbl&gt;</th><th scope=col>&lt;dbl&gt;</th><th scope=col>&lt;dbl&gt;</th><th scope=col>&lt;dbl&gt;</th><th scope=col>&lt;dbl&gt;</th></tr>\n",
       "</thead>\n",
       "<tbody>\n",
       "\t<tr><td>Male  </td><td>34</td><td>52</td><td>4</td><td> 90</td><td>0.38</td></tr>\n",
       "\t<tr><td>Female</td><td>61</td><td>61</td><td>0</td><td>122</td><td>0.50</td></tr>\n",
       "</tbody>\n",
       "</table>\n"
      ],
      "text/latex": [
       "A data.frame: 2 × 6\n",
       "\\begin{tabular}{r|llllll}\n",
       " . & yes & no & not\\_sure & total & p\\_hat\\\\\n",
       " <fct> & <dbl> & <dbl> & <dbl> & <dbl> & <dbl>\\\\\n",
       "\\hline\n",
       "\t Male   & 34 & 52 & 4 &  90 & 0.38\\\\\n",
       "\t Female & 61 & 61 & 0 & 122 & 0.50\\\\\n",
       "\\end{tabular}\n"
      ],
      "text/markdown": [
       "\n",
       "A data.frame: 2 × 6\n",
       "\n",
       "| . &lt;fct&gt; | yes &lt;dbl&gt; | no &lt;dbl&gt; | not_sure &lt;dbl&gt; | total &lt;dbl&gt; | p_hat &lt;dbl&gt; |\n",
       "|---|---|---|---|---|---|\n",
       "| Male   | 34 | 52 | 4 |  90 | 0.38 |\n",
       "| Female | 61 | 61 | 0 | 122 | 0.50 |\n",
       "\n"
      ],
      "text/plain": [
       "  .      yes no not_sure total p_hat\n",
       "1 Male   34  52 4         90   0.38 \n",
       "2 Female 61  61 0        122   0.50 "
      ]
     },
     "metadata": {},
     "output_type": "display_data"
    }
   ],
   "source": [
    "data.frame(\n",
    "  `.` = c('Male', 'Female'),\n",
    "  yes = c(34, 61),\n",
    "  no = c(52, 61),\n",
    "  not_sure = c(4, 0),\n",
    "  total = c(90, 122),\n",
    "  p_hat = round(c(34/90, 61/122), 2)\n",
    ")"
   ]
  },
  {
   "cell_type": "code",
   "execution_count": 29,
   "metadata": {},
   "outputs": [
    {
     "data": {
      "text/html": [
       "0.44811320754717"
      ],
      "text/latex": [
       "0.44811320754717"
      ],
      "text/markdown": [
       "0.44811320754717"
      ],
      "text/plain": [
       "[1] 0.4481132"
      ]
     },
     "metadata": {},
     "output_type": "display_data"
    },
    {
     "data": {
      "text/html": [
       "-0.12"
      ],
      "text/latex": [
       "-0.12"
      ],
      "text/markdown": [
       "-0.12"
      ],
      "text/plain": [
       "[1] -0.12"
      ]
     },
     "metadata": {},
     "output_type": "display_data"
    },
    {
     "data": {
      "text/html": [
       "0.0691012069484473"
      ],
      "text/latex": [
       "0.0691012069484473"
      ],
      "text/markdown": [
       "0.0691012069484473"
      ],
      "text/plain": [
       "[1] 0.06910121"
      ]
     },
     "metadata": {},
     "output_type": "display_data"
    },
    {
     "data": {
      "text/html": [
       "-1.73658327110734"
      ],
      "text/latex": [
       "-1.73658327110734"
      ],
      "text/markdown": [
       "-1.73658327110734"
      ],
      "text/plain": [
       "[1] -1.736583"
      ]
     },
     "metadata": {},
     "output_type": "display_data"
    },
    {
     "data": {
      "text/html": [
       "0.0824607544527886"
      ],
      "text/latex": [
       "0.0824607544527886"
      ],
      "text/markdown": [
       "0.0824607544527886"
      ],
      "text/plain": [
       "[1] 0.08246075"
      ]
     },
     "metadata": {},
     "output_type": "display_data"
    }
   ],
   "source": [
    "# H0: p_male = p_female\n",
    "# HA: p_male != p_female\n",
    "\n",
    "p_male = 0.38\n",
    "p_female = 0.50\n",
    "\n",
    "n_male = 90\n",
    "n_female = 122\n",
    "\n",
    "(p_pool = (34 + 61) / (n_male + n_female))\n",
    "\n",
    "conditions = n_male * p_pool >= 10 &\n",
    "  n_male * (1 - p_pool) >= 10 &\n",
    "  n_female * p_pool >= 10 &\n",
    "  n_female * (1 - p_pool) >= 10\n",
    "\n",
    "(p = p_male - p_female)\n",
    "\n",
    "(se = sqrt(\n",
    "  p_pool*(1-p_pool)/n_male + p_pool*(1-p_pool)/n_female\n",
    "))\n",
    "\n",
    "(z = (p - 0) / se)\n",
    "\n",
    "(pvalue = pnorm(z) * 2)"
   ]
  },
  {
   "cell_type": "markdown",
   "metadata": {
    "toc-hr-collapsed": false
   },
   "source": [
    "# Simulation Based Inference for Proportions and Chi-Square Testing "
   ]
  },
  {
   "cell_type": "markdown",
   "metadata": {},
   "source": [
    "## Small Sample Proportions\n",
    "\n",
    "- When sample size is too small, the success-failure condition is not met.\n",
    "- Hence, we cannot rely on the central limit theorem to do our inference.\n",
    "- Under such circumstance, **simulation-based inference** comes to our rescue.\n",
    "\n",
    "\n",
    "- The ultimate goal of a hypothesis test is a p-value.\n",
    "- Inference via simulation devise a simulation scheme that assumes the null hypothesis is true.\n",
    "- Repeat the simulation many times and record relevant sample statistic.\n",
    "- Calculate p-value as the proportion of simulations that yield a result favorable to the alternative hypothesis."
   ]
  },
  {
   "cell_type": "markdown",
   "metadata": {},
   "source": [
    "**Example**\n",
    "\n",
    "Paul the Octopus predicted 9 World Cup games, and predicted them all correctly. Does this provide convincing evidence that Paul actually has psychic powers? In other words, that he does better than just randomly guessing. "
   ]
  },
  {
   "cell_type": "code",
   "execution_count": 15,
   "metadata": {},
   "outputs": [],
   "source": [
    "library(statsr)\n",
    "options(repr.plot.width = 10, repr.plot.height = 3)"
   ]
  },
  {
   "cell_type": "code",
   "execution_count": 11,
   "metadata": {},
   "outputs": [
    {
     "name": "stdout",
     "output_type": "stream",
     "text": [
      "Single proportion -- success: yes \n",
      "Summary statistics: p_hat = 1 ;  n = 8 \n",
      "H0: p = 0.5 \n",
      "HA: p > 0.5 \n",
      "p-value =  0.0036 \n"
     ]
    },
    {
     "data": {
      "image/png": "[encoded data removed]",
      "text/plain": [
       "Plot with title “”"
      ]
     },
     "metadata": {},
     "output_type": "display_data"
    }
   ],
   "source": [
    "# H0: p = 0.5\n",
    "# HA: p > 0.5\n",
    "n = 8\n",
    "p_hat = 1\n",
    "\n",
    "# p_value = p(p_sim > 1 | p = 0.5)\n",
    "\n",
    "paul = factor(\n",
    "    c(rep(\"yes\", 8), rep(\"no\", 0)), \n",
    "    levels = c(\"yes\", \"no\")\n",
    ")\n",
    "inference(\n",
    "    paul, est = 'proportion', type = 'ht', method = 'simulation',\n",
    "    success = 'yes', null = 0.5, alternative = 'greater'\n",
    ")"
   ]
  },
  {
   "cell_type": "markdown",
   "metadata": {},
   "source": [
    "**Example**\n",
    "\n",
    "- There's a saying in English,\" to know something like the back of your hand\", which means to know something very well. Myth Busters, a popular TV show, put to test the validity of the saying. They recruited 12 volunteers, each of whom were shown 10 pictures, of backs of their hands, while wearing gloves, so they couldn't actually see their own hands, and they were asked to identify their own hand among the ten pictures.\n",
    "- Eleven out of twelve people completed the task successfully, meaning they were indeed able to recognize the backs of their own hands.\n",
    "- What are the hypotheses for evaluating whether these data provide convincing evidence of the validity of the saying. In other words, that people do better than random guessing when it comes to recognizing the back of their own hand."
   ]
  },
  {
   "cell_type": "code",
   "execution_count": 26,
   "metadata": {},
   "outputs": [
    {
     "name": "stdout",
     "output_type": "stream",
     "text": [
      "Single proportion -- success: correct \n",
      "Summary statistics: p_hat = 0.9167 ;  n = 12 \n",
      "H0: p = 0.1 \n",
      "HA: p > 0.1 \n",
      "p-value =  0 \n"
     ]
    },
    {
     "data": {
      "image/png": "[encoded data removed]",
      "text/plain": [
       "Plot with title “”"
      ]
     },
     "metadata": {},
     "output_type": "display_data"
    }
   ],
   "source": [
    "# H0: p = 0.1\n",
    "# HA: p > 0.1\n",
    "\n",
    "# 1. Use a *10-sided* fair die to represent the sampling \n",
    "# space, and call 1 a success, and all other outcomes\n",
    "# failures.\n",
    "\n",
    "# 2. Roll the die *12* times (each representing one of *12*\n",
    "# people in the experiment), count the number rolls that resulted\n",
    "# in *ones*, and calculate the proportion of correct guess in one\n",
    "# simulation of *12* rolls.\n",
    "\n",
    "# 3. Repeat step (2) 100 times, each time recording the proportion\n",
    "# of simulated successes in a series of *12* rolls of the die.\n",
    "\n",
    "# 4. Creat a dot plot of the *simulated* proportions from\n",
    "# step (3) and count the number of simulations where the proportion\n",
    "# is *11/12 or greater* (the *observed* proportion).\n",
    "\n",
    "back = factor(\n",
    "    c(rep(\"correct\", 11), rep(\"incorrect\", 1)),\n",
    "    levels = c(\"correct\", \"incorrect\")\n",
    ")\n",
    "inference(\n",
    "    back, est = 'proportion', type = 'ht',\n",
    "    success = 'correct', method = 'simulation',\n",
    "    null = 0.1, alternative = 'greater', nsim = 100\n",
    ")\n",
    "\n",
    "# p_value = P(p_hat >= 0.9167 | p = 0.10)"
   ]
  },
  {
   "cell_type": "markdown",
   "metadata": {},
   "source": [
    "## Comparing Two Small Sample Proportions"
   ]
  },
  {
   "cell_type": "markdown",
   "metadata": {},
   "source": [
    "**Example**\n",
    "\n",
    "- Do these data provide convincing evidence that there is a difference in how good people are at recognizing the backs and the palms of their hands? "
   ]
  },
  {
   "cell_type": "code",
   "execution_count": 30,
   "metadata": {},
   "outputs": [
    {
     "data": {
      "text/html": [
       "<table>\n",
       "<caption>A data.frame: 3 × 5</caption>\n",
       "<thead>\n",
       "\t<tr><th scope=col>.</th><th scope=col>correct</th><th scope=col>incorrect</th><th scope=col>total</th><th scope=col>p_hat</th></tr>\n",
       "\t<tr><th scope=col>&lt;fct&gt;</th><th scope=col>&lt;dbl&gt;</th><th scope=col>&lt;dbl&gt;</th><th scope=col>&lt;dbl&gt;</th><th scope=col>&lt;dbl&gt;</th></tr>\n",
       "</thead>\n",
       "<tbody>\n",
       "\t<tr><td>back </td><td>11</td><td>1</td><td>12</td><td>0.9167</td></tr>\n",
       "\t<tr><td>palm </td><td> 7</td><td>5</td><td>12</td><td>0.5833</td></tr>\n",
       "\t<tr><td>total</td><td>18</td><td>6</td><td>24</td><td>0.7500</td></tr>\n",
       "</tbody>\n",
       "</table>\n"
      ],
      "text/latex": [
       "A data.frame: 3 × 5\n",
       "\\begin{tabular}{r|lllll}\n",
       " . & correct & incorrect & total & p\\_hat\\\\\n",
       " <fct> & <dbl> & <dbl> & <dbl> & <dbl>\\\\\n",
       "\\hline\n",
       "\t back  & 11 & 1 & 12 & 0.9167\\\\\n",
       "\t palm  &  7 & 5 & 12 & 0.5833\\\\\n",
       "\t total & 18 & 6 & 24 & 0.7500\\\\\n",
       "\\end{tabular}\n"
      ],
      "text/markdown": [
       "\n",
       "A data.frame: 3 × 5\n",
       "\n",
       "| . &lt;fct&gt; | correct &lt;dbl&gt; | incorrect &lt;dbl&gt; | total &lt;dbl&gt; | p_hat &lt;dbl&gt; |\n",
       "|---|---|---|---|---|\n",
       "| back  | 11 | 1 | 12 | 0.9167 |\n",
       "| palm  |  7 | 5 | 12 | 0.5833 |\n",
       "| total | 18 | 6 | 24 | 0.7500 |\n",
       "\n"
      ],
      "text/plain": [
       "  .     correct incorrect total p_hat \n",
       "1 back  11      1         12    0.9167\n",
       "2 palm   7      5         12    0.5833\n",
       "3 total 18      6         24    0.7500"
      ]
     },
     "metadata": {},
     "output_type": "display_data"
    }
   ],
   "source": [
    "data.frame(\n",
    "    `.` = c(\"back\", \"palm\", \"total\"),\n",
    "    correct = c(11, 7, 18),\n",
    "    incorrect = c(1, 5, 6),\n",
    "    total = c(12, 12, 24),\n",
    "    p_hat = c(0.9167, 0.5833, 0.75)\n",
    ")"
   ]
  },
  {
   "cell_type": "code",
   "execution_count": 31,
   "metadata": {},
   "outputs": [],
   "source": [
    "# H0: p_back - p_palm = 0\n",
    "# HA: p_back - p_palm != 0\n",
    "\n",
    "# 1. We have 24 trials so we can use 24 index cards, \n",
    "# where each card represents a subject or a guess at least. \n",
    "\n",
    "# 2. We mark 18 of the cards as correct and the \n",
    "# remaining six as wrong. \n",
    "\n",
    "# 3. We shuffle the cards and split them into two groups \n",
    "# of size 12 for back of the hand and palm of the hand. \n",
    "\n",
    "# 4. Then we calculate the difference between the proportions\n",
    "# of quote unquote correct, in the back and palm decks and \n",
    "# record this number. \n",
    "\n",
    "# 5. Finally, we repeat steps three and four many, \n",
    "# many times to build our randomization distribution of \n",
    "# differences in simulated proportions."
   ]
  },
  {
   "cell_type": "markdown",
   "metadata": {},
   "source": [
    "## Chi-Square GOF Test\n",
    "\n",
    "- Quantify how different the observed **counts** are from the expected counts.\n",
    "- Large deviations from what would be expected base on sampling variation (chance) alone provide strong evidence for the alternative hypothesis.\n",
    "- This is called a **goodness-of-fit** test since we're evaluating how well the observed data **fit** the expected distribution.\n",
    "\n",
    "### Conditions for Chi-Square Test\n",
    "\n",
    "- **Independence**: Sample observations must be independent.\n",
    "    - Random sample / assignment.\n",
    "    - If sampling without replacement, n < 10% of polulation.\n",
    "    - Each case only contributes to one cell in the table.\n",
    "- **Sample Size**: Each particular scenario (e.g. cell) must have at least 5 expected cases.\n",
    "\n",
    "### Chi-Square Statistic\n",
    "\n",
    "- When dealing with counts and investigating how far the observed counts are from the expected counts, we use a new test statistic called the **chi-square $\\chi^2$ statistc**.\n",
    "\n",
    "$$\n",
    "\\chi^2 = \\sum^k_{i=1} \\frac{(O-E)^2}{E}\n",
    "$$\n",
    "\n",
    "- $O$: observed\n",
    "- $E$: expected\n",
    "- $k$: number of cells\n",
    "\n",
    "\n",
    "- Why square?\n",
    "- **Positive** standardized difference.\n",
    "- Highly unusual differences between observed and expected will appear even more unusal.\n",
    "\n",
    "### Degrees of Freedom \n",
    "\n",
    "- To determine if the calculated $\\chi^2$ statistic is considered unusally high or not we need to first describe its distribution.\n",
    "- Chi-square distribution has just one parameter **degrees of freedom** (df).\n",
    "\n",
    "$$\n",
    "df = k - 1\n",
    "$$\n",
    "\n",
    "- $k$: number of cells\n",
    "\n",
    "### P-Value\n",
    "\n",
    "- The p-value for a chi-square test is defined as the tail area **above** the calculated test statistic.\n",
    "- Because the test statistic is always positive, and a higher test statistic means a higher deviation from the null hypothesis."
   ]
  },
  {
   "cell_type": "markdown",
   "metadata": {},
   "source": [
    "**Example**\n",
    "\n",
    "- In a county where jury selection is supposed to be random, a civil rights group sues the county, claiming racial disparities in jury selection. \n",
    "- Distribution of ethnicities of people in the county who are eligible for jury duty based on census results are given in this table."
   ]
  },
  {
   "cell_type": "code",
   "execution_count": 36,
   "metadata": {},
   "outputs": [
    {
     "data": {
      "text/html": [
       "<table>\n",
       "<caption>A data.frame: 5 × 2</caption>\n",
       "<thead>\n",
       "\t<tr><th scope=col>ethnicity</th><th scope=col>percent_population</th></tr>\n",
       "\t<tr><th scope=col>&lt;fct&gt;</th><th scope=col>&lt;dbl&gt;</th></tr>\n",
       "</thead>\n",
       "<tbody>\n",
       "\t<tr><td>white   </td><td>0.8029</td></tr>\n",
       "\t<tr><td>black   </td><td>0.1206</td></tr>\n",
       "\t<tr><td>nat_amer</td><td>0.0079</td></tr>\n",
       "\t<tr><td>asian_pi</td><td>0.0292</td></tr>\n",
       "\t<tr><td>other   </td><td>0.0394</td></tr>\n",
       "</tbody>\n",
       "</table>\n"
      ],
      "text/latex": [
       "A data.frame: 5 × 2\n",
       "\\begin{tabular}{r|ll}\n",
       " ethnicity & percent\\_population\\\\\n",
       " <fct> & <dbl>\\\\\n",
       "\\hline\n",
       "\t white    & 0.8029\\\\\n",
       "\t black    & 0.1206\\\\\n",
       "\t nat\\_amer & 0.0079\\\\\n",
       "\t asian\\_pi & 0.0292\\\\\n",
       "\t other    & 0.0394\\\\\n",
       "\\end{tabular}\n"
      ],
      "text/markdown": [
       "\n",
       "A data.frame: 5 × 2\n",
       "\n",
       "| ethnicity &lt;fct&gt; | percent_population &lt;dbl&gt; |\n",
       "|---|---|\n",
       "| white    | 0.8029 |\n",
       "| black    | 0.1206 |\n",
       "| nat_amer | 0.0079 |\n",
       "| asian_pi | 0.0292 |\n",
       "| other    | 0.0394 |\n",
       "\n"
      ],
      "text/plain": [
       "  ethnicity percent_population\n",
       "1 white     0.8029            \n",
       "2 black     0.1206            \n",
       "3 nat_amer  0.0079            \n",
       "4 asian_pi  0.0292            \n",
       "5 other     0.0394            "
      ]
     },
     "metadata": {},
     "output_type": "display_data"
    }
   ],
   "source": [
    "data.frame(\n",
    "    ethnicity = c('white', 'black', 'nat_amer', 'asian_pi', 'other'),\n",
    "    percent_population = c(.8029, .1206, .0079, .0292, .0394)\n",
    ")"
   ]
  },
  {
   "cell_type": "markdown",
   "metadata": {},
   "source": [
    "- We are also given the distribution of 2500 people who were selected for jury duty in the previous year."
   ]
  },
  {
   "cell_type": "code",
   "execution_count": 37,
   "metadata": {},
   "outputs": [
    {
     "data": {
      "text/html": [
       "<table>\n",
       "<caption>A data.frame: 5 × 2</caption>\n",
       "<thead>\n",
       "\t<tr><th scope=col>ethnicity</th><th scope=col>n_observed</th></tr>\n",
       "\t<tr><th scope=col>&lt;fct&gt;</th><th scope=col>&lt;dbl&gt;</th></tr>\n",
       "</thead>\n",
       "<tbody>\n",
       "\t<tr><td>white   </td><td>1920</td></tr>\n",
       "\t<tr><td>black   </td><td> 347</td></tr>\n",
       "\t<tr><td>nat_amer</td><td>  19</td></tr>\n",
       "\t<tr><td>asian_pi</td><td>  84</td></tr>\n",
       "\t<tr><td>other   </td><td> 130</td></tr>\n",
       "</tbody>\n",
       "</table>\n"
      ],
      "text/latex": [
       "A data.frame: 5 × 2\n",
       "\\begin{tabular}{r|ll}\n",
       " ethnicity & n\\_observed\\\\\n",
       " <fct> & <dbl>\\\\\n",
       "\\hline\n",
       "\t white    & 1920\\\\\n",
       "\t black    &  347\\\\\n",
       "\t nat\\_amer &   19\\\\\n",
       "\t asian\\_pi &   84\\\\\n",
       "\t other    &  130\\\\\n",
       "\\end{tabular}\n"
      ],
      "text/markdown": [
       "\n",
       "A data.frame: 5 × 2\n",
       "\n",
       "| ethnicity &lt;fct&gt; | n_observed &lt;dbl&gt; |\n",
       "|---|---|\n",
       "| white    | 1920 |\n",
       "| black    |  347 |\n",
       "| nat_amer |   19 |\n",
       "| asian_pi |   84 |\n",
       "| other    |  130 |\n",
       "\n"
      ],
      "text/plain": [
       "  ethnicity n_observed\n",
       "1 white     1920      \n",
       "2 black      347      \n",
       "3 nat_amer    19      \n",
       "4 asian_pi    84      \n",
       "5 other      130      "
      ]
     },
     "metadata": {},
     "output_type": "display_data"
    }
   ],
   "source": [
    "data.frame(\n",
    "    ethnicity = c('white', 'black', 'nat_amer', 'asian_pi', 'other'),\n",
    "    n_observed = c(1920, 347, 19, 84, 130)\n",
    ")"
   ]
  },
  {
   "cell_type": "markdown",
   "metadata": {},
   "source": [
    "- The court retains you as an independent expert to assess the statistical evidence that there was discrimination. You propose to formulate this issue as a hypothesis test."
   ]
  },
  {
   "cell_type": "code",
   "execution_count": 38,
   "metadata": {},
   "outputs": [],
   "source": [
    "# H0: People selected for jury duty are a simple random sample\n",
    "# from the population of potential jurors. The observed counts\n",
    "# of jurors from various race/ethnicities *follow the same*\n",
    "# ethnicity *distribution* in the polulation.\n",
    "\n",
    "# HA: People selected for jury duty are not a simple random sample\n",
    "# from the population of potential jurors. The observed counts\n",
    "# of jurors from various race/ethnicities *do not follow the same*\n",
    "# ethnicity *distribution* in the polulation."
   ]
  },
  {
   "cell_type": "markdown",
   "metadata": {},
   "source": [
    "- Calculate expected number of jurors from each ehnicity if in fact the jury selection is random."
   ]
  },
  {
   "cell_type": "code",
   "execution_count": 39,
   "metadata": {},
   "outputs": [
    {
     "name": "stderr",
     "output_type": "stream",
     "text": [
      "\n",
      "Attaching package: ‘dplyr’\n",
      "\n",
      "The following objects are masked from ‘package:stats’:\n",
      "\n",
      "    filter, lag\n",
      "\n",
      "The following objects are masked from ‘package:base’:\n",
      "\n",
      "    intersect, setdiff, setequal, union\n",
      "\n"
     ]
    }
   ],
   "source": [
    "library(dplyr)"
   ]
  },
  {
   "cell_type": "code",
   "execution_count": 43,
   "metadata": {},
   "outputs": [
    {
     "data": {
      "text/html": [
       "<table>\n",
       "<caption>A data.frame: 6 × 4</caption>\n",
       "<thead>\n",
       "\t<tr><th scope=col>ethnicity</th><th scope=col>percent_population</th><th scope=col>n_observed</th><th scope=col>n_expected</th></tr>\n",
       "\t<tr><th scope=col>&lt;fct&gt;</th><th scope=col>&lt;dbl&gt;</th><th scope=col>&lt;dbl&gt;</th><th scope=col>&lt;dbl&gt;</th></tr>\n",
       "</thead>\n",
       "<tbody>\n",
       "\t<tr><td>white   </td><td>0.8029</td><td>1920</td><td>2007.25</td></tr>\n",
       "\t<tr><td>black   </td><td>0.1206</td><td> 347</td><td> 301.50</td></tr>\n",
       "\t<tr><td>nat_amer</td><td>0.0079</td><td>  19</td><td>  19.75</td></tr>\n",
       "\t<tr><td>asian_pi</td><td>0.0292</td><td>  84</td><td>  73.00</td></tr>\n",
       "\t<tr><td>other   </td><td>0.0394</td><td> 130</td><td>  98.50</td></tr>\n",
       "\t<tr><td>total   </td><td>1.0000</td><td>2500</td><td>2500.00</td></tr>\n",
       "</tbody>\n",
       "</table>\n"
      ],
      "text/latex": [
       "A data.frame: 6 × 4\n",
       "\\begin{tabular}{r|llll}\n",
       " ethnicity & percent\\_population & n\\_observed & n\\_expected\\\\\n",
       " <fct> & <dbl> & <dbl> & <dbl>\\\\\n",
       "\\hline\n",
       "\t white    & 0.8029 & 1920 & 2007.25\\\\\n",
       "\t black    & 0.1206 &  347 &  301.50\\\\\n",
       "\t nat\\_amer & 0.0079 &   19 &   19.75\\\\\n",
       "\t asian\\_pi & 0.0292 &   84 &   73.00\\\\\n",
       "\t other    & 0.0394 &  130 &   98.50\\\\\n",
       "\t total    & 1.0000 & 2500 & 2500.00\\\\\n",
       "\\end{tabular}\n"
      ],
      "text/markdown": [
       "\n",
       "A data.frame: 6 × 4\n",
       "\n",
       "| ethnicity &lt;fct&gt; | percent_population &lt;dbl&gt; | n_observed &lt;dbl&gt; | n_expected &lt;dbl&gt; |\n",
       "|---|---|---|---|\n",
       "| white    | 0.8029 | 1920 | 2007.25 |\n",
       "| black    | 0.1206 |  347 |  301.50 |\n",
       "| nat_amer | 0.0079 |   19 |   19.75 |\n",
       "| asian_pi | 0.0292 |   84 |   73.00 |\n",
       "| other    | 0.0394 |  130 |   98.50 |\n",
       "| total    | 1.0000 | 2500 | 2500.00 |\n",
       "\n"
      ],
      "text/plain": [
       "  ethnicity percent_population n_observed n_expected\n",
       "1 white     0.8029             1920       2007.25   \n",
       "2 black     0.1206              347        301.50   \n",
       "3 nat_amer  0.0079               19         19.75   \n",
       "4 asian_pi  0.0292               84         73.00   \n",
       "5 other     0.0394              130         98.50   \n",
       "6 total     1.0000             2500       2500.00   "
      ]
     },
     "metadata": {},
     "output_type": "display_data"
    }
   ],
   "source": [
    "data.frame(\n",
    "    ethnicity = c('white', 'black', 'nat_amer', 'asian_pi', 'other', 'total'),\n",
    "    percent_population = c(.8029, .1206, .0079, .0292, .0394, 1),\n",
    "        n_observed = c(1920, 347, 19, 84, 130, 2500)\n",
    ") %>% mutate(n_expected = 2500 * percent_population)"
   ]
  },
  {
   "cell_type": "code",
   "execution_count": 49,
   "metadata": {},
   "outputs": [
    {
     "data": {
      "text/html": [
       "22.6331123000876"
      ],
      "text/latex": [
       "22.6331123000876"
      ],
      "text/markdown": [
       "22.6331123000876"
      ],
      "text/plain": [
       "[1] 22.63311"
      ]
     },
     "metadata": {},
     "output_type": "display_data"
    },
    {
     "data": {
      "text/html": [
       "4"
      ],
      "text/latex": [
       "4"
      ],
      "text/markdown": [
       "4"
      ],
      "text/plain": [
       "[1] 4"
      ]
     },
     "metadata": {},
     "output_type": "display_data"
    },
    {
     "data": {
      "text/html": [
       "0.000149889565609062"
      ],
      "text/latex": [
       "0.000149889565609062"
      ],
      "text/markdown": [
       "0.000149889565609062"
      ],
      "text/plain": [
       "[1] 0.0001498896"
      ]
     },
     "metadata": {},
     "output_type": "display_data"
    }
   ],
   "source": [
    "(chi2 = (1920 - 2007)^2/2007 +\n",
    "    (347-302)^2/302 +\n",
    "    (19-20)^2/20 +\n",
    "    (84-73)^2/73 +\n",
    "    (130-98)^2/98)\n",
    "\n",
    "(df = 5 - 1)\n",
    "\n",
    "(pchisq(chi2, df, lower.tail = FALSE))"
   ]
  },
  {
   "cell_type": "markdown",
   "metadata": {},
   "source": [
    "## The Chi-Square Independence Test"
   ]
  },
  {
   "cell_type": "markdown",
   "metadata": {},
   "source": [
    "- Categorical variables with more than two levels with the chi-sqare independence test.\n",
    "- Explanatory variable on the x-axis, response variable on the y-axis.\n",
    "\n",
    "\n",
    "- To evaluate these hypotheses just like with the chi square test of goodness of fit, we quantify how different the observed counts are from the expected counts. \n",
    "- Large deviations from what would be expected based on sampling variation or chance alone provide strong evidence for the alternative hypothesis.\n",
    "- This is called an **independence test** since we're evaluating the relationship between two categorical variables.\n",
    "\n",
    "\n",
    "### Chi-Square Statistic\n",
    "\n",
    "- The same as the chi-square GOF test.\n",
    "\n",
    "$$\n",
    "\\chi^2 = \\sum^k_{i=1} \\frac{(O-E)^2}{E}\n",
    "$$\n",
    "\n",
    "- $O$: observed\n",
    "- $E$: expected\n",
    "- $k$: number of cells\n",
    "\n",
    "$$\n",
    "E = \\frac{(\\text{row total} \\times \\text{column total})}{\\text{table total}}\n",
    "$$\n",
    "\n",
    "### Degrees of Freedom \n",
    "\n",
    "- The calculation of degrees of freedom is different from that of the GOF test.\n",
    "\n",
    "$$\n",
    "df = (R-1) \\times (C-1)\n",
    "$$\n",
    "\n",
    "- $R$: number of rows\n",
    "- $C$: number of columns"
   ]
  },
  {
   "cell_type": "markdown",
   "metadata": {},
   "source": [
    "**Example**\n",
    "- Does there appear to be a relationship between weight and relationship status?"
   ]
  },
  {
   "cell_type": "code",
   "execution_count": 1,
   "metadata": {},
   "outputs": [
    {
     "data": {
      "text/html": [
       "<table>\n",
       "<caption>A data.frame: 3 × 5</caption>\n",
       "<thead>\n",
       "\t<tr><th scope=col>.</th><th scope=col>dating</th><th scope=col>cohabiting</th><th scope=col>married</th><th scope=col>total</th></tr>\n",
       "\t<tr><th scope=col>&lt;fct&gt;</th><th scope=col>&lt;dbl&gt;</th><th scope=col>&lt;dbl&gt;</th><th scope=col>&lt;dbl&gt;</th><th scope=col>&lt;dbl&gt;</th></tr>\n",
       "</thead>\n",
       "<tbody>\n",
       "\t<tr><td>obese    </td><td> 81</td><td>103</td><td>147</td><td> 331</td></tr>\n",
       "\t<tr><td>not obese</td><td>359</td><td>326</td><td>277</td><td> 962</td></tr>\n",
       "\t<tr><td>total    </td><td>440</td><td>429</td><td>424</td><td>1293</td></tr>\n",
       "</tbody>\n",
       "</table>\n"
      ],
      "text/latex": [
       "A data.frame: 3 × 5\n",
       "\\begin{tabular}{r|lllll}\n",
       " . & dating & cohabiting & married & total\\\\\n",
       " <fct> & <dbl> & <dbl> & <dbl> & <dbl>\\\\\n",
       "\\hline\n",
       "\t obese     &  81 & 103 & 147 &  331\\\\\n",
       "\t not obese & 359 & 326 & 277 &  962\\\\\n",
       "\t total     & 440 & 429 & 424 & 1293\\\\\n",
       "\\end{tabular}\n"
      ],
      "text/markdown": [
       "\n",
       "A data.frame: 3 × 5\n",
       "\n",
       "| . &lt;fct&gt; | dating &lt;dbl&gt; | cohabiting &lt;dbl&gt; | married &lt;dbl&gt; | total &lt;dbl&gt; |\n",
       "|---|---|---|---|---|\n",
       "| obese     |  81 | 103 | 147 |  331 |\n",
       "| not obese | 359 | 326 | 277 |  962 |\n",
       "| total     | 440 | 429 | 424 | 1293 |\n",
       "\n"
      ],
      "text/plain": [
       "  .         dating cohabiting married total\n",
       "1 obese      81    103        147      331 \n",
       "2 not obese 359    326        277      962 \n",
       "3 total     440    429        424     1293 "
      ]
     },
     "metadata": {},
     "output_type": "display_data"
    }
   ],
   "source": [
    "data.frame(\n",
    "    `.` = c('obese', 'not obese', 'total'),\n",
    "    dating = c(81, 359, 440),\n",
    "    cohabiting = c(103, 326, 429),\n",
    "    married = c(147, 277, 424),\n",
    "    total = c(331, 962, 1293)\n",
    ")"
   ]
  },
  {
   "cell_type": "code",
   "execution_count": 2,
   "metadata": {},
   "outputs": [],
   "source": [
    "# H0: Weight and relationship status are independent \n",
    "# Obesity rates do not vary by relationship status.\n",
    "# HA: Weight and relationship status are dependent. \n",
    "# Obesity rates do vary by relationship status."
   ]
  },
  {
   "cell_type": "markdown",
   "metadata": {},
   "source": [
    "- What is the overall obesity rate in the sample? "
   ]
  },
  {
   "cell_type": "code",
   "execution_count": 3,
   "metadata": {},
   "outputs": [
    {
     "data": {
      "text/html": [
       "0.25599381283836"
      ],
      "text/latex": [
       "0.25599381283836"
      ],
      "text/markdown": [
       "0.25599381283836"
      ],
      "text/plain": [
       "[1] 0.2559938"
      ]
     },
     "metadata": {},
     "output_type": "display_data"
    }
   ],
   "source": [
    "(p_obese = 331/1293)"
   ]
  },
  {
   "cell_type": "markdown",
   "metadata": {},
   "source": [
    "- If in fact weight and relationship status are independent, in other words, if in fact the null hypothesis is true, how many of the dating people would we expect to be obese? Likewise, how many of the cohabiting and married people would we expect to be obese?"
   ]
  },
  {
   "cell_type": "code",
   "execution_count": 5,
   "metadata": {},
   "outputs": [
    {
     "data": {
      "text/html": [
       "112.637277648879"
      ],
      "text/latex": [
       "112.637277648879"
      ],
      "text/markdown": [
       "112.637277648879"
      ],
      "text/plain": [
       "[1] 112.6373"
      ]
     },
     "metadata": {},
     "output_type": "display_data"
    },
    {
     "data": {
      "text/html": [
       "109.821345707657"
      ],
      "text/latex": [
       "109.821345707657"
      ],
      "text/markdown": [
       "109.821345707657"
      ],
      "text/plain": [
       "[1] 109.8213"
      ]
     },
     "metadata": {},
     "output_type": "display_data"
    },
    {
     "data": {
      "text/html": [
       "108.541376643465"
      ],
      "text/latex": [
       "108.541376643465"
      ],
      "text/markdown": [
       "108.541376643465"
      ],
      "text/plain": [
       "[1] 108.5414"
      ]
     },
     "metadata": {},
     "output_type": "display_data"
    }
   ],
   "source": [
    "(p_dating_obese = 440 * p_obese)\n",
    "(p_cohabit_obese = 429 * p_obese)\n",
    "(p_married_obese = 424 * p_obese)"
   ]
  },
  {
   "cell_type": "markdown",
   "metadata": {},
   "source": [
    "- If in fact weight and relationship status are independent, how many of the dating people would we expect to be not obese?"
   ]
  },
  {
   "cell_type": "code",
   "execution_count": 6,
   "metadata": {},
   "outputs": [
    {
     "data": {
      "text/html": [
       "327.362722351121"
      ],
      "text/latex": [
       "327.362722351121"
      ],
      "text/markdown": [
       "327.362722351121"
      ],
      "text/plain": [
       "[1] 327.3627"
      ]
     },
     "metadata": {},
     "output_type": "display_data"
    }
   ],
   "source": [
    "962*440/1293"
   ]
  },
  {
   "cell_type": "markdown",
   "metadata": {},
   "source": [
    "- Test the hypothesis that relationship status and obesity are associated at the 5% significance level."
   ]
  },
  {
   "cell_type": "code",
   "execution_count": 10,
   "metadata": {},
   "outputs": [
    {
     "data": {
      "text/html": [
       "<table>\n",
       "<caption>A data.frame: 3 × 5</caption>\n",
       "<thead>\n",
       "\t<tr><th scope=col>.</th><th scope=col>dating</th><th scope=col>cohabiting</th><th scope=col>married</th><th scope=col>total</th></tr>\n",
       "\t<tr><th scope=col>&lt;fct&gt;</th><th scope=col>&lt;dbl&gt;</th><th scope=col>&lt;dbl&gt;</th><th scope=col>&lt;dbl&gt;</th><th scope=col>&lt;dbl&gt;</th></tr>\n",
       "</thead>\n",
       "<tbody>\n",
       "\t<tr><td>obese    </td><td> 81</td><td>103</td><td>147</td><td> 331</td></tr>\n",
       "\t<tr><td>not obese</td><td>359</td><td>326</td><td>277</td><td> 962</td></tr>\n",
       "\t<tr><td>total    </td><td>440</td><td>429</td><td>424</td><td>1293</td></tr>\n",
       "</tbody>\n",
       "</table>\n"
      ],
      "text/latex": [
       "A data.frame: 3 × 5\n",
       "\\begin{tabular}{r|lllll}\n",
       " . & dating & cohabiting & married & total\\\\\n",
       " <fct> & <dbl> & <dbl> & <dbl> & <dbl>\\\\\n",
       "\\hline\n",
       "\t obese     &  81 & 103 & 147 &  331\\\\\n",
       "\t not obese & 359 & 326 & 277 &  962\\\\\n",
       "\t total     & 440 & 429 & 424 & 1293\\\\\n",
       "\\end{tabular}\n"
      ],
      "text/markdown": [
       "\n",
       "A data.frame: 3 × 5\n",
       "\n",
       "| . &lt;fct&gt; | dating &lt;dbl&gt; | cohabiting &lt;dbl&gt; | married &lt;dbl&gt; | total &lt;dbl&gt; |\n",
       "|---|---|---|---|---|\n",
       "| obese     |  81 | 103 | 147 |  331 |\n",
       "| not obese | 359 | 326 | 277 |  962 |\n",
       "| total     | 440 | 429 | 424 | 1293 |\n",
       "\n"
      ],
      "text/plain": [
       "  .         dating cohabiting married total\n",
       "1 obese      81    103        147      331 \n",
       "2 not obese 359    326        277      962 \n",
       "3 total     440    429        424     1293 "
      ]
     },
     "metadata": {},
     "output_type": "display_data"
    }
   ],
   "source": [
    "(observed = data.frame(\n",
    "    `.` = c('obese', 'not obese', 'total'),\n",
    "    dating = c(81, 359, 440),\n",
    "    cohabiting = c(103, 326, 429),\n",
    "    married = c(147, 277, 424),\n",
    "    total = c(331, 962, 1293)\n",
    "))"
   ]
  },
  {
   "cell_type": "code",
   "execution_count": 19,
   "metadata": {},
   "outputs": [
    {
     "data": {
      "text/html": [
       "<table>\n",
       "<caption>A data.frame: 3 × 5</caption>\n",
       "<thead>\n",
       "\t<tr><th scope=col>.</th><th scope=col>dating</th><th scope=col>cohabiting</th><th scope=col>married</th><th scope=col>total</th></tr>\n",
       "\t<tr><th scope=col>&lt;fct&gt;</th><th scope=col>&lt;dbl&gt;</th><th scope=col>&lt;dbl&gt;</th><th scope=col>&lt;dbl&gt;</th><th scope=col>&lt;dbl&gt;</th></tr>\n",
       "</thead>\n",
       "<tbody>\n",
       "\t<tr><td>obese    </td><td>112.6373</td><td>109.8213</td><td>108.5414</td><td> 331</td></tr>\n",
       "\t<tr><td>not obese</td><td>327.3627</td><td>319.1787</td><td>315.4586</td><td> 962</td></tr>\n",
       "\t<tr><td>total    </td><td>440.0000</td><td>429.0000</td><td>424.0000</td><td>1293</td></tr>\n",
       "</tbody>\n",
       "</table>\n"
      ],
      "text/latex": [
       "A data.frame: 3 × 5\n",
       "\\begin{tabular}{r|lllll}\n",
       " . & dating & cohabiting & married & total\\\\\n",
       " <fct> & <dbl> & <dbl> & <dbl> & <dbl>\\\\\n",
       "\\hline\n",
       "\t obese     & 112.6373 & 109.8213 & 108.5414 &  331\\\\\n",
       "\t not obese & 327.3627 & 319.1787 & 315.4586 &  962\\\\\n",
       "\t total     & 440.0000 & 429.0000 & 424.0000 & 1293\\\\\n",
       "\\end{tabular}\n"
      ],
      "text/markdown": [
       "\n",
       "A data.frame: 3 × 5\n",
       "\n",
       "| . &lt;fct&gt; | dating &lt;dbl&gt; | cohabiting &lt;dbl&gt; | married &lt;dbl&gt; | total &lt;dbl&gt; |\n",
       "|---|---|---|---|---|\n",
       "| obese     | 112.6373 | 109.8213 | 108.5414 |  331 |\n",
       "| not obese | 327.3627 | 319.1787 | 315.4586 |  962 |\n",
       "| total     | 440.0000 | 429.0000 | 424.0000 | 1293 |\n",
       "\n"
      ],
      "text/plain": [
       "  .         dating   cohabiting married  total\n",
       "1 obese     112.6373 109.8213   108.5414  331 \n",
       "2 not obese 327.3627 319.1787   315.4586  962 \n",
       "3 total     440.0000 429.0000   424.0000 1293 "
      ]
     },
     "metadata": {},
     "output_type": "display_data"
    }
   ],
   "source": [
    "expected = observed\n",
    "\n",
    "expected[1,'dating'] = observed[1,5] * observed[3,2]/1293\n",
    "expected[1,'cohabiting'] = observed[1,5] * observed[3,3]/1293\n",
    "expected[1,'married'] = observed[1,5] * observed[3,4]/1293\n",
    "\n",
    "expected[2,'dating'] = observed[2,5] * observed[3,2]/1293\n",
    "expected[2,'cohabiting'] = observed[2,5] * observed[3,3]/1293\n",
    "expected[2,'married'] = observed[2,5] * observed[3,4]/1293\n",
    "\n",
    "(expected)"
   ]
  },
  {
   "cell_type": "code",
   "execution_count": 20,
   "metadata": {},
   "outputs": [
    {
     "data": {
      "text/html": [
       "31.6891294073053"
      ],
      "text/latex": [
       "31.6891294073053"
      ],
      "text/markdown": [
       "31.6891294073053"
      ],
      "text/plain": [
       "[1] 31.68913"
      ]
     },
     "metadata": {},
     "output_type": "display_data"
    }
   ],
   "source": [
    "(chi2 = (81 - 113)^2/113 +\n",
    "    (103 - 110)^2/110 +\n",
    "    (147 - 108)^2/108 +\n",
    "    (359 - 327)^2/327 +\n",
    "    (326 - 319)^2/319 +\n",
    "    (277 - 316)^2/316)"
   ]
  },
  {
   "cell_type": "code",
   "execution_count": 21,
   "metadata": {},
   "outputs": [
    {
     "data": {
      "text/html": [
       "2"
      ],
      "text/latex": [
       "2"
      ],
      "text/markdown": [
       "2"
      ],
      "text/plain": [
       "[1] 2"
      ]
     },
     "metadata": {},
     "output_type": "display_data"
    }
   ],
   "source": [
    "(df = (3-1) * (2-1))"
   ]
  },
  {
   "cell_type": "code",
   "execution_count": 22,
   "metadata": {},
   "outputs": [
    {
     "data": {
      "text/html": [
       "1.31459804185001e-07"
      ],
      "text/latex": [
       "1.31459804185001e-07"
      ],
      "text/markdown": [
       "1.31459804185001e-07"
      ],
      "text/plain": [
       "[1] 1.314598e-07"
      ]
     },
     "metadata": {},
     "output_type": "display_data"
    }
   ],
   "source": [
    "pchisq(chi2, 2, lower.tail = FALSE)"
   ]
  },
  {
   "cell_type": "markdown",
   "metadata": {},
   "source": [
    "## Exercises\n",
    "\n",
    "OpenIntro Statistics, 3rd edition<br>\n",
    "6.1, 6.3, 6.5, 6.9, 6.11, 6.13, 6.15, 6.19, 6.21<br>\n",
    "6.23, 6.25, 6.27, 6.29, 6.31, 6.33, 6.35<br>\n",
    "6.51, 6.53, 6.55<br>\n",
    "6.39, 6.41, 6.43, 6.45, 6.47"
   ]
  },
  {
   "cell_type": "markdown",
   "metadata": {},
   "source": [
    "**6.1**\n",
    "- Suppose that 8% of college students are vegetarians. Determine if the following statements are true or false, and explain your reasoning.\n",
    "- (a) The distribution of the sample proportions of vegetarians in random samples of size 60 is approximately normal since n ≥ 30.\n",
    "- (b) The distribution of the sample proportions of vegetarian college students in random samples of size 50 is right skewed.\n",
    "- (c) A random sample of 125 college students where 12% are vegetarians would be considered unusual.\n",
    "- (d) A random sample of 250 college students where 12% are vegetarians would be considered unusual.\n",
    "- (e) The standard error would be reduced by one-half if we increased the sample size from 125 to 250."
   ]
  },
  {
   "cell_type": "code",
   "execution_count": 2,
   "metadata": {},
   "outputs": [
    {
     "data": {
      "text/html": [
       "4.8"
      ],
      "text/latex": [
       "4.8"
      ],
      "text/markdown": [
       "4.8"
      ],
      "text/plain": [
       "[1] 4.8"
      ]
     },
     "metadata": {},
     "output_type": "display_data"
    },
    {
     "data": {
      "text/html": [
       "55.2"
      ],
      "text/latex": [
       "55.2"
      ],
      "text/markdown": [
       "55.2"
      ],
      "text/plain": [
       "[1] 55.2"
      ]
     },
     "metadata": {},
     "output_type": "display_data"
    }
   ],
   "source": [
    "# (a) \n",
    "p = 0.08\n",
    "n = 60\n",
    "n * p\n",
    "n* (1-p)\n",
    "# The sampling distribution is not normal since the number of success is smaller than 10."
   ]
  },
  {
   "cell_type": "code",
   "execution_count": 3,
   "metadata": {},
   "outputs": [],
   "source": [
    "# (b)\n",
    "# True. Since the proportion is always positive, it is bound below by zero."
   ]
  },
  {
   "cell_type": "code",
   "execution_count": 16,
   "metadata": {},
   "outputs": [
    {
     "data": {
      "text/html": [
       "10"
      ],
      "text/latex": [
       "10"
      ],
      "text/markdown": [
       "10"
      ],
      "text/plain": [
       "[1] 10"
      ]
     },
     "metadata": {},
     "output_type": "display_data"
    },
    {
     "data": {
      "text/html": [
       "115"
      ],
      "text/latex": [
       "115"
      ],
      "text/markdown": [
       "115"
      ],
      "text/plain": [
       "[1] 115"
      ]
     },
     "metadata": {},
     "output_type": "display_data"
    },
    {
     "data": {
      "text/html": [
       "0.024265201420965"
      ],
      "text/latex": [
       "0.024265201420965"
      ],
      "text/markdown": [
       "0.024265201420965"
      ],
      "text/plain": [
       "[1] 0.0242652"
      ]
     },
     "metadata": {},
     "output_type": "display_data"
    },
    {
     "data": {
      "text/html": [
       "1.64845118348947"
      ],
      "text/latex": [
       "1.64845118348947"
      ],
      "text/markdown": [
       "1.64845118348947"
      ],
      "text/plain": [
       "[1] 1.648451"
      ]
     },
     "metadata": {},
     "output_type": "display_data"
    }
   ],
   "source": [
    "# (c)\n",
    "n = 125\n",
    "\n",
    "n * p\n",
    "n * (1-p)\n",
    "\n",
    "p_hat = .12\n",
    "\n",
    "(se = sqrt(p * (1-p) / n))\n",
    "(z = (p_hat - p) / se)\n",
    "\n",
    "# False. 1.65 SE away from the mean is not considered unusual."
   ]
  },
  {
   "cell_type": "code",
   "execution_count": 18,
   "metadata": {},
   "outputs": [
    {
     "data": {
      "text/html": [
       "20"
      ],
      "text/latex": [
       "20"
      ],
      "text/markdown": [
       "20"
      ],
      "text/plain": [
       "[1] 20"
      ]
     },
     "metadata": {},
     "output_type": "display_data"
    },
    {
     "data": {
      "text/html": [
       "230"
      ],
      "text/latex": [
       "230"
      ],
      "text/markdown": [
       "230"
      ],
      "text/plain": [
       "[1] 230"
      ]
     },
     "metadata": {},
     "output_type": "display_data"
    },
    {
     "data": {
      "text/html": [
       "0.0171580884716218"
      ],
      "text/latex": [
       "0.0171580884716218"
      ],
      "text/markdown": [
       "0.0171580884716218"
      ],
      "text/plain": [
       "[1] 0.01715809"
      ]
     },
     "metadata": {},
     "output_type": "display_data"
    },
    {
     "data": {
      "text/html": [
       "2.33126202060078"
      ],
      "text/latex": [
       "2.33126202060078"
      ],
      "text/markdown": [
       "2.33126202060078"
      ],
      "text/plain": [
       "[1] 2.331262"
      ]
     },
     "metadata": {},
     "output_type": "display_data"
    }
   ],
   "source": [
    "# (d)\n",
    "n = 250\n",
    "\n",
    "n * p\n",
    "n * (1-p)\n",
    "\n",
    "p_hat = .12\n",
    "\n",
    "(se = sqrt(p * (1-p) / n))\n",
    "(z = (p_hat - p) / se)\n",
    "\n",
    "# True. 2.33 SE away from the mean is quite unusual."
   ]
  },
  {
   "cell_type": "code",
   "execution_count": 11,
   "metadata": {},
   "outputs": [],
   "source": [
    "# (e)\n",
    "# me = z * sqrt(p * (1-p)/ n)\n",
    "# False. Decrease the SE by a factor of 1/sqrt(2)."
   ]
  },
  {
   "cell_type": "markdown",
   "metadata": {},
   "source": [
    "**6.3**\n",
    "- Suppose that 90% of orange tabby cats are male.\n",
    "- Determine if the following statements are true or false, and explain your reasoning.\n",
    "- (a) The distribution of sample proportions of random samples of size 30 is left skewed.\n",
    "- (b) Using a sample size that is 4 times as large will reduce the standard error of the sample proportion by one-half.\n",
    "- (c) The distribution of sample proportions of random samples of size 140 is approximately normal.\n",
    "- (d) The distribution of sample proportions of random samples of size 280 is approximately normal."
   ]
  },
  {
   "cell_type": "code",
   "execution_count": 1,
   "metadata": {},
   "outputs": [
    {
     "data": {
      "text/html": [
       "27"
      ],
      "text/latex": [
       "27"
      ],
      "text/markdown": [
       "27"
      ],
      "text/plain": [
       "[1] 27"
      ]
     },
     "metadata": {},
     "output_type": "display_data"
    },
    {
     "data": {
      "text/html": [
       "3"
      ],
      "text/latex": [
       "3"
      ],
      "text/markdown": [
       "3"
      ],
      "text/plain": [
       "[1] 3"
      ]
     },
     "metadata": {},
     "output_type": "display_data"
    }
   ],
   "source": [
    "# (a)\n",
    "p = 0.9\n",
    "n = 30\n",
    "n * p\n",
    "n * (1-p)\n",
    "# Since the sample does not follow the success-failture condition, the sampling distribution is not normal. \n",
    "# The sampling distribution will be similar to the sample population with a mean at 0.9, with a max at 1 and min at 0.\n",
    "# Hence the distribution is left-skewed."
   ]
  },
  {
   "cell_type": "code",
   "execution_count": 2,
   "metadata": {},
   "outputs": [
    {
     "data": {
      "text/html": [
       "0.5"
      ],
      "text/latex": [
       "0.5"
      ],
      "text/markdown": [
       "0.5"
      ],
      "text/plain": [
       "[1] 0.5"
      ]
     },
     "metadata": {},
     "output_type": "display_data"
    }
   ],
   "source": [
    "# (b)\n",
    "# se = sqrt(p * (1 - p) / n)\n",
    "1/sqrt(4)\n",
    "# True."
   ]
  },
  {
   "cell_type": "code",
   "execution_count": 3,
   "metadata": {},
   "outputs": [
    {
     "data": {
      "text/html": [
       "126"
      ],
      "text/latex": [
       "126"
      ],
      "text/markdown": [
       "126"
      ],
      "text/plain": [
       "[1] 126"
      ]
     },
     "metadata": {},
     "output_type": "display_data"
    },
    {
     "data": {
      "text/html": [
       "14"
      ],
      "text/latex": [
       "14"
      ],
      "text/markdown": [
       "14"
      ],
      "text/plain": [
       "[1] 14"
      ]
     },
     "metadata": {},
     "output_type": "display_data"
    }
   ],
   "source": [
    "# (c)\n",
    "n = 140\n",
    "n * p\n",
    "n * (1-p)\n",
    "# True."
   ]
  },
  {
   "cell_type": "code",
   "execution_count": 4,
   "metadata": {},
   "outputs": [
    {
     "data": {
      "text/html": [
       "252"
      ],
      "text/latex": [
       "252"
      ],
      "text/markdown": [
       "252"
      ],
      "text/plain": [
       "[1] 252"
      ]
     },
     "metadata": {},
     "output_type": "display_data"
    },
    {
     "data": {
      "text/html": [
       "28"
      ],
      "text/latex": [
       "28"
      ],
      "text/markdown": [
       "28"
      ],
      "text/plain": [
       "[1] 28"
      ]
     },
     "metadata": {},
     "output_type": "display_data"
    }
   ],
   "source": [
    "# (d)\n",
    "n = 280\n",
    "n * p\n",
    "n * (1-p)\n",
    "# True."
   ]
  },
  {
   "cell_type": "markdown",
   "metadata": {},
   "source": [
    "**6.5**\n",
    "- In a 2010 Survey USA poll, 70% of the 119 respondents between the ages of 18 and 34 said they would vote in the 2010 general election for Prop 19, which would change California law to legalize marijuana and allow it to be regulated and taxed. At a 95% confidence level, this sample has an 8% margin of error. Based on this information, determine if the following statements are true or false, and explain your reasoning. \n",
    "- (a) We are 95% confident that between 62% and 78% of the California voters in this sample support Prop 19.\n",
    "- (b) We are 95% confident that between 62% and 78% of all California voters between the ages of 18 and 34 support Prop 19.\n",
    "- (c) If we considered many random samples of 119 California voters between the ages of 18 and 34, and we calculated 95% confidence intervals for each, 95% of them will include the true population proportion of 18-34 year old Californians who support Prop 19.\n",
    "- (d) In order to decrease the margin of error to 4%, we would need to quadruple (multiply by 4) the sample size.\n",
    "- (e) Based on this confidence interval, there is sufficient evidence to conclude that a majority of California voters between the ages of 18 and 34 support Prop 19."
   ]
  },
  {
   "cell_type": "code",
   "execution_count": 12,
   "metadata": {},
   "outputs": [
    {
     "data": {
      "text/html": [
       "0.78"
      ],
      "text/latex": [
       "0.78"
      ],
      "text/markdown": [
       "0.78"
      ],
      "text/plain": [
       "[1] 0.78"
      ]
     },
     "metadata": {},
     "output_type": "display_data"
    },
    {
     "data": {
      "text/html": [
       "0.62"
      ],
      "text/latex": [
       "0.62"
      ],
      "text/markdown": [
       "0.62"
      ],
      "text/plain": [
       "[1] 0.62"
      ]
     },
     "metadata": {},
     "output_type": "display_data"
    }
   ],
   "source": [
    "# (a)\n",
    "p_hat = 0.7\n",
    "n = 119\n",
    "ci_level = 0.95\n",
    "me = 0.08\n",
    "p_hat + me\n",
    "p_hat - me\n",
    "# False. We are 100% confident that 62% - 78% of the California voters in this sample support Prop 19.\n",
    "# A confidence interval is con- structed to estimate the population proportion, not the sample proportion."
   ]
  },
  {
   "cell_type": "code",
   "execution_count": 6,
   "metadata": {},
   "outputs": [],
   "source": [
    "# (b)\n",
    "# True."
   ]
  },
  {
   "cell_type": "code",
   "execution_count": 7,
   "metadata": {},
   "outputs": [],
   "source": [
    "# (c)\n",
    "# True."
   ]
  },
  {
   "cell_type": "code",
   "execution_count": 10,
   "metadata": {},
   "outputs": [
    {
     "data": {
      "text/html": [
       "0.5"
      ],
      "text/latex": [
       "0.5"
      ],
      "text/markdown": [
       "0.5"
      ],
      "text/plain": [
       "[1] 0.5"
      ]
     },
     "metadata": {},
     "output_type": "display_data"
    }
   ],
   "source": [
    "# (d)\n",
    "# me = z * sqrt(p * (1-p) / n)\n",
    "1 / sqrt(4)\n",
    "# True."
   ]
  },
  {
   "cell_type": "code",
   "execution_count": 14,
   "metadata": {},
   "outputs": [
    {
     "data": {
      "text/html": [
       "0.0458349248514106"
      ],
      "text/latex": [
       "0.0458349248514106"
      ],
      "text/markdown": [
       "0.0458349248514106"
      ],
      "text/plain": [
       "[1] 0.04583492"
      ]
     },
     "metadata": {},
     "output_type": "display_data"
    },
    {
     "data": {
      "text/html": [
       "4.36348484585428"
      ],
      "text/latex": [
       "4.36348484585428"
      ],
      "text/markdown": [
       "4.36348484585428"
      ],
      "text/plain": [
       "[1] 4.363485"
      ]
     },
     "metadata": {},
     "output_type": "display_data"
    },
    {
     "data": {
      "text/html": [
       "6.40034058796197e-06"
      ],
      "text/latex": [
       "6.40034058796197e-06"
      ],
      "text/markdown": [
       "6.40034058796197e-06"
      ],
      "text/plain": [
       "[1] 6.400341e-06"
      ]
     },
     "metadata": {},
     "output_type": "display_data"
    }
   ],
   "source": [
    "# (e)\n",
    "# True. The 95% CI is entirely above 50%.\n",
    "# We can also conduct a hypothesis test.\n",
    "\n",
    "# H0: p = 0.5\n",
    "# HA: p > 0.5\n",
    "\n",
    "p_0 = 0.5\n",
    "\n",
    "(se = sqrt(p_0 * (1 - p_0) / n))\n",
    "\n",
    "(z = (p_hat - p_0) / se)\n",
    "\n",
    "(p_value = pnorm(z, lower.tail = FALSE))"
   ]
  },
  {
   "cell_type": "markdown",
   "metadata": {},
   "source": [
    "**6.9**\n",
    "- We are interested in estimating the proportion of graduates at a mid-sized university who found a job within one year of completing their undergraduate degree. Suppose we conduct a survey and find out that 348 of the 400 randomly sampled graduates found jobs. The graduating class under consideration included over 4500 students.\n",
    "- (a) Describe the population parameter of interest. What is the value of the point estimate of this parameter? \n",
    "- (b) Check if the conditions for constructing a confidence interval based on these data are met.\n",
    "- (c) Calculate a 95% confidence interval for the proportion of graduates who found a job within one year of completing their undergraduate degree at this university, and interpret it in the context of the data.\n",
    "- (d) What does “95% confidence” mean? \n",
    "- (e) Now calculate a 99% confidence interval for the same parameter and interpret it in the context of the data.\n",
    "- (f) Compare the widths of the 95% and 99% confidence intervals. Which one is wider? Explain."
   ]
  },
  {
   "cell_type": "code",
   "execution_count": 16,
   "metadata": {},
   "outputs": [
    {
     "data": {
      "text/html": [
       "0.87"
      ],
      "text/latex": [
       "0.87"
      ],
      "text/markdown": [
       "0.87"
      ],
      "text/plain": [
       "[1] 0.87"
      ]
     },
     "metadata": {},
     "output_type": "display_data"
    }
   ],
   "source": [
    "# (a)\n",
    "# The population parameter is the population proportion of graduates at a mid-sized university\n",
    "# who found a job within one year of completing their undergraduate degree.\n",
    "n = 400\n",
    "(p_hat = 348 / 400)\n",
    "# With a random sample of 400 graduates, the sampled proportion is 0.87."
   ]
  },
  {
   "cell_type": "code",
   "execution_count": 18,
   "metadata": {},
   "outputs": [
    {
     "data": {
      "text/html": [
       "348"
      ],
      "text/latex": [
       "348"
      ],
      "text/markdown": [
       "348"
      ],
      "text/plain": [
       "[1] 348"
      ]
     },
     "metadata": {},
     "output_type": "display_data"
    },
    {
     "data": {
      "text/html": [
       "52"
      ],
      "text/latex": [
       "52"
      ],
      "text/markdown": [
       "52"
      ],
      "text/plain": [
       "[1] 52"
      ]
     },
     "metadata": {},
     "output_type": "display_data"
    }
   ],
   "source": [
    "# (b)\n",
    "# Random sampled + sample size smaller than 10% of the true populatio, hence independent. \n",
    "n * p_hat\n",
    "n * (1 - p_hat)\n",
    "# The success-failure condition is also met."
   ]
  },
  {
   "cell_type": "code",
   "execution_count": 20,
   "metadata": {},
   "outputs": [
    {
     "data": {
      "text/html": [
       "0.0168151717208002"
      ],
      "text/latex": [
       "0.0168151717208002"
      ],
      "text/markdown": [
       "0.0168151717208002"
      ],
      "text/plain": [
       "[1] 0.01681517"
      ]
     },
     "metadata": {},
     "output_type": "display_data"
    },
    {
     "data": {
      "text/html": [
       "0.0329577365727685"
      ],
      "text/latex": [
       "0.0329577365727685"
      ],
      "text/markdown": [
       "0.0329577365727685"
      ],
      "text/plain": [
       "[1] 0.03295774"
      ]
     },
     "metadata": {},
     "output_type": "display_data"
    },
    {
     "data": {
      "text/html": [
       "0.837042263427232"
      ],
      "text/latex": [
       "0.837042263427232"
      ],
      "text/markdown": [
       "0.837042263427232"
      ],
      "text/plain": [
       "[1] 0.8370423"
      ]
     },
     "metadata": {},
     "output_type": "display_data"
    },
    {
     "data": {
      "text/html": [
       "0.902957736572768"
      ],
      "text/latex": [
       "0.902957736572768"
      ],
      "text/markdown": [
       "0.902957736572768"
      ],
      "text/plain": [
       "[1] 0.9029577"
      ]
     },
     "metadata": {},
     "output_type": "display_data"
    }
   ],
   "source": [
    "# (c)\n",
    "(se = sqrt(p_hat * (1 - p_hat) / n))\n",
    "(me = 1.96 * se)\n",
    "p_hat - me\n",
    "p_hat + me\n",
    "# We are 95% confident that the true proportion of graduates at a mid-sized university\n",
    "# who found a job within one year of completing their undergraduate degree is\n",
    "# between 84% - 90%."
   ]
  },
  {
   "cell_type": "code",
   "execution_count": 21,
   "metadata": {},
   "outputs": [],
   "source": [
    "# (d)\n",
    "# If we collect random samples many times, and construct a 95% confidence interval for each,\n",
    "# 95% of them will include the true proportion."
   ]
  },
  {
   "cell_type": "code",
   "execution_count": 26,
   "metadata": {},
   "outputs": [
    {
     "data": {
      "text/html": [
       "2.58"
      ],
      "text/latex": [
       "2.58"
      ],
      "text/markdown": [
       "2.58"
      ],
      "text/plain": [
       "[1] 2.58"
      ]
     },
     "metadata": {},
     "output_type": "display_data"
    },
    {
     "data": {
      "text/html": [
       "0.0433831430396646"
      ],
      "text/latex": [
       "0.0433831430396646"
      ],
      "text/markdown": [
       "0.0433831430396646"
      ],
      "text/plain": [
       "[1] 0.04338314"
      ]
     },
     "metadata": {},
     "output_type": "display_data"
    },
    {
     "data": {
      "text/html": [
       "0.826616856960335"
      ],
      "text/latex": [
       "0.826616856960335"
      ],
      "text/markdown": [
       "0.826616856960335"
      ],
      "text/plain": [
       "[1] 0.8266169"
      ]
     },
     "metadata": {},
     "output_type": "display_data"
    },
    {
     "data": {
      "text/html": [
       "0.913383143039665"
      ],
      "text/latex": [
       "0.913383143039665"
      ],
      "text/markdown": [
       "0.913383143039665"
      ],
      "text/plain": [
       "[1] 0.9133831"
      ]
     },
     "metadata": {},
     "output_type": "display_data"
    }
   ],
   "source": [
    "# (e)\n",
    "(z_star = abs(round(qnorm((1-0.99)/2), 2)))\n",
    "(me = z_star * se)\n",
    "p_hat - me\n",
    "p_hat + me\n",
    "# We are 99% confident that the true proportion of graduates at a mid-sized university\n",
    "# who found a job within one year of completing their undergraduate degree is\n",
    "# between 83% - 91%."
   ]
  },
  {
   "cell_type": "code",
   "execution_count": 27,
   "metadata": {},
   "outputs": [],
   "source": [
    "# (f)\n",
    "# The 99% confidence interval is wider. "
   ]
  },
  {
   "cell_type": "markdown",
   "metadata": {},
   "source": [
    "**6.11**\n",
    "- A survey on 1,509 high school seniors who took the SAT and who completed an optional web survey between April 25 and April 30, 2007 shows that 55% of high school seniors are fairly certain that they will participate in a study abroad program in college. \n",
    "- (a) Is this sample a representative sample from the population of all high school seniors in the US? Explain your reasoning.\n",
    "- (b) Let’s suppose the conditions for inference are met. Even if your answer to part (a) indicated that this approach would not be reliable, this analysis may still be interesting to carry out (though not report). Construct a 90% confidence interval for the proportion of high school seniors (of those who took the SAT) who are fairly certain they will participate in a study abroad program in college, and interpret this interval in context.\n",
    "- (c) What does “90% confidence” mean? \n",
    "- (d) Based on this interval, would it be appropriate to claim that the majority of high school seniors are fairly certain that they will participate in a study abroad program in college?"
   ]
  },
  {
   "cell_type": "code",
   "execution_count": 28,
   "metadata": {},
   "outputs": [],
   "source": [
    "# (a)\n",
    "# No. There are non-response bias during sampling as the web survey is optional."
   ]
  },
  {
   "cell_type": "code",
   "execution_count": 30,
   "metadata": {},
   "outputs": [
    {
     "data": {
      "text/html": [
       "1.64"
      ],
      "text/latex": [
       "1.64"
      ],
      "text/markdown": [
       "1.64"
      ],
      "text/plain": [
       "[1] 1.64"
      ]
     },
     "metadata": {},
     "output_type": "display_data"
    },
    {
     "data": {
      "text/html": [
       "0.0128068694290433"
      ],
      "text/latex": [
       "0.0128068694290433"
      ],
      "text/markdown": [
       "0.0128068694290433"
      ],
      "text/plain": [
       "[1] 0.01280687"
      ]
     },
     "metadata": {},
     "output_type": "display_data"
    },
    {
     "data": {
      "text/html": [
       "0.0210032658636311"
      ],
      "text/latex": [
       "0.0210032658636311"
      ],
      "text/markdown": [
       "0.0210032658636311"
      ],
      "text/plain": [
       "[1] 0.02100327"
      ]
     },
     "metadata": {},
     "output_type": "display_data"
    },
    {
     "data": {
      "text/html": [
       "0.528996734136369"
      ],
      "text/latex": [
       "0.528996734136369"
      ],
      "text/markdown": [
       "0.528996734136369"
      ],
      "text/plain": [
       "[1] 0.5289967"
      ]
     },
     "metadata": {},
     "output_type": "display_data"
    },
    {
     "data": {
      "text/html": [
       "0.571003265863631"
      ],
      "text/latex": [
       "0.571003265863631"
      ],
      "text/markdown": [
       "0.571003265863631"
      ],
      "text/plain": [
       "[1] 0.5710033"
      ]
     },
     "metadata": {},
     "output_type": "display_data"
    }
   ],
   "source": [
    "# (b)\n",
    "(z_star = abs(round(qnorm((1-0.90)/2), 2)))\n",
    "p_hat = 0.55\n",
    "n = 1509\n",
    "(se = sqrt(p_hat * (1-p_hat) / n))\n",
    "(me = z_star * se)\n",
    "p_hat - me\n",
    "p_hat + me"
   ]
  },
  {
   "cell_type": "markdown",
   "metadata": {},
   "source": [
    "**6.13**\n",
    "- A Washington Post article from 2009 reported that “support for a government-run health-care plan to compete with private insurers has rebounded from its summertime lows and wins clear majority support from the public.” More specifically, the article says “seven in 10 Democrats back the plan, while almost nine in 10 Republicans oppose it. Independents divide 52 percent against, 42 percent in favor of the legislation.” (6% responded with “other”.) There were 819 Democrats, 566 Republicans and 783 Independents surveyed.\n",
    "- (a) A political pundit on TV claims that a majority of Independents oppose the health care public option plan. Do these data provide strong evidence to support this statement? \n",
    "- (b) Would you expect a confidence interval for the proportion of Independents who oppose the public option plan to include 0.5? Explain."
   ]
  },
  {
   "cell_type": "code",
   "execution_count": 34,
   "metadata": {},
   "outputs": [
    {
     "data": {
      "text/html": [
       "391.5"
      ],
      "text/latex": [
       "391.5"
      ],
      "text/markdown": [
       "391.5"
      ],
      "text/plain": [
       "[1] 391.5"
      ]
     },
     "metadata": {},
     "output_type": "display_data"
    },
    {
     "data": {
      "text/html": [
       "391.5"
      ],
      "text/latex": [
       "391.5"
      ],
      "text/markdown": [
       "391.5"
      ],
      "text/plain": [
       "[1] 391.5"
      ]
     },
     "metadata": {},
     "output_type": "display_data"
    },
    {
     "data": {
      "text/html": [
       "0.0178685422472966"
      ],
      "text/latex": [
       "0.0178685422472966"
      ],
      "text/markdown": [
       "0.0178685422472966"
      ],
      "text/plain": [
       "[1] 0.01786854"
      ]
     },
     "metadata": {},
     "output_type": "display_data"
    },
    {
     "data": {
      "text/html": [
       "1.11928548637066"
      ],
      "text/latex": [
       "1.11928548637066"
      ],
      "text/markdown": [
       "1.11928548637066"
      ],
      "text/plain": [
       "[1] 1.119285"
      ]
     },
     "metadata": {},
     "output_type": "display_data"
    },
    {
     "data": {
      "text/html": [
       "0.13150918277114"
      ],
      "text/latex": [
       "0.13150918277114"
      ],
      "text/markdown": [
       "0.13150918277114"
      ],
      "text/plain": [
       "[1] 0.1315092"
      ]
     },
     "metadata": {},
     "output_type": "display_data"
    }
   ],
   "source": [
    "# (a)\n",
    "n = 783\n",
    "p_hat = 0.52\n",
    "p = 0.5\n",
    "\n",
    "# H0: p = 0.5\n",
    "# HA: p > 0.5\n",
    "\n",
    "n * p\n",
    "n * (1 - p)\n",
    "\n",
    "(se = sqrt(p * (1 - p) / n))\n",
    "(z = (p_hat - p)/se)\n",
    "(p_value = pnorm(z, lower.tail = FALSE))"
   ]
  },
  {
   "cell_type": "code",
   "execution_count": 32,
   "metadata": {},
   "outputs": [
    {
     "data": {
      "text/html": [
       "407.16"
      ],
      "text/latex": [
       "407.16"
      ],
      "text/markdown": [
       "407.16"
      ],
      "text/plain": [
       "[1] 407.16"
      ]
     },
     "metadata": {},
     "output_type": "display_data"
    },
    {
     "data": {
      "text/html": [
       "375.84"
      ],
      "text/latex": [
       "375.84"
      ],
      "text/markdown": [
       "375.84"
      ],
      "text/plain": [
       "[1] 375.84"
      ]
     },
     "metadata": {},
     "output_type": "display_data"
    },
    {
     "data": {
      "text/html": [
       "0.0178542416909863"
      ],
      "text/latex": [
       "0.0178542416909863"
      ],
      "text/markdown": [
       "0.0178542416909863"
      ],
      "text/plain": [
       "[1] 0.01785424"
      ]
     },
     "metadata": {},
     "output_type": "display_data"
    },
    {
     "data": {
      "text/html": [
       "0.0349943137143331"
      ],
      "text/latex": [
       "0.0349943137143331"
      ],
      "text/markdown": [
       "0.0349943137143331"
      ],
      "text/plain": [
       "[1] 0.03499431"
      ]
     },
     "metadata": {},
     "output_type": "display_data"
    },
    {
     "data": {
      "text/html": [
       "0.485005686285667"
      ],
      "text/latex": [
       "0.485005686285667"
      ],
      "text/markdown": [
       "0.485005686285667"
      ],
      "text/plain": [
       "[1] 0.4850057"
      ]
     },
     "metadata": {},
     "output_type": "display_data"
    },
    {
     "data": {
      "text/html": [
       "0.554994313714333"
      ],
      "text/latex": [
       "0.554994313714333"
      ],
      "text/markdown": [
       "0.554994313714333"
      ],
      "text/plain": [
       "[1] 0.5549943"
      ]
     },
     "metadata": {},
     "output_type": "display_data"
    }
   ],
   "source": [
    "# (b)\n",
    "n = 783\n",
    "p_hat = 0.52\n",
    "n * p_hat\n",
    "n * (1 - p_hat)\n",
    "(se = sqrt(p_hat * (1 - p_hat) / n))\n",
    "(me = 1.96 * se)\n",
    "p_hat - me\n",
    "p_hat + me\n",
    "# The confidence interval 0.48 - 0.55 does not lie entirely above 0.5. It includes 0.5."
   ]
  },
  {
   "cell_type": "markdown",
   "metadata": {},
   "source": [
    "**6.15**\n",
    "- A 2012 survey of 2,254 American adults indicates that 17% of cell phone owners do their browsing on their phone rather than a computer or other device.\n",
    "- (a) According to an online article, a report from a mobile research company indicates that 38 percent of Chinese mobile web users only access the internet through their cell phones. Conduct a hypothesis test to determine if these data provide strong evidence that the proportion of Americans who only use their cell phones to access the internet is different than the Chinese proportion of 38%.\n",
    "- (b) Interpret the p-value in this context.\n",
    "- (c) Calculate a 95% confidence interval for the proportion of Americans who access the internet on their cell phones, and interpret the interval in this context."
   ]
  },
  {
   "cell_type": "code",
   "execution_count": 37,
   "metadata": {},
   "outputs": [
    {
     "data": {
      "text/html": [
       "856.52"
      ],
      "text/latex": [
       "856.52"
      ],
      "text/markdown": [
       "856.52"
      ],
      "text/plain": [
       "[1] 856.52"
      ]
     },
     "metadata": {},
     "output_type": "display_data"
    },
    {
     "data": {
      "text/html": [
       "1397.48"
      ],
      "text/latex": [
       "1397.48"
      ],
      "text/markdown": [
       "1397.48"
      ],
      "text/plain": [
       "[1] 1397.48"
      ]
     },
     "metadata": {},
     "output_type": "display_data"
    },
    {
     "data": {
      "text/html": [
       "0.0102237609702213"
      ],
      "text/latex": [
       "0.0102237609702213"
      ],
      "text/markdown": [
       "0.0102237609702213"
      ],
      "text/plain": [
       "[1] 0.01022376"
      ]
     },
     "metadata": {},
     "output_type": "display_data"
    },
    {
     "data": {
      "text/html": [
       "-20.5403863227697"
      ],
      "text/latex": [
       "-20.5403863227697"
      ],
      "text/markdown": [
       "-20.5403863227697"
      ],
      "text/plain": [
       "[1] -20.54039"
      ]
     },
     "metadata": {},
     "output_type": "display_data"
    },
    {
     "data": {
      "text/html": [
       "9.38134297317743e-94"
      ],
      "text/latex": [
       "9.38134297317743e-94"
      ],
      "text/markdown": [
       "9.38134297317743e-94"
      ],
      "text/plain": [
       "[1] 9.381343e-94"
      ]
     },
     "metadata": {},
     "output_type": "display_data"
    }
   ],
   "source": [
    "# (a)\n",
    "# H0: p = 0.38\n",
    "# HA: p != 0.38\n",
    "\n",
    "p = 0.38\n",
    "p_hat = 0.17\n",
    "n = 2254\n",
    "\n",
    "n * p\n",
    "n * (1-p)\n",
    "\n",
    "(se = sqrt(p * (1-p) / n))\n",
    "(z = (p_hat - p) / se)\n",
    "(p_value = pnorm(z) * 2)"
   ]
  },
  {
   "cell_type": "code",
   "execution_count": 38,
   "metadata": {},
   "outputs": [],
   "source": [
    "# (b)\n",
    "# Suppose the true proportion of American cell phone owners do their browsing \n",
    "# on their phone rather than a computer or other device is 38%,\n",
    "# the probability of observing a sample proportion of 17% or less or 59% or more\n",
    "# with a random sample of 2254 is approximately 0."
   ]
  },
  {
   "cell_type": "code",
   "execution_count": 39,
   "metadata": {},
   "outputs": [
    {
     "data": {
      "text/html": [
       "0.00791200496320059"
      ],
      "text/latex": [
       "0.00791200496320059"
      ],
      "text/markdown": [
       "0.00791200496320059"
      ],
      "text/plain": [
       "[1] 0.007912005"
      ]
     },
     "metadata": {},
     "output_type": "display_data"
    },
    {
     "data": {
      "text/html": [
       "0.0155075297278732"
      ],
      "text/latex": [
       "0.0155075297278732"
      ],
      "text/markdown": [
       "0.0155075297278732"
      ],
      "text/plain": [
       "[1] 0.01550753"
      ]
     },
     "metadata": {},
     "output_type": "display_data"
    },
    {
     "data": {
      "text/html": [
       "0.154492470272127"
      ],
      "text/latex": [
       "0.154492470272127"
      ],
      "text/markdown": [
       "0.154492470272127"
      ],
      "text/plain": [
       "[1] 0.1544925"
      ]
     },
     "metadata": {},
     "output_type": "display_data"
    },
    {
     "data": {
      "text/html": [
       "0.185507529727873"
      ],
      "text/latex": [
       "0.185507529727873"
      ],
      "text/markdown": [
       "0.185507529727873"
      ],
      "text/plain": [
       "[1] 0.1855075"
      ]
     },
     "metadata": {},
     "output_type": "display_data"
    }
   ],
   "source": [
    "# (c)\n",
    "(se = sqrt(p_hat * (1-p_hat) / n))\n",
    "(me = 1.96 * se)\n",
    "p_hat - me\n",
    "p_hat + me"
   ]
  },
  {
   "cell_type": "markdown",
   "metadata": {},
   "source": [
    "**6.19**\n",
    "- We are interested in estimating the proportion of students at a university who smoke. Out of a random sample of 200 students from this university, 40 students smoke.\n",
    "- (a) Calculate a 95% confidence interval for the proportion of students at this university who smoke, and interpret this interval in context. (Reminder: Check conditions.) \n",
    "- (b) If we wanted the margin of error to be no larger than 2% at a 95% confidence level for the proportion of students who smoke, how big of a sample would we need?"
   ]
  },
  {
   "cell_type": "code",
   "execution_count": 41,
   "metadata": {},
   "outputs": [
    {
     "data": {
      "text/html": [
       "40"
      ],
      "text/latex": [
       "40"
      ],
      "text/markdown": [
       "40"
      ],
      "text/plain": [
       "[1] 40"
      ]
     },
     "metadata": {},
     "output_type": "display_data"
    },
    {
     "data": {
      "text/html": [
       "160"
      ],
      "text/latex": [
       "160"
      ],
      "text/markdown": [
       "160"
      ],
      "text/plain": [
       "[1] 160"
      ]
     },
     "metadata": {},
     "output_type": "display_data"
    },
    {
     "data": {
      "text/html": [
       "0.0282842712474619"
      ],
      "text/latex": [
       "0.0282842712474619"
      ],
      "text/markdown": [
       "0.0282842712474619"
      ],
      "text/plain": [
       "[1] 0.02828427"
      ]
     },
     "metadata": {},
     "output_type": "display_data"
    },
    {
     "data": {
      "text/html": [
       "0.0554371716450253"
      ],
      "text/latex": [
       "0.0554371716450253"
      ],
      "text/markdown": [
       "0.0554371716450253"
      ],
      "text/plain": [
       "[1] 0.05543717"
      ]
     },
     "metadata": {},
     "output_type": "display_data"
    },
    {
     "data": {
      "text/html": [
       "0.144562828354975"
      ],
      "text/latex": [
       "0.144562828354975"
      ],
      "text/markdown": [
       "0.144562828354975"
      ],
      "text/plain": [
       "[1] 0.1445628"
      ]
     },
     "metadata": {},
     "output_type": "display_data"
    },
    {
     "data": {
      "text/html": [
       "0.255437171645025"
      ],
      "text/latex": [
       "0.255437171645025"
      ],
      "text/markdown": [
       "0.255437171645025"
      ],
      "text/plain": [
       "[1] 0.2554372"
      ]
     },
     "metadata": {},
     "output_type": "display_data"
    }
   ],
   "source": [
    "# (a)\n",
    "n = 200\n",
    "p_hat = 40/200\n",
    "\n",
    "n*p_hat\n",
    "n*(1-p_hat)\n",
    "\n",
    "(se = sqrt(p_hat*(1-p_hat)/n))\n",
    "(me = 1.96*se)\n",
    "\n",
    "p_hat-me\n",
    "p_hat+me"
   ]
  },
  {
   "cell_type": "code",
   "execution_count": 42,
   "metadata": {},
   "outputs": [
    {
     "data": {
      "text/html": [
       "1536.64"
      ],
      "text/latex": [
       "1536.64"
      ],
      "text/markdown": [
       "1536.64"
      ],
      "text/plain": [
       "[1] 1536.64"
      ]
     },
     "metadata": {},
     "output_type": "display_data"
    }
   ],
   "source": [
    "# (b)\n",
    "# me = z * sqrt(p * (1-p) / n)\n",
    "# 0.02 = 1.96 * sqrt(p_hat * (1-p_hat) / n)\n",
    "p_hat * (1-p_hat) / (0.02/1.96)^2\n",
    "# 1537"
   ]
  },
  {
   "cell_type": "markdown",
   "metadata": {},
   "source": [
    "**6.21**\n",
    "- Exercise 6.13 presents the results of a poll evaluating support for the health care public option in 2009, reporting that 52% of Independents in the sample opposed the public option. If we wanted to estimate this number to within 1% with 90% confidence, what would be an appropriate sample size?"
   ]
  },
  {
   "cell_type": "code",
   "execution_count": 55,
   "metadata": {},
   "outputs": [
    {
     "data": {
      "text/html": [
       "1.64"
      ],
      "text/latex": [
       "1.64"
      ],
      "text/markdown": [
       "1.64"
      ],
      "text/plain": [
       "[1] 1.64"
      ]
     },
     "metadata": {},
     "output_type": "display_data"
    },
    {
     "data": {
      "text/html": [
       "6795.36"
      ],
      "text/latex": [
       "6795.36"
      ],
      "text/markdown": [
       "6795.36"
      ],
      "text/plain": [
       "[1] 6795.36"
      ]
     },
     "metadata": {},
     "output_type": "display_data"
    }
   ],
   "source": [
    "(z_star = abs(round(qnorm((1-0.9)/2), 2)))\n",
    "z_star = 1.65\n",
    "p_hat = 0.52\n",
    "me = 0.01\n",
    "# me = z * sqrt(p * (1-p) / n)\n",
    "p_hat * (1-p_hat) / (me/z_star)^2\n",
    "# 6796"
   ]
  },
  {
   "cell_type": "markdown",
   "metadata": {},
   "source": [
    "**6.23**"
   ]
  },
  {
   "cell_type": "code",
   "execution_count": 57,
   "metadata": {},
   "outputs": [],
   "source": [
    "p_provocative = 5/20\n",
    "p_conservative = 15/25\n",
    "\n",
    "# The number of success for the provocative group is only 5,\n",
    "# hence the success-failure condition is not met."
   ]
  },
  {
   "cell_type": "markdown",
   "metadata": {},
   "source": [
    "**6.25**"
   ]
  },
  {
   "cell_type": "code",
   "execution_count": 58,
   "metadata": {},
   "outputs": [],
   "source": [
    "n_male = 1924\n",
    "n_female = 3666\n",
    "# p_male - p_female\n",
    "# (0.02, 0.06)\n",
    "\n",
    "# (a) False.\n",
    "# (b) True.\n",
    "# (c) True.\n",
    "# (d) True.\n",
    "# (e) False."
   ]
  },
  {
   "cell_type": "markdown",
   "metadata": {},
   "source": [
    "**6.27**"
   ]
  },
  {
   "cell_type": "code",
   "execution_count": 61,
   "metadata": {},
   "outputs": [
    {
     "data": {
      "text/html": [
       "0.0238227069729988"
      ],
      "text/latex": [
       "0.0238227069729988"
      ],
      "text/markdown": [
       "0.0238227069729988"
      ],
      "text/plain": [
       "[1] 0.02382271"
      ]
     },
     "metadata": {},
     "output_type": "display_data"
    },
    {
     "data": {
      "text/html": [
       "0.0466925056670777"
      ],
      "text/latex": [
       "0.0466925056670777"
      ],
      "text/markdown": [
       "0.0466925056670777"
      ],
      "text/plain": [
       "[1] 0.04669251"
      ]
     },
     "metadata": {},
     "output_type": "display_data"
    },
    {
     "data": {
      "text/html": [
       "0.233307494332922"
      ],
      "text/latex": [
       "0.233307494332922"
      ],
      "text/markdown": [
       "0.233307494332922"
      ],
      "text/plain": [
       "[1] 0.2333075"
      ]
     },
     "metadata": {},
     "output_type": "display_data"
    },
    {
     "data": {
      "text/html": [
       "0.326692505667078"
      ],
      "text/latex": [
       "0.326692505667078"
      ],
      "text/markdown": [
       "0.326692505667078"
      ],
      "text/plain": [
       "[1] 0.3266925"
      ]
     },
     "metadata": {},
     "output_type": "display_data"
    }
   ],
   "source": [
    "# (a)\n",
    "n_d = 819\n",
    "n_i = 783\n",
    "p_d = 0.7\n",
    "p_i = 0.42\n",
    "\n",
    "p_hat = p_d - p_i\n",
    "\n",
    "(se = sqrt(p_d * (1-p_d)/n_d + p_i * (1-p_i)/n_i))\n",
    "(me = 1.96 * se)\n",
    "\n",
    "p_hat - me\n",
    "p_hat + me"
   ]
  },
  {
   "cell_type": "code",
   "execution_count": 62,
   "metadata": {},
   "outputs": [],
   "source": [
    "# (b) True."
   ]
  },
  {
   "cell_type": "markdown",
   "metadata": {},
   "source": [
    "**6.29**"
   ]
  },
  {
   "cell_type": "code",
   "execution_count": 63,
   "metadata": {},
   "outputs": [
    {
     "data": {
      "text/html": [
       "0.237442922374429"
      ],
      "text/latex": [
       "0.237442922374429"
      ],
      "text/markdown": [
       "0.237442922374429"
      ],
      "text/plain": [
       "[1] 0.2374429"
      ]
     },
     "metadata": {},
     "output_type": "display_data"
    },
    {
     "data": {
      "text/html": [
       "0.336760925449871"
      ],
      "text/latex": [
       "0.336760925449871"
      ],
      "text/markdown": [
       "0.336760925449871"
      ],
      "text/plain": [
       "[1] 0.3367609"
      ]
     },
     "metadata": {},
     "output_type": "display_data"
    }
   ],
   "source": [
    "# (a)\n",
    "n_c = 438\n",
    "n_g = 389\n",
    "(p_c = 104/438)\n",
    "(p_g = 131/389)"
   ]
  },
  {
   "cell_type": "code",
   "execution_count": 65,
   "metadata": {},
   "outputs": [
    {
     "data": {
      "text/html": [
       "0.28415961305925"
      ],
      "text/latex": [
       "0.28415961305925"
      ],
      "text/markdown": [
       "0.28415961305925"
      ],
      "text/plain": [
       "[1] 0.2841596"
      ]
     },
     "metadata": {},
     "output_type": "display_data"
    },
    {
     "data": {
      "text/html": [
       "0.03142173588228"
      ],
      "text/latex": [
       "0.03142173588228"
      ],
      "text/markdown": [
       "0.03142173588228"
      ],
      "text/plain": [
       "[1] 0.03142174"
      ]
     },
     "metadata": {},
     "output_type": "display_data"
    },
    {
     "data": {
      "text/html": [
       "-0.0993180030754423"
      ],
      "text/latex": [
       "-0.0993180030754423"
      ],
      "text/markdown": [
       "-0.0993180030754423"
      ],
      "text/plain": [
       "[1] -0.099318"
      ]
     },
     "metadata": {},
     "output_type": "display_data"
    },
    {
     "data": {
      "text/html": [
       "-3.16080573802582"
      ],
      "text/latex": [
       "-3.16080573802582"
      ],
      "text/markdown": [
       "-3.16080573802582"
      ],
      "text/plain": [
       "[1] -3.160806"
      ]
     },
     "metadata": {},
     "output_type": "display_data"
    },
    {
     "data": {
      "text/html": [
       "0.00157333390659718"
      ],
      "text/latex": [
       "0.00157333390659718"
      ],
      "text/markdown": [
       "0.00157333390659718"
      ],
      "text/plain": [
       "[1] 0.001573334"
      ]
     },
     "metadata": {},
     "output_type": "display_data"
    }
   ],
   "source": [
    "# (b)\n",
    "# H0: p_c - p_g = 0\n",
    "# HA: p_c - p_g != 0\n",
    "(p_pool = (104+131)/(n_c+n_g))\n",
    "(se = sqrt(p_pool*(1-p_pool)/n_c + p_pool*(1-p_pool)/n_g))\n",
    "(p_hat = p_c - p_g)\n",
    "(z = (p_hat-0)/se)\n",
    "(pvalue = pnorm(z) * 2)"
   ]
  },
  {
   "cell_type": "markdown",
   "metadata": {},
   "source": [
    "**6.31**"
   ]
  },
  {
   "cell_type": "code",
   "execution_count": 66,
   "metadata": {},
   "outputs": [
    {
     "data": {
      "text/html": [
       "0.351598173515982"
      ],
      "text/latex": [
       "0.351598173515982"
      ],
      "text/markdown": [
       "0.351598173515982"
      ],
      "text/plain": [
       "[1] 0.3515982"
      ]
     },
     "metadata": {},
     "output_type": "display_data"
    },
    {
     "data": {
      "text/html": [
       "0.339331619537275"
      ],
      "text/latex": [
       "0.339331619537275"
      ],
      "text/markdown": [
       "0.339331619537275"
      ],
      "text/plain": [
       "[1] 0.3393316"
      ]
     },
     "metadata": {},
     "output_type": "display_data"
    }
   ],
   "source": [
    "# (a)\n",
    "n_c = 438\n",
    "n_g = 389\n",
    "(p_c = 154/438)\n",
    "(p_g = 132/389)"
   ]
  },
  {
   "cell_type": "code",
   "execution_count": 68,
   "metadata": {},
   "outputs": [
    {
     "data": {
      "text/html": [
       "0.345828295042322"
      ],
      "text/latex": [
       "0.345828295042322"
      ],
      "text/markdown": [
       "0.345828295042322"
      ],
      "text/plain": [
       "[1] 0.3458283"
      ]
     },
     "metadata": {},
     "output_type": "display_data"
    },
    {
     "data": {
      "text/html": [
       "0.0331372938088726"
      ],
      "text/latex": [
       "0.0331372938088726"
      ],
      "text/markdown": [
       "0.0331372938088726"
      ],
      "text/plain": [
       "[1] 0.03313729"
      ]
     },
     "metadata": {},
     "output_type": "display_data"
    },
    {
     "data": {
      "text/html": [
       "0.0122665539787066"
      ],
      "text/latex": [
       "0.0122665539787066"
      ],
      "text/markdown": [
       "0.0122665539787066"
      ],
      "text/plain": [
       "[1] 0.01226655"
      ]
     },
     "metadata": {},
     "output_type": "display_data"
    },
    {
     "data": {
      "text/html": [
       "0.370173679524253"
      ],
      "text/latex": [
       "0.370173679524253"
      ],
      "text/markdown": [
       "0.370173679524253"
      ],
      "text/plain": [
       "[1] 0.3701737"
      ]
     },
     "metadata": {},
     "output_type": "display_data"
    },
    {
     "data": {
      "text/html": [
       "0.711253086527709"
      ],
      "text/latex": [
       "0.711253086527709"
      ],
      "text/markdown": [
       "0.711253086527709"
      ],
      "text/plain": [
       "[1] 0.7112531"
      ]
     },
     "metadata": {},
     "output_type": "display_data"
    }
   ],
   "source": [
    "# (b)\n",
    "# H0: p_c - p_g = 0\n",
    "# HA: p_c - p_g != 0\n",
    "(p_pool = (154+132)/(n_c+n_g))\n",
    "(se = sqrt(p_pool*(1-p_pool)/n_c + p_pool*(1-p_pool)/n_g))\n",
    "(p_hat = p_c - p_g)\n",
    "(z = (p_hat-0)/se)\n",
    "(pvalue = pnorm(z, lower.tail = FALSE) * 2)"
   ]
  },
  {
   "cell_type": "markdown",
   "metadata": {},
   "source": [
    "**6.33**"
   ]
  },
  {
   "cell_type": "code",
   "execution_count": 73,
   "metadata": {},
   "outputs": [
    {
     "data": {
      "text/html": [
       "0.172413793103448"
      ],
      "text/latex": [
       "0.172413793103448"
      ],
      "text/markdown": [
       "0.172413793103448"
      ],
      "text/plain": [
       "[1] 0.1724138"
      ]
     },
     "metadata": {},
     "output_type": "display_data"
    },
    {
     "data": {
      "text/html": [
       "0.11986301369863"
      ],
      "text/latex": [
       "0.11986301369863"
      ],
      "text/markdown": [
       "0.11986301369863"
      ],
      "text/plain": [
       "[1] 0.119863"
      ]
     },
     "metadata": {},
     "output_type": "display_data"
    },
    {
     "data": {
      "text/html": [
       "0.141414141414141"
      ],
      "text/latex": [
       "0.141414141414141"
      ],
      "text/markdown": [
       "0.141414141414141"
      ],
      "text/plain": [
       "[1] 0.1414141"
      ]
     },
     "metadata": {},
     "output_type": "display_data"
    },
    {
     "data": {
      "text/html": [
       "0.0318420808614553"
      ],
      "text/latex": [
       "0.0318420808614553"
      ],
      "text/markdown": [
       "0.0318420808614553"
      ],
      "text/plain": [
       "[1] 0.03184208"
      ]
     },
     "metadata": {},
     "output_type": "display_data"
    },
    {
     "data": {
      "text/html": [
       "1.65035632041343"
      ],
      "text/latex": [
       "1.65035632041343"
      ],
      "text/markdown": [
       "1.65035632041343"
      ],
      "text/plain": [
       "[1] 1.650356"
      ]
     },
     "metadata": {},
     "output_type": "display_data"
    },
    {
     "data": {
      "text/html": [
       "0.0988700793278207"
      ],
      "text/latex": [
       "0.0988700793278207"
      ],
      "text/markdown": [
       "0.0988700793278207"
      ],
      "text/plain": [
       "[1] 0.09887008"
      ]
     },
     "metadata": {},
     "output_type": "display_data"
    }
   ],
   "source": [
    "n_truck = 203\n",
    "n_ctrl = 292\n",
    "(p_truck = 35/n_truck)\n",
    "(p_ctrl = 35/n_ctrl)\n",
    "# H0: p_truck = p_ctrl\n",
    "# HA: p_truck != p_ctrl\n",
    "(p_pool = (35+35)/(n_truck+n_ctrl))\n",
    "(se = sqrt(p_pool*(1-p_pool)/n_truck + p_pool*(1-p_pool)/n_ctrl))\n",
    "(z = (p_truck-p_ctrl)/se)\n",
    "(pvalue = pnorm(z, lower.tail=FALSE)*2)"
   ]
  },
  {
   "cell_type": "markdown",
   "metadata": {},
   "source": [
    "**6.35**"
   ]
  },
  {
   "cell_type": "code",
   "execution_count": 74,
   "metadata": {},
   "outputs": [
    {
     "data": {
      "text/html": [
       "<table>\n",
       "<caption>A data.frame: 3 × 3</caption>\n",
       "<thead>\n",
       "\t<tr><th scope=col>.</th><th scope=col>nevaripine</th><th scope=col>lopinavir</th></tr>\n",
       "\t<tr><th scope=col>&lt;fct&gt;</th><th scope=col>&lt;dbl&gt;</th><th scope=col>&lt;dbl&gt;</th></tr>\n",
       "</thead>\n",
       "<tbody>\n",
       "\t<tr><td>virologic failure    </td><td> 26</td><td> 10</td></tr>\n",
       "\t<tr><td>no virologic failture</td><td> 94</td><td>110</td></tr>\n",
       "\t<tr><td>total                </td><td>120</td><td>120</td></tr>\n",
       "</tbody>\n",
       "</table>\n"
      ],
      "text/latex": [
       "A data.frame: 3 × 3\n",
       "\\begin{tabular}{r|lll}\n",
       " . & nevaripine & lopinavir\\\\\n",
       " <fct> & <dbl> & <dbl>\\\\\n",
       "\\hline\n",
       "\t virologic failure     &  26 &  10\\\\\n",
       "\t no virologic failture &  94 & 110\\\\\n",
       "\t total                 & 120 & 120\\\\\n",
       "\\end{tabular}\n"
      ],
      "text/markdown": [
       "\n",
       "A data.frame: 3 × 3\n",
       "\n",
       "| . &lt;fct&gt; | nevaripine &lt;dbl&gt; | lopinavir &lt;dbl&gt; |\n",
       "|---|---|---|\n",
       "| virologic failure     |  26 |  10 |\n",
       "| no virologic failture |  94 | 110 |\n",
       "| total                 | 120 | 120 |\n",
       "\n"
      ],
      "text/plain": [
       "  .                     nevaripine lopinavir\n",
       "1 virologic failure      26         10      \n",
       "2 no virologic failture  94        110      \n",
       "3 total                 120        120      "
      ]
     },
     "metadata": {},
     "output_type": "display_data"
    }
   ],
   "source": [
    "# (a)\n",
    "data.frame(\n",
    "    `.` = c('virologic failure', 'no virologic failture', 'total'),\n",
    "    'nevaripine' = c(26, 94, 120),\n",
    "    'lopinavir' = c(10, 110, 120)\n",
    ")"
   ]
  },
  {
   "cell_type": "code",
   "execution_count": 75,
   "metadata": {},
   "outputs": [],
   "source": [
    "# (b)\n",
    "# H0: p_nevar = p_lopin\n",
    "# HA: p_nevar != p_lopin"
   ]
  },
  {
   "cell_type": "code",
   "execution_count": 79,
   "metadata": {},
   "outputs": [
    {
     "data": {
      "text/html": [
       "0.216666666666667"
      ],
      "text/latex": [
       "0.216666666666667"
      ],
      "text/markdown": [
       "0.216666666666667"
      ],
      "text/plain": [
       "[1] 0.2166667"
      ]
     },
     "metadata": {},
     "output_type": "display_data"
    },
    {
     "data": {
      "text/html": [
       "0.0833333333333333"
      ],
      "text/latex": [
       "0.0833333333333333"
      ],
      "text/markdown": [
       "0.0833333333333333"
      ],
      "text/plain": [
       "[1] 0.08333333"
      ]
     },
     "metadata": {},
     "output_type": "display_data"
    },
    {
     "data": {
      "text/html": [
       "0.15"
      ],
      "text/latex": [
       "0.15"
      ],
      "text/markdown": [
       "0.15"
      ],
      "text/plain": [
       "[1] 0.15"
      ]
     },
     "metadata": {},
     "output_type": "display_data"
    },
    {
     "data": {
      "text/html": [
       "18"
      ],
      "text/latex": [
       "18"
      ],
      "text/markdown": [
       "18"
      ],
      "text/plain": [
       "[1] 18"
      ]
     },
     "metadata": {},
     "output_type": "display_data"
    },
    {
     "data": {
      "text/html": [
       "102"
      ],
      "text/latex": [
       "102"
      ],
      "text/markdown": [
       "102"
      ],
      "text/plain": [
       "[1] 102"
      ]
     },
     "metadata": {},
     "output_type": "display_data"
    },
    {
     "data": {
      "text/html": [
       "18"
      ],
      "text/latex": [
       "18"
      ],
      "text/markdown": [
       "18"
      ],
      "text/plain": [
       "[1] 18"
      ]
     },
     "metadata": {},
     "output_type": "display_data"
    },
    {
     "data": {
      "text/html": [
       "102"
      ],
      "text/latex": [
       "102"
      ],
      "text/markdown": [
       "102"
      ],
      "text/plain": [
       "[1] 102"
      ]
     },
     "metadata": {},
     "output_type": "display_data"
    },
    {
     "data": {
      "text/html": [
       "0.0460977222864644"
      ],
      "text/latex": [
       "0.0460977222864644"
      ],
      "text/markdown": [
       "0.0460977222864644"
      ],
      "text/plain": [
       "[1] 0.04609772"
      ]
     },
     "metadata": {},
     "output_type": "display_data"
    },
    {
     "data": {
      "text/html": [
       "2.89240610424875"
      ],
      "text/latex": [
       "2.89240610424875"
      ],
      "text/markdown": [
       "2.89240610424875"
      ],
      "text/plain": [
       "[1] 2.892406"
      ]
     },
     "metadata": {},
     "output_type": "display_data"
    },
    {
     "data": {
      "text/html": [
       "0.00382303435858208"
      ],
      "text/latex": [
       "0.00382303435858208"
      ],
      "text/markdown": [
       "0.00382303435858208"
      ],
      "text/plain": [
       "[1] 0.003823034"
      ]
     },
     "metadata": {},
     "output_type": "display_data"
    }
   ],
   "source": [
    "# (c)\n",
    "n_nevar = 120\n",
    "n_lopin = 120\n",
    "(p_nevar = 26/120)\n",
    "(p_lopin = 10/120)\n",
    "(p_pool = (26+10)/(120+120))\n",
    "\n",
    "n_nevar*p_pool\n",
    "n_nevar*(1-p_pool)\n",
    "n_lopin*p_pool\n",
    "n_lopin*(1-p_pool)\n",
    "\n",
    "(se = sqrt(p_pool*(1-p_pool)/n_nevar + p_pool*(1-p_pool)/n_lopin))\n",
    "(z = (p_nevar-p_lopin)/se)\n",
    "(pvalue = pnorm(z, lower.tail=FALSE)*2)"
   ]
  },
  {
   "cell_type": "markdown",
   "metadata": {},
   "source": [
    "**6.51**"
   ]
  },
  {
   "cell_type": "code",
   "execution_count": 80,
   "metadata": {},
   "outputs": [],
   "source": [
    "# No the success-failure condition is not met.\n",
    "# The normal condition is not satisfied."
   ]
  },
  {
   "cell_type": "markdown",
   "metadata": {},
   "source": [
    "**6.53**"
   ]
  },
  {
   "cell_type": "code",
   "execution_count": 81,
   "metadata": {},
   "outputs": [],
   "source": [
    "# (a)\n",
    "# H0: p_h = p_a\n",
    "# HA: p_h != p_a"
   ]
  },
  {
   "cell_type": "code",
   "execution_count": 82,
   "metadata": {},
   "outputs": [
    {
     "data": {
      "text/html": [
       "0.566666666666667"
      ],
      "text/latex": [
       "0.566666666666667"
      ],
      "text/markdown": [
       "0.566666666666667"
      ],
      "text/plain": [
       "[1] 0.5666667"
      ]
     },
     "metadata": {},
     "output_type": "display_data"
    }
   ],
   "source": [
    "# (b)\n",
    "(p_h = 17/30)"
   ]
  },
  {
   "cell_type": "code",
   "execution_count": 83,
   "metadata": {},
   "outputs": [],
   "source": [
    "# (d)\n",
    "# Assuming we have a deck of cards with 69% labeled success,\n",
    "# 31% labeled failure, following the null hypothesis. \n",
    "# We draw a sample of size 30 from this \n",
    "# simulated population. We draw samples many times (e.g. 10,000)\n",
    "# and get a simulated sampling distribution."
   ]
  },
  {
   "cell_type": "markdown",
   "metadata": {},
   "source": [
    "**6.55**"
   ]
  },
  {
   "cell_type": "code",
   "execution_count": 84,
   "metadata": {},
   "outputs": [],
   "source": [
    "# (a)\n",
    "# H0: p_pr_sim = p_con_sim\n",
    "# HA: p_pr_sim != p_con_sim"
   ]
  },
  {
   "cell_type": "code",
   "execution_count": 87,
   "metadata": {},
   "outputs": [
    {
     "data": {
      "text/html": [
       "-0.35"
      ],
      "text/latex": [
       "-0.35"
      ],
      "text/markdown": [
       "-0.35"
      ],
      "text/plain": [
       "[1] -0.35"
      ]
     },
     "metadata": {},
     "output_type": "display_data"
    }
   ],
   "source": [
    "# (b)\n",
    "(p_hat = (5/20 - 15/25))"
   ]
  },
  {
   "cell_type": "code",
   "execution_count": 90,
   "metadata": {},
   "outputs": [
    {
     "data": {
      "text/html": [
       "0.04"
      ],
      "text/latex": [
       "0.04"
      ],
      "text/markdown": [
       "0.04"
      ],
      "text/plain": [
       "[1] 0.04"
      ]
     },
     "metadata": {},
     "output_type": "display_data"
    }
   ],
   "source": [
    "# (c)\n",
    "(0.005 + 0.015)*2"
   ]
  },
  {
   "cell_type": "markdown",
   "metadata": {},
   "source": [
    "**6.39**"
   ]
  },
  {
   "cell_type": "code",
   "execution_count": 91,
   "metadata": {},
   "outputs": [],
   "source": [
    "# (a)\n",
    "# False.\n",
    "# The chi-square distribution has one parameter \n",
    "# degrees of freedom."
   ]
  },
  {
   "cell_type": "code",
   "execution_count": 92,
   "metadata": {},
   "outputs": [],
   "source": [
    "# (b)\n",
    "# True."
   ]
  },
  {
   "cell_type": "code",
   "execution_count": 93,
   "metadata": {},
   "outputs": [],
   "source": [
    "# (c)\n",
    "# True."
   ]
  },
  {
   "cell_type": "code",
   "execution_count": 94,
   "metadata": {},
   "outputs": [],
   "source": [
    "# (d)\n",
    "# False. As the degrees of freedom increases, \n",
    "# the shape of the chi-square distribution becomes more symmetric."
   ]
  },
  {
   "cell_type": "markdown",
   "metadata": {},
   "source": [
    "**6.41**"
   ]
  },
  {
   "cell_type": "code",
   "execution_count": 95,
   "metadata": {},
   "outputs": [],
   "source": [
    "# (a)\n",
    "# H0: The true distribution follow the professor's \n",
    "# prediction distribution.\n",
    "# HA: The true distribution does not follow the professor's \n",
    "# prediction distribution."
   ]
  },
  {
   "cell_type": "code",
   "execution_count": 97,
   "metadata": {},
   "outputs": [
    {
     "data": {
      "text/html": [
       "<table>\n",
       "<caption>A data.frame: 1 × 3</caption>\n",
       "<thead>\n",
       "\t<tr><th scope=col>hard_copy</th><th scope=col>print</th><th scope=col>online</th></tr>\n",
       "\t<tr><th scope=col>&lt;dbl&gt;</th><th scope=col>&lt;dbl&gt;</th><th scope=col>&lt;dbl&gt;</th></tr>\n",
       "</thead>\n",
       "<tbody>\n",
       "\t<tr><td>75.6</td><td>31.5</td><td>18.9</td></tr>\n",
       "</tbody>\n",
       "</table>\n"
      ],
      "text/latex": [
       "A data.frame: 1 × 3\n",
       "\\begin{tabular}{r|lll}\n",
       " hard\\_copy & print & online\\\\\n",
       " <dbl> & <dbl> & <dbl>\\\\\n",
       "\\hline\n",
       "\t 75.6 & 31.5 & 18.9\\\\\n",
       "\\end{tabular}\n"
      ],
      "text/markdown": [
       "\n",
       "A data.frame: 1 × 3\n",
       "\n",
       "| hard_copy &lt;dbl&gt; | print &lt;dbl&gt; | online &lt;dbl&gt; |\n",
       "|---|---|---|\n",
       "| 75.6 | 31.5 | 18.9 |\n",
       "\n"
      ],
      "text/plain": [
       "  hard_copy print online\n",
       "1 75.6      31.5  18.9  "
      ]
     },
     "metadata": {},
     "output_type": "display_data"
    }
   ],
   "source": [
    "# (b)\n",
    "n = 126\n",
    "data.frame(\n",
    "    hard_copy = n*0.6,\n",
    "    print = n*0.25,\n",
    "    online = n*0.15\n",
    ")"
   ]
  },
  {
   "cell_type": "code",
   "execution_count": 108,
   "metadata": {},
   "outputs": [
    {
     "data": {
      "text/html": [
       "0.674074074074073"
      ],
      "text/latex": [
       "0.674074074074073"
      ],
      "text/markdown": [
       "0.674074074074073"
      ],
      "text/plain": [
       "[1] 0.6740741"
      ]
     },
     "metadata": {},
     "output_type": "display_data"
    },
    {
     "data": {
      "text/html": [
       "2"
      ],
      "text/latex": [
       "2"
      ],
      "text/markdown": [
       "2"
      ],
      "text/plain": [
       "[1] 2"
      ]
     },
     "metadata": {},
     "output_type": "display_data"
    },
    {
     "data": {
      "text/html": [
       "0.713882399324219"
      ],
      "text/latex": [
       "0.713882399324219"
      ],
      "text/markdown": [
       "0.713882399324219"
      ],
      "text/plain": [
       "[1] 0.7138824"
      ]
     },
     "metadata": {},
     "output_type": "display_data"
    }
   ],
   "source": [
    "# (d)\n",
    "(chi2 = (71-75.6)^2/75.6 + (30-31.5)^2/31.5 + (25-18.9)/18.9)\n",
    "(df = 3-1)\n",
    "(pvalue = pchisq(chi2, df, lower.tail = FALSE))"
   ]
  },
  {
   "cell_type": "markdown",
   "metadata": {},
   "source": [
    "**6.43**"
   ]
  },
  {
   "cell_type": "code",
   "execution_count": 106,
   "metadata": {},
   "outputs": [
    {
     "data": {
      "text/html": [
       "<table>\n",
       "<caption>A data.frame: 2 × 4</caption>\n",
       "<thead>\n",
       "\t<tr><th scope=col>.</th><th scope=col>rock</th><th scope=col>paper</th><th scope=col>scissors</th></tr>\n",
       "\t<tr><th scope=col>&lt;fct&gt;</th><th scope=col>&lt;dbl&gt;</th><th scope=col>&lt;dbl&gt;</th><th scope=col>&lt;dbl&gt;</th></tr>\n",
       "</thead>\n",
       "<tbody>\n",
       "\t<tr><td>observed</td><td>43</td><td>21</td><td>35</td></tr>\n",
       "\t<tr><td>expected</td><td>33</td><td>33</td><td>33</td></tr>\n",
       "</tbody>\n",
       "</table>\n"
      ],
      "text/latex": [
       "A data.frame: 2 × 4\n",
       "\\begin{tabular}{r|llll}\n",
       " . & rock & paper & scissors\\\\\n",
       " <fct> & <dbl> & <dbl> & <dbl>\\\\\n",
       "\\hline\n",
       "\t observed & 43 & 21 & 35\\\\\n",
       "\t expected & 33 & 33 & 33\\\\\n",
       "\\end{tabular}\n"
      ],
      "text/markdown": [
       "\n",
       "A data.frame: 2 × 4\n",
       "\n",
       "| . &lt;fct&gt; | rock &lt;dbl&gt; | paper &lt;dbl&gt; | scissors &lt;dbl&gt; |\n",
       "|---|---|---|---|\n",
       "| observed | 43 | 21 | 35 |\n",
       "| expected | 33 | 33 | 33 |\n",
       "\n"
      ],
      "text/plain": [
       "  .        rock paper scissors\n",
       "1 observed 43   21    35      \n",
       "2 expected 33   33    33      "
      ]
     },
     "metadata": {},
     "output_type": "display_data"
    }
   ],
   "source": [
    "n = 43+21+35\n",
    "expected = n/3\n",
    "data.frame(\n",
    "    `.` = c('observed', 'expected'),\n",
    "    'rock' = c(43, expected),\n",
    "    'paper' = c(21, expected),\n",
    "    'scissors' = c(35, expected)\n",
    ")"
   ]
  },
  {
   "cell_type": "code",
   "execution_count": 109,
   "metadata": {},
   "outputs": [
    {
     "data": {
      "text/html": [
       "7.51515151515151"
      ],
      "text/latex": [
       "7.51515151515151"
      ],
      "text/markdown": [
       "7.51515151515151"
      ],
      "text/plain": [
       "[1] 7.515152"
      ]
     },
     "metadata": {},
     "output_type": "display_data"
    },
    {
     "data": {
      "text/html": [
       "0.0233402542801347"
      ],
      "text/latex": [
       "0.0233402542801347"
      ],
      "text/markdown": [
       "0.0233402542801347"
      ],
      "text/plain": [
       "[1] 0.02334025"
      ]
     },
     "metadata": {},
     "output_type": "display_data"
    }
   ],
   "source": [
    "# H0: Players choose between these 3 options randomly.\n",
    "# HA: Players do not choose between these 3 options randomly.\n",
    "\n",
    "# Independent: Not sure, because the two friends might \n",
    "# affect each others decision.\n",
    "# Success-failure condition: Each cell has >= 5 counts.\n",
    "\n",
    "o = c(43, 21, 35)\n",
    "e = c(33, 33, 33)\n",
    "df = 3-1\n",
    "(chi2 = sum(mapply(function(o,e)(o-e)^2/e, o, e)))\n",
    "(pvalue = pchisq(chi2, df, lower.tail = FALSE))           "
   ]
  },
  {
   "cell_type": "markdown",
   "metadata": {},
   "source": [
    "**6.45**"
   ]
  },
  {
   "cell_type": "code",
   "execution_count": 113,
   "metadata": {},
   "outputs": [
    {
     "data": {
      "text/html": [
       "<table>\n",
       "<caption>A data.frame: 3 × 4</caption>\n",
       "<thead>\n",
       "\t<tr><th scope=col>.</th><th scope=col>patch.and.support</th><th scope=col>patch.only</th><th scope=col>total</th></tr>\n",
       "\t<tr><th scope=col>&lt;fct&gt;</th><th scope=col>&lt;dbl&gt;</th><th scope=col>&lt;dbl&gt;</th><th scope=col>&lt;dbl&gt;</th></tr>\n",
       "</thead>\n",
       "<tbody>\n",
       "\t<tr><td>quit    </td><td> 40</td><td> 30</td><td> 70</td></tr>\n",
       "\t<tr><td>not quit</td><td>110</td><td>120</td><td>230</td></tr>\n",
       "\t<tr><td>total   </td><td>150</td><td>150</td><td>300</td></tr>\n",
       "</tbody>\n",
       "</table>\n"
      ],
      "text/latex": [
       "A data.frame: 3 × 4\n",
       "\\begin{tabular}{r|llll}\n",
       " . & patch.and.support & patch.only & total\\\\\n",
       " <fct> & <dbl> & <dbl> & <dbl>\\\\\n",
       "\\hline\n",
       "\t quit     &  40 &  30 &  70\\\\\n",
       "\t not quit & 110 & 120 & 230\\\\\n",
       "\t total    & 150 & 150 & 300\\\\\n",
       "\\end{tabular}\n"
      ],
      "text/markdown": [
       "\n",
       "A data.frame: 3 × 4\n",
       "\n",
       "| . &lt;fct&gt; | patch.and.support &lt;dbl&gt; | patch.only &lt;dbl&gt; | total &lt;dbl&gt; |\n",
       "|---|---|---|---|\n",
       "| quit     |  40 |  30 |  70 |\n",
       "| not quit | 110 | 120 | 230 |\n",
       "| total    | 150 | 150 | 300 |\n",
       "\n"
      ],
      "text/plain": [
       "  .        patch.and.support patch.only total\n",
       "1 quit      40                30         70  \n",
       "2 not quit 110               120        230  \n",
       "3 total    150               150        300  "
      ]
     },
     "metadata": {},
     "output_type": "display_data"
    }
   ],
   "source": [
    "# (a)\n",
    "data.frame(\n",
    "    `.` = c('quit', 'not quit', 'total'),\n",
    "    'patch and support' = c(40, 110, 150),\n",
    "    'patch only' = c(30, 120, 150),\n",
    "    'total' = c(70, 230, 300)\n",
    ")"
   ]
  },
  {
   "cell_type": "code",
   "execution_count": 114,
   "metadata": {},
   "outputs": [
    {
     "data": {
      "text/html": [
       "<table>\n",
       "<caption>A data.frame: 3 × 4</caption>\n",
       "<thead>\n",
       "\t<tr><th scope=col>.</th><th scope=col>patch.and.support</th><th scope=col>patch.only</th><th scope=col>total</th></tr>\n",
       "\t<tr><th scope=col>&lt;fct&gt;</th><th scope=col>&lt;dbl&gt;</th><th scope=col>&lt;dbl&gt;</th><th scope=col>&lt;dbl&gt;</th></tr>\n",
       "</thead>\n",
       "<tbody>\n",
       "\t<tr><td>quit    </td><td> 35</td><td> 35</td><td> 70</td></tr>\n",
       "\t<tr><td>not quit</td><td>115</td><td>115</td><td>230</td></tr>\n",
       "\t<tr><td>total   </td><td>150</td><td>150</td><td>300</td></tr>\n",
       "</tbody>\n",
       "</table>\n"
      ],
      "text/latex": [
       "A data.frame: 3 × 4\n",
       "\\begin{tabular}{r|llll}\n",
       " . & patch.and.support & patch.only & total\\\\\n",
       " <fct> & <dbl> & <dbl> & <dbl>\\\\\n",
       "\\hline\n",
       "\t quit     &  35 &  35 &  70\\\\\n",
       "\t not quit & 115 & 115 & 230\\\\\n",
       "\t total    & 150 & 150 & 300\\\\\n",
       "\\end{tabular}\n"
      ],
      "text/markdown": [
       "\n",
       "A data.frame: 3 × 4\n",
       "\n",
       "| . &lt;fct&gt; | patch.and.support &lt;dbl&gt; | patch.only &lt;dbl&gt; | total &lt;dbl&gt; |\n",
       "|---|---|---|---|\n",
       "| quit     |  35 |  35 |  70 |\n",
       "| not quit | 115 | 115 | 230 |\n",
       "| total    | 150 | 150 | 300 |\n",
       "\n"
      ],
      "text/plain": [
       "  .        patch.and.support patch.only total\n",
       "1 quit      35                35         70  \n",
       "2 not quit 115               115        230  \n",
       "3 total    150               150        300  "
      ]
     },
     "metadata": {},
     "output_type": "display_data"
    }
   ],
   "source": [
    "# (b)\n",
    "p_quit = 70/300\n",
    "data.frame(\n",
    "    `.` = c('quit', 'not quit', 'total'),\n",
    "    'patch and support' = c(150*p_quit, 150*(1-p_quit), 150),\n",
    "    'patch only' = c(150*p_quit, 150*(1-p_quit), 150),\n",
    "    'total' = c(70, 230, 300)\n",
    ")"
   ]
  },
  {
   "cell_type": "markdown",
   "metadata": {},
   "source": [
    "**6.47**"
   ]
  },
  {
   "cell_type": "code",
   "execution_count": 116,
   "metadata": {},
   "outputs": [
    {
     "data": {
      "text/html": [
       "<dl class=dl-horizontal>\n",
       "\t<dt>yes_support</dt>\n",
       "\t\t<dd>151.472793228537</dd>\n",
       "\t<dt>no_support</dt>\n",
       "\t\t<dd>134.527206771463</dd>\n",
       "\t<dt>yes_oppose</dt>\n",
       "\t\t<dd>162.065296251511</dd>\n",
       "\t<dt>no_oppose</dt>\n",
       "\t\t<dd>143.934703748489</dd>\n",
       "\t<dt>yes_dontknow</dt>\n",
       "\t\t<dd>123.932285368803</dd>\n",
       "\t<dt>no_dontknow</dt>\n",
       "\t\t<dd>110.067714631197</dd>\n",
       "</dl>\n"
      ],
      "text/latex": [
       "\\begin{description*}\n",
       "\\item[yes\\textbackslash{}\\_support] 151.472793228537\n",
       "\\item[no\\textbackslash{}\\_support] 134.527206771463\n",
       "\\item[yes\\textbackslash{}\\_oppose] 162.065296251511\n",
       "\\item[no\\textbackslash{}\\_oppose] 143.934703748489\n",
       "\\item[yes\\textbackslash{}\\_dontknow] 123.932285368803\n",
       "\\item[no\\textbackslash{}\\_dontknow] 110.067714631197\n",
       "\\end{description*}\n"
      ],
      "text/markdown": [
       "yes_support\n",
       ":   151.472793228537no_support\n",
       ":   134.527206771463yes_oppose\n",
       ":   162.065296251511no_oppose\n",
       ":   143.934703748489yes_dontknow\n",
       ":   123.932285368803no_dontknow\n",
       ":   110.067714631197\n",
       "\n"
      ],
      "text/plain": [
       " yes_support   no_support   yes_oppose    no_oppose yes_dontknow  no_dontknow \n",
       "    151.4728     134.5272     162.0653     143.9347     123.9323     110.0677 "
      ]
     },
     "metadata": {},
     "output_type": "display_data"
    },
    {
     "data": {
      "text/html": [
       "11.4956531296938"
      ],
      "text/latex": [
       "11.4956531296938"
      ],
      "text/markdown": [
       "11.4956531296938"
      ],
      "text/plain": [
       "[1] 11.49565"
      ]
     },
     "metadata": {},
     "output_type": "display_data"
    },
    {
     "data": {
      "text/html": [
       "0.00318970588706896"
      ],
      "text/latex": [
       "0.00318970588706896"
      ],
      "text/markdown": [
       "0.00318970588706896"
      ],
      "text/plain": [
       "[1] 0.003189706"
      ]
     },
     "metadata": {},
     "output_type": "display_data"
    }
   ],
   "source": [
    "n_yes = 438\n",
    "n_no = 389\n",
    "n_support = 154+132\n",
    "n_oppose = 180+126\n",
    "n_dontknow = 103+131\n",
    "n = 438+389\n",
    "\n",
    "obs = c(\n",
    "    yes_support = 154,\n",
    "    no_support = 132,\n",
    "    yes_oppose = 180,\n",
    "    no_oppose = 126,\n",
    "    yes_dontknow = 104,\n",
    "    no_dontknow = 131\n",
    ")\n",
    "\n",
    "(exp = c(\n",
    "    yes_support = n_support*n_yes/n,\n",
    "    no_support = n_support*n_no/n,\n",
    "    yes_oppose = n_oppose*n_yes/n,\n",
    "    no_oppose = n_oppose*n_no/n,\n",
    "    yes_dontknow = n_dontknow*n_yes/n,\n",
    "    no_dontknow = n_dontknow*n_no/n\n",
    "))\n",
    "\n",
    "(chi2 = sum(mapply(function(o,e)(o-e)^2/e, obs, exp)))\n",
    "(pvalue = pchisq(chi2, df, lower.tail = FALSE))    "
   ]
  },
  {
   "cell_type": "code",
   "execution_count": null,
   "metadata": {},
   "outputs": [],
   "source": []
  }
 ],
 "metadata": {
  "kernelspec": {
   "display_name": "R",
   "language": "R",
   "name": "ir"
  },
  "language_info": {
   "codemirror_mode": "r",
   "file_extension": ".r",
   "mimetype": "text/x-r-source",
   "name": "R",
   "pygments_lexer": "r",
   "version": "3.6.0"
  }
 },
 "nbformat": 4,
 "nbformat_minor": 2
}
