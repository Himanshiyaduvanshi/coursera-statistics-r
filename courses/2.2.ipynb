{
 "cells": [
  {
   "cell_type": "markdown",
   "metadata": {},
   "source": [
    "**Inferential Statistics - Week 2**"
   ]
  },
  {
   "cell_type": "markdown",
   "metadata": {},
   "source": [
    "# Hypothesis Testing"
   ]
  },
  {
   "cell_type": "markdown",
   "metadata": {},
   "source": [
    "## Hypothesis Testing Framework"
   ]
  },
  {
   "cell_type": "markdown",
   "metadata": {},
   "source": [
    "* We start with a **null hypothesis (H0)** that represents the status quo.\n",
    "* We also have an **alternative hypothesis (HA)** that represents our research question, i.e. what we're testing for.\n",
    "* We conduct a hypothesis test under the assumption that the null hypothesis is true, either via\n",
    "simulation or theorectical methods - methods that rely on the CLT.\n",
    "* If the test results suggest that the data do not provide convincing evidence for the alternative\n",
    "hypothesis, we stick with the null hypothesis. If they do, then we reject the null hypothesis in\n",
    "favor of the alternative."
   ]
  },
  {
   "cell_type": "markdown",
   "metadata": {},
   "source": [
    "## Hypothesis Testing (for a Mean)\n",
    "\n",
    "### Hypothesis\n",
    "* null - H0 : Ofen either a skeptical perspective or a claim to be tested (=)\n",
    "* alternative - HA : Represents an alternative claim under consideration and is often represented by a range of possible parameter values. (<, >, !=)\n",
    "* The skeptic will not abandon the H0 unless the evidence in favor of the HA is so strong that she rejects H0 in favor of HA.\n",
    "* Hypothesis is always about population parameters, but never about sample statistics."
   ]
  },
  {
   "cell_type": "markdown",
   "metadata": {},
   "source": [
    "### P-Value\n",
    "\n",
    "* **P(observed or more extreme outcome | H0 true)**\n",
    "* We use the test statistic to calculate the p-value, the probability of observing data at least as favorable to the alternative hypothesis as our current data set, if the null hypothesis was true.\n",
    "* If the p-value is low (lower than the **significance level** $ \\alpha $, which is usually 5%) we say that it would be very unlikely to observe the data if the null hypothesis were true, and hence **reject H0**.\n",
    "* If the p-value is high (higher than $ \\alpha $) we say that it is likely to observe the data even if the null\n",
    "hypothesis were true, and hence **do not reject H0**."
   ]
  },
  {
   "cell_type": "markdown",
   "metadata": {},
   "source": [
    "**Example**\n",
    "* Earlier we calculated a 95% confidence interval for the average number of exclusive relationships college students have been in to be 2.7 to 3.7. \n",
    "* Based on this confidence interval, do these data support the hypothesis that college students on average have been in more than three exclusive relationships?"
   ]
  },
  {
   "cell_type": "markdown",
   "metadata": {},
   "source": [
    "$$\n",
    "P(\\bar{x} > 3.2 | H_0 : \\mu = 3)\n",
    "$$"
   ]
  },
  {
   "cell_type": "code",
   "execution_count": 21,
   "metadata": {},
   "outputs": [
    {
     "data": {
      "text/html": [
       "0.81"
      ],
      "text/latex": [
       "0.81"
      ],
      "text/markdown": [
       "0.81"
      ],
      "text/plain": [
       "[1] 0.81"
      ]
     },
     "metadata": {},
     "output_type": "display_data"
    },
    {
     "data": {
      "text/html": [
       "0.21"
      ],
      "text/latex": [
       "0.21"
      ],
      "text/markdown": [
       "0.21"
      ],
      "text/plain": [
       "[1] 0.21"
      ]
     },
     "metadata": {},
     "output_type": "display_data"
    }
   ],
   "source": [
    "# H0: mu = 3\n",
    "# Collage students have been in 3 exclusive relationships, on average.\n",
    "\n",
    "# HA: mu > 3\n",
    "# Collage students have been in more than 3 exclusive relationships, on average.\n",
    "\n",
    "# P(x_bar > 3.2 | H0: mu = 3)\n",
    "\n",
    "# Since we assumme H0 is true, we can construct the sampling distribution based on the CLT.\n",
    "\n",
    "# x_bar ~ N(mu = 3, se = 0.246)\n",
    "\n",
    "# test statistic (z-score for normal distribution)\n",
    "(z <- round((3.2 - 3)/0.246, 2))\n",
    "\n",
    "# p-value\n",
    "(p_value <- round(1 - pnorm(z), 2))\n",
    "\n",
    "# Since p-value is high, we do not reject H0."
   ]
  },
  {
   "cell_type": "code",
   "execution_count": 22,
   "metadata": {},
   "outputs": [],
   "source": [
    "# If in fact college students have been in 3 exclusive relationships on average (H0 true), there is a \n",
    "# 21% (0.21) chance that a random sample of 50 college student would yield a sample mean of 3.2 or higher.\n",
    "\n",
    "# This is a high probability, so we think that a sample mean of 3.2 or more exclusive relationships is \n",
    "# likely to happen simply by chance or sampling variability."
   ]
  },
  {
   "cell_type": "markdown",
   "metadata": {},
   "source": [
    "### Two-Sided Tests\n",
    "\n",
    "* Often instead of looking for a divergence from the null in a specific direction, we might be interested\n",
    "in divergence in any direction.\n",
    "* We call such hypothesis tests **two-sided** (or **two-tailed**).\n",
    "* The definition of a p-value is the same regardless of doing a one or a two-sided test. However, the calculation becomes slightly different and ever so slightly more complicated since we need to consider \"at least as extreme as the observed outcome\" in both directions away from the mean."
   ]
  },
  {
   "cell_type": "markdown",
   "metadata": {},
   "source": [
    "**Example**\n",
    "\n",
    "$$\n",
    "P(\\bar{x} > 3.2  \\text{ OR }  \\bar{x} < 2.8 | H_0 : \\mu = 3)\n",
    "$$"
   ]
  },
  {
   "cell_type": "code",
   "execution_count": 40,
   "metadata": {},
   "outputs": [
    {
     "data": {
      "text/html": [
       "0.81"
      ],
      "text/latex": [
       "0.81"
      ],
      "text/markdown": [
       "0.81"
      ],
      "text/plain": [
       "[1] 0.81"
      ]
     },
     "metadata": {},
     "output_type": "display_data"
    },
    {
     "data": {
      "text/html": [
       "-0.81"
      ],
      "text/latex": [
       "-0.81"
      ],
      "text/markdown": [
       "-0.81"
      ],
      "text/plain": [
       "[1] -0.81"
      ]
     },
     "metadata": {},
     "output_type": "display_data"
    },
    {
     "data": {
      "text/html": [
       "0.209"
      ],
      "text/latex": [
       "0.209"
      ],
      "text/markdown": [
       "0.209"
      ],
      "text/plain": [
       "[1] 0.209"
      ]
     },
     "metadata": {},
     "output_type": "display_data"
    },
    {
     "data": {
      "text/html": [
       "0.209"
      ],
      "text/latex": [
       "0.209"
      ],
      "text/markdown": [
       "0.209"
      ],
      "text/plain": [
       "[1] 0.209"
      ]
     },
     "metadata": {},
     "output_type": "display_data"
    },
    {
     "data": {
      "text/html": [
       "0.418"
      ],
      "text/latex": [
       "0.418"
      ],
      "text/markdown": [
       "0.418"
      ],
      "text/plain": [
       "[1] 0.418"
      ]
     },
     "metadata": {},
     "output_type": "display_data"
    }
   ],
   "source": [
    "# test statistic\n",
    "(z_upper <- round((3.2 - 3)/0.246, 2))\n",
    "(z_lower <- round((2.8 - 3)/0.246, 2))\n",
    "\n",
    "# p-value\n",
    "(p_upper <- round(1 - pnorm(z_upper), 3))\n",
    "(p_lower <- round(pnorm(z_lower), 3))\n",
    "\n",
    "(p_value <- p_upper + p_lower)"
   ]
  },
  {
   "cell_type": "markdown",
   "metadata": {},
   "source": [
    "### Step-by-Step\n",
    "\n",
    "1. Set the **hypotheses**\n",
    "    * $H_0 : \\mu = \\text{null value}$\n",
    "    * $H_A: \\mu < or > or \\neq \\text{null value}$\n",
    "2. Calculate the **point estimate**: $\\bar{x}$\n",
    "3. Check **conditions**\n",
    "    * Independence\n",
    "    * Sample size/skew\n",
    "4. Draw **sampling distribution**, shape **p-value**, calculate **test statistic**\n",
    "    * $ z = \\frac{\\bar{x} - \\mu}{SE} $\n",
    "    * $ SE = \\frac{s}{\\sqrt{n}} $\n",
    "5. Make a decision, and interpret it in context of the research question\n",
    "    * If p-value < $\\alpha$, reject $H_0$; the data provide convincing evidence for $H_A$.\n",
    "    * If p-value > $\\alpha$, fail to reject $H_0$ the data do not provide convincing evidence for $H_A$."
   ]
  },
  {
   "cell_type": "markdown",
   "metadata": {},
   "source": [
    "**Example**\n",
    "* Researchers investigating characteristics of gifted children collected data from schools in a large city on a random sample of 36 children who were identified as gifted children soon after they reached the age of four. \n",
    "* In this study, along with variables on the children, the researchers also collected data on their mothers' IQ scores. The histogram shows the distribution of these data, and also provided our some sample statistics.\n",
    "    * n = 36\n",
    "    * min = 101\n",
    "    * mean = 118.2\n",
    "    * sd = 6.5\n",
    "    * max = 131\n",
    "* Perform a hypothesis test to evaluate if these data provide convincing evidence of a difference between the average IQ score of mothers of gifted children And the average IQ score for the population at large, which happens to be 100. We're also asked to use a significance level of .01."
   ]
  },
  {
   "cell_type": "code",
   "execution_count": 41,
   "metadata": {},
   "outputs": [],
   "source": [
    "# (1) Set the hypotheses\n",
    "# H0: mu = 100\n",
    "# H1: mu != 100"
   ]
  },
  {
   "cell_type": "code",
   "execution_count": 42,
   "metadata": {},
   "outputs": [],
   "source": [
    "# (2) Calculate the point estimate\n",
    "x_bar <- 118.2"
   ]
  },
  {
   "cell_type": "code",
   "execution_count": 43,
   "metadata": {},
   "outputs": [],
   "source": [
    "# (3) Check the conditions\n",
    "# random & 35 < 10% of all gifted child -> independence\n",
    "# n > 30 & sample not skewed -> nearly normal sampling distribution"
   ]
  },
  {
   "cell_type": "code",
   "execution_count": 63,
   "metadata": {},
   "outputs": [
    {
     "data": {
      "text/html": [
       "1.083"
      ],
      "text/latex": [
       "1.083"
      ],
      "text/markdown": [
       "1.083"
      ],
      "text/plain": [
       "[1] 1.083"
      ]
     },
     "metadata": {},
     "output_type": "display_data"
    },
    {
     "data": {
      "text/html": [
       "16.8051708217913"
      ],
      "text/latex": [
       "16.8051708217913"
      ],
      "text/markdown": [
       "16.8051708217913"
      ],
      "text/plain": [
       "[1] 16.80517"
      ]
     },
     "metadata": {},
     "output_type": "display_data"
    },
    {
     "data": {
      "text/html": [
       "-16.8051708217913"
      ],
      "text/latex": [
       "-16.8051708217913"
      ],
      "text/markdown": [
       "-16.8051708217913"
      ],
      "text/plain": [
       "[1] -16.80517"
      ]
     },
     "metadata": {},
     "output_type": "display_data"
    },
    {
     "data": {
      "text/html": [
       "2.2366732644382e-63"
      ],
      "text/latex": [
       "2.2366732644382e-63"
      ],
      "text/markdown": [
       "2.2366732644382e-63"
      ],
      "text/plain": [
       "[1] 2.236673e-63"
      ]
     },
     "metadata": {},
     "output_type": "display_data"
    }
   ],
   "source": [
    "# (4) Sampling distribution, p-value, test statistic\n",
    "(se <- round(6.5/sqrt(36), 3))\n",
    "\n",
    "(z_upper <- (118.2-100)/se)\n",
    "(z_lower <- (81.8-100)/se)\n",
    "\n",
    "(p_value <- (pnorm(z_upper, lower.tail = FALSE)) + pnorm(z_lower))"
   ]
  },
  {
   "cell_type": "code",
   "execution_count": 64,
   "metadata": {},
   "outputs": [],
   "source": [
    "# (5) Make a decision\n",
    "# p-value is very low -> strong evidence against the null\n",
    "# We reject the null hypothesis and conclude that the data provide convincing evidence of a difference between \n",
    "# the average IQ score of mothers of gifted child and the average IQ score for the populatin at large."
   ]
  },
  {
   "cell_type": "markdown",
   "metadata": {},
   "source": [
    "**Example**\n",
    "* A statistics student interested in sleep habits of domestic cats took a random sample of 144 cats and monitored their sleep. The cats slept an average of 16 hours per day. According to our online resources, domestic dogs actually sleep on average 14 hours a day. \n",
    "* We want to find out if these data provide convincing evidence of different sleeping habits for domestic cats and dogs with respect to how much they sleep. Note that the test statistic calculated was 1.73.\n",
    "* What is the interpretation of this p-value in context of these data?"
   ]
  },
  {
   "cell_type": "code",
   "execution_count": 68,
   "metadata": {},
   "outputs": [
    {
     "data": {
      "text/html": [
       "0.0836302752271899"
      ],
      "text/latex": [
       "0.0836302752271899"
      ],
      "text/markdown": [
       "0.0836302752271899"
      ],
      "text/plain": [
       "[1] 0.08363028"
      ]
     },
     "metadata": {},
     "output_type": "display_data"
    }
   ],
   "source": [
    "# H0: mu = 14\n",
    "# H1: mu != 14\n",
    "\n",
    "(p_value <- pnorm(-1.73) * 2)"
   ]
  },
  {
   "cell_type": "code",
   "execution_count": 70,
   "metadata": {},
   "outputs": [],
   "source": [
    "# p(obtaining a random sample of 144 cats that sleep 16 hours or more or 12 hours or less, \n",
    "# on average, if in fact cats truly slept 14 hours per day on average) = 0.0836\n",
    "\n",
    "# The p-value is larger than the significance level 0.05. Hence the evidence is not strong\n",
    "# enough to reject the null hypotheses. Hence, we cannot decide that there is a\n",
    "# difference between the sleeping habits for domestic cats and dogs.\n",
    "# If the average hours of sleep for domestic cat is 14, there is a 8% chance \n",
    "# that a random sample of size 144 would yield a sample mean of 16."
   ]
  },
  {
   "cell_type": "markdown",
   "metadata": {},
   "source": [
    "## Exercises\n",
    "\n",
    "OpenIntro Statistics, 3rd edition<br>\n",
    "4.17, 4.19, 4.23, 4.25, 4.27"
   ]
  },
  {
   "cell_type": "markdown",
   "metadata": {},
   "source": [
    "**4.17 Identify hypotheses, Part I.** \n",
    "* Write the null and alternative hypotheses in words and\n",
    "then symbols for each of the following situations.\n",
    "* (a) New York is known as “the city that never sleeps”. A random sample of 25 New Yorkers were\n",
    "asked how much sleep they get per night. Do these data provide convincing evidence that\n",
    "New Yorkers on average sleep less than 8 hours a night?\n",
    "* (b) Employers at a firm are worried about the effect of March Madness, a basketball championship\n",
    "held each spring in the US, on employee productivity. They estimate that on a regular business\n",
    "day employees spend on average 15 minutes of company time checking personal email, making\n",
    "personal phone calls, etc. They also collect data on how much company time employees spend\n",
    "on such non- business activities during March Madness. They want to determine if these data\n",
    "provide convincing evidence that employee productivity decreases during March Madness"
   ]
  },
  {
   "cell_type": "code",
   "execution_count": 1,
   "metadata": {},
   "outputs": [],
   "source": [
    "# (a)\n",
    "\n",
    "# H0: mu = 8\n",
    "# HA: mu < 8\n",
    "\n",
    "# The null hypotheses assumes that the average sleep hours of New Yorkers \n",
    "# is no difference to the average sleep hours of other city \n",
    "# which is 8 hours.\n",
    "\n",
    "# The alternative hypotheses is that New Yorkers on average sleep less \n",
    "# than 8 hours."
   ]
  },
  {
   "cell_type": "markdown",
   "metadata": {},
   "source": [
    "**4.19 Online communication.**\n",
    "* A study suggests that the average college student spends 10\n",
    "hours per week communicating with others online. You believe that this is an underestimate and\n",
    "decide to collect your own sample for a hypothesis test. You randomly sample 60 students from\n",
    "your dorm and find that on average they spent 13.5 hours a week communicating with others\n",
    "online. \n",
    "* A friend of yours, who offers to help you with the hypothesis test, comes up with the\n",
    "following set of hypotheses. Indicate any errors you see.\n",
    "$$H_0 : \\bar{x} < 10 \\text{ hours}$$\n",
    "$$H_A : \\bar{x} > 13.5 \\text{ hours}$$"
   ]
  },
  {
   "cell_type": "code",
   "execution_count": 3,
   "metadata": {},
   "outputs": [],
   "source": [
    "# The null hypotheses should be mu = 10 hours.\n",
    "# The alternative hypotheses should be mu > 10 hours."
   ]
  },
  {
   "cell_type": "markdown",
   "metadata": {},
   "source": [
    "**4.23 Nutrition labels.** \n",
    "* The nutrition label on a bag of potato chips says that a one ounce\n",
    "(28 gram) serving of potato chips has 130 calories and contains ten grams of fat, with three grams\n",
    "of saturated fat. A random sample of 35 bags yielded a sample mean of 134 calories with a standard\n",
    "deviation of 17 calories. \n",
    "* Is there evidence that the nutrition label does not provide an accurate\n",
    "measure of calories in the bags of potato chips? We have verified the independence, sample size,\n",
    "and skew conditions are satisfied."
   ]
  },
  {
   "cell_type": "code",
   "execution_count": 7,
   "metadata": {},
   "outputs": [
    {
     "data": {
      "text/html": [
       "2.87352446607696"
      ],
      "text/latex": [
       "2.87352446607696"
      ],
      "text/markdown": [
       "2.87352446607696"
      ],
      "text/plain": [
       "[1] 2.873524"
      ]
     },
     "metadata": {},
     "output_type": "display_data"
    },
    {
     "data": {
      "text/html": [
       "1.39201877249403"
      ],
      "text/latex": [
       "1.39201877249403"
      ],
      "text/markdown": [
       "1.39201877249403"
      ],
      "text/plain": [
       "[1] 1.392019"
      ]
     },
     "metadata": {},
     "output_type": "display_data"
    },
    {
     "data": {
      "text/html": [
       "0.163916713380565"
      ],
      "text/latex": [
       "0.163916713380565"
      ],
      "text/markdown": [
       "0.163916713380565"
      ],
      "text/plain": [
       "[1] 0.1639167"
      ]
     },
     "metadata": {},
     "output_type": "display_data"
    }
   ],
   "source": [
    "# H0: mu = 130\n",
    "# HA: mu != 130\n",
    "\n",
    "x <- 130\n",
    "p <- 134\n",
    "sd <- 17\n",
    "n <- 35\n",
    "\n",
    "(se <- sd/sqrt(n))\n",
    "\n",
    "(z <- (134-130)/se)\n",
    "\n",
    "pnorm(z, lower.tail = FALSE) * 2\n",
    "\n",
    "# If the null hypotheses is true (mean is 130), there is a 0.164\n",
    "# chance during a random sample of 130 yielding a sample mean of 134.\n",
    "# Let alpha be 0.05, the p-value is higher than the significance\n",
    "# level and we failed to reject the null hypotheses. Hence,\n",
    "# there is no strong evidence suggesting the measure of calories in the\n",
    "# bags of potato chips is inaccurate."
   ]
  },
  {
   "cell_type": "markdown",
   "metadata": {},
   "source": [
    "**4.25 Waiting at an ER, Part III.** \n",
    "* The hospital administrator mentioned in Exercise 4.13\n",
    "randomly selected 64 patients and measured the time (in minutes) between when they checked in\n",
    "to the ER and the time they were first seen by a doctor. The average time is 137.5 minutes and\n",
    "the standard deviation is 39 minutes. She is getting grief from her supervisor on the basis that\n",
    "the wait times in the ER has increased greatly from last year’s average of 127 minutes. However,\n",
    "she claims that the increase is probably just due to chance.\n",
    "* (a) Are conditions for inference met? Note any assumptions you must make to proceed.\n",
    "* (b) Using a significance level of α = 0.05, is the change in wait times statistically significant? Use\n",
    "a two-sided test since it seems the supervisor had to inspect the data before she suggested an\n",
    "increase occurred.\n",
    "* (c) Would the conclusion of the hypothesis test change if the significance level was changed to\n",
    "α = 0.01?\n"
   ]
  },
  {
   "cell_type": "code",
   "execution_count": 14,
   "metadata": {},
   "outputs": [],
   "source": [
    "# (a)\n",
    "# Independence: Since the patients are randomly selected, the independence \n",
    "# condition is met, and should make up of less than 10% of the ER residents.\n",
    "# Sample size: The sample size is 64, greater than 30. It's large enough\n",
    "# to perform inference with normal distribution.\n",
    "# Skewness: There's no information regarding the skewness but \n",
    "# we could assume that it's not skewed."
   ]
  },
  {
   "cell_type": "code",
   "execution_count": 12,
   "metadata": {},
   "outputs": [
    {
     "data": {
      "text/html": [
       "4.875"
      ],
      "text/latex": [
       "4.875"
      ],
      "text/markdown": [
       "4.875"
      ],
      "text/plain": [
       "[1] 4.875"
      ]
     },
     "metadata": {},
     "output_type": "display_data"
    },
    {
     "data": {
      "text/html": [
       "-2.15384615384615"
      ],
      "text/latex": [
       "-2.15384615384615"
      ],
      "text/markdown": [
       "-2.15384615384615"
      ],
      "text/plain": [
       "[1] -2.153846"
      ]
     },
     "metadata": {},
     "output_type": "display_data"
    },
    {
     "data": {
      "text/html": [
       "0.0312522388569388"
      ],
      "text/latex": [
       "0.0312522388569388"
      ],
      "text/markdown": [
       "0.0312522388569388"
      ],
      "text/plain": [
       "[1] 0.03125224"
      ]
     },
     "metadata": {},
     "output_type": "display_data"
    }
   ],
   "source": [
    "# (b)\n",
    "# H0: mu = 127\n",
    "# HA: mu != 127\n",
    "\n",
    "n <- 64\n",
    "x <- 137.5\n",
    "p <- 127\n",
    "sd <- 39\n",
    "\n",
    "(se <- sd / sqrt(n))\n",
    "\n",
    "(z <- (p - x)/se)\n",
    "\n",
    "pnorm(z)*2\n",
    "\n",
    "# The p-value 0.03 is smaller than the significance level of 0.05.\n",
    "# Hence, the null hypotheses can be rejected in favor of the\n",
    "# alternative hypotheses. The data provide convincing evidence that\n",
    "# the average ER wait time has increased over the last year."
   ]
  },
  {
   "cell_type": "code",
   "execution_count": 13,
   "metadata": {},
   "outputs": [],
   "source": [
    "# (c)\n",
    "\n",
    "# If the alpha is changed to 0.01, the p-value is larger than the \n",
    "# significance level and hence we cannot reject the null hypotheses."
   ]
  },
  {
   "cell_type": "markdown",
   "metadata": {},
   "source": [
    "**4.27 Working backwards, one-sided.** \n",
    "\n",
    "* You are given the following hypotheses:\n",
    "$$H_0 : µ = 30$$\n",
    "$$H_A : µ > 30$$\n",
    "* We know that the sample standard deviation is 10 and the sample size is 70. For what sample\n",
    "mean would the p-value be equal to 0.05? Assume that all conditions necessary for inference are\n",
    "satisfied."
   ]
  },
  {
   "cell_type": "code",
   "execution_count": 23,
   "metadata": {},
   "outputs": [
    {
     "data": {
      "text/html": [
       "1.19522860933439"
      ],
      "text/latex": [
       "1.19522860933439"
      ],
      "text/markdown": [
       "1.19522860933439"
      ],
      "text/plain": [
       "[1] 1.195229"
      ]
     },
     "metadata": {},
     "output_type": "display_data"
    },
    {
     "data": {
      "text/html": [
       "-1.64485362695147"
      ],
      "text/latex": [
       "-1.64485362695147"
      ],
      "text/markdown": [
       "-1.64485362695147"
      ],
      "text/plain": [
       "[1] -1.644854"
      ]
     },
     "metadata": {},
     "output_type": "display_data"
    },
    {
     "data": {
      "text/html": [
       "28.0340238869002"
      ],
      "text/latex": [
       "28.0340238869002"
      ],
      "text/markdown": [
       "28.0340238869002"
      ],
      "text/plain": [
       "[1] 28.03402"
      ]
     },
     "metadata": {},
     "output_type": "display_data"
    }
   ],
   "source": [
    "n <- 70\n",
    "x <- 30\n",
    "sd <- 10\n",
    "\n",
    "(se <- 10/sqrt(70))\n",
    "\n",
    "# Find the required z value if p-value = 0.05\n",
    "(z <- qnorm(0.05))\n",
    "\n",
    "# Find the required mean\n",
    "# z = (p - x)/se\n",
    "z * se + x"
   ]
  },
  {
   "cell_type": "markdown",
   "metadata": {},
   "source": [
    "# Significance"
   ]
  },
  {
   "cell_type": "markdown",
   "metadata": {},
   "source": [
    "## Inference for Other Estimators\n",
    "\n",
    "* Any **nearly normal sampling distributions**\n",
    "    * Sample mean $\\bar{x}$\n",
    "    * Difference between sample means $\\bar{x}_1 - \\bar{x}_2$\n",
    "    * Sample proportion $\\hat{p}$\n",
    "    * Diffefference between sample proportions $\\hat{p}_1 - \\hat{p}_2$\n",
    "* **Unbiased estimator**\n",
    "    * An important assumption about the point estimates is that they're unbiased, i.e. the sampling distribution of the estimate is centered at the true population parameter it estimates.\n",
    "    * An unbiased estimate does not naturally over or underestimate the parameter but instead it provides a good estimate. \n",
    "    * We know that the sample mean is an example of an unbiased point estimate.\n",
    "    \n",
    "### Confidence Intervals\n",
    "* **Confidence intervals** for nearly normal point estimates\n",
    "    $$ \\text{point estimate} \\pm z^{\\star} \\times SE $$\n",
    "    \n",
    "### Hypothesis Testing\n",
    "* **Hypothesis testing** for nearly normal point estimates\n",
    "    $$ Z = \\frac{\\text{ point estimate } - \\text{ null value }}{SE} $$"
   ]
  },
  {
   "cell_type": "markdown",
   "metadata": {},
   "source": [
    "**Example**\n",
    "* A 2010 Pew Research foundation poll indicates that among 1,099 college graduates, 33% watch the Daily Show. An American late-night TV Show. The standard error of this estimate is 0.014. \n",
    "* We are asked to estimate the 95% confidence interval for the proportion of college graduates who watch The Daily Show."
   ]
  },
  {
   "cell_type": "code",
   "execution_count": 1,
   "metadata": {},
   "outputs": [
    {
     "data": {
      "text/html": [
       "0.35744"
      ],
      "text/latex": [
       "0.35744"
      ],
      "text/markdown": [
       "0.35744"
      ],
      "text/plain": [
       "[1] 0.35744"
      ]
     },
     "metadata": {},
     "output_type": "display_data"
    },
    {
     "data": {
      "text/html": [
       "0.30256"
      ],
      "text/latex": [
       "0.30256"
      ],
      "text/markdown": [
       "0.30256"
      ],
      "text/plain": [
       "[1] 0.30256"
      ]
     },
     "metadata": {},
     "output_type": "display_data"
    }
   ],
   "source": [
    "p <- 0.33\n",
    "se <- 0.014\n",
    "\n",
    "p + 1.96 * se\n",
    "p - 1.96 * se"
   ]
  },
  {
   "cell_type": "markdown",
   "metadata": {},
   "source": [
    "**Example**\n",
    "\n",
    "* The 3rd national health and nutrition examination survey NHANES, collected body fat percentage and gender data from over 13,000 subjects in ages between 20 to 80. The average body fat percentage for the 6,580 men in the sample was 23.9%. And this value was 35% for the, for the 7,021 women. The standard error for the difference between the average male and female body fat percentages was 0.114. \n",
    "* Do these data provide convincing evidence that men and women have different average body fat percentages? You may assume that the distribution of the point estimate is nearly normal. "
   ]
  },
  {
   "cell_type": "code",
   "execution_count": 11,
   "metadata": {},
   "outputs": [
    {
     "data": {
      "text/html": [
       "-11.1"
      ],
      "text/latex": [
       "-11.1"
      ],
      "text/markdown": [
       "-11.1"
      ],
      "text/plain": [
       "[1] -11.1"
      ]
     },
     "metadata": {},
     "output_type": "display_data"
    },
    {
     "data": {
      "text/html": [
       "-97.3684210526316"
      ],
      "text/latex": [
       "-97.3684210526316"
      ],
      "text/markdown": [
       "-97.3684210526316"
      ],
      "text/plain": [
       "[1] -97.36842"
      ]
     },
     "metadata": {},
     "output_type": "display_data"
    },
    {
     "data": {
      "text/html": [
       "0"
      ],
      "text/latex": [
       "0"
      ],
      "text/markdown": [
       "0"
      ],
      "text/plain": [
       "[1] 0"
      ]
     },
     "metadata": {},
     "output_type": "display_data"
    }
   ],
   "source": [
    "# H0: mu_men = mu_women -> mu_men - mu_women = 0\n",
    "# H1: mu_men = mu_women -> mu_men - mu_women != 0\n",
    "\n",
    "# Point estimate\n",
    "# mu_men - mu_women\n",
    "(p <- 23.9 - 35)\n",
    "\n",
    "mu <- 0\n",
    "se <- 0.114\n",
    "\n",
    "(z <- (-11.1 - 0)/0.114)\n",
    "\n",
    "(p_value <- pnorm(z) * 2)\n",
    "\n",
    "# Reject the null hypothesis."
   ]
  },
  {
   "cell_type": "markdown",
   "metadata": {},
   "source": [
    "## Decision Errors\n",
    "\n",
    "* **Type I error** ($\\alpha$) is rejecting the H0 when H0 is true. (Declaring the defendant guilty when they are actually innocent.)\n",
    "* **Type II error** ($\\beta$) is failing to reject H0 when HA is true. (Declaring the defendant innocent when they are actually guilty.)\n",
    "* **Power** ($1 - \\beta$) of a test is the probability of correctly rejecting H0.\n",
    "\n",
    "\n",
    "* We (almost) never know if H0 or HA is true, but we need to consider all possibilities."
   ]
  },
  {
   "cell_type": "markdown",
   "metadata": {},
   "source": [
    "### Type I Error Rate\n",
    "* We reject the null hypothesis when the p-value is less than 0.05 ($\\alpha = 0.05$). \n",
    "* This means that, for those cases where the null hypothesis is actually true, we do not want to incorrectly reject it more than 5% of those times.\n",
    "* In other words, when using a 5% significance level, there is about a 5% chance of making a type one error if the null hypothesis is true. \n",
    "\n",
    "$$ P(\\text{Type I error } | H_0 \\text{ true}) = \\alpha $$\n",
    "\n",
    "* This is why we prefer small values of $\\alpha$ - increasing $\\alpha$ increases the Type I error rate.\n",
    "* If Type I Error is dangerous or especially costly, choose a small significance level (e.g. 0.01). Goal: We want to be very cautious about rejecting H0, so we demand very strong evidence favoring HA before we should do so.\n",
    "* If Type II Error is relatively more dangerous or much more costly, choose a higher significance level (e.g. 0.10). Goal: We want to be cautious about failing to reject H0 when the null is actually false.\n",
    "\n",
    "### Type II Error Rate\n",
    "\n",
    "* If the alternative hypothesis is actually true, what is the chance that we make a type two error? In other words, what is the chance that we fail to reject the null hypothesis, even when we should reject it?\n",
    "* The answer to this is not obvious. \n",
    "* If the true population average is very close to the null value, it will be very difficult to detect a difference and to reject the null hypothesis. \n",
    "* In other words, if the true population average is very different from the null value, it will be much easier to detect a difference.\n",
    "* Clearly then, $\\beta$, the probability of making a type two area depends on our effect size. An **effect size** is defined as the difference between the point estimate and the null value."
   ]
  },
  {
   "cell_type": "markdown",
   "metadata": {},
   "source": [
    "## Significance vs Confidence Level\n",
    "\n",
    "* Broadly we can say that a significance level and a confidence level are complements of each other.\n",
    "* A two sided hypothesis with threshold of $\\alpha$ is equivalent to a confidence interval with $CL = 1 - \\alpha$.\n",
    "* A one sided hypothesis with threshold of $\\alpha$ is equivalent to a confidence interval with $CL = 1 - (2 \\times \\alpha)$.\n",
    "* If H0 is rejected, a confidence interval that agrees with the result of the hypothesis test should not include the null value.\n",
    "* If H0 is failed to be rejected, a confidence interval that agrees with the result of the hypothesis test should include the null value."
   ]
  },
  {
   "cell_type": "markdown",
   "metadata": {},
   "source": [
    "## Statistical vs Practical Significance\n",
    "\n",
    "* Real differences between the point estimate and the null value are easier to detect with large samples. \n",
    "* However very large samples will result in statistical significance even for tiny differences between the sample mean and the null value or our effect size, even when the difference is not practically significant."
   ]
  },
  {
   "cell_type": "markdown",
   "metadata": {},
   "source": [
    "## Exercises\n",
    "\n",
    "OpenIntro Statistics, 3rd edition<br>\n",
    "4.43, 4.45<br>\n",
    "4.29, 4.31, 4.47"
   ]
  },
  {
   "cell_type": "markdown",
   "metadata": {},
   "source": [
    "**4.43 Spam mail counts.** \n",
    "* The 2004 National Technology Readiness Survey sponsored by the\n",
    "Smith School of Business at the University of Maryland surveyed 418 randomly sampled Americans,\n",
    "asking them how many spam emails they receive per day. The survey was repeated on a new\n",
    "random sample of 499 Americans in 2009.\n",
    "* (a) What are the hypotheses for evaluating if the average spam emails per day has changed from\n",
    "2004 to 2009.\n",
    "* (b) In 2004 the mean was 18.5 spam emails per day, and in 2009 this value was 14.9 emails per\n",
    "day. What is the point estimate for the difference between the two population means?\n",
    "* (c) A report on the survey states that the observed difference between the sample means is not\n",
    "statistically significant. Explain what this means in context of the hypothesis test and data.\n",
    "* (d) Would you expect a confidence interval for the difference between the two population means\n",
    "to contain 0? Explain your reasoning."
   ]
  },
  {
   "cell_type": "code",
   "execution_count": 1,
   "metadata": {},
   "outputs": [],
   "source": [
    "# (a)\n",
    "# H0: mu_2009 - mu_2004 = 0\n",
    "# HA: mu_2009 - mu_2004 != 0"
   ]
  },
  {
   "cell_type": "code",
   "execution_count": 3,
   "metadata": {},
   "outputs": [
    {
     "data": {
      "text/html": [
       "3.6"
      ],
      "text/latex": [
       "3.6"
      ],
      "text/markdown": [
       "3.6"
      ],
      "text/plain": [
       "[1] 3.6"
      ]
     },
     "metadata": {},
     "output_type": "display_data"
    }
   ],
   "source": [
    "# (b)\n",
    "(p <- 18.5 - 14.9)"
   ]
  },
  {
   "cell_type": "code",
   "execution_count": 4,
   "metadata": {},
   "outputs": [],
   "source": [
    "# (c)\n",
    "# It means that assuming the null hypotheses is true, where the difference\n",
    "# between the average spam emails per day in 2004 and 2009 is 0,\n",
    "# the probability of observing a sample difference of 3.6\n",
    "# is higher than the significance level alpha, in other words, \n",
    "# not rare. Hence, we cannot reject the null hypotheses and say\n",
    "# that the data provides statistically strong evidence in favor of\n",
    "# the alternative hypotheses."
   ]
  },
  {
   "cell_type": "code",
   "execution_count": 5,
   "metadata": {},
   "outputs": [],
   "source": [
    "# (d)\n",
    "# Yes. Since the result is not statistically significant, we cannot\n",
    "# reject the null hypotheses. Hence, we would expect 0 to be \n",
    "# include in our confidence interval, i.e. it's highly plausible\n",
    "# to see the value 0."
   ]
  },
  {
   "cell_type": "markdown",
   "metadata": {},
   "source": [
    "**4.45 Spam mail percentages.** \n",
    "* The National Technology Readiness Survey sponsored by the\n",
    "Smith School of Business at the University of Maryland surveyed 418 randomly sampled Americans,\n",
    "asking them how often they delete spam emails. In 2004, 23% of the respondents said they delete\n",
    "their spam mail once a month or less, and in 2009 this value was 16%.\n",
    "* (a) What are the hypotheses for evaluating if the proportion of those who delete their email once\n",
    "a month or less has changed from 2004 to 2009?\n",
    "* (b) What is the point estimate for the difference between the two population proportions?\n",
    "* (c) A report on the survey states that the observed decrease from 2004 to 2009 is statistically\n",
    "significant. Explain what this means in context of the hypothesis test and the data.\n",
    "* (d) Would you expect a confidence interval for the difference between the two population proportions to contain 0? Explain your reasoning.\n"
   ]
  },
  {
   "cell_type": "code",
   "execution_count": 6,
   "metadata": {},
   "outputs": [],
   "source": [
    "# (a)\n",
    "# H0: p_2004 = p_2009\n",
    "# HA: p_2004 != p_2009"
   ]
  },
  {
   "cell_type": "code",
   "execution_count": 7,
   "metadata": {},
   "outputs": [
    {
     "data": {
      "text/html": [
       "-0.07"
      ],
      "text/latex": [
       "-0.07"
      ],
      "text/markdown": [
       "-0.07"
      ],
      "text/plain": [
       "[1] -0.07"
      ]
     },
     "metadata": {},
     "output_type": "display_data"
    }
   ],
   "source": [
    "# (b)\n",
    "(p <- 0.16 - 0.23)"
   ]
  },
  {
   "cell_type": "code",
   "execution_count": 8,
   "metadata": {},
   "outputs": [],
   "source": [
    "# (c) \n",
    "# It means that assuming the null hypotheses is true, the probability\n",
    "# of observing a difference of 0.07 is very small, and smaller than\n",
    "# the significance level, hence we reject the null hypotheses \n",
    "# and say that the data provides evidence that there are difference \n",
    "# between the two population proportions, and the difference is not due\n",
    "# to sampling variability."
   ]
  },
  {
   "cell_type": "code",
   "execution_count": 9,
   "metadata": {},
   "outputs": [],
   "source": [
    "# (d)\n",
    "# No. As we rejected the null hypotheses."
   ]
  },
  {
   "cell_type": "markdown",
   "metadata": {},
   "source": [
    "**4.29 Testing for Fibromyalgia.** \n",
    "* A patient named Diana was diagnosed with Fibromyalgia, a\n",
    "long-term syndrome of body pain, and was prescribed anti-depressants. Being the skeptic that she\n",
    "is, Diana didn’t initially believe that anti-depressants would help her symptoms. However after\n",
    "a couple months of being on the medication she decides that the anti-depressants are working,\n",
    "because she feels like her symptoms are in fact getting better.\n",
    "* (a) Write the hypotheses in words for Diana’s skeptical position when she started taking the\n",
    "anti-depressants.\n",
    "* (b) What is a Type 1 Error in this context?\n",
    "* (c) What is a Type 2 Error in this context?"
   ]
  },
  {
   "cell_type": "code",
   "execution_count": 10,
   "metadata": {},
   "outputs": [],
   "source": [
    "# (a)\n",
    "# H0: The anti-depressants are not working.\n",
    "# HA: The anti-depressants are working."
   ]
  },
  {
   "cell_type": "code",
   "execution_count": 12,
   "metadata": {},
   "outputs": [],
   "source": [
    "# (b)\n",
    "# Type 1 error is to declare the anti-depressants to be working \n",
    "# when the truth is they are useless."
   ]
  },
  {
   "cell_type": "code",
   "execution_count": 13,
   "metadata": {},
   "outputs": [],
   "source": [
    "# (c)\n",
    "# Type 2 error is to declare the anti-depressants to be useless\n",
    "# when the truth is they are helping the symptoms."
   ]
  },
  {
   "cell_type": "markdown",
   "metadata": {},
   "source": [
    "**4.31 Which is higher?** \n",
    "* In each part below, there is a value of interest and two scenarios (I and\n",
    "II). For each part, report if the value of interest is larger under scenario I, scenario II, or whether\n",
    "the value is equal under the scenarios.\n",
    "* (a) The standard error of $\\bar{x}$ when s = 120 and (I) n = 25 or (II) n = 125.\n",
    "* (b) The margin of error of a confidence interval when the confidence level is (I) 90% or (II) 80%.\n",
    "* (c) The p-value for a Z-statistic of 2.5 when (I) n = 500 or (II) n = 1000.\n",
    "* (d) The probability of making a Type 2 Error when the alternative hypothesis is true and the\n",
    "significance level is (I) 0.05 or (II) 0.10."
   ]
  },
  {
   "cell_type": "code",
   "execution_count": 14,
   "metadata": {},
   "outputs": [],
   "source": [
    "# (a)\n",
    "# SE of mean is inversely relating to sample size. SE is larger in (I)."
   ]
  },
  {
   "cell_type": "code",
   "execution_count": 16,
   "metadata": {},
   "outputs": [
    {
     "data": {
      "text/html": [
       "-1.64485362695147"
      ],
      "text/latex": [
       "-1.64485362695147"
      ],
      "text/markdown": [
       "-1.64485362695147"
      ],
      "text/plain": [
       "[1] -1.644854"
      ]
     },
     "metadata": {},
     "output_type": "display_data"
    },
    {
     "data": {
      "text/html": [
       "-1.2815515655446"
      ],
      "text/latex": [
       "-1.2815515655446"
      ],
      "text/markdown": [
       "-1.2815515655446"
      ],
      "text/plain": [
       "[1] -1.281552"
      ]
     },
     "metadata": {},
     "output_type": "display_data"
    }
   ],
   "source": [
    "# (b)\n",
    "# The margin of error depends on the z-score calculated by the confidence \n",
    "# interval and the standard error.\n",
    "qnorm((1-.9)/2)\n",
    "qnorm((1-.8)/2)\n",
    "# A higher confidence interval yield a higher z-score and hence a higher\n",
    "# margin of error. (I) has a higher margin of error."
   ]
  },
  {
   "cell_type": "code",
   "execution_count": 21,
   "metadata": {},
   "outputs": [],
   "source": [
    "# (d)\n",
    "# Type 2 error is failing to reject the null hypotheses when the \n",
    "# alternative hypotheses is true. In other words,\n",
    "# declare a person innocent when he's actually guilty.\n",
    "# When significance level is small, it's harder to declare a person guilty, \n",
    "# or to reject the null hypotheses. Hence, we're easier to \n",
    "# declare a person innocent when he's guilty. \n",
    "# (I) has a higher probability of making type 2 error."
   ]
  },
  {
   "cell_type": "markdown",
   "metadata": {},
   "source": [
    "**4.47 Practical vs. statistical.** \n",
    "* Determine whether the following statement is true or false, and\n",
    "explain your reasoning: “With large sample sizes, even small differences between the null value\n",
    "and the point estimate can be statistically significant.”"
   ]
  },
  {
   "cell_type": "code",
   "execution_count": 39,
   "metadata": {},
   "outputs": [
    {
     "data": {
      "text/html": [
       "0.000782701129001275"
      ],
      "text/latex": [
       "0.000782701129001275"
      ],
      "text/markdown": [
       "0.000782701129001275"
      ],
      "text/plain": [
       "[1] 0.0007827011"
      ]
     },
     "metadata": {},
     "output_type": "display_data"
    },
    {
     "data": {
      "text/html": [
       "0.239750061093477"
      ],
      "text/latex": [
       "0.239750061093477"
      ],
      "text/markdown": [
       "0.239750061093477"
      ],
      "text/plain": [
       "[1] 0.2397501"
      ]
     },
     "metadata": {},
     "output_type": "display_data"
    }
   ],
   "source": [
    "# True. \n",
    "n1 <- 1000\n",
    "n2 <- 50\n",
    "x <- 50\n",
    "p <- 52\n",
    "sd <- 10\n",
    "\n",
    "se1 <- sd/sqrt(n1)\n",
    "z1 <- (1-0)/se1\n",
    "pnorm(z1, lower.tail = FALSE)\n",
    "\n",
    "se2 <- sd/sqrt(n2)\n",
    "z2 <- (1-0)/se2\n",
    "pnorm(z2, lower.tail = FALSE)\n",
    "\n",
    "# For large sample size, the standard error will be lower,\n",
    "# and hence a larger test statistics and smaller p value."
   ]
  }
 ],
 "metadata": {
  "kernelspec": {
   "display_name": "R",
   "language": "R",
   "name": "ir"
  },
  "language_info": {
   "codemirror_mode": "r",
   "file_extension": ".r",
   "mimetype": "text/x-r-source",
   "name": "R",
   "pygments_lexer": "r",
   "version": "3.6.0"
  },
  "toc-autonumbering": false
 },
 "nbformat": 4,
 "nbformat_minor": 2
}
