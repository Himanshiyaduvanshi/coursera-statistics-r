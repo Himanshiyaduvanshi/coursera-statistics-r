{
 "cells": [
  {
   "cell_type": "markdown",
   "metadata": {},
   "source": [
    "# Central Limit Theorem"
   ]
  },
  {
   "cell_type": "markdown",
   "metadata": {},
   "source": [
    "**Example**"
   ]
  },
  {
   "cell_type": "markdown",
   "metadata": {},
   "source": [
    "> P(Length of song lasts more than 5 minutes)?"
   ]
  },
  {
   "cell_type": "code",
   "execution_count": 42,
   "metadata": {},
   "outputs": [],
   "source": [
    "# iPod song = 3000 \n",
    "n <- 3000\n",
    "# mean song length = 3.45 mins\n",
    "mu <- 3.45\n",
    "# sd of song length = 1.63 mins\n",
    "s <- 1.63"
   ]
  },
  {
   "cell_type": "code",
   "execution_count": 43,
   "metadata": {},
   "outputs": [
    {
     "data": {
      "text/html": [
       "0.166666666666667"
      ],
      "text/latex": [
       "0.166666666666667"
      ],
      "text/markdown": [
       "0.166666666666667"
      ],
      "text/plain": [
       "[1] 0.1666667"
      ]
     },
     "metadata": {},
     "output_type": "display_data"
    }
   ],
   "source": [
    "# x = length of song lasts more than 5 mins\n",
    "# P(x > 5)\n",
    "(p_x_greater_5 <- (350+100+25+20+5) / n)"
   ]
  },
  {
   "cell_type": "markdown",
   "metadata": {},
   "source": [
    "> P(Average length of song lasts more than 6 minutes)?"
   ]
  },
  {
   "cell_type": "code",
   "execution_count": 41,
   "metadata": {},
   "outputs": [],
   "source": [
    "# sample size is 100 songs\n",
    "m <- 100\n",
    "# standard error = sd / sqrt(m)\n",
    "se <- s/sqrt(m)"
   ]
  },
  {
   "cell_type": "code",
   "execution_count": 44,
   "metadata": {},
   "outputs": [
    {
     "data": {
      "text/html": [
       "0.178722267514752"
      ],
      "text/latex": [
       "0.178722267514752"
      ],
      "text/markdown": [
       "0.178722267514752"
      ],
      "text/plain": [
       "[1] 0.1787223"
      ]
     },
     "metadata": {},
     "output_type": "display_data"
    }
   ],
   "source": [
    "# 6 hours = 360 mins\n",
    "# P(x1 + x2 + ... x100 > 360 mins)\n",
    "# = P(mean x >= 3.6 mins)\n",
    "(p_xbar_greater_3.6 <- 1 - pnorm(3.6, mu, se))"
   ]
  }
 ],
 "metadata": {
  "kernelspec": {
   "display_name": "R",
   "language": "R",
   "name": "ir"
  },
  "language_info": {
   "codemirror_mode": "r",
   "file_extension": ".r",
   "mimetype": "text/x-r-source",
   "name": "R",
   "pygments_lexer": "r",
   "version": "3.6.0"
  }
 },
 "nbformat": 4,
 "nbformat_minor": 2
}
