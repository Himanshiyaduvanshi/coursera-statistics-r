{
 "cells": [
  {
   "cell_type": "markdown",
   "metadata": {},
   "source": [
    "# Confidence Interval"
   ]
  },
  {
   "cell_type": "markdown",
   "metadata": {},
   "source": [
    "## Confidence Interval (for a Mean)"
   ]
  },
  {
   "cell_type": "markdown",
   "metadata": {},
   "source": [
    "$$ \n",
    "ME = z^\\star \\frac{s}{\\sqrt{n}}\n",
    "$$"
   ]
  },
  {
   "cell_type": "code",
   "execution_count": 40,
   "metadata": {},
   "outputs": [
    {
     "data": {
      "text/html": [
       "-1.95996398454005"
      ],
      "text/latex": [
       "-1.95996398454005"
      ],
      "text/markdown": [
       "-1.95996398454005"
      ],
      "text/plain": [
       "[1] -1.959964"
      ]
     },
     "metadata": {},
     "output_type": "display_data"
    }
   ],
   "source": [
    "# 95% CI = mu +/- 1.96 se\n",
    "qnorm((1-0.95)/2)"
   ]
  },
  {
   "cell_type": "code",
   "execution_count": 41,
   "metadata": {},
   "outputs": [
    {
     "data": {
      "text/html": [
       "-2.32634787404084"
      ],
      "text/latex": [
       "-2.32634787404084"
      ],
      "text/markdown": [
       "-2.32634787404084"
      ],
      "text/plain": [
       "[1] -2.326348"
      ]
     },
     "metadata": {},
     "output_type": "display_data"
    }
   ],
   "source": [
    "# 98% CI = mu +/- 2.32 se\n",
    "qnorm((1-0.98)/2)"
   ]
  },
  {
   "cell_type": "code",
   "execution_count": 42,
   "metadata": {},
   "outputs": [
    {
     "data": {
      "text/html": [
       "-2.5758293035489"
      ],
      "text/latex": [
       "-2.5758293035489"
      ],
      "text/markdown": [
       "-2.5758293035489"
      ],
      "text/plain": [
       "[1] -2.575829"
      ]
     },
     "metadata": {},
     "output_type": "display_data"
    }
   ],
   "source": [
    "# 99% CI = mu +/- 2.58 se\n",
    "qnorm((1-0.99)/2)"
   ]
  },
  {
   "cell_type": "markdown",
   "metadata": {},
   "source": [
    "## Accuracy vs Precision\n",
    "* Commonly used CI are 90%, 95%, 98%, and 99%.\n",
    "* A wider interval (higher CI) indicates a higher probability of capturing the true polulation, which increases the accuracy, but decreases the precision.\n",
    "* The way to get both a higher precision and higher accuracy is to increase the sample size, as it shrinks the standard error and margin of error."
   ]
  },
  {
   "cell_type": "markdown",
   "metadata": {},
   "source": [
    "**Example**\n",
    "* The General Social Survey (GSS) is a sociological survey used to collect data on demographic characteristics and attitudes of residents of the United States. \n",
    "* In 2010, the survey collected responses from 1,154 US residents. Based on the survey results, a 95% confidence interval for the average number of hours Americans have to relax or pursue activities that you enjoy after an average work day is 3.53 to 3.83 hours."
   ]
  },
  {
   "cell_type": "code",
   "execution_count": 43,
   "metadata": {},
   "outputs": [
    {
     "data": {
      "text/html": [
       "3.68"
      ],
      "text/latex": [
       "3.68"
      ],
      "text/markdown": [
       "3.68"
      ],
      "text/plain": [
       "[1] 3.68"
      ]
     },
     "metadata": {},
     "output_type": "display_data"
    }
   ],
   "source": [
    "# sample mean\n",
    "3.53 + (3.83-3.53)/2"
   ]
  },
  {
   "cell_type": "code",
   "execution_count": 44,
   "metadata": {},
   "outputs": [
    {
     "data": {
      "text/html": [
       "0.076530612244898"
      ],
      "text/latex": [
       "0.076530612244898"
      ],
      "text/markdown": [
       "0.076530612244898"
      ],
      "text/plain": [
       "[1] 0.07653061"
      ]
     },
     "metadata": {},
     "output_type": "display_data"
    }
   ],
   "source": [
    "# standard error\n",
    "(3.83-3.53)/2/1.96"
   ]
  },
  {
   "cell_type": "code",
   "execution_count": 45,
   "metadata": {},
   "outputs": [
    {
     "data": {
      "text/html": [
       "0.15"
      ],
      "text/latex": [
       "0.15"
      ],
      "text/markdown": [
       "0.15"
      ],
      "text/plain": [
       "[1] 0.15"
      ]
     },
     "metadata": {},
     "output_type": "display_data"
    }
   ],
   "source": [
    "# margin of error\n",
    "(3.83-3.53)/2"
   ]
  },
  {
   "cell_type": "markdown",
   "metadata": {},
   "source": [
    "## Required Sample Size for Margin of Error (ME)\n",
    "* All else held constant, as sample size increases, the margin of error decreases."
   ]
  },
  {
   "cell_type": "markdown",
   "metadata": {},
   "source": [
    "$$ \n",
    "n = ( \\frac{z^\\star s}{ME} )^2\n",
    "$$"
   ]
  },
  {
   "cell_type": "markdown",
   "metadata": {},
   "source": [
    "**Example**\n",
    "\n",
    "* Suppose a group of researchers want to test the possible effect of an epilepsy medication taken by pregnant mothers on the cognitive development of their children. As evidence, they want to estimate the IQs of three-year-old children born to mothers who were on this medication during their pregnancy.\n",
    "* Previous studies suggest that the standard deviation of IQ scores of three-year-old children is 18 points. \n",
    "\n",
    "_How many such children should the researches sample in order to obtain a 90% confidence interval with a margin of error less than or equal to four points?_"
   ]
  },
  {
   "cell_type": "code",
   "execution_count": 58,
   "metadata": {},
   "outputs": [
    {
     "data": {
      "text/html": [
       "54.4644"
      ],
      "text/latex": [
       "54.4644"
      ],
      "text/markdown": [
       "54.4644"
      ],
      "text/plain": [
       "[1] 54.4644"
      ]
     },
     "metadata": {},
     "output_type": "display_data"
    },
    {
     "data": {
      "text/html": [
       "55"
      ],
      "text/latex": [
       "55"
      ],
      "text/markdown": [
       "55"
      ],
      "text/plain": [
       "[1] 55"
      ]
     },
     "metadata": {},
     "output_type": "display_data"
    }
   ],
   "source": [
    "me <- 4  \n",
    "ci <- 0.9  \n",
    "sd <- 18 \n",
    "z <- qnorm((1-ci)/2)\n",
    "\n",
    "(n <- ((1.64 * sd)/me)^2)\n",
    "ceiling(n)"
   ]
  },
  {
   "cell_type": "markdown",
   "metadata": {},
   "source": [
    "_How would the required sample size change if we want to further decrease the margin of error, to two points?_"
   ]
  },
  {
   "cell_type": "markdown",
   "metadata": {},
   "source": [
    "$$ \n",
    "\\frac{1}{x} ME = z^\\star \\frac{s}{\\sqrt{n}} \\frac{1}{x}\n",
    "\\\\\n",
    "\\frac{1}{x} ME = z^\\star \\frac{s}{\\sqrt{n x^2}} \n",
    "$$"
   ]
  },
  {
   "cell_type": "code",
   "execution_count": 60,
   "metadata": {},
   "outputs": [
    {
     "data": {
      "text/html": [
       "217.8576"
      ],
      "text/latex": [
       "217.8576"
      ],
      "text/markdown": [
       "217.8576"
      ],
      "text/plain": [
       "[1] 217.8576"
      ]
     },
     "metadata": {},
     "output_type": "display_data"
    },
    {
     "data": {
      "text/html": [
       "218"
      ],
      "text/latex": [
       "218"
      ],
      "text/markdown": [
       "218"
      ],
      "text/plain": [
       "[1] 218"
      ]
     },
     "metadata": {},
     "output_type": "display_data"
    }
   ],
   "source": [
    "me <- 2\n",
    "(n <- ((1.64 * sd)/me)^2)\n",
    "ceiling(n)"
   ]
  },
  {
   "cell_type": "markdown",
   "metadata": {},
   "source": [
    "**Example**\n",
    "\n",
    "* A sample of 50 college students were asked, how many exclusive relationships they've been in so far? \n",
    "* The students in the sample had an average of 3.2 exclusive relationships, with a standard deviation of 1.74.\n",
    "* In addition, the same distribution was only slightly skewed to the right. \n",
    "\n",
    "_Estimate the true number of exclusive relationships based on this sample using a 95% confidence interval._"
   ]
  },
  {
   "cell_type": "code",
   "execution_count": 77,
   "metadata": {},
   "outputs": [
    {
     "data": {
      "text/html": [
       "2.71769660668828"
      ],
      "text/latex": [
       "2.71769660668828"
      ],
      "text/markdown": [
       "2.71769660668828"
      ],
      "text/plain": [
       "[1] 2.717697"
      ]
     },
     "metadata": {},
     "output_type": "display_data"
    },
    {
     "data": {
      "text/html": [
       "3.68230339331172"
      ],
      "text/latex": [
       "3.68230339331172"
      ],
      "text/markdown": [
       "3.68230339331172"
      ],
      "text/plain": [
       "[1] 3.682303"
      ]
     },
     "metadata": {},
     "output_type": "display_data"
    }
   ],
   "source": [
    "n <- 50  \n",
    "mu <- 3.2  \n",
    "sd <- 1.74  \n",
    "\n",
    "ci <- 0.95\n",
    "z <- abs(round(qnorm((1-ci)/2), 2))\n",
    "\n",
    "se <- sd/sqrt(n)\n",
    "\n",
    "me <- z * se\n",
    "\n",
    "# 1.96 * 1.74/sqrt(50)\n",
    "\n",
    "mu - me\n",
    "mu + me"
   ]
  },
  {
   "cell_type": "markdown",
   "metadata": {},
   "source": [
    "_What is the correct calculation of the 98% confidence interval for the average number of exclusive relationships college students on average have been in?_"
   ]
  },
  {
   "cell_type": "code",
   "execution_count": 78,
   "metadata": {},
   "outputs": [
    {
     "data": {
      "text/html": [
       "2.6266495375427"
      ],
      "text/latex": [
       "2.6266495375427"
      ],
      "text/markdown": [
       "2.6266495375427"
      ],
      "text/plain": [
       "[1] 2.62665"
      ]
     },
     "metadata": {},
     "output_type": "display_data"
    },
    {
     "data": {
      "text/html": [
       "3.7733504624573"
      ],
      "text/latex": [
       "3.7733504624573"
      ],
      "text/markdown": [
       "3.7733504624573"
      ],
      "text/plain": [
       "[1] 3.77335"
      ]
     },
     "metadata": {},
     "output_type": "display_data"
    }
   ],
   "source": [
    "ci <- 0.98\n",
    "z <- abs(round(qnorm((1-ci)/2), 2))\n",
    "me <- z * se\n",
    "\n",
    "# 2.33 * 1.74/sqrt(50)\n",
    "\n",
    "mu - me\n",
    "mu + me"
   ]
  }
 ],
 "metadata": {
  "kernelspec": {
   "display_name": "R",
   "language": "R",
   "name": "ir"
  },
  "language_info": {
   "codemirror_mode": "r",
   "file_extension": ".r",
   "mimetype": "text/x-r-source",
   "name": "R",
   "pygments_lexer": "r",
   "version": "3.6.0"
  }
 },
 "nbformat": 4,
 "nbformat_minor": 2
}
