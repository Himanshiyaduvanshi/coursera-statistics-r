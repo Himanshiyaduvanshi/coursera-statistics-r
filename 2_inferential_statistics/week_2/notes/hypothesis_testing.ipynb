{
 "cells": [
  {
   "cell_type": "markdown",
   "metadata": {},
   "source": [
    "# Hypothesis Testing"
   ]
  },
  {
   "cell_type": "markdown",
   "metadata": {},
   "source": [
    "## Hypothesis Testing Framework"
   ]
  },
  {
   "cell_type": "markdown",
   "metadata": {},
   "source": [
    "* We start with a **null hypothesis (H0)** that represents the status quo.\n",
    "* We also have an **alternative hypothesis (HA)** that represents our research question, i.e. what we're testing for.\n",
    "* We conduct a hypothesis test under the assumption that the null hypothesis is true, either via\n",
    "simulation or theorectical methods - methods that rely on the CLT.\n",
    "* If the test results suggest that the data do not provide convincing evidence for the alternative\n",
    "hypothesis, we stick with the null hypothesis. If they do, then we reject the null hypothesis in\n",
    "favor of the alternative."
   ]
  },
  {
   "cell_type": "markdown",
   "metadata": {},
   "source": [
    "## Hypothesis Testing (for a Mean)\n",
    "\n",
    "### Hypothesis\n",
    "* null - H0 : Ofen either a skeptical perspective or a claim to be tested (=)\n",
    "* alternative - HA : Represents an alternative claim under consideration and is often represented by a range of possible parameter values. (<, >, !=)\n",
    "* The skeptic will not abandon the H0 unless the evidence in favor of the HA is so strong that she rejects H0 in favor of HA.\n",
    "* Hypothesis is always about population parameters, but never about sample statistics."
   ]
  },
  {
   "cell_type": "markdown",
   "metadata": {},
   "source": [
    "### P-Value\n",
    "\n",
    "* **P(observed or more extreme outcome | H0 true)**\n",
    "* We use the test statistic to calculate the p-value, the probability of observing data at least as favorable to the alternative hypothesis as our current data set, if the null hypothesis was true.\n",
    "* If the p-value is low (lower than the **significance level** $ \\alpha $, which is usually 5%) we say that it would be very unlikely to observe the data if the null hypothesis were true, and hence **reject H0**.\n",
    "* If the p-value is high (higher than $ \\alpha $) we say that it is likely to observe the data even if the null\n",
    "hypothesis were true, and hence **do not reject H0**."
   ]
  },
  {
   "cell_type": "markdown",
   "metadata": {},
   "source": [
    "**Example**\n",
    "* Earlier we calculated a 95% confidence interval for the average number of exclusive relationships college students have been in to be 2.7 to 3.7. \n",
    "* Based on this confidence interval, do these data support the hypothesis that college students on average have been in more than three exclusive relationships?"
   ]
  },
  {
   "cell_type": "markdown",
   "metadata": {},
   "source": [
    "$$\n",
    "P(\\bar{x} > 3.2 | H_0 : \\mu = 3)\n",
    "$$"
   ]
  },
  {
   "cell_type": "code",
   "execution_count": 21,
   "metadata": {},
   "outputs": [
    {
     "data": {
      "text/html": [
       "0.81"
      ],
      "text/latex": [
       "0.81"
      ],
      "text/markdown": [
       "0.81"
      ],
      "text/plain": [
       "[1] 0.81"
      ]
     },
     "metadata": {},
     "output_type": "display_data"
    },
    {
     "data": {
      "text/html": [
       "0.21"
      ],
      "text/latex": [
       "0.21"
      ],
      "text/markdown": [
       "0.21"
      ],
      "text/plain": [
       "[1] 0.21"
      ]
     },
     "metadata": {},
     "output_type": "display_data"
    }
   ],
   "source": [
    "# H0: mu = 3\n",
    "# Collage students have been in 3 exclusive relationships, on average.\n",
    "\n",
    "# HA: mu > 3\n",
    "# Collage students have been in more than 3 exclusive relationships, on average.\n",
    "\n",
    "# P(x_bar > 3.2 | H0: mu = 3)\n",
    "\n",
    "# Since we assumme H0 is true, we can construct the sampling distribution based on the CLT.\n",
    "\n",
    "# x_bar ~ N(mu = 3, se = 0.246)\n",
    "\n",
    "# test statistic (z-score for normal distribution)\n",
    "(z <- round((3.2 - 3)/0.246, 2))\n",
    "\n",
    "# p-value\n",
    "(p_value <- round(1 - pnorm(z), 2))\n",
    "\n",
    "# Since p-value is high, we do not reject H0."
   ]
  },
  {
   "cell_type": "code",
   "execution_count": 22,
   "metadata": {},
   "outputs": [],
   "source": [
    "# If in fact college students have been in 3 exclusive relationships on average (H0 true), there is a \n",
    "# 21% (0.21) chance that a random sample of 50 college student would yield a sample mean of 3.2 or higher.\n",
    "\n",
    "# This is a high probability, so we think that a sample mean of 3.2 or more exclusive relationships is \n",
    "# likely to happen simply by chance or sampling variability."
   ]
  },
  {
   "cell_type": "markdown",
   "metadata": {},
   "source": [
    "### Two-Sided Tests\n",
    "\n",
    "* Often instead of looking for a divergence from the null in a specific direction, we might be interested\n",
    "in divergence in any direction.\n",
    "* We call such hypothesis tests **two-sided** (or **two-tailed**).\n",
    "* The definition of a p-value is the same regardless of doing a one or a two-sided test. However, the calculation becomes slightly different and ever so slightly more complicated since we need to consider \"at least as extreme as the observed outcome\" in both directions away from the mean."
   ]
  },
  {
   "cell_type": "markdown",
   "metadata": {},
   "source": [
    "**Example**\n",
    "\n",
    "$$\n",
    "P(\\bar{x} > 3.2  \\text{ OR }  \\bar{x} < 2.8 | H_0 : \\mu = 3)\n",
    "$$"
   ]
  },
  {
   "cell_type": "code",
   "execution_count": 40,
   "metadata": {},
   "outputs": [
    {
     "data": {
      "text/html": [
       "0.81"
      ],
      "text/latex": [
       "0.81"
      ],
      "text/markdown": [
       "0.81"
      ],
      "text/plain": [
       "[1] 0.81"
      ]
     },
     "metadata": {},
     "output_type": "display_data"
    },
    {
     "data": {
      "text/html": [
       "-0.81"
      ],
      "text/latex": [
       "-0.81"
      ],
      "text/markdown": [
       "-0.81"
      ],
      "text/plain": [
       "[1] -0.81"
      ]
     },
     "metadata": {},
     "output_type": "display_data"
    },
    {
     "data": {
      "text/html": [
       "0.209"
      ],
      "text/latex": [
       "0.209"
      ],
      "text/markdown": [
       "0.209"
      ],
      "text/plain": [
       "[1] 0.209"
      ]
     },
     "metadata": {},
     "output_type": "display_data"
    },
    {
     "data": {
      "text/html": [
       "0.209"
      ],
      "text/latex": [
       "0.209"
      ],
      "text/markdown": [
       "0.209"
      ],
      "text/plain": [
       "[1] 0.209"
      ]
     },
     "metadata": {},
     "output_type": "display_data"
    },
    {
     "data": {
      "text/html": [
       "0.418"
      ],
      "text/latex": [
       "0.418"
      ],
      "text/markdown": [
       "0.418"
      ],
      "text/plain": [
       "[1] 0.418"
      ]
     },
     "metadata": {},
     "output_type": "display_data"
    }
   ],
   "source": [
    "# test statistic\n",
    "(z_upper <- round((3.2 - 3)/0.246, 2))\n",
    "(z_lower <- round((2.8 - 3)/0.246, 2))\n",
    "\n",
    "# p-value\n",
    "(p_upper <- round(1 - pnorm(z_upper), 3))\n",
    "(p_lower <- round(pnorm(z_lower), 3))\n",
    "\n",
    "(p_value <- p_upper + p_lower)"
   ]
  },
  {
   "cell_type": "markdown",
   "metadata": {},
   "source": [
    "### Step-by-Step\n",
    "\n",
    "1. Set the **hypotheses**\n",
    "    * $H_0 : \\mu = \\text{null value}$\n",
    "    * $H_A: \\mu < or > or \\neq \\text{null value}$\n",
    "2. Calculate the **point estimate**: $\\bar{x}$\n",
    "3. Check **conditions**\n",
    "    * Independence\n",
    "    * Sample size/skew\n",
    "4. Draw **sampling distribution**, shape **p-value**, calculate **test statistic**\n",
    "    * $ z = \\frac{\\bar{x} - \\mu}{SE} $\n",
    "    * $ SE = \\frac{s}{\\sqrt{n}} $\n",
    "5. Make a decision, and interpret it in context of the research question\n",
    "    * If p-value < $\\alpha$, reject $H_0$; the data provide convincing evidence for $H_A$.\n",
    "    * If p-value > $\\alpha$, fail to reject $H_0$ the data do not provide convincing evidence for $H_A$."
   ]
  },
  {
   "cell_type": "markdown",
   "metadata": {},
   "source": [
    "**Example**\n",
    "* Researchers investigating characteristics of gifted children collected data from schools in a large city on a random sample of 36 children who were identified as gifted children soon after they reached the age of four. \n",
    "* In this study, along with variables on the children, the researchers also collected data on their mothers' IQ scores. The histogram shows the distribution of these data, and also provided our some sample statistics.\n",
    "    * n = 36\n",
    "    * min = 101\n",
    "    * mean = 118.2\n",
    "    * sd = 6.5\n",
    "    * max = 131\n",
    "* Perform a hypothesis test to evaluate if these data provide convincing evidence of a difference between the average IQ score of mothers of gifted children And the average IQ score for the population at large, which happens to be 100. We're also asked to use a significance level of .01."
   ]
  },
  {
   "cell_type": "code",
   "execution_count": 41,
   "metadata": {},
   "outputs": [],
   "source": [
    "# (1) Set the hypotheses\n",
    "# H0: mu = 100\n",
    "# H1: mu != 100"
   ]
  },
  {
   "cell_type": "code",
   "execution_count": 42,
   "metadata": {},
   "outputs": [],
   "source": [
    "# (2) Calculate the point estimate\n",
    "x_bar <- 118.2"
   ]
  },
  {
   "cell_type": "code",
   "execution_count": 43,
   "metadata": {},
   "outputs": [],
   "source": [
    "# (3) Check the conditions\n",
    "# random & 35 < 10% of all gifted child -> independence\n",
    "# n > 30 & sample not skewed -> nearly normal sampling distribution"
   ]
  },
  {
   "cell_type": "code",
   "execution_count": 63,
   "metadata": {},
   "outputs": [
    {
     "data": {
      "text/html": [
       "1.083"
      ],
      "text/latex": [
       "1.083"
      ],
      "text/markdown": [
       "1.083"
      ],
      "text/plain": [
       "[1] 1.083"
      ]
     },
     "metadata": {},
     "output_type": "display_data"
    },
    {
     "data": {
      "text/html": [
       "16.8051708217913"
      ],
      "text/latex": [
       "16.8051708217913"
      ],
      "text/markdown": [
       "16.8051708217913"
      ],
      "text/plain": [
       "[1] 16.80517"
      ]
     },
     "metadata": {},
     "output_type": "display_data"
    },
    {
     "data": {
      "text/html": [
       "-16.8051708217913"
      ],
      "text/latex": [
       "-16.8051708217913"
      ],
      "text/markdown": [
       "-16.8051708217913"
      ],
      "text/plain": [
       "[1] -16.80517"
      ]
     },
     "metadata": {},
     "output_type": "display_data"
    },
    {
     "data": {
      "text/html": [
       "2.2366732644382e-63"
      ],
      "text/latex": [
       "2.2366732644382e-63"
      ],
      "text/markdown": [
       "2.2366732644382e-63"
      ],
      "text/plain": [
       "[1] 2.236673e-63"
      ]
     },
     "metadata": {},
     "output_type": "display_data"
    }
   ],
   "source": [
    "# (4) Sampling distribution, p-value, test statistic\n",
    "(se <- round(6.5/sqrt(36), 3))\n",
    "\n",
    "(z_upper <- (118.2-100)/se)\n",
    "(z_lower <- (81.8-100)/se)\n",
    "\n",
    "(p_value <- (pnorm(z_upper, lower.tail = FALSE)) + pnorm(z_lower))"
   ]
  },
  {
   "cell_type": "code",
   "execution_count": 64,
   "metadata": {},
   "outputs": [],
   "source": [
    "# (5) Make a decision\n",
    "# p-value is very low -> strong evidence against the null\n",
    "# We reject the null hypothesis and conclude that the data provide convincing evidence of a difference between \n",
    "# the average IQ score of mothers of gifted child and the average IQ score for the populatin at large."
   ]
  },
  {
   "cell_type": "markdown",
   "metadata": {},
   "source": [
    "**Example**\n",
    "* A statistics student interested in sleep habits of domestic cats took a random sample of 144 cats and monitored their sleep. The cats slept an average of 16 hours per day. According to our online resources, domestic dogs actually sleep on average 14 hours a day. \n",
    "* We want to find out if these data provide convincing evidence of different sleeping habits for domestic cats and dogs with respect to how much they sleep. Note that the test statistic calculated was 1.73.\n",
    "* What is the interpretation of this p-value in context of these data?"
   ]
  },
  {
   "cell_type": "code",
   "execution_count": 68,
   "metadata": {},
   "outputs": [
    {
     "data": {
      "text/html": [
       "0.0836302752271899"
      ],
      "text/latex": [
       "0.0836302752271899"
      ],
      "text/markdown": [
       "0.0836302752271899"
      ],
      "text/plain": [
       "[1] 0.08363028"
      ]
     },
     "metadata": {},
     "output_type": "display_data"
    }
   ],
   "source": [
    "# H0: mu = 14\n",
    "# H1: mu != 14\n",
    "\n",
    "(p_value <- pnorm(-1.73) * 2)"
   ]
  },
  {
   "cell_type": "code",
   "execution_count": 70,
   "metadata": {},
   "outputs": [],
   "source": [
    "# p(obtaining a random sample of 144 cats that sleep 16 hours or more or 12 hours or less, \n",
    "# on average, if in fact cats truly slept 14 hours per day on average) = 0.0836\n",
    "\n",
    "# The p-value is larger than the significance level 0.05. Hence the evidence is not strong\n",
    "# enough to reject the null hypotheses. Hence, we cannot decide that there is a\n",
    "# difference between the sleeping habits for domestic cats and dogs.\n",
    "# If the average hours of sleep for domestic cat is 14, there is a 8% chance \n",
    "# that a random sample of size 144 would yield a sample mean of 16."
   ]
  }
 ],
 "metadata": {
  "kernelspec": {
   "display_name": "R",
   "language": "R",
   "name": "ir"
  },
  "language_info": {
   "codemirror_mode": "r",
   "file_extension": ".r",
   "mimetype": "text/x-r-source",
   "name": "R",
   "pygments_lexer": "r",
   "version": "3.6.0"
  }
 },
 "nbformat": 4,
 "nbformat_minor": 2
}
