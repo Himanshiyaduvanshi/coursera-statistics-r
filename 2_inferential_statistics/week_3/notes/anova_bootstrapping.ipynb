{
 "cells": [
  {
   "cell_type": "markdown",
   "metadata": {},
   "source": [
    "# ANOVA and Bootstrapping"
   ]
  },
  {
   "cell_type": "markdown",
   "metadata": {},
   "source": [
    "## Comparing More Than Two Means\n",
    "\n",
    "* Compare means of 2 groups using a T statistic.\n",
    "* Compare means of 3+ groups using a new test called **analysis of variance (ANOVA)** and a new statistic called **F**.\n",
    "\n",
    "\n",
    "* ANOVA\n",
    "    * H0: The mean outcome is the same across all categories.\n",
    "    * HA: At least one pair of means are different from each other.\n",
    "\n",
    "\n",
    "$$ F = \\frac{\\text{variability between groups}}{\\text{variability within groups}}$$\n",
    "\n",
    "* Obtaining a large F statistic requires that the variability between sample means is greater than the variability within the samples."
   ]
  },
  {
   "cell_type": "markdown",
   "metadata": {},
   "source": [
    "## ANOVA\n",
    "\n",
    "* Variability partitioning.\n",
    "\n",
    "\n",
    "* **Group** : **Between group variablity**.\n",
    "* **Error** : **Within group variablity**.\n",
    "\n",
    "\n",
    "### Degrees of Freedom\n",
    "\n",
    "* **Total degress of freedom** is calculated as sample size minus one.\n",
    "\n",
    "$$\n",
    "df_T = n - 1\n",
    "$$\n",
    "\n",
    "* **Group degrees of freedom** is calculated as number of groups minus one.\n",
    "\n",
    "$$\n",
    "df_G = k - 1\n",
    "$$\n",
    "\n",
    "* **Error degrees of freedom** is the difference between the above two DF.\n",
    "\n",
    "$$\n",
    "df_E = df_T - df_G\n",
    "$$\n",
    "\n",
    "### Sum of Squares\n",
    "\n",
    "* **Sum of squares total (SST)** measures the **total variability** in the response variable. \n",
    "* Calculated very similarly to variance (except not scaled by the sample size).\n",
    "\n",
    "$$\n",
    "SST = \\sum^n_{i=1} (y_i - \\bar{y})^2\n",
    "$$\n",
    "\n",
    "$$\n",
    "SST = SSG + SSE\n",
    "$$\n",
    "\n",
    "* **Sum of squares groups (SSG)** measures the variability **between groups**. \n",
    "* It is the **explained variability**.\n",
    "\n",
    "$$\n",
    "SSG = \\sum^k_{j=1} n_j (\\bar{y}_j - \\bar{y})^2\n",
    "$$\n",
    "\n",
    "* **Sum of squares error (SSE)** measures the variability **within groups**.\n",
    "* It is the **unexplained variability**, unexplained by the group variable, due to other reasons.\n",
    "\n",
    "$$\n",
    "SSE = SST - SSG\n",
    "$$\n",
    "\n",
    "### Mean Squares\n",
    "\n",
    "* Mean sqares is the average variability between and withing groups, calculated as the total variability (sum of squares) scaled by the associated degress of freedom.\n",
    "\n",
    "* **Mean squares group (MSG)**\n",
    "\n",
    "$$\n",
    "MSG = \\frac{SSG}{df_G}\n",
    "$$\n",
    "\n",
    "* **Mean squares error (MSE)**\n",
    "\n",
    "$$\n",
    "MSE = \\frac{SSE}{df_E}\n",
    "$$\n",
    "\n",
    "### F-Statistic\n",
    "\n",
    "* **F-statistic** is the ratio of the average between group and within \n",
    "group variabilities.\n",
    "* It is never negative. Hence it's right-skewed.\n",
    "\n",
    "$$\n",
    "F = \\frac{MSG}{MSE}\n",
    "$$\n",
    "\n",
    "### P-Value\n",
    "\n",
    "* **P-value** is the probability of at least as large a ratio between the \"between\" and \"within\" group variabilities if in fact the means of all groups are equal."
   ]
  },
  {
   "cell_type": "markdown",
   "metadata": {},
   "source": [
    "**Example**\n",
    "\n",
    "* F-statistics = 21.735\n",
    "* DF_G = 3\n",
    "* DF_E = 791"
   ]
  },
  {
   "cell_type": "code",
   "execution_count": 1,
   "metadata": {},
   "outputs": [
    {
     "data": {
      "text/html": [
       "1.55985531902116e-13"
      ],
      "text/latex": [
       "1.55985531902116e-13"
      ],
      "text/markdown": [
       "1.55985531902116e-13"
      ],
      "text/plain": [
       "[1] 1.559855e-13"
      ]
     },
     "metadata": {},
     "output_type": "display_data"
    }
   ],
   "source": [
    "pf(q = 21.735, df1 = 3, df2 = 791, lower.tail = FALSE)\n",
    "\n",
    "# If p-value is small (less than alpha), the data provide convincing\n",
    "# evidence that at least one pair of population means are different\n",
    "# from each other (but we can't tell which one).\n",
    "\n",
    "# If p-value is large, the data do not provide convincing evidence that \n",
    "# at least one pair of population means are different from each other,\n",
    "# the observed differences in sample means are attributable to \n",
    "# sampling variability (or chance)."
   ]
  },
  {
   "cell_type": "markdown",
   "metadata": {},
   "source": [
    "## Conditions for ANOVA\n",
    "\n",
    "* (1) **Independence**\n",
    "    * Within groups: sampled observations must be independent.\n",
    "        * Random sample / assignment\n",
    "        * Each $n_j$ less than 10% of respective population\n",
    "    * Between groups: the groups must be independent of each other (non-paired).\n",
    "        * Carefully consider whether the groups may be dependent -> repeated measures anova\n",
    "* (2) **Approximate normality**: distribution should be nearly normal within each group.\n",
    "    * Especially important when sample sizes are small.\n",
    "* (3) **Equal variance**: groups should have roughly equal variability.\n",
    "    * Especially important when sample sizes differ between groups."
   ]
  },
  {
   "cell_type": "markdown",
   "metadata": {},
   "source": [
    "## Multiple Comparisons\n",
    "\n",
    "* Which means are different?\n",
    "\n",
    "\n",
    "* Two sample T tests for differences in each possible pair of groups.\n",
    "* Multiple tests will inflate the Type I error rate ($\\alpha$ significance level).\n",
    "* Solution: use **modified significance level**.\n",
    "\n",
    "\n",
    "* Testing many pairs of groups is called **multiple comparisons**.\n",
    "* The **Bonferroni correction** $\\alpha^\\star$ suggests that a more stringent significance level is more appropriate for these tests.\n",
    "    * Adjust $\\alpha$ by the number of comparisons $K$ being considered.\n",
    "\n",
    "$$\n",
    "K = \\frac{k(k-1)}{2}\n",
    "$$\n",
    "\n",
    "$$\n",
    "\\alpha^\\star = \\frac{\\alpha}{K}\n",
    "$$\n",
    "\n",
    "* Constant variance: use consistent standard error and degrees of freedom for all tests.\n",
    "* Compare the p-values from each test to the modified significance level.\n",
    "\n",
    "\n",
    "* **Standard error for multiple pairwise comparisons**\n",
    "\n",
    "$$\n",
    "SE = \\sqrt{\n",
    "\\frac{MSE}{n_1} + \\frac{MSE}{n_2}\n",
    "}\n",
    "$$\n",
    "\n",
    "* **Degrees of freedom for multiple pairwise comparisons**\n",
    "\n",
    "$$\n",
    "df = df_E\n",
    "$$"
   ]
  },
  {
   "cell_type": "markdown",
   "metadata": {},
   "source": [
    "**Example**\n",
    "\n",
    "* If the explanatory variable in an ANOVA has 3 levels, and the F-test in ANOVA yields a significant result, how many pairwise comparisons are needed to compare each group to one another?"
   ]
  },
  {
   "cell_type": "code",
   "execution_count": 4,
   "metadata": {},
   "outputs": [
    {
     "data": {
      "text/html": [
       "3"
      ],
      "text/latex": [
       "3"
      ],
      "text/markdown": [
       "3"
      ],
      "text/plain": [
       "[1] 3"
      ]
     },
     "metadata": {},
     "output_type": "display_data"
    }
   ],
   "source": [
    "3 * (3-1) / 2"
   ]
  },
  {
   "cell_type": "markdown",
   "metadata": {},
   "source": [
    "**Example**\n",
    "\n",
    "* 4 class levels\n",
    "* $\\alpha$ = 0.05 for the original ANOVA"
   ]
  },
  {
   "cell_type": "code",
   "execution_count": 5,
   "metadata": {},
   "outputs": [
    {
     "data": {
      "text/html": [
       "6"
      ],
      "text/latex": [
       "6"
      ],
      "text/markdown": [
       "6"
      ],
      "text/plain": [
       "[1] 6"
      ]
     },
     "metadata": {},
     "output_type": "display_data"
    },
    {
     "data": {
      "text/html": [
       "0.00833333333333333"
      ],
      "text/latex": [
       "0.00833333333333333"
      ],
      "text/markdown": [
       "0.00833333333333333"
      ],
      "text/plain": [
       "[1] 0.008333333"
      ]
     },
     "metadata": {},
     "output_type": "display_data"
    }
   ],
   "source": [
    "# Number of comparisons\n",
    "(K <- 4 * (4-1) / 2)\n",
    "# Corrected significance level\n",
    "0.05 / K"
   ]
  },
  {
   "cell_type": "markdown",
   "metadata": {},
   "source": [
    "* Is there a difference between the average vocabulary scores between middle and lower class Americans> (A single pairwise comparison.)\n",
    "* DF_E = 691\n",
    "* MSE = 3.628\n",
    "* Lower class\n",
    "    * N = 41\n",
    "    * Mean = 5.07\n",
    "* Middle class\n",
    "    * N = 331\n",
    "    * Mean = 6.76"
   ]
  },
  {
   "cell_type": "code",
   "execution_count": 13,
   "metadata": {},
   "outputs": [
    {
     "data": {
      "text/html": [
       "0.315354609849892"
      ],
      "text/latex": [
       "0.315354609849892"
      ],
      "text/markdown": [
       "0.315354609849892"
      ],
      "text/plain": [
       "[1] 0.3153546"
      ]
     },
     "metadata": {},
     "output_type": "display_data"
    },
    {
     "data": {
      "text/html": [
       "5.35904644236669"
      ],
      "text/latex": [
       "5.35904644236669"
      ],
      "text/markdown": [
       "5.35904644236669"
      ],
      "text/plain": [
       "[1] 5.359046"
      ]
     },
     "metadata": {},
     "output_type": "display_data"
    },
    {
     "data": {
      "text/html": [
       "1.09827956570617e-07"
      ],
      "text/latex": [
       "1.09827956570617e-07"
      ],
      "text/markdown": [
       "1.09827956570617e-07"
      ],
      "text/plain": [
       "[1] 1.09828e-07"
      ]
     },
     "metadata": {},
     "output_type": "display_data"
    }
   ],
   "source": [
    "# H0: mu_middle - mu_lower = 0\n",
    "# HA: mu_middle - mu_lower != 0\n",
    "\n",
    "(se <- sqrt(3.628/41 + 3.628/331))\n",
    "\n",
    "(t = ((6.76 - 5.07) - 0) / se)\n",
    "\n",
    "pt(t, df = 791, lower.tail = FALSE) * 2\n",
    "\n",
    "# P-value is smaller than the alpha 0.00833. Reject the null hypothesis."
   ]
  },
  {
   "cell_type": "markdown",
   "metadata": {},
   "source": [
    "## Bootstrapping\n",
    "\n",
    "* Take a bootstrap sample - a random sample taken **with replacement** from **the original sample**, of **the same size** as the original sample.\n",
    "* Calculate the bootstrap statistic - a statistic such as mean, median, proportion, etc. computed on the bootstrap samples.\n",
    "* Repeat the above two steps many times to create a bootstrap distribution - a distribution of bootstrap statistics.\n",
    "\n",
    "\n",
    "* **Percentile method**\n",
    "* **Standard error method**\n",
    "\n",
    "\n",
    "* Not as rigid conditions as CLT based methods.\n",
    "* If the bootstrap distribution is extremely skewed or sparse, the bootstrap interval might be unreliable.\n",
    "* A representative sample is still required - if the sample is biased, the estimates resulting from this sample will also be biased."
   ]
  },
  {
   "cell_type": "markdown",
   "metadata": {},
   "source": [
    "## Exercises\n",
    "\n",
    "OpenIntro Statistics, 3rd edition<br>\n",
    "5.41, 5.43, 5.45, 5.47, 5.49, 5.51"
   ]
  },
  {
   "cell_type": "markdown",
   "metadata": {},
   "source": [
    "**5.41 Fill in the blank.**\n",
    "* When doing an ANOVA, you observe large differences in means between groups. Within the ANOVA framework, this would most likely be interpreted as evidence strongly favoring the ? hypothesis."
   ]
  },
  {
   "cell_type": "code",
   "execution_count": 1,
   "metadata": {},
   "outputs": [],
   "source": [
    "# alternative"
   ]
  },
  {
   "cell_type": "markdown",
   "metadata": {},
   "source": [
    "**5.43 Chicken diet and weight, Part III.**\n",
    "* In Exercises 5.31 and 5.33 we compared the effects of two types of feed at a time. A better analysis would first consider all feed types at once: casein, horsebean, linseed, meat meal, soybean, and sunflower. The ANOVA output below can be used to test for differences between the average weights of chicks on different diets.\n",
    "\n",
    "|/|Df |Sum Sq |Mean Sq |F value |Pr(>F) |\n",
    "|---|---|---|---|---|---|\n",
    "|feed |5 |231,129.16 |46,225.83 |15.36 |0.0000 |\n",
    "|Residuals |65 |195,556.02 |3,008.55 | \n",
    "\n",
    "* Conduct a hypothesis test to determine if these data provide convincing evidence that the average weight of chicks varies across some (or all) groups. Make sure to check relevant conditions. Figures and summary statistics are shown below."
   ]
  },
  {
   "cell_type": "code",
   "execution_count": 5,
   "metadata": {},
   "outputs": [
    {
     "data": {
      "text/html": [
       "15.3648202622526"
      ],
      "text/latex": [
       "15.3648202622526"
      ],
      "text/markdown": [
       "15.3648202622526"
      ],
      "text/plain": [
       "[1] 15.36482"
      ]
     },
     "metadata": {},
     "output_type": "display_data"
    },
    {
     "data": {
      "text/html": [
       "5.93628564750325e-10"
      ],
      "text/latex": [
       "5.93628564750325e-10"
      ],
      "text/markdown": [
       "5.93628564750325e-10"
      ],
      "text/plain": [
       "[1] 5.936286e-10"
      ]
     },
     "metadata": {},
     "output_type": "display_data"
    }
   ],
   "source": [
    "# H0: The mean outcome is the same across all feed types.\n",
    "# HA: At least one pair of means are different from each other.\n",
    "\n",
    "# F = MSG / MSE\n",
    "(f = 46225.83/3008.55)\n",
    "\n",
    "pf(f, 5, 65, lower.tail = FALSE)"
   ]
  },
  {
   "cell_type": "markdown",
   "metadata": {},
   "source": [
    "**5.45 Coffee, depression, and physical activity.** \n",
    "* Caffeine is the world’s most widely used stimulant, with approximately 80% consumed in the form of coffee. Participants in a study investigating the relationship between coffee consumption and exercise were asked to report the number of hours they spent per week on moderate (e.g., brisk walking) and vigorous (e.g., strenuous sports and jogging) exercise. Based on these data the researchers estimated the total hours of metabolic equivalent tasks (MET) per week, a value always greater than 0. The table below gives summary statistics of MET for women in this study based on the amount of coffee consumed.\n",
    "\n",
    "|/|≤ 1 cup/week |2-6 cups/week |1 cup/day |2-3 cups/day |≥ 4 cups/day |Total |\n",
    "|---|---|---|---|---|---|---|\n",
    "|Mean |18.7 |19.6 |19.3 |18.9 |17.5 ||\n",
    "|SD |21.1 |25.5 |22.5 |22.0 |22.0 ||\n",
    "|n |12,215 |6,617 |17,234 |12,290 |2,383 |50,739|\n",
    "\n",
    "* (a) Write the hypotheses for evaluating if the average physical activity level varies among the different levels of coffee consumption.\n",
    "* (b) Check conditions and describe any assumptions you must make to proceed with the test.\n",
    "* (c) Below is part of the output associated with this test. Fill in the empty cells.\n",
    "* (d) What is the conclusion of the test?"
   ]
  },
  {
   "cell_type": "code",
   "execution_count": 6,
   "metadata": {},
   "outputs": [],
   "source": [
    "# (a)\n",
    "# H0: The mean MET is the same across all groups of coffee consumption.\n",
    "# HA: At least one pair of means is different."
   ]
  },
  {
   "cell_type": "code",
   "execution_count": 9,
   "metadata": {},
   "outputs": [
    {
     "data": {
      "text/html": [
       "50738"
      ],
      "text/latex": [
       "50738"
      ],
      "text/markdown": [
       "50738"
      ],
      "text/plain": [
       "[1] 50738"
      ]
     },
     "metadata": {},
     "output_type": "display_data"
    },
    {
     "data": {
      "text/html": [
       "4"
      ],
      "text/latex": [
       "4"
      ],
      "text/markdown": [
       "4"
      ],
      "text/plain": [
       "[1] 4"
      ]
     },
     "metadata": {},
     "output_type": "display_data"
    },
    {
     "data": {
      "text/html": [
       "50734"
      ],
      "text/latex": [
       "50734"
      ],
      "text/markdown": [
       "50734"
      ],
      "text/plain": [
       "[1] 50734"
      ]
     },
     "metadata": {},
     "output_type": "display_data"
    }
   ],
   "source": [
    "# (c)\n",
    "(df_total = 50739 - 1)\n",
    "(df_coffee = 5 - 1)\n",
    "(df_residuals = df_total - df_coffee)"
   ]
  },
  {
   "cell_type": "code",
   "execution_count": 10,
   "metadata": {},
   "outputs": [
    {
     "data": {
      "text/html": [
       "10508"
      ],
      "text/latex": [
       "10508"
      ],
      "text/markdown": [
       "10508"
      ],
      "text/plain": [
       "[1] 10508"
      ]
     },
     "metadata": {},
     "output_type": "display_data"
    }
   ],
   "source": [
    "(sum_sq_coffee = 25575327 - 25564819)"
   ]
  },
  {
   "cell_type": "code",
   "execution_count": 12,
   "metadata": {},
   "outputs": [
    {
     "data": {
      "text/html": [
       "2627"
      ],
      "text/latex": [
       "2627"
      ],
      "text/markdown": [
       "2627"
      ],
      "text/plain": [
       "[1] 2627"
      ]
     },
     "metadata": {},
     "output_type": "display_data"
    },
    {
     "data": {
      "text/html": [
       "503.899140615761"
      ],
      "text/latex": [
       "503.899140615761"
      ],
      "text/markdown": [
       "503.899140615761"
      ],
      "text/plain": [
       "[1] 503.8991"
      ]
     },
     "metadata": {},
     "output_type": "display_data"
    }
   ],
   "source": [
    "(mean_sq_coffee = 10508 / df_coffee)\n",
    "(mean_sq_residuals = 25564819 / df_residuals)"
   ]
  },
  {
   "cell_type": "code",
   "execution_count": 14,
   "metadata": {},
   "outputs": [
    {
     "data": {
      "text/html": [
       "5.2133448705426"
      ],
      "text/latex": [
       "5.2133448705426"
      ],
      "text/markdown": [
       "5.2133448705426"
      ],
      "text/plain": [
       "[1] 5.213345"
      ]
     },
     "metadata": {},
     "output_type": "display_data"
    }
   ],
   "source": [
    "# F = MSG / MSE\n",
    "(f = mean_sq_coffee / mean_sq_residuals)"
   ]
  },
  {
   "cell_type": "code",
   "execution_count": 17,
   "metadata": {},
   "outputs": [
    {
     "data": {
      "text/html": [
       "0.000341258949098462"
      ],
      "text/latex": [
       "0.000341258949098462"
      ],
      "text/markdown": [
       "0.000341258949098462"
      ],
      "text/plain": [
       "[1] 0.0003412589"
      ]
     },
     "metadata": {},
     "output_type": "display_data"
    }
   ],
   "source": [
    "pf(5.21, 4, 50734, lower.tail = FALSE)"
   ]
  },
  {
   "cell_type": "markdown",
   "metadata": {},
   "source": [
    "|/|Df |Sum Sq |Mean Sq |F value |Pr(>F) |\n",
    "|---|---|---|---|---|---|\n",
    "|coffee| 4| 10508| 2627| 5.21|**0.0003** |\n",
    "|Residuals| 50734|**25,564,819**| 503.9| /|/ |\n",
    "|Total| 50738|**25,575,327**| /| /| /|"
   ]
  },
  {
   "cell_type": "code",
   "execution_count": 18,
   "metadata": {},
   "outputs": [],
   "source": [
    "# (d)\n",
    "# Since p-value is very small,\n",
    "# reject the null hypothesis and conclude that there is\n",
    "# at least one mean of MET that is different."
   ]
  },
  {
   "cell_type": "markdown",
   "metadata": {},
   "source": [
    "**5.47 GPA and major.** \n",
    "* Undergraduate students taking an introductory statistics course at Duke University conducted a survey about GPA and major. The side-by-side box plots show the distribution of GPA among three groups of majors. Also provided is the ANOVA output.\n",
    "\n",
    "|/|Df |Sum Sq |Mean Sq |F value |Pr(>F) |\n",
    "|---|---|---|---|---|---|\n",
    "|major| 2| 0.03| 0.015| 0.185| 0.8313|\n",
    "|Residuals| 195| 15.77| 0.081| /|/ |\n",
    "\n",
    "* (a) Write the hypotheses for testing for a difference between average GPA across majors.\n",
    "* (b) What is the conclusion of the hypothesis test? \n",
    "* (c) How many students answered these questions on the survey, i.e. what is the sample size?"
   ]
  },
  {
   "cell_type": "code",
   "execution_count": 19,
   "metadata": {},
   "outputs": [],
   "source": [
    "# (a)\n",
    "# H0: The average GPA across majors is the same.\n",
    "# HA: At least one pair of average GPA is different."
   ]
  },
  {
   "cell_type": "code",
   "execution_count": 20,
   "metadata": {},
   "outputs": [],
   "source": [
    "# (b)\n",
    "# The p-value is too large and we cannot reject the null hypothesis.\n",
    "# We cannot conclude that there're any difference between \n",
    "# average GPA across majors."
   ]
  },
  {
   "cell_type": "code",
   "execution_count": 22,
   "metadata": {},
   "outputs": [
    {
     "data": {
      "text/html": [
       "198"
      ],
      "text/latex": [
       "198"
      ],
      "text/markdown": [
       "198"
      ],
      "text/plain": [
       "[1] 198"
      ]
     },
     "metadata": {},
     "output_type": "display_data"
    }
   ],
   "source": [
    "# (c)\n",
    "195+2+1"
   ]
  },
  {
   "cell_type": "markdown",
   "metadata": {},
   "source": [
    "**5.49 True / False: ANOVA, Part I.** \n",
    "* Determine if the following statements are true or false in ANOVA, and explain your reasoning for statements you identify as false.\n",
    "* (a) As the number of groups increases, the modified significance level for pairwise tests increases as well.\n",
    "* (b) As the total sample size increases, the degrees of freedom for the residuals increases as well.\n",
    "* (c) The constant variance condition can be somewhat relaxed when the sample sizes are relatively consistent across groups.\n",
    "* (d) The independence assumption can be relaxed when the total sample size is large."
   ]
  },
  {
   "cell_type": "code",
   "execution_count": 23,
   "metadata": {},
   "outputs": [],
   "source": [
    "# (a)\n",
    "# K = (k * (k-1)) / 2\n",
    "# a_modified = a / K\n",
    "\n",
    "# False\n",
    "# The larger the number of groups, the larger the number of comparisons K,\n",
    "# hence the smaller the modified significance level."
   ]
  },
  {
   "cell_type": "code",
   "execution_count": 24,
   "metadata": {},
   "outputs": [],
   "source": [
    "# (b)\n",
    "# df_residuals = df_total - df_group\n",
    "# df_residuals = (n) - (k - 1)\n",
    "\n",
    "# True"
   ]
  },
  {
   "cell_type": "code",
   "execution_count": 26,
   "metadata": {},
   "outputs": [],
   "source": [
    "# (c)\n",
    "# True"
   ]
  },
  {
   "cell_type": "code",
   "execution_count": 27,
   "metadata": {},
   "outputs": [],
   "source": [
    "# (d)\n",
    "# False"
   ]
  },
  {
   "cell_type": "markdown",
   "metadata": {},
   "source": [
    "**5.51 Prison isolation experiment, Part II.**\n",
    "* Exercise 5.37 introduced an experiment that was conducted with the goal of identifying a treatment that reduces subjects’ psychopathic deviant T scores, where this score measures a person’s need for control or his rebellion against control. In Exercise 5.37 you evaluated the success of each treatment individually. An alternative analysis involves comparing the success of treatments. The relevant ANOVA output is given below.\n",
    "\n",
    "|/|Df |Sum Sq |Mean Sq |F value |Pr(>F) |\n",
    "|---|---|---|---|---|---|\n",
    "|treatment |2 |639.48 |319.74 |3.33 |0.0461 |\n",
    "|Residuals |39 |3740.43 |95.91 |\n",
    "*s_pooled = 9.793 on df = 39*\n",
    "\n",
    "* (a) What are the hypotheses? \n",
    "* (b) What is the conclusion of the test? Use a 5% significance level.\n",
    "* (c) If in part (b) you determined that the test is significant, conduct pairwise tests to determine which groups are different from each other. If you did not reject the null hypothesis in part (b), recheck your answer.\n",
    "\n",
    "|/|Tr 1|Tr 2|Tr 3|\n",
    "|---|---|---|---|\n",
    "|Mean|6.21|2.86|-3.21|\n",
    "|SD|12.3|7.94|8.57|\n",
    "|n|14|14|14|"
   ]
  },
  {
   "cell_type": "code",
   "execution_count": 28,
   "metadata": {},
   "outputs": [],
   "source": [
    "# (b)\n",
    "# Since p is smaller than 0.05, reject the null hypothesis\n",
    "# and conclude that at least one pair of mean score is different."
   ]
  },
  {
   "cell_type": "code",
   "execution_count": 32,
   "metadata": {},
   "outputs": [
    {
     "data": {
      "text/html": [
       "3"
      ],
      "text/latex": [
       "3"
      ],
      "text/markdown": [
       "3"
      ],
      "text/plain": [
       "[1] 3"
      ]
     },
     "metadata": {},
     "output_type": "display_data"
    },
    {
     "data": {
      "text/html": [
       "0.0166666666666667"
      ],
      "text/latex": [
       "0.0166666666666667"
      ],
      "text/markdown": [
       "0.0166666666666667"
      ],
      "text/plain": [
       "[1] 0.01666667"
      ]
     },
     "metadata": {},
     "output_type": "display_data"
    }
   ],
   "source": [
    "# (c)\n",
    "\n",
    "# K = (k * (k-1)) / 2\n",
    "(K = 3 * 2 / 2)\n",
    "\n",
    "# a_modified = a / K\n",
    "(a_modified = 0.05 / K)"
   ]
  },
  {
   "cell_type": "code",
   "execution_count": 33,
   "metadata": {},
   "outputs": [],
   "source": [
    "s_pooled = 9.793\n",
    "df = 39"
   ]
  },
  {
   "cell_type": "code",
   "execution_count": 34,
   "metadata": {},
   "outputs": [
    {
     "data": {
      "text/html": [
       "3.70140608417936"
      ],
      "text/latex": [
       "3.70140608417936"
      ],
      "text/markdown": [
       "3.70140608417936"
      ],
      "text/plain": [
       "[1] 3.701406"
      ]
     },
     "metadata": {},
     "output_type": "display_data"
    }
   ],
   "source": [
    "(se = sqrt(9.793^2/14 + 9.793^2/14))"
   ]
  },
  {
   "cell_type": "code",
   "execution_count": 41,
   "metadata": {},
   "outputs": [
    {
     "data": {
      "text/html": [
       "0.905061461458836"
      ],
      "text/latex": [
       "0.905061461458836"
      ],
      "text/markdown": [
       "0.905061461458836"
      ],
      "text/plain": [
       "[1] 0.9050615"
      ]
     },
     "metadata": {},
     "output_type": "display_data"
    },
    {
     "data": {
      "text/html": [
       "0.370990254619147"
      ],
      "text/latex": [
       "0.370990254619147"
      ],
      "text/markdown": [
       "0.370990254619147"
      ],
      "text/plain": [
       "[1] 0.3709903"
      ]
     },
     "metadata": {},
     "output_type": "display_data"
    }
   ],
   "source": [
    "# tr 1, tr 2\n",
    "(t = (6.21-2.86)/se)\n",
    "pt(t, df, lower.tail = FALSE) * 2"
   ]
  },
  {
   "cell_type": "code",
   "execution_count": 40,
   "metadata": {},
   "outputs": [
    {
     "data": {
      "text/html": [
       "2.54497879610216"
      ],
      "text/latex": [
       "2.54497879610216"
      ],
      "text/markdown": [
       "2.54497879610216"
      ],
      "text/plain": [
       "[1] 2.544979"
      ]
     },
     "metadata": {},
     "output_type": "display_data"
    },
    {
     "data": {
      "text/html": [
       "0.0149976319390607"
      ],
      "text/latex": [
       "0.0149976319390607"
      ],
      "text/markdown": [
       "0.0149976319390607"
      ],
      "text/plain": [
       "[1] 0.01499763"
      ]
     },
     "metadata": {},
     "output_type": "display_data"
    }
   ],
   "source": [
    "# tr 1, tr 3\n",
    "(t = (6.21-(-3.21))/se)\n",
    "pt(t, df, lower.tail = FALSE) * 2"
   ]
  },
  {
   "cell_type": "code",
   "execution_count": 42,
   "metadata": {},
   "outputs": [
    {
     "data": {
      "text/html": [
       "1.63991733464332"
      ],
      "text/latex": [
       "1.63991733464332"
      ],
      "text/markdown": [
       "1.63991733464332"
      ],
      "text/plain": [
       "[1] 1.639917"
      ]
     },
     "metadata": {},
     "output_type": "display_data"
    },
    {
     "data": {
      "text/html": [
       "0.10906494816541"
      ],
      "text/latex": [
       "0.10906494816541"
      ],
      "text/markdown": [
       "0.10906494816541"
      ],
      "text/plain": [
       "[1] 0.1090649"
      ]
     },
     "metadata": {},
     "output_type": "display_data"
    }
   ],
   "source": [
    "# tr 1, tr 3\n",
    "(t = (2.86-(-3.21))/se)\n",
    "pt(t, df, lower.tail = FALSE) * 2"
   ]
  }
 ],
 "metadata": {
  "kernelspec": {
   "display_name": "R",
   "language": "R",
   "name": "ir"
  },
  "language_info": {
   "codemirror_mode": "r",
   "file_extension": ".r",
   "mimetype": "text/x-r-source",
   "name": "R",
   "pygments_lexer": "r",
   "version": "3.6.0"
  }
 },
 "nbformat": 4,
 "nbformat_minor": 2
}
