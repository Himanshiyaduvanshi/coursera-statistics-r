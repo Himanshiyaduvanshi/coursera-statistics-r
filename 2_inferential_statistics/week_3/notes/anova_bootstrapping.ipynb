{
 "cells": [
  {
   "cell_type": "markdown",
   "metadata": {},
   "source": [
    "# ANOVA and Bootstrapping"
   ]
  },
  {
   "cell_type": "markdown",
   "metadata": {},
   "source": [
    "## Comparing More Than Two Means\n",
    "\n",
    "* Compare means of 2 groups using a T statistic.\n",
    "* Compare means of 3+ groups using a new test called **analysis of variance (ANOVA)** and a new statistic called **F**.\n",
    "\n",
    "\n",
    "* ANOVA\n",
    "    * H0: The mean outcome is the same across all categories.\n",
    "    * HA: At least one pair of means are different from each other.\n",
    "\n",
    "\n",
    "$$ F = \\frac{\\text{variability between groups}}{\\text{variability within groups}}$$\n",
    "\n",
    "* Obtaining a large F statistic requires that the variability between sample means is greater than the variability within the samples."
   ]
  },
  {
   "cell_type": "markdown",
   "metadata": {},
   "source": [
    "## ANOVA\n",
    "\n",
    "* Variability partitioning.\n",
    "\n",
    "\n",
    "* **Group** : **Between group variablity**.\n",
    "* **Error** : **Within group variablity**.\n",
    "\n",
    "\n",
    "### Degrees of Freedom\n",
    "\n",
    "* **Total degress of freedom** is calculated as sample size minus one.\n",
    "\n",
    "$$\n",
    "df_T = n - 1\n",
    "$$\n",
    "\n",
    "* **Group degrees of freedom** is calculated as number of groups minus one.\n",
    "\n",
    "$$\n",
    "df_G = k - 1\n",
    "$$\n",
    "\n",
    "* **Error degrees of freedom** is the difference between the above two DF.\n",
    "\n",
    "$$\n",
    "df_E = df_T - df_G\n",
    "$$\n",
    "\n",
    "### Sum of Squares\n",
    "\n",
    "* **Sum of squares total (SST)** measures the **total variability** in the response variable. \n",
    "* Calculated very similarly to variance (except not scaled by the sample size).\n",
    "\n",
    "$$\n",
    "SST = \\sum^n_{i=1} (y_i - \\bar{y})^2\n",
    "$$\n",
    "\n",
    "$$\n",
    "SST = SSG + SSE\n",
    "$$\n",
    "\n",
    "* **Sum of squares groups (SSG)** measures the variability **between groups**. \n",
    "* It is the **explained variability**.\n",
    "\n",
    "$$\n",
    "SSG = \\sum^k_{j=1} n_j (\\bar{y}_j - \\bar{y})^2\n",
    "$$\n",
    "\n",
    "* **Sum of squares error (SSE)** measures the variability **within groups**.\n",
    "* It is the **unexplained variability**, unexplained by the group variable, due to other reasons.\n",
    "\n",
    "$$\n",
    "SSE = SST - SSG\n",
    "$$\n",
    "\n",
    "### Mean Squares\n",
    "\n",
    "* Mean sqares is the average variability between and withing groups, calculated as the total variability (sum of squares) scaled by the associated degress of freedom.\n",
    "\n",
    "* **Mean squares group (MSG)**\n",
    "\n",
    "$$\n",
    "MSG = \\frac{SSG}{df_G}\n",
    "$$\n",
    "\n",
    "* **Mean squares error (MSE)**\n",
    "\n",
    "$$\n",
    "MSE = \\frac{SSE}{df_E}\n",
    "$$\n",
    "\n",
    "### F-Statistic\n",
    "\n",
    "* **F-statistic** is the ratio of the average between group and within \n",
    "group variabilities.\n",
    "* It is never negative. Hence it's right-skewed.\n",
    "\n",
    "$$\n",
    "F = \\frac{MSG}{MSE}\n",
    "$$\n",
    "\n",
    "### P-Value\n",
    "\n",
    "* **P-value** is the probability of at least as large a ratio between the \"between\" and \"within\" group variabilities if in fact the means of all groups are equal."
   ]
  },
  {
   "cell_type": "markdown",
   "metadata": {},
   "source": [
    "**Example**\n",
    "\n",
    "* F-statistics = 21.735\n",
    "* DF_G = 3\n",
    "* DF_E = 791"
   ]
  },
  {
   "cell_type": "code",
   "execution_count": 1,
   "metadata": {},
   "outputs": [
    {
     "data": {
      "text/html": [
       "1.55985531902116e-13"
      ],
      "text/latex": [
       "1.55985531902116e-13"
      ],
      "text/markdown": [
       "1.55985531902116e-13"
      ],
      "text/plain": [
       "[1] 1.559855e-13"
      ]
     },
     "metadata": {},
     "output_type": "display_data"
    }
   ],
   "source": [
    "pf(q = 21.735, df1 = 3, df2 = 791, lower.tail = FALSE)\n",
    "\n",
    "# If p-value is small (less than alpha), the data provide convincing\n",
    "# evidence that at least one pair of population means are different\n",
    "# from each other (but we can't tell which one).\n",
    "\n",
    "# If p-value is large, the data do not provide convincing evidence that \n",
    "# at least one pair of population means are different from each other,\n",
    "# the observed differences in sample means are attributable to \n",
    "# sampling variability (or chance)."
   ]
  },
  {
   "cell_type": "markdown",
   "metadata": {},
   "source": [
    "## Conditions for ANOVA\n",
    "\n",
    "* (1) **Independence**\n",
    "    * Within groups: sampled observations must be independent.\n",
    "        * Random sample / assignment\n",
    "        * Each $n_j$ less than 10% of respective population\n",
    "    * Between groups: the groups must be independent of each other (non-paired).\n",
    "        * Carefully consider whether the groups may be dependent -> repeated measures anova\n",
    "* (2) **Approximate normality**: distribution should be nearly normal within each group.\n",
    "    * Especially important when sample sizes are small.\n",
    "* (3) **Equal variance**: groups should have roughly equal variability.\n",
    "    * Especially important when sample sizes differ between groups."
   ]
  },
  {
   "cell_type": "markdown",
   "metadata": {},
   "source": [
    "## Multiple Comparisons\n",
    "\n",
    "* Which means are different?\n",
    "\n",
    "\n",
    "* Two sample T tests for differences in each possible pair of groups.\n",
    "* Multiple tests will inflate the Type I error rate ($\\alpha$ significance level).\n",
    "* Solution: use **modified significance level**.\n",
    "\n",
    "\n",
    "* Testing many pairs of groups is called **multiple comparisons**.\n",
    "* The **Bonferroni correction** $\\alpha^\\star$ suggests that a more stringent significance level is more appropriate for these tests.\n",
    "    * Adjust $\\alpha$ by the number of comparisons $K$ being considered.\n",
    "\n",
    "$$\n",
    "K = \\frac{k(k-1)}{2}\n",
    "$$\n",
    "\n",
    "$$\n",
    "\\alpha^\\star = \\frac{\\alpha}{K}\n",
    "$$\n",
    "\n",
    "* Constant variance: use consistent standard error and degrees of freedom for all tests.\n",
    "* Compare the p-values from each test to the modified significance level.\n",
    "\n",
    "\n",
    "* **Standard error for multiple pairwise comparisons**\n",
    "\n",
    "$$\n",
    "SE = \\sqrt{\n",
    "\\frac{MSE}{n_1} + \\frac{MSE}{n_2}\n",
    "}\n",
    "$$\n",
    "\n",
    "* **Degrees of freedom for multiple pairwise comparisons**\n",
    "\n",
    "$$\n",
    "df = df_E\n",
    "$$"
   ]
  },
  {
   "cell_type": "markdown",
   "metadata": {},
   "source": [
    "**Example**\n",
    "\n",
    "* If the explanatory variable in an ANOVA has 3 levels, and the F-test in ANOVA yields a significant result, how many pairwise comparisons are needed to compare each group to one another?"
   ]
  },
  {
   "cell_type": "code",
   "execution_count": 4,
   "metadata": {},
   "outputs": [
    {
     "data": {
      "text/html": [
       "3"
      ],
      "text/latex": [
       "3"
      ],
      "text/markdown": [
       "3"
      ],
      "text/plain": [
       "[1] 3"
      ]
     },
     "metadata": {},
     "output_type": "display_data"
    }
   ],
   "source": [
    "3 * (3-1) / 2"
   ]
  },
  {
   "cell_type": "markdown",
   "metadata": {},
   "source": [
    "**Example**\n",
    "\n",
    "* 4 class levels\n",
    "* $\\alpha$ = 0.05 for the original ANOVA"
   ]
  },
  {
   "cell_type": "code",
   "execution_count": 5,
   "metadata": {},
   "outputs": [
    {
     "data": {
      "text/html": [
       "6"
      ],
      "text/latex": [
       "6"
      ],
      "text/markdown": [
       "6"
      ],
      "text/plain": [
       "[1] 6"
      ]
     },
     "metadata": {},
     "output_type": "display_data"
    },
    {
     "data": {
      "text/html": [
       "0.00833333333333333"
      ],
      "text/latex": [
       "0.00833333333333333"
      ],
      "text/markdown": [
       "0.00833333333333333"
      ],
      "text/plain": [
       "[1] 0.008333333"
      ]
     },
     "metadata": {},
     "output_type": "display_data"
    }
   ],
   "source": [
    "# Number of comparisons\n",
    "(K <- 4 * (4-1) / 2)\n",
    "# Corrected significance level\n",
    "0.05 / K"
   ]
  },
  {
   "cell_type": "markdown",
   "metadata": {},
   "source": [
    "* Is there a difference between the average vocabulary scores between middle and lower class Americans> (A single pairwise comparison.)\n",
    "* DF_E = 691\n",
    "* MSE = 3.628\n",
    "* Lower class\n",
    "    * N = 41\n",
    "    * Mean = 5.07\n",
    "* Middle class\n",
    "    * N = 331\n",
    "    * Mean = 6.76"
   ]
  },
  {
   "cell_type": "code",
   "execution_count": 13,
   "metadata": {},
   "outputs": [
    {
     "data": {
      "text/html": [
       "0.315354609849892"
      ],
      "text/latex": [
       "0.315354609849892"
      ],
      "text/markdown": [
       "0.315354609849892"
      ],
      "text/plain": [
       "[1] 0.3153546"
      ]
     },
     "metadata": {},
     "output_type": "display_data"
    },
    {
     "data": {
      "text/html": [
       "5.35904644236669"
      ],
      "text/latex": [
       "5.35904644236669"
      ],
      "text/markdown": [
       "5.35904644236669"
      ],
      "text/plain": [
       "[1] 5.359046"
      ]
     },
     "metadata": {},
     "output_type": "display_data"
    },
    {
     "data": {
      "text/html": [
       "1.09827956570617e-07"
      ],
      "text/latex": [
       "1.09827956570617e-07"
      ],
      "text/markdown": [
       "1.09827956570617e-07"
      ],
      "text/plain": [
       "[1] 1.09828e-07"
      ]
     },
     "metadata": {},
     "output_type": "display_data"
    }
   ],
   "source": [
    "# H0: mu_middle - mu_lower = 0\n",
    "# HA: mu_middle - mu_lower != 0\n",
    "\n",
    "(se <- sqrt(3.628/41 + 3.628/331))\n",
    "\n",
    "(t = ((6.76 - 5.07) - 0) / se)\n",
    "\n",
    "pt(t, df = 791, lower.tail = FALSE) * 2\n",
    "\n",
    "# P-value is smaller than the alpha 0.00833. Reject the null hypothesis."
   ]
  },
  {
   "cell_type": "markdown",
   "metadata": {},
   "source": [
    "## Bootstrapping\n",
    "\n",
    "* Take a bootstrap sample - a random sample taken **with replacement** from **the original sample**, of **the same size** as the original sample.\n",
    "* Calculate the bootstrap statistic - a statistic such as mean, median, proportion, etc. computed on the bootstrap samples.\n",
    "* Repeat the above two steps many times to create a bootstrap distribution - a distribution of bootstrap statistics.\n",
    "\n",
    "\n",
    "* **Percentile method**\n",
    "* **Standard error method**\n",
    "\n",
    "\n",
    "* Not as rigid conditions as CLT based methods.\n",
    "* If the bootstrap distribution is extremely skewed or sparse, the bootstrap interval might be unreliable.\n",
    "* A representative sample is still required - if the sample is biased, the estimates resulting from this sample will also be biased."
   ]
  }
 ],
 "metadata": {
  "kernelspec": {
   "display_name": "R",
   "language": "R",
   "name": "ir"
  },
  "language_info": {
   "codemirror_mode": "r",
   "file_extension": ".r",
   "mimetype": "text/x-r-source",
   "name": "R",
   "pygments_lexer": "r",
   "version": "3.5.3"
  }
 },
 "nbformat": 4,
 "nbformat_minor": 2
}
