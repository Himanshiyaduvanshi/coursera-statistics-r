{
 "cells": [
  {
   "cell_type": "markdown",
   "metadata": {},
   "source": [
    "# T-Distribution and Comparing Two Means"
   ]
  },
  {
   "cell_type": "markdown",
   "metadata": {},
   "source": [
    "## T-Distribution\n",
    "\n",
    "* When $\\sigma$ is unknown (almost always), use the t-distribution to address\n",
    "the uncertainty of the standard error estimate\n",
    "* Bell shaped but thicker tails than the normal distribution\n",
    "    * Observations more likely to fall beyond 2 SDs from the mean (more conservative)\n",
    "    * Extra thick tails helpful for mitigating the effect of a less reliable estimate for the standard error of the sampling distribution\n",
    "\n",
    "\n",
    "* Always centered at 0 (like the standard normal)\n",
    "* One parameter: **degrees of freedom (df)** - determines the thickness of tails (normal distribution has two parameters: mean and SD)\n",
    "* When degrees of freedom increases, the shape of the t-distribution approaches the normal distribution\n",
    "\n",
    "### T-Score\n",
    "\n",
    "$$\n",
    "T = \\frac{obs-null}{SE}\n",
    "$$"
   ]
  },
  {
   "cell_type": "code",
   "execution_count": 1,
   "metadata": {},
   "outputs": [
    {
     "data": {
      "text/html": [
       "0.0455002638963584"
      ],
      "text/latex": [
       "0.0455002638963584"
      ],
      "text/markdown": [
       "0.0455002638963584"
      ],
      "text/plain": [
       "[1] 0.04550026"
      ]
     },
     "metadata": {},
     "output_type": "display_data"
    },
    {
     "data": {
      "text/html": [
       "0.0509470687376933"
      ],
      "text/latex": [
       "0.0509470687376933"
      ],
      "text/markdown": [
       "0.0509470687376933"
      ],
      "text/plain": [
       "[1] 0.05094707"
      ]
     },
     "metadata": {},
     "output_type": "display_data"
    },
    {
     "data": {
      "text/html": [
       "0.0733880347707404"
      ],
      "text/latex": [
       "0.0733880347707404"
      ],
      "text/markdown": [
       "0.0733880347707404"
      ],
      "text/plain": [
       "[1] 0.07338803"
      ]
     },
     "metadata": {},
     "output_type": "display_data"
    }
   ],
   "source": [
    "# P(|Z| > 2)\n",
    "pnorm(2, lower.tail = FALSE) * 2\n",
    "\n",
    "# P(|t_df=50| > 2)\n",
    "pt(2, df = 50, lower.tail = FALSE) * 2\n",
    "\n",
    "# P(|t_df=10| > 2)\n",
    "pt(2, df = 10, lower.tail = FALSE) * 2"
   ]
  },
  {
   "cell_type": "markdown",
   "metadata": {},
   "source": [
    "## Inference for a Mean\n",
    "\n",
    "### Confidence Interval\n",
    "\n",
    "$$\n",
    "\\bar{x} \\pm t^{\\star}_{df} SE_\\bar{x} \\\\\n",
    "\\bar{x} \\pm t^{\\star}_{df} \\frac{s}{\\sqrt{n}} \\\\\n",
    "\\bar{x} \\pm t^{\\star}_{n-1} \\frac{s}{\\sqrt{n}}\n",
    "$$\n",
    "\n",
    "### Degrees of Freedom for T-Statistic for Inference on One Sample Mean\n",
    "\n",
    "$$\n",
    "df = n - 1\n",
    "$$"
   ]
  },
  {
   "cell_type": "code",
   "execution_count": 2,
   "metadata": {},
   "outputs": [
    {
     "data": {
      "text/html": [
       "-2.07961384472768"
      ],
      "text/latex": [
       "-2.07961384472768"
      ],
      "text/markdown": [
       "-2.07961384472768"
      ],
      "text/plain": [
       "[1] -2.079614"
      ]
     },
     "metadata": {},
     "output_type": "display_data"
    }
   ],
   "source": [
    "# Critical t-score for 0.95 confidence interval with df = 21\n",
    "qt((1-0.95)/2, df = 21)"
   ]
  },
  {
   "cell_type": "markdown",
   "metadata": {},
   "source": [
    "**Example**\n",
    "\n",
    "Suppose the suggested serving of these biscuits is 30 grams. Do these data provide convincing evidence that the amount of snacks consumed by distracted eaters post lunch is different than the suggested serving size?\n",
    "\n",
    "* x̄ = 52.1\n",
    "* s = 45.1\n",
    "* n = 22\n",
    "* t_21 = 2.08"
   ]
  },
  {
   "cell_type": "code",
   "execution_count": 4,
   "metadata": {},
   "outputs": [
    {
     "data": {
      "text/html": [
       "72.0999327998871"
      ],
      "text/latex": [
       "72.0999327998871"
      ],
      "text/markdown": [
       "72.0999327998871"
      ],
      "text/plain": [
       "[1] 72.09993"
      ]
     },
     "metadata": {},
     "output_type": "display_data"
    },
    {
     "data": {
      "text/html": [
       "32.1000672001129"
      ],
      "text/latex": [
       "32.1000672001129"
      ],
      "text/markdown": [
       "32.1000672001129"
      ],
      "text/plain": [
       "[1] 32.10007"
      ]
     },
     "metadata": {},
     "output_type": "display_data"
    }
   ],
   "source": [
    "# Confidence interval\n",
    "52.1 + 2.08 * 45.1/sqrt(22)\n",
    "52.1 - 2.08 * 45.1/sqrt(22)"
   ]
  },
  {
   "cell_type": "code",
   "execution_count": 7,
   "metadata": {},
   "outputs": [
    {
     "data": {
      "text/html": [
       "2.29840772266292"
      ],
      "text/latex": [
       "2.29840772266292"
      ],
      "text/markdown": [
       "2.29840772266292"
      ],
      "text/plain": [
       "[1] 2.298408"
      ]
     },
     "metadata": {},
     "output_type": "display_data"
    },
    {
     "data": {
      "text/html": [
       "0.0319084875743967"
      ],
      "text/latex": [
       "0.0319084875743967"
      ],
      "text/markdown": [
       "0.0319084875743967"
      ],
      "text/plain": [
       "[1] 0.03190849"
      ]
     },
     "metadata": {},
     "output_type": "display_data"
    }
   ],
   "source": [
    "# H0: mu = 30\n",
    "# HA: mu != 30\n",
    "\n",
    "# T-score\n",
    "(t = (52.1 - 30) / (45.1/sqrt(22)))\n",
    "\n",
    "# P-value\n",
    "pt(t, df = 21, lower.tail = FALSE) * 2"
   ]
  },
  {
   "cell_type": "markdown",
   "metadata": {},
   "source": [
    "## Inference for Comparing Two Independent Means\n",
    "\n",
    "### Confidence Interval\n",
    "\n",
    "$$\n",
    "(\\bar{x}_1 - \\bar{x}_2) \\pm t^{\\star}_{df} SE_{(\\bar{x}_1 - \\bar{x}_2)} \\\\\n",
    "(\\bar{x}_1 - \\bar{x}_2) \\pm t^{\\star}_{df} \\sqrt{\\frac{s^2_1}{n_1} + \\frac{s^2_2}{n_2}} \\\\\n",
    "(\\bar{x}_1 - \\bar{x}_2) \\pm t^{\\star}_{min(n_1 - 1, n_2 - 1）} \\sqrt{\\frac{s^2_1}{n_1} + \\frac{s^2_2}{n_2}}\n",
    "$$\n",
    "\n",
    "### Standard Error of Difference between Two Independent Means\n",
    "\n",
    "$$\n",
    "SE_{(\\bar{x}_1 - \\bar{x}_2)} = \\sqrt{\\frac{s^2_1}{n_1} + \\frac{s^2_2}{n_2}}\n",
    "$$\n",
    "\n",
    "### Degrees of Freedom for T-Statistic for Inference on Difference of Two Means\n",
    "\n",
    "$$\n",
    "df = min(n_1 - 1, n_2 - 1）\n",
    "$$"
   ]
  },
  {
   "cell_type": "markdown",
   "metadata": {},
   "source": [
    "**Example**\n",
    "\n",
    "* Solitaire\n",
    "    * x̄ = 52.1\n",
    "    * s = 45.1\n",
    "    * n = 22\n",
    "* No Distraction\n",
    "    * x̄ = 27.1\n",
    "    * s = 26.4\n",
    "    * n = 22\n"
   ]
  },
  {
   "cell_type": "code",
   "execution_count": 12,
   "metadata": {},
   "outputs": [
    {
     "data": {
      "text/html": [
       "21"
      ],
      "text/latex": [
       "21"
      ],
      "text/markdown": [
       "21"
      ],
      "text/plain": [
       "[1] 21"
      ]
     },
     "metadata": {},
     "output_type": "display_data"
    },
    {
     "data": {
      "text/html": [
       "-2.07961384472768"
      ],
      "text/latex": [
       "-2.07961384472768"
      ],
      "text/markdown": [
       "-2.07961384472768"
      ],
      "text/plain": [
       "[1] -2.079614"
      ]
     },
     "metadata": {},
     "output_type": "display_data"
    },
    {
     "data": {
      "text/html": [
       "11.1415887556488"
      ],
      "text/latex": [
       "11.1415887556488"
      ],
      "text/markdown": [
       "11.1415887556488"
      ],
      "text/plain": [
       "[1] 11.14159"
      ]
     },
     "metadata": {},
     "output_type": "display_data"
    },
    {
     "data": {
      "text/html": [
       "1.82549538825047"
      ],
      "text/latex": [
       "1.82549538825047"
      ],
      "text/markdown": [
       "1.82549538825047"
      ],
      "text/plain": [
       "[1] 1.825495"
      ]
     },
     "metadata": {},
     "output_type": "display_data"
    },
    {
     "data": {
      "text/html": [
       "48.1745046117495"
      ],
      "text/latex": [
       "48.1745046117495"
      ],
      "text/markdown": [
       "48.1745046117495"
      ],
      "text/plain": [
       "[1] 48.1745"
      ]
     },
     "metadata": {},
     "output_type": "display_data"
    }
   ],
   "source": [
    "# Confidence interval\n",
    "\n",
    "(df = 22-1)\n",
    "(t_21 = qt((1-0.95)/2, df = 21)) \n",
    "\n",
    "(se = sqrt(45.1^2/22 + 26.4^2/22))\n",
    "\n",
    "(52.1 - 27.1) - 2.08 * se\n",
    "(52.1 - 27.1) + 2.08 * se\n",
    "\n",
    "# We are 95% confident that those who eat with distractions \n",
    "# consume 1.83 g and 48.17 g more snacks than those \n",
    "# who eat without distractions, on average."
   ]
  },
  {
   "cell_type": "code",
   "execution_count": 14,
   "metadata": {},
   "outputs": [
    {
     "data": {
      "text/html": [
       "2.24384515963443"
      ],
      "text/latex": [
       "2.24384515963443"
      ],
      "text/markdown": [
       "2.24384515963443"
      ],
      "text/plain": [
       "[1] 2.243845"
      ]
     },
     "metadata": {},
     "output_type": "display_data"
    },
    {
     "data": {
      "text/html": [
       "0.0357508226714153"
      ],
      "text/latex": [
       "0.0357508226714153"
      ],
      "text/markdown": [
       "0.0357508226714153"
      ],
      "text/plain": [
       "[1] 0.03575082"
      ]
     },
     "metadata": {},
     "output_type": "display_data"
    }
   ],
   "source": [
    "# H0: mu1 - mu2 = 0\n",
    "# HA: mu1 - mu2 != 0\n",
    "\n",
    "# T-score\n",
    "(t = ((52.1 - 27.1) - 0) / se)\n",
    "\n",
    "# P-value\n",
    "pt(t, df = 21, lower.tail = FALSE) * 2"
   ]
  },
  {
   "cell_type": "markdown",
   "metadata": {},
   "source": [
    "## Inference for Comparing Two Paired Means\n",
    "\n",
    "* Same as the inference for a single population mean, only the mean is a difference between the two paired means.\n",
    "\n",
    "\n",
    "* $\\mu_{\\text{diff}}$ : Parameter of Interest\n",
    "* $\\bar{x}_{\\text{diff}}$ : Point Estimate"
   ]
  },
  {
   "cell_type": "markdown",
   "metadata": {},
   "source": [
    "**Example**\n",
    "\n",
    "* x̄_diff = -0.545\n",
    "* s_diff = 8.887\n",
    "* n_diff = 200"
   ]
  },
  {
   "cell_type": "code",
   "execution_count": 18,
   "metadata": {},
   "outputs": [
    {
     "data": {
      "text/html": [
       "-0.867273986152061"
      ],
      "text/latex": [
       "-0.867273986152061"
      ],
      "text/markdown": [
       "-0.867273986152061"
      ],
      "text/plain": [
       "[1] -0.867274"
      ]
     },
     "metadata": {},
     "output_type": "display_data"
    },
    {
     "data": {
      "text/html": [
       "0.386836474199347"
      ],
      "text/latex": [
       "0.386836474199347"
      ],
      "text/markdown": [
       "0.386836474199347"
      ],
      "text/plain": [
       "[1] 0.3868365"
      ]
     },
     "metadata": {},
     "output_type": "display_data"
    }
   ],
   "source": [
    "# H0: mu_diff = 0\n",
    "# HA: mu_diff != 0\n",
    "\n",
    "# Standard error\n",
    "se = 8.887 / sqrt(200)\n",
    "\n",
    "# T-score\n",
    "(t = (-0.545 - 0) / se)\n",
    "\n",
    "# P-value\n",
    "pt(t, df = 199) * 2"
   ]
  },
  {
   "cell_type": "markdown",
   "metadata": {},
   "source": [
    "## Power\n",
    "\n",
    "* $\\alpha$ : Type I error - P(reject H0 | H0 true)\n",
    "* $\\beta$ : Type II error - P(fail to reject H0 | HA true)\n",
    "* $1 - \\beta$ : **Power** - P(reject H0 | HA true)"
   ]
  },
  {
   "cell_type": "markdown",
   "metadata": {},
   "source": [
    "**Example**\n",
    "\n",
    "* sd = 12\n",
    "* n = 100 (per group)"
   ]
  },
  {
   "cell_type": "code",
   "execution_count": 21,
   "metadata": {},
   "outputs": [
    {
     "data": {
      "text/html": [
       "1.69705627484771"
      ],
      "text/latex": [
       "1.69705627484771"
      ],
      "text/markdown": [
       "1.69705627484771"
      ],
      "text/plain": [
       "[1] 1.697056"
      ]
     },
     "metadata": {},
     "output_type": "display_data"
    }
   ],
   "source": [
    "# H0: mu1 - mu2 = 0\n",
    "# HA: mu1 - mu2 != 0\n",
    "\n",
    "# Standard error\n",
    "sqrt(12^2/100 + 12^2/100)"
   ]
  },
  {
   "cell_type": "markdown",
   "metadata": {},
   "source": [
    "* For what values of difference would we reject the null hypothesis at the 5% significance level?"
   ]
  },
  {
   "cell_type": "code",
   "execution_count": 23,
   "metadata": {},
   "outputs": [
    {
     "data": {
      "text/html": [
       "3.332"
      ],
      "text/latex": [
       "3.332"
      ],
      "text/markdown": [
       "3.332"
      ],
      "text/plain": [
       "[1] 3.332"
      ]
     },
     "metadata": {},
     "output_type": "display_data"
    }
   ],
   "source": [
    "1.96 * 1.7"
   ]
  },
  {
   "cell_type": "markdown",
   "metadata": {},
   "source": [
    "* Suppose the company cares about finding any effect that is 3mmHg or larger vs\n",
    "the standard medication.\n",
    "* What is the power of the test that can detect this effect.\n",
    "\n",
    "\n",
    "* effect size = -3"
   ]
  },
  {
   "cell_type": "code",
   "execution_count": 26,
   "metadata": {},
   "outputs": [
    {
     "data": {
      "text/html": [
       "-0.195294117647059"
      ],
      "text/latex": [
       "-0.195294117647059"
      ],
      "text/markdown": [
       "-0.195294117647059"
      ],
      "text/plain": [
       "[1] -0.1952941"
      ]
     },
     "metadata": {},
     "output_type": "display_data"
    },
    {
     "data": {
      "text/html": [
       "0.422581350925617"
      ],
      "text/latex": [
       "0.422581350925617"
      ],
      "text/markdown": [
       "0.422581350925617"
      ],
      "text/plain": [
       "[1] 0.4225814"
      ]
     },
     "metadata": {},
     "output_type": "display_data"
    }
   ],
   "source": [
    "# Distribution with mu1 - mu2 = -3\n",
    "\n",
    "(z = (-3.332 - (-3)) / 1.7)\n",
    "\n",
    "# Power of the test\n",
    "pnorm(z)"
   ]
  },
  {
   "cell_type": "markdown",
   "metadata": {},
   "source": [
    "* What sample size will lead to a power of 80% for this test?"
   ]
  },
  {
   "cell_type": "code",
   "execution_count": 28,
   "metadata": {},
   "outputs": [
    {
     "data": {
      "text/html": [
       "0.841621233572914"
      ],
      "text/latex": [
       "0.841621233572914"
      ],
      "text/markdown": [
       "0.841621233572914"
      ],
      "text/plain": [
       "[1] 0.8416212"
      ]
     },
     "metadata": {},
     "output_type": "display_data"
    }
   ],
   "source": [
    "# Z-score that marks the 80th percentile of the normal curve\n",
    "qnorm(0.8)"
   ]
  }
 ],
 "metadata": {
  "kernelspec": {
   "display_name": "R",
   "language": "R",
   "name": "ir"
  },
  "language_info": {
   "codemirror_mode": "r",
   "file_extension": ".r",
   "mimetype": "text/x-r-source",
   "name": "R",
   "pygments_lexer": "r",
   "version": "3.6.0"
  }
 },
 "nbformat": 4,
 "nbformat_minor": 2
}
