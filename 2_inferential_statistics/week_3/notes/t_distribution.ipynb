{
 "cells": [
  {
   "cell_type": "markdown",
   "metadata": {},
   "source": [
    "# T-Distribution and Comparing Two Means"
   ]
  },
  {
   "cell_type": "markdown",
   "metadata": {},
   "source": [
    "## T-Distribution\n",
    "\n",
    "* When $\\sigma$ is unknown (almost always), use the t-distribution to address\n",
    "the uncertainty of the standard error estimate\n",
    "* Bell shaped but thicker tails than the normal distribution\n",
    "    * Observations more likely to fall beyond 2 SDs from the mean (more conservative)\n",
    "    * Extra thick tails helpful for mitigating the effect of a less reliable estimate for the standard error of the sampling distribution\n",
    "\n",
    "\n",
    "* Always centered at 0 (like the standard normal)\n",
    "* One parameter: **degrees of freedom (df)** - determines the thickness of tails (normal distribution has two parameters: mean and SD)\n",
    "* When degrees of freedom increases, the shape of the t-distribution approaches the normal distribution\n",
    "\n",
    "### T-Score\n",
    "\n",
    "$$\n",
    "T = \\frac{obs-null}{SE}\n",
    "$$"
   ]
  },
  {
   "cell_type": "code",
   "execution_count": 1,
   "metadata": {},
   "outputs": [
    {
     "data": {
      "text/html": [
       "0.0455002638963584"
      ],
      "text/latex": [
       "0.0455002638963584"
      ],
      "text/markdown": [
       "0.0455002638963584"
      ],
      "text/plain": [
       "[1] 0.04550026"
      ]
     },
     "metadata": {},
     "output_type": "display_data"
    },
    {
     "data": {
      "text/html": [
       "0.0509470687376933"
      ],
      "text/latex": [
       "0.0509470687376933"
      ],
      "text/markdown": [
       "0.0509470687376933"
      ],
      "text/plain": [
       "[1] 0.05094707"
      ]
     },
     "metadata": {},
     "output_type": "display_data"
    },
    {
     "data": {
      "text/html": [
       "0.0733880347707404"
      ],
      "text/latex": [
       "0.0733880347707404"
      ],
      "text/markdown": [
       "0.0733880347707404"
      ],
      "text/plain": [
       "[1] 0.07338803"
      ]
     },
     "metadata": {},
     "output_type": "display_data"
    }
   ],
   "source": [
    "# P(|Z| > 2)\n",
    "pnorm(2, lower.tail = FALSE) * 2\n",
    "\n",
    "# P(|t_df=50| > 2)\n",
    "pt(2, df = 50, lower.tail = FALSE) * 2\n",
    "\n",
    "# P(|t_df=10| > 2)\n",
    "pt(2, df = 10, lower.tail = FALSE) * 2"
   ]
  },
  {
   "cell_type": "markdown",
   "metadata": {},
   "source": [
    "## Inference for a Mean\n",
    "\n",
    "### Confidence Interval\n",
    "\n",
    "$$\n",
    "\\bar{x} \\pm t^{\\star}_{df} SE_\\bar{x} \\\\\n",
    "\\bar{x} \\pm t^{\\star}_{df} \\frac{s}{\\sqrt{n}} \\\\\n",
    "\\bar{x} \\pm t^{\\star}_{n-1} \\frac{s}{\\sqrt{n}}\n",
    "$$\n",
    "\n",
    "### Degrees of Freedom for T-Statistic for Inference on One Sample Mean\n",
    "\n",
    "$$\n",
    "df = n - 1\n",
    "$$"
   ]
  },
  {
   "cell_type": "code",
   "execution_count": 2,
   "metadata": {},
   "outputs": [
    {
     "data": {
      "text/html": [
       "-2.07961384472768"
      ],
      "text/latex": [
       "-2.07961384472768"
      ],
      "text/markdown": [
       "-2.07961384472768"
      ],
      "text/plain": [
       "[1] -2.079614"
      ]
     },
     "metadata": {},
     "output_type": "display_data"
    }
   ],
   "source": [
    "# Critical t-score for 0.95 confidence interval with df = 21\n",
    "qt((1-0.95)/2, df = 21)"
   ]
  },
  {
   "cell_type": "markdown",
   "metadata": {},
   "source": [
    "**Example**\n",
    "\n",
    "Suppose the suggested serving of these biscuits is 30 grams. Do these data provide convincing evidence that the amount of snacks consumed by distracted eaters post lunch is different than the suggested serving size?\n",
    "\n",
    "* x̄ = 52.1\n",
    "* s = 45.1\n",
    "* n = 22\n",
    "* t_21 = 2.08"
   ]
  },
  {
   "cell_type": "code",
   "execution_count": 4,
   "metadata": {},
   "outputs": [
    {
     "data": {
      "text/html": [
       "72.0999327998871"
      ],
      "text/latex": [
       "72.0999327998871"
      ],
      "text/markdown": [
       "72.0999327998871"
      ],
      "text/plain": [
       "[1] 72.09993"
      ]
     },
     "metadata": {},
     "output_type": "display_data"
    },
    {
     "data": {
      "text/html": [
       "32.1000672001129"
      ],
      "text/latex": [
       "32.1000672001129"
      ],
      "text/markdown": [
       "32.1000672001129"
      ],
      "text/plain": [
       "[1] 32.10007"
      ]
     },
     "metadata": {},
     "output_type": "display_data"
    }
   ],
   "source": [
    "# Confidence interval\n",
    "52.1 + 2.08 * 45.1/sqrt(22)\n",
    "52.1 - 2.08 * 45.1/sqrt(22)"
   ]
  },
  {
   "cell_type": "code",
   "execution_count": 7,
   "metadata": {},
   "outputs": [
    {
     "data": {
      "text/html": [
       "2.29840772266292"
      ],
      "text/latex": [
       "2.29840772266292"
      ],
      "text/markdown": [
       "2.29840772266292"
      ],
      "text/plain": [
       "[1] 2.298408"
      ]
     },
     "metadata": {},
     "output_type": "display_data"
    },
    {
     "data": {
      "text/html": [
       "0.0319084875743967"
      ],
      "text/latex": [
       "0.0319084875743967"
      ],
      "text/markdown": [
       "0.0319084875743967"
      ],
      "text/plain": [
       "[1] 0.03190849"
      ]
     },
     "metadata": {},
     "output_type": "display_data"
    }
   ],
   "source": [
    "# H0: mu = 30\n",
    "# HA: mu != 30\n",
    "\n",
    "# T-score\n",
    "(t = (52.1 - 30) / (45.1/sqrt(22)))\n",
    "\n",
    "# P-value\n",
    "pt(t, df = 21, lower.tail = FALSE) * 2"
   ]
  },
  {
   "cell_type": "markdown",
   "metadata": {},
   "source": [
    "## Inference for Comparing Two Independent Means\n",
    "\n",
    "### Confidence Interval\n",
    "\n",
    "$$\n",
    "(\\bar{x}_1 - \\bar{x}_2) \\pm t^{\\star}_{df} SE_{(\\bar{x}_1 - \\bar{x}_2)} \\\\\n",
    "(\\bar{x}_1 - \\bar{x}_2) \\pm t^{\\star}_{df} \\sqrt{\\frac{s^2_1}{n_1} + \\frac{s^2_2}{n_2}} \\\\\n",
    "(\\bar{x}_1 - \\bar{x}_2) \\pm t^{\\star}_{min(n_1 - 1, n_2 - 1）} \\sqrt{\\frac{s^2_1}{n_1} + \\frac{s^2_2}{n_2}}\n",
    "$$\n",
    "\n",
    "### Standard Error of Difference between Two Independent Means\n",
    "\n",
    "$$\n",
    "SE_{(\\bar{x}_1 - \\bar{x}_2)} = \\sqrt{\\frac{s^2_1}{n_1} + \\frac{s^2_2}{n_2}}\n",
    "$$\n",
    "\n",
    "### Degrees of Freedom for T-Statistic for Inference on Difference of Two Means\n",
    "\n",
    "$$\n",
    "df = min(n_1 - 1, n_2 - 1）\n",
    "$$"
   ]
  },
  {
   "cell_type": "markdown",
   "metadata": {},
   "source": [
    "**Example**\n",
    "\n",
    "* Solitaire\n",
    "    * x̄ = 52.1\n",
    "    * s = 45.1\n",
    "    * n = 22\n",
    "* No Distraction\n",
    "    * x̄ = 27.1\n",
    "    * s = 26.4\n",
    "    * n = 22\n"
   ]
  },
  {
   "cell_type": "code",
   "execution_count": 12,
   "metadata": {},
   "outputs": [
    {
     "data": {
      "text/html": [
       "21"
      ],
      "text/latex": [
       "21"
      ],
      "text/markdown": [
       "21"
      ],
      "text/plain": [
       "[1] 21"
      ]
     },
     "metadata": {},
     "output_type": "display_data"
    },
    {
     "data": {
      "text/html": [
       "-2.07961384472768"
      ],
      "text/latex": [
       "-2.07961384472768"
      ],
      "text/markdown": [
       "-2.07961384472768"
      ],
      "text/plain": [
       "[1] -2.079614"
      ]
     },
     "metadata": {},
     "output_type": "display_data"
    },
    {
     "data": {
      "text/html": [
       "11.1415887556488"
      ],
      "text/latex": [
       "11.1415887556488"
      ],
      "text/markdown": [
       "11.1415887556488"
      ],
      "text/plain": [
       "[1] 11.14159"
      ]
     },
     "metadata": {},
     "output_type": "display_data"
    },
    {
     "data": {
      "text/html": [
       "1.82549538825047"
      ],
      "text/latex": [
       "1.82549538825047"
      ],
      "text/markdown": [
       "1.82549538825047"
      ],
      "text/plain": [
       "[1] 1.825495"
      ]
     },
     "metadata": {},
     "output_type": "display_data"
    },
    {
     "data": {
      "text/html": [
       "48.1745046117495"
      ],
      "text/latex": [
       "48.1745046117495"
      ],
      "text/markdown": [
       "48.1745046117495"
      ],
      "text/plain": [
       "[1] 48.1745"
      ]
     },
     "metadata": {},
     "output_type": "display_data"
    }
   ],
   "source": [
    "# Confidence interval\n",
    "\n",
    "(df = 22-1)\n",
    "(t_21 = qt((1-0.95)/2, df = 21)) \n",
    "\n",
    "(se = sqrt(45.1^2/22 + 26.4^2/22))\n",
    "\n",
    "(52.1 - 27.1) - 2.08 * se\n",
    "(52.1 - 27.1) + 2.08 * se\n",
    "\n",
    "# We are 95% confident that those who eat with distractions \n",
    "# consume 1.83 g and 48.17 g more snacks than those \n",
    "# who eat without distractions, on average."
   ]
  },
  {
   "cell_type": "code",
   "execution_count": 14,
   "metadata": {},
   "outputs": [
    {
     "data": {
      "text/html": [
       "2.24384515963443"
      ],
      "text/latex": [
       "2.24384515963443"
      ],
      "text/markdown": [
       "2.24384515963443"
      ],
      "text/plain": [
       "[1] 2.243845"
      ]
     },
     "metadata": {},
     "output_type": "display_data"
    },
    {
     "data": {
      "text/html": [
       "0.0357508226714153"
      ],
      "text/latex": [
       "0.0357508226714153"
      ],
      "text/markdown": [
       "0.0357508226714153"
      ],
      "text/plain": [
       "[1] 0.03575082"
      ]
     },
     "metadata": {},
     "output_type": "display_data"
    }
   ],
   "source": [
    "# H0: mu1 - mu2 = 0\n",
    "# HA: mu1 - mu2 != 0\n",
    "\n",
    "# T-score\n",
    "(t = ((52.1 - 27.1) - 0) / se)\n",
    "\n",
    "# P-value\n",
    "pt(t, df = 21, lower.tail = FALSE) * 2"
   ]
  },
  {
   "cell_type": "markdown",
   "metadata": {},
   "source": [
    "## Inference for Comparing Two Paired Means\n",
    "\n",
    "* Same as the inference for a single population mean, only the mean is a difference between the two paired means.\n",
    "\n",
    "\n",
    "* $\\mu_{\\text{diff}}$ : Parameter of Interest\n",
    "* $\\bar{x}_{\\text{diff}}$ : Point Estimate"
   ]
  },
  {
   "cell_type": "markdown",
   "metadata": {},
   "source": [
    "**Example**\n",
    "\n",
    "* x̄_diff = -0.545\n",
    "* s_diff = 8.887\n",
    "* n_diff = 200"
   ]
  },
  {
   "cell_type": "code",
   "execution_count": 18,
   "metadata": {},
   "outputs": [
    {
     "data": {
      "text/html": [
       "-0.867273986152061"
      ],
      "text/latex": [
       "-0.867273986152061"
      ],
      "text/markdown": [
       "-0.867273986152061"
      ],
      "text/plain": [
       "[1] -0.867274"
      ]
     },
     "metadata": {},
     "output_type": "display_data"
    },
    {
     "data": {
      "text/html": [
       "0.386836474199347"
      ],
      "text/latex": [
       "0.386836474199347"
      ],
      "text/markdown": [
       "0.386836474199347"
      ],
      "text/plain": [
       "[1] 0.3868365"
      ]
     },
     "metadata": {},
     "output_type": "display_data"
    }
   ],
   "source": [
    "# H0: mu_diff = 0\n",
    "# HA: mu_diff != 0\n",
    "\n",
    "# Standard error\n",
    "se = 8.887 / sqrt(200)\n",
    "\n",
    "# T-score\n",
    "(t = (-0.545 - 0) / se)\n",
    "\n",
    "# P-value\n",
    "pt(t, df = 199) * 2"
   ]
  },
  {
   "cell_type": "markdown",
   "metadata": {},
   "source": [
    "## Power\n",
    "\n",
    "* $\\alpha$ : Type I error - P(reject H0 | H0 true)\n",
    "* $\\beta$ : Type II error - P(fail to reject H0 | HA true)\n",
    "* $1 - \\beta$ : **Power** - P(reject H0 | HA true)"
   ]
  },
  {
   "cell_type": "markdown",
   "metadata": {},
   "source": [
    "**Example**\n",
    "\n",
    "* sd = 12\n",
    "* n = 100 (per group)"
   ]
  },
  {
   "cell_type": "code",
   "execution_count": 21,
   "metadata": {},
   "outputs": [
    {
     "data": {
      "text/html": [
       "1.69705627484771"
      ],
      "text/latex": [
       "1.69705627484771"
      ],
      "text/markdown": [
       "1.69705627484771"
      ],
      "text/plain": [
       "[1] 1.697056"
      ]
     },
     "metadata": {},
     "output_type": "display_data"
    }
   ],
   "source": [
    "# H0: mu1 - mu2 = 0\n",
    "# HA: mu1 - mu2 != 0\n",
    "\n",
    "# Standard error\n",
    "sqrt(12^2/100 + 12^2/100)"
   ]
  },
  {
   "cell_type": "markdown",
   "metadata": {},
   "source": [
    "* For what values of difference would we reject the null hypothesis at the 5% significance level?"
   ]
  },
  {
   "cell_type": "code",
   "execution_count": 23,
   "metadata": {},
   "outputs": [
    {
     "data": {
      "text/html": [
       "3.332"
      ],
      "text/latex": [
       "3.332"
      ],
      "text/markdown": [
       "3.332"
      ],
      "text/plain": [
       "[1] 3.332"
      ]
     },
     "metadata": {},
     "output_type": "display_data"
    }
   ],
   "source": [
    "1.96 * 1.7"
   ]
  },
  {
   "cell_type": "markdown",
   "metadata": {},
   "source": [
    "* Suppose the company cares about finding any effect that is 3mmHg or larger vs\n",
    "the standard medication.\n",
    "* What is the power of the test that can detect this effect.\n",
    "\n",
    "\n",
    "* effect size = -3"
   ]
  },
  {
   "cell_type": "code",
   "execution_count": 26,
   "metadata": {},
   "outputs": [
    {
     "data": {
      "text/html": [
       "-0.195294117647059"
      ],
      "text/latex": [
       "-0.195294117647059"
      ],
      "text/markdown": [
       "-0.195294117647059"
      ],
      "text/plain": [
       "[1] -0.1952941"
      ]
     },
     "metadata": {},
     "output_type": "display_data"
    },
    {
     "data": {
      "text/html": [
       "0.422581350925617"
      ],
      "text/latex": [
       "0.422581350925617"
      ],
      "text/markdown": [
       "0.422581350925617"
      ],
      "text/plain": [
       "[1] 0.4225814"
      ]
     },
     "metadata": {},
     "output_type": "display_data"
    }
   ],
   "source": [
    "# Distribution with mu1 - mu2 = -3\n",
    "\n",
    "(z = (-3.332 - (-3)) / 1.7)\n",
    "\n",
    "# Power of the test\n",
    "pnorm(z)"
   ]
  },
  {
   "cell_type": "markdown",
   "metadata": {},
   "source": [
    "* What sample size will lead to a power of 80% for this test?"
   ]
  },
  {
   "cell_type": "code",
   "execution_count": 28,
   "metadata": {},
   "outputs": [
    {
     "data": {
      "text/html": [
       "0.841621233572914"
      ],
      "text/latex": [
       "0.841621233572914"
      ],
      "text/markdown": [
       "0.841621233572914"
      ],
      "text/plain": [
       "[1] 0.8416212"
      ]
     },
     "metadata": {},
     "output_type": "display_data"
    }
   ],
   "source": [
    "# Z-score that marks the 80th percentile of the normal curve\n",
    "qnorm(0.8)"
   ]
  },
  {
   "cell_type": "markdown",
   "metadata": {},
   "source": [
    "## Exercises\n",
    "\n",
    "OpenIntro Statistics, 3rd edition<br>\n",
    "5.1, 5.3, 5.5, 5.13, 5.17, 5.19, 5.21, 5.23, 5.27, 5.31, 5.35, 5.37<br>\n",
    "5.39<br>\n",
    "5.41, 5.43, 5.45, 5.47, 5.49, 5.51"
   ]
  },
  {
   "cell_type": "markdown",
   "metadata": {},
   "source": [
    "**5.1 Identify the critical t.**\n",
    "\n",
    "* An independent random sample is selected from an approximately normal population with unknown standard deviation. Find the degrees of freedom and the critical t-value (t*) for the given sample size and confidence level.\n",
    "* (a) n = 6, CL = 90% \n",
    "* (b) n = 21, CL = 98% \n",
    "* (c) n = 29, CL = 95% \n",
    "* (d) n = 12, CL = 99%"
   ]
  },
  {
   "cell_type": "code",
   "execution_count": 1,
   "metadata": {},
   "outputs": [
    {
     "data": {
      "text/html": [
       "-2.01504837333302"
      ],
      "text/latex": [
       "-2.01504837333302"
      ],
      "text/markdown": [
       "-2.01504837333302"
      ],
      "text/plain": [
       "[1] -2.015048"
      ]
     },
     "metadata": {},
     "output_type": "display_data"
    }
   ],
   "source": [
    "# (a)\n",
    "qt(.05, 5)"
   ]
  },
  {
   "cell_type": "code",
   "execution_count": 2,
   "metadata": {},
   "outputs": [
    {
     "data": {
      "text/html": [
       "-2.52797700274157"
      ],
      "text/latex": [
       "-2.52797700274157"
      ],
      "text/markdown": [
       "-2.52797700274157"
      ],
      "text/plain": [
       "[1] -2.527977"
      ]
     },
     "metadata": {},
     "output_type": "display_data"
    }
   ],
   "source": [
    "# (b)\n",
    "qt(.01, 20)"
   ]
  },
  {
   "cell_type": "code",
   "execution_count": 3,
   "metadata": {},
   "outputs": [
    {
     "data": {
      "text/html": [
       "-2.04840714179524"
      ],
      "text/latex": [
       "-2.04840714179524"
      ],
      "text/markdown": [
       "-2.04840714179524"
      ],
      "text/plain": [
       "[1] -2.048407"
      ]
     },
     "metadata": {},
     "output_type": "display_data"
    }
   ],
   "source": [
    "# (c)\n",
    "qt(.025, 28)"
   ]
  },
  {
   "cell_type": "code",
   "execution_count": 4,
   "metadata": {},
   "outputs": [
    {
     "data": {
      "text/html": [
       "-3.10580651553928"
      ],
      "text/latex": [
       "-3.10580651553928"
      ],
      "text/markdown": [
       "-3.10580651553928"
      ],
      "text/plain": [
       "[1] -3.105807"
      ]
     },
     "metadata": {},
     "output_type": "display_data"
    }
   ],
   "source": [
    "# (d)\n",
    "qt(.005, 11)"
   ]
  },
  {
   "cell_type": "markdown",
   "metadata": {},
   "source": [
    "**5.3 Find the p-value, Part I.** \n",
    "* An independent random sample is selected from an approximately normal population with an unknown standard deviation. Find the p-value for the given set of hypotheses and T test statistic. Also determine if the null hypothesis would be rejected at α = 0.05.\n",
    "* (a) HA : μ > μ0, n = 11, T = 1.91 \n",
    "* (b) HA : μ < μ0, n = 17, T = −3.45 \n",
    "* (c) HA : μ != μ0, n = 7, T = 0.83 \n",
    "* (d) HA : μ > μ0, n = 28, T = 2.1"
   ]
  },
  {
   "cell_type": "code",
   "execution_count": 6,
   "metadata": {},
   "outputs": [
    {
     "data": {
      "text/html": [
       "0.0426024383225782"
      ],
      "text/latex": [
       "0.0426024383225782"
      ],
      "text/markdown": [
       "0.0426024383225782"
      ],
      "text/plain": [
       "[1] 0.04260244"
      ]
     },
     "metadata": {},
     "output_type": "display_data"
    }
   ],
   "source": [
    "# (a)\n",
    "pt(1.91, 10, lower.tail = FALSE)\n",
    "# H0 rejected"
   ]
  },
  {
   "cell_type": "code",
   "execution_count": 7,
   "metadata": {},
   "outputs": [
    {
     "data": {
      "text/html": [
       "0.00164678570189846"
      ],
      "text/latex": [
       "0.00164678570189846"
      ],
      "text/markdown": [
       "0.00164678570189846"
      ],
      "text/plain": [
       "[1] 0.001646786"
      ]
     },
     "metadata": {},
     "output_type": "display_data"
    }
   ],
   "source": [
    "# (b)\n",
    "pt(-3.45, 16)\n",
    "# H0 rejected"
   ]
  },
  {
   "cell_type": "code",
   "execution_count": 9,
   "metadata": {},
   "outputs": [
    {
     "data": {
      "text/html": [
       "0.438308401565986"
      ],
      "text/latex": [
       "0.438308401565986"
      ],
      "text/markdown": [
       "0.438308401565986"
      ],
      "text/plain": [
       "[1] 0.4383084"
      ]
     },
     "metadata": {},
     "output_type": "display_data"
    }
   ],
   "source": [
    "# (c)\n",
    "pt(0.83, 6, lower.tail = FALSE) * 2\n",
    "# H0 not rejected"
   ]
  },
  {
   "cell_type": "code",
   "execution_count": 11,
   "metadata": {},
   "outputs": [
    {
     "data": {
      "text/html": [
       "0.0226043642593865"
      ],
      "text/latex": [
       "0.0226043642593865"
      ],
      "text/markdown": [
       "0.0226043642593865"
      ],
      "text/plain": [
       "[1] 0.02260436"
      ]
     },
     "metadata": {},
     "output_type": "display_data"
    }
   ],
   "source": [
    "# (d)\n",
    "pt(2.1, 27, lower.tail = FALSE)\n",
    "# H0 rejected"
   ]
  },
  {
   "cell_type": "markdown",
   "metadata": {},
   "source": [
    "**5.5 Working backwards, Part I.** \n",
    "* A 95% confidence interval for a population mean, μ, is given as (18.985, 21.015). This confidence interval is based on a simple random sample of 36 observations. \n",
    "* Calculate the sample mean and standard deviation. Assume that all conditions necessary for inference are satisfied. Use the t-distribution in any calculations"
   ]
  },
  {
   "cell_type": "code",
   "execution_count": 14,
   "metadata": {},
   "outputs": [
    {
     "data": {
      "text/html": [
       "-2.03010792825034"
      ],
      "text/latex": [
       "-2.03010792825034"
      ],
      "text/markdown": [
       "-2.03010792825034"
      ],
      "text/plain": [
       "[1] -2.030108"
      ]
     },
     "metadata": {},
     "output_type": "display_data"
    }
   ],
   "source": [
    "# t\n",
    "qt(.025, 35)"
   ]
  },
  {
   "cell_type": "code",
   "execution_count": 16,
   "metadata": {},
   "outputs": [
    {
     "data": {
      "text/html": [
       "1.015"
      ],
      "text/latex": [
       "1.015"
      ],
      "text/markdown": [
       "1.015"
      ],
      "text/plain": [
       "[1] 1.015"
      ]
     },
     "metadata": {},
     "output_type": "display_data"
    }
   ],
   "source": [
    "# me\n",
    "(21.015 - 18.985) / 2"
   ]
  },
  {
   "cell_type": "code",
   "execution_count": 22,
   "metadata": {},
   "outputs": [
    {
     "data": {
      "text/html": [
       "3"
      ],
      "text/latex": [
       "3"
      ],
      "text/markdown": [
       "3"
      ],
      "text/plain": [
       "[1] 3"
      ]
     },
     "metadata": {},
     "output_type": "display_data"
    }
   ],
   "source": [
    "# me = t * s / sqrt(n)\n",
    "# 1.015 = 2.03 * s / sqrt(36)\n",
    "# s\n",
    "1.015 / 2.03 * sqrt(36)"
   ]
  },
  {
   "cell_type": "code",
   "execution_count": 18,
   "metadata": {},
   "outputs": [
    {
     "data": {
      "text/html": [
       "20"
      ],
      "text/latex": [
       "20"
      ],
      "text/markdown": [
       "20"
      ],
      "text/plain": [
       "[1] 20"
      ]
     },
     "metadata": {},
     "output_type": "display_data"
    }
   ],
   "source": [
    "# mean\n",
    "18.985 + 1.015"
   ]
  },
  {
   "cell_type": "markdown",
   "metadata": {},
   "source": [
    "**5.13 Car insurance savings.** \n",
    "* A market researcher wants to evaluate car insurance savings at a competing company. Based on past studies he is assuming that the standard deviation of savings is 100. \n",
    "He wants to collect data such that he can get a margin of error of no more than 10 at a 95% confidence level. How large of a sample should he collect?"
   ]
  },
  {
   "cell_type": "code",
   "execution_count": 27,
   "metadata": {},
   "outputs": [
    {
     "data": {
      "text/html": [
       "384.16"
      ],
      "text/latex": [
       "384.16"
      ],
      "text/markdown": [
       "384.16"
      ],
      "text/plain": [
       "[1] 384.16"
      ]
     },
     "metadata": {},
     "output_type": "display_data"
    }
   ],
   "source": [
    "# s = 100\n",
    "# me = 10\n",
    "\n",
    "# me = z * s / sqrt(n)\n",
    "\n",
    "# 10 = 1.96 * 100 / sqrt(n)\n",
    "(1.96 * 100 / 10)^2\n",
    "\n",
    "# 385"
   ]
  },
  {
   "cell_type": "markdown",
   "metadata": {},
   "source": [
    "**5.17 Paired or not, Part I?** \n",
    "* In each of the following scenarios, determine if the data are paired.\n",
    "* (a) Compare pre- (beginning of semester) and post-test (end of semester) scores of students.\n",
    "* (b) Assess gender-related salary gap by comparing salaries of randomly sampled men and women.\n",
    "* (c) Compare artery thicknesses at the beginning of a study and after 2 years of taking Vitamin E for the same group of patients.\n",
    "* (d) Assess effectiveness of a diet regimen by comparing the before and after weights of subjects."
   ]
  },
  {
   "cell_type": "code",
   "execution_count": 28,
   "metadata": {},
   "outputs": [],
   "source": [
    "# (a)\n",
    "# Yes, pre- and post-test scores are paired because they're scores of the same student, and thus are not independent.\n",
    "\n",
    "# (b)\n",
    "# No, as data are randomly sampled, they're assuemed to be independent.\n",
    "\n",
    "# (c)\n",
    "# Yes, because they're of the same group of patients.\n",
    "\n",
    "# (d)\n",
    "# Yes, because they're of the same subjects."
   ]
  },
  {
   "cell_type": "markdown",
   "metadata": {},
   "source": [
    "**5.19 Global warming, Part I.** \n",
    "* Is there strong evidence of global warming? Let’s consider a small scale example, comparing how temperatures have changed in the US from 1968 to 2008. The daily high temperature reading on January 1 was collected in 1968 and 2008 for 51 randomly selected locations in the continental US. Then the difference between the two readings (temperature in 2008 - temperature in 1968) was calculated for each of the 51 different locations. The average of these 51 values was 1.1 degrees with a standard deviation of 4.9 degrees. We are interested in determining whether these data provide strong evidence of temperature warming in the continental US.\n",
    "* (a) Is there a relationship between the observations collected in 1968 and 2008? Or are the observations in the two groups independent? Explain.\n",
    "* (b) Write hypotheses for this research in symbols and in words.\n",
    "* (c) Check the conditions required to complete this test.\n",
    "* (d) Calculate the test statistic and find the p-value.\n",
    "* (e) What do you conclude? Interpret your conclusion in context.\n",
    "* (f) What type of error might we have made? Explain in context what the error means.\n",
    "* (g) Based on the results of this hypothesis test, would you expect a confidence interval for the average difference between the temperature measurements from 1968 and 2008 to include 0? Explain your reasoning."
   ]
  },
  {
   "cell_type": "code",
   "execution_count": 30,
   "metadata": {},
   "outputs": [],
   "source": [
    "# (a)\n",
    "# The observations collected in 1968 and 2008 are not independent. \n",
    "# Although the 51 locations are randomly selected, the observations collected\n",
    "# in two different years are from the same locations.\n",
    "# The data are paired."
   ]
  },
  {
   "cell_type": "code",
   "execution_count": 31,
   "metadata": {},
   "outputs": [],
   "source": [
    "# (b)\n",
    "# H0: mu_diff = 0\n",
    "# HA: mu_diff > 0\n",
    "\n",
    "# The null hypothesis assume that the mean of the difference in temperature in 2008 and 1968 is 0.\n",
    "# The alternative hypothesis assume that the mean of the difference greater than 0, i.e. warming."
   ]
  },
  {
   "cell_type": "code",
   "execution_count": 36,
   "metadata": {},
   "outputs": [
    {
     "data": {
      "text/html": [
       "0.686137241173725"
      ],
      "text/latex": [
       "0.686137241173725"
      ],
      "text/markdown": [
       "0.686137241173725"
      ],
      "text/plain": [
       "[1] 0.6861372"
      ]
     },
     "metadata": {},
     "output_type": "display_data"
    },
    {
     "data": {
      "text/html": [
       "1.60317781048921"
      ],
      "text/latex": [
       "1.60317781048921"
      ],
      "text/markdown": [
       "1.60317781048921"
      ],
      "text/plain": [
       "[1] 1.603178"
      ]
     },
     "metadata": {},
     "output_type": "display_data"
    },
    {
     "data": {
      "text/html": [
       "0.0575973078920081"
      ],
      "text/latex": [
       "0.0575973078920081"
      ],
      "text/markdown": [
       "0.0575973078920081"
      ],
      "text/plain": [
       "[1] 0.05759731"
      ]
     },
     "metadata": {},
     "output_type": "display_data"
    }
   ],
   "source": [
    "# (d)\n",
    "n = 51\n",
    "x = 1.1\n",
    "s = 4.9\n",
    "\n",
    "(se = 4.9 / sqrt(n))\n",
    "\n",
    "(t = 1.1 / se)\n",
    "\n",
    "pt(t, 50, lower.tail = FALSE) "
   ]
  },
  {
   "cell_type": "code",
   "execution_count": 37,
   "metadata": {},
   "outputs": [],
   "source": [
    "# (e)\n",
    "# Assume the significance level to be 0.05, the p-value is not large enough to reject the null hypothesis.\n",
    "# Hence, there is not enough evidence to say that the temperature is warming in the continental US."
   ]
  },
  {
   "cell_type": "code",
   "execution_count": 38,
   "metadata": {},
   "outputs": [],
   "source": [
    "# (f)\n",
    "# Type II error. There is actually temperature warming but we failed to reject the null hypothesis."
   ]
  },
  {
   "cell_type": "code",
   "execution_count": 39,
   "metadata": {},
   "outputs": [],
   "source": [
    "# (g)\n",
    "# Yes. Since the null hypothesis is not rejected, the null hypothesis assume that the mean is 0. \n",
    "# Hence the confidence interval should include 0."
   ]
  },
  {
   "cell_type": "markdown",
   "metadata": {},
   "source": [
    "**5.21 Global warming, Part II.** \n",
    "* We considered the differences between the temperature readings in January 1 of 1968 and 2008 at 51 locations in the continental US in Exercise 5.19. The mean and standard deviation of the reported differences are 1.1 degrees and 4.9 degrees.\n",
    "* (a) Calculate a 90% confidence interval for the average difference between the temperature measurements between 1968 and 2008.\n",
    "* (b) Interpret this interval in context.\n",
    "* (c) Does the confidence interval provide convincing evidence that the temperature was higher in 2008 than in 1968 in the continental US? Explain"
   ]
  },
  {
   "cell_type": "code",
   "execution_count": 46,
   "metadata": {},
   "outputs": [
    {
     "data": {
      "text/html": [
       "-1.6759050251631"
      ],
      "text/latex": [
       "-1.6759050251631"
      ],
      "text/markdown": [
       "-1.6759050251631"
      ],
      "text/plain": [
       "[1] -1.675905"
      ]
     },
     "metadata": {},
     "output_type": "display_data"
    },
    {
     "data": {
      "text/html": [
       "1.14989740248305"
      ],
      "text/latex": [
       "1.14989740248305"
      ],
      "text/markdown": [
       "1.14989740248305"
      ],
      "text/plain": [
       "[1] 1.149897"
      ]
     },
     "metadata": {},
     "output_type": "display_data"
    }
   ],
   "source": [
    "# (a)\n",
    "# t\n",
    "qt(0.05, 50)\n",
    "\n",
    "# me\n",
    "(me = 1.6759 * se)"
   ]
  },
  {
   "cell_type": "code",
   "execution_count": 47,
   "metadata": {},
   "outputs": [
    {
     "data": {
      "text/html": [
       "2.24989740248305"
      ],
      "text/latex": [
       "2.24989740248305"
      ],
      "text/markdown": [
       "2.24989740248305"
      ],
      "text/plain": [
       "[1] 2.249897"
      ]
     },
     "metadata": {},
     "output_type": "display_data"
    },
    {
     "data": {
      "text/html": [
       "-0.0498974024830452"
      ],
      "text/latex": [
       "-0.0498974024830452"
      ],
      "text/markdown": [
       "-0.0498974024830452"
      ],
      "text/plain": [
       "[1] -0.0498974"
      ]
     },
     "metadata": {},
     "output_type": "display_data"
    }
   ],
   "source": [
    "# ci\n",
    "1.1 + me\n",
    "1.1 - me"
   ]
  },
  {
   "cell_type": "code",
   "execution_count": 48,
   "metadata": {},
   "outputs": [],
   "source": [
    "# (b)\n",
    "# We are 90% confident that the average difference between the temperature measurements between 1968 and 2008 \n",
    "# with a sample size of 51 is between -0.05 and 2.25."
   ]
  },
  {
   "cell_type": "code",
   "execution_count": 49,
   "metadata": {},
   "outputs": [],
   "source": [
    "# (c)\n",
    "# The confidence interval also has a negative range. Hence there is no convincing evidence that the temperature \n",
    "# was higher in 2008 than in 1968."
   ]
  },
  {
   "cell_type": "markdown",
   "metadata": {},
   "source": [
    "**5.23 Gifted children.** \n",
    "* Researchers collected a simple random sample of 36 children who had been identified as gifted in a large city. The following histograms show the distributions of the IQ scores of mothers and fathers of these children. Also provided are some sample statistics.\n",
    "\n",
    "|/|Mother|Father|Diff|\n",
    "|---|---|---|---|\n",
    "|Mean|118.2|114.8|3.4|\n",
    "|SD|6.5|3.5|7.5|\n",
    "|n|36|36|36|\n",
    "\n",
    "* (a) Are the IQs of mothers and the IQs of fathers in this data set related? Explain.\n",
    "* (b) Conduct a hypothesis test to evaluate if the scores are equal on average. Make sure to clearly state your hypotheses, check the relevant conditions, and state your conclusion in the context of the data"
   ]
  },
  {
   "cell_type": "code",
   "execution_count": 51,
   "metadata": {},
   "outputs": [],
   "source": [
    "# (a)\n",
    "# Yes. Since IQ could be a factor affecting marriage. The IQ of mothers and fathers are paired."
   ]
  },
  {
   "cell_type": "code",
   "execution_count": 54,
   "metadata": {},
   "outputs": [],
   "source": [
    "# (b)\n",
    "\n",
    "# H0: mu_diff = 0\n",
    "# HA: mu_diff != 0 \n",
    "\n",
    "# The null hypothesis assumes that there are no difference between the average IQ of mother and father.\n",
    "# The alternative assumes that there are difference between the average IQ of mother and father.\n",
    "\n",
    "# A random sample of 36 obviously will be less than 10% of the population of a large city.\n",
    "# The distribution of IQ difference is slightly skewed.\n",
    "# But the sample size of 36 is large enough to meet the condition."
   ]
  },
  {
   "cell_type": "code",
   "execution_count": 56,
   "metadata": {},
   "outputs": [
    {
     "data": {
      "text/html": [
       "1.25"
      ],
      "text/latex": [
       "1.25"
      ],
      "text/markdown": [
       "1.25"
      ],
      "text/plain": [
       "[1] 1.25"
      ]
     },
     "metadata": {},
     "output_type": "display_data"
    },
    {
     "data": {
      "text/html": [
       "2.72"
      ],
      "text/latex": [
       "2.72"
      ],
      "text/markdown": [
       "2.72"
      ],
      "text/plain": [
       "[1] 2.72"
      ]
     },
     "metadata": {},
     "output_type": "display_data"
    },
    {
     "data": {
      "text/html": [
       "0.0100951233108302"
      ],
      "text/latex": [
       "0.0100951233108302"
      ],
      "text/markdown": [
       "0.0100951233108302"
      ],
      "text/plain": [
       "[1] 0.01009512"
      ]
     },
     "metadata": {},
     "output_type": "display_data"
    }
   ],
   "source": [
    "(se = 7.5/sqrt(36))\n",
    "(t = (3.4-0)/se)\n",
    "pt(t, 35, lower.tail = FALSE) * 2"
   ]
  },
  {
   "cell_type": "code",
   "execution_count": 57,
   "metadata": {},
   "outputs": [],
   "source": [
    "# With a significance level of 0.05, a p-value of 0.01 is small enough to reject the null hypothesis\n",
    "# and conclude that our data provide strong evidence that there are difference between the average IQ of mother and father,\n",
    "# and the data indicate that mothers’ scores are higher than fathers’ scores for the parents of gifted children."
   ]
  },
  {
   "cell_type": "markdown",
   "metadata": {},
   "source": [
    "**5.27 Friday the 13th, Part I.** \n",
    "* In the early 1990’s, researchers in the UK collected data on traffic flow, number of shoppers, and traffic accident related emergency room admissions on Friday the 13th and the previous Friday, Friday the 6th. The histograms below show the distribution of number of cars passing by a specific intersection on Friday the 6th and Friday the 13th for many such date pairs. Also given are some sample statistics, where the difference is the number of cars on the 6th minus the number of cars on the 13th.\n",
    "\n",
    "|/|6th|13th|Diff|\n",
    "|---|---|---|---|\n",
    "|Mean|128385|126550|1835|\n",
    "|SD|7259|7664|1176|\n",
    "|n|10|10|10|\n",
    "\n",
    "* (a) Are there any underlying structures in these data that should be considered in an analysis? Explain.\n",
    "* (b) What are the hypotheses for evaluating whether the number of people out on Friday the 6th is different than the number out on Friday the 13th? \n",
    "* (c) Check conditions to carry out the hypothesis test from part (b).\n",
    "* (d) Calculate the test statistic and the p-value.\n",
    "* (e) What is the conclusion of the hypothesis test? \n",
    "* (f) Interpret the p-value in this context.\n",
    "* (g) What type of error might have been made in the conclusion of your test? Explain."
   ]
  },
  {
   "cell_type": "code",
   "execution_count": 58,
   "metadata": {},
   "outputs": [],
   "source": [
    "# (a)\n",
    "# The number of cars on the 6th and the number of cars on the 13th should be paired."
   ]
  },
  {
   "cell_type": "code",
   "execution_count": 59,
   "metadata": {},
   "outputs": [],
   "source": [
    "# (b)\n",
    "# H0: mu_diff = 0\n",
    "# HA: mu_diff != 0"
   ]
  },
  {
   "cell_type": "code",
   "execution_count": 66,
   "metadata": {},
   "outputs": [
    {
     "data": {
      "text/html": [
       "9"
      ],
      "text/latex": [
       "9"
      ],
      "text/markdown": [
       "9"
      ],
      "text/plain": [
       "[1] 9"
      ]
     },
     "metadata": {},
     "output_type": "display_data"
    },
    {
     "data": {
      "text/html": [
       "371.883852835801"
      ],
      "text/latex": [
       "371.883852835801"
      ],
      "text/markdown": [
       "371.883852835801"
      ],
      "text/plain": [
       "[1] 371.8839"
      ]
     },
     "metadata": {},
     "output_type": "display_data"
    },
    {
     "data": {
      "text/html": [
       "4.93433631497362"
      ],
      "text/latex": [
       "4.93433631497362"
      ],
      "text/markdown": [
       "4.93433631497362"
      ],
      "text/plain": [
       "[1] 4.934336"
      ]
     },
     "metadata": {},
     "output_type": "display_data"
    },
    {
     "data": {
      "text/html": [
       "0.000808506455402362"
      ],
      "text/latex": [
       "0.000808506455402362"
      ],
      "text/markdown": [
       "0.000808506455402362"
      ],
      "text/plain": [
       "[1] 0.0008085065"
      ]
     },
     "metadata": {},
     "output_type": "display_data"
    }
   ],
   "source": [
    "# (d)\n",
    "(df = 10 - 1)\n",
    "(se = 1176/sqrt(10))\n",
    "(t = (1835 - 0) / se)\n",
    "\n",
    "pt(t, df, lower.tail = FALSE) * 2"
   ]
  },
  {
   "cell_type": "code",
   "execution_count": 70,
   "metadata": {},
   "outputs": [],
   "source": [
    "# (e)\n",
    "# The p-value of 0.0008 is much smaller than the significance level of 0.05\n",
    "# and hence reject the null hypothesis. "
   ]
  },
  {
   "cell_type": "code",
   "execution_count": 68,
   "metadata": {},
   "outputs": [],
   "source": [
    "# (f)\n",
    "# The p-value is the probability of observing a difference of the mean of the number of cars\n",
    "# on 6th and 13th as large as the observation difference under\n",
    "# the assumption that the null hypothesis is true, i.e. there are no difference."
   ]
  },
  {
   "cell_type": "code",
   "execution_count": 69,
   "metadata": {},
   "outputs": [],
   "source": [
    "# (g)\n",
    "# Type I error. There might actually be no difference but we wrongly \n",
    "# rejected the null hypothesis and state that there is a difference."
   ]
  },
  {
   "cell_type": "markdown",
   "metadata": {},
   "source": [
    "**5.31 Chicken diet and weight, Part I.** \n",
    "\n",
    "* Chicken farming is a multi-billion dollar industry, and any methods that increase the growth rate of young chicks can reduce consumer costs while increasing company profits, possibly by millions of dollars. An experiment was conducted to measure and compare the effectiveness of various feed supplements on the growth rate of chickens. Newly hatched chicks were randomly allocated into six groups, and each group was given a different feed supplement. Below are some summary statistics from this data set along with box plots showing the distribution of weights by feed type.\n",
    "\n",
    "|/|Mean|SD|n|\n",
    "|---|---|---|---|\n",
    "|casein |323.58 |64.43 |12 |\n",
    "|<mark>horsebean</mark> |160.20 |38.63 |10 |\n",
    "|<mark>linseed</mark> |218.75 |52.24| 12 |\n",
    "|meatmeal |276.91 |64.90 |11 |\n",
    "|soybean |246.43 |54.13 |14 |\n",
    "|sunflower |328.92 |48.84 |12 |\n",
    "\n",
    "* (a) Describe the distributions of weights of chickens that were fed linseed and horsebean.\n",
    "* (b) Do these data provide strong evidence that the average weights of chickens that were fed linseed and horsebean are different? Use a 5% significance level.\n",
    "* (c) What type of error might we have committed? Explain.\n",
    "* (d) Would your conclusion change if we used α = 0.01?"
   ]
  },
  {
   "cell_type": "code",
   "execution_count": 71,
   "metadata": {},
   "outputs": [],
   "source": [
    "# (a)\n",
    "# The distribution of chickens fed linseed is normal, whereas that of linseed is slightly skewed."
   ]
  },
  {
   "cell_type": "code",
   "execution_count": 77,
   "metadata": {},
   "outputs": [
    {
     "data": {
      "text/html": [
       "19.4073651826654"
      ],
      "text/latex": [
       "19.4073651826654"
      ],
      "text/markdown": [
       "19.4073651826654"
      ],
      "text/plain": [
       "[1] 19.40737"
      ]
     },
     "metadata": {},
     "output_type": "display_data"
    },
    {
     "data": {
      "text/html": [
       "3.01689587684456"
      ],
      "text/latex": [
       "3.01689587684456"
      ],
      "text/markdown": [
       "3.01689587684456"
      ],
      "text/plain": [
       "[1] 3.016896"
      ]
     },
     "metadata": {},
     "output_type": "display_data"
    },
    {
     "data": {
      "text/html": [
       "0.0145523176477712"
      ],
      "text/latex": [
       "0.0145523176477712"
      ],
      "text/markdown": [
       "0.0145523176477712"
      ],
      "text/plain": [
       "[1] 0.01455232"
      ]
     },
     "metadata": {},
     "output_type": "display_data"
    }
   ],
   "source": [
    "# (b)\n",
    "\n",
    "# The newly hatched chicks were randomly allocated into groups, there are no evidence of dependent relationship between them.\n",
    "\n",
    "# H0: mu_linseed - mu_horsebean = 0\n",
    "# HA: mu_linseed - mu_horsebean != 0\n",
    "\n",
    "df = min(12,10) - 1\n",
    "(se = sqrt(52.24^2/12 + 38.63^2/10))\n",
    "\n",
    "(t = (218.75-160.2)/se)\n",
    "\n",
    "pt(t, df, lower.tail = FALSE) * 2\n",
    "\n",
    "# Reject H0. There is strong evidence that average weights of checking fed linseed is different from horsebean."
   ]
  },
  {
   "cell_type": "code",
   "execution_count": 78,
   "metadata": {},
   "outputs": [],
   "source": [
    "# (c)\n",
    "# Type I error. Failed to reject H0."
   ]
  },
  {
   "cell_type": "code",
   "execution_count": 79,
   "metadata": {},
   "outputs": [],
   "source": [
    "# (d)\n",
    "# If alpha is 0.01, we failed to reject H0 with a p-value of 0.015."
   ]
  },
  {
   "cell_type": "markdown",
   "metadata": {},
   "source": [
    "**5.35 Gaming and distracted eating, Part I.**\n",
    "* A group of researchers are interested in the possible effects of distracting stimuli during eating, such as an increase or decrease in the amount of food consumption. \n",
    "* To test this hypothesis, they monitored food intake for a group of 44 patients who were randomized into two equal groups. The treatment group ate lunch while playing solitaire, and the control group ate lunch without any added distractions. \n",
    "* Patients in the treatment group ate 52.1 grams of biscuits, with a standard deviation of 45.1 grams, and patients in the control group ate 27.1 grams of biscuits, with a standard deviation of 26.4 grams. \n",
    "* Do these data provide convincing evidence that the average food intake (measured in amount of biscuits consumed) is different for the patients in the treatment group? Assume that conditions for inference are satisfied."
   ]
  },
  {
   "cell_type": "code",
   "execution_count": 80,
   "metadata": {},
   "outputs": [
    {
     "data": {
      "text/html": [
       "11.1415887556488"
      ],
      "text/latex": [
       "11.1415887556488"
      ],
      "text/markdown": [
       "11.1415887556488"
      ],
      "text/plain": [
       "[1] 11.14159"
      ]
     },
     "metadata": {},
     "output_type": "display_data"
    },
    {
     "data": {
      "text/html": [
       "2.24384515963443"
      ],
      "text/latex": [
       "2.24384515963443"
      ],
      "text/markdown": [
       "2.24384515963443"
      ],
      "text/plain": [
       "[1] 2.243845"
      ]
     },
     "metadata": {},
     "output_type": "display_data"
    },
    {
     "data": {
      "text/html": [
       "0.0357508226714153"
      ],
      "text/latex": [
       "0.0357508226714153"
      ],
      "text/markdown": [
       "0.0357508226714153"
      ],
      "text/plain": [
       "[1] 0.03575082"
      ]
     },
     "metadata": {},
     "output_type": "display_data"
    }
   ],
   "source": [
    "# Since the two groups of patients are randomly assigned, they're independent of each other.\n",
    "\n",
    "# H0: mu_a - mu_b = 0\n",
    "# HA: mu_a - mu_b != 0\n",
    "\n",
    "df = 22 - 1\n",
    "(se = sqrt(45.1^2/22 + 26.4^2/22))\n",
    "(t = (52.1-27.1-0)/se)\n",
    "\n",
    "pt(t, df, lower.tail = FALSE) * 2\n",
    "\n",
    "# Yes."
   ]
  },
  {
   "cell_type": "markdown",
   "metadata": {},
   "source": [
    "**5.37 Prison isolation experiment, Part I.**\n",
    "* Subjects from Central Prison in Raleigh, NC, volunteered for an experiment involving an “isolation” experience. The goal of the experiment was to find a treatment that reduces subjects’ psychopathic deviant T scores. This score measures a person’s need for control or their rebellion against control, and it is part of a commonly used mental health test called the Minnesota Multiphasic Personality Inventory (MMPI) test. The experiment had three treatment groups: \n",
    "* (1) Four hours of sensory restriction plus a 15 minute “therapeutic” tape advising that professional help is available.\n",
    "* (2) Four hours of sensory restriction plus a 15 minute “emotionally neutral” tape on training hunting dogs.\n",
    "* (3) Four hours of sensory restriction but no taped message.\n",
    "* Forty-two subjects were randomly assigned to these treatment groups, and an MMPI test was administered before and after the treatment. Distributions of the differences between pre and post treatment scores (pre - post) are shown below, along with some sample statistics. Use this information to independently test the effectiveness of each treatment. Make sure to clearly state your hypotheses, check conditions, and interpret results in the context of the data.\n",
    "\n",
    "|/|Tr 1|Tr 2|Tr 3|\n",
    "|---|---|---|---|\n",
    "|Mean|6.21|2.86|-3.21|\n",
    "|SD|12.3|7.94|8.57|\n",
    "|n|14|14|14|"
   ]
  },
  {
   "cell_type": "code",
   "execution_count": 89,
   "metadata": {},
   "outputs": [
    {
     "data": {
      "text/html": [
       "3.28731327552282"
      ],
      "text/latex": [
       "3.28731327552282"
      ],
      "text/markdown": [
       "3.28731327552282"
      ],
      "text/plain": [
       "[1] 3.287313"
      ]
     },
     "metadata": {},
     "output_type": "display_data"
    },
    {
     "data": {
      "text/html": [
       "1.88908068063953"
      ],
      "text/latex": [
       "1.88908068063953"
      ],
      "text/markdown": [
       "1.88908068063953"
      ],
      "text/plain": [
       "[1] 1.889081"
      ]
     },
     "metadata": {},
     "output_type": "display_data"
    },
    {
     "data": {
      "text/html": [
       "0.0416408602265248"
      ],
      "text/latex": [
       "0.0416408602265248"
      ],
      "text/markdown": [
       "0.0416408602265248"
      ],
      "text/plain": [
       "[1] 0.04164086"
      ]
     },
     "metadata": {},
     "output_type": "display_data"
    }
   ],
   "source": [
    "# The 42 subjects are randomly assigned, hence they're independent of each other.\n",
    "\n",
    "# Treatment 1 \n",
    "\n",
    "# H0: mu_diff_1 = 0\n",
    "# HA: mu_diff_1 > 0\n",
    "\n",
    "df = 13 - 1 \n",
    "(se = 12.3/sqrt(14))\n",
    "(t = (6.21-0)/se)\n",
    "\n",
    "pt(t, df, lower.tail = FALSE) "
   ]
  },
  {
   "cell_type": "code",
   "execution_count": 90,
   "metadata": {},
   "outputs": [
    {
     "data": {
      "text/html": [
       "2.12205426078465"
      ],
      "text/latex": [
       "2.12205426078465"
      ],
      "text/markdown": [
       "2.12205426078465"
      ],
      "text/plain": [
       "[1] 2.122054"
      ]
     },
     "metadata": {},
     "output_type": "display_data"
    },
    {
     "data": {
      "text/html": [
       "1.34775064561379"
      ],
      "text/latex": [
       "1.34775064561379"
      ],
      "text/markdown": [
       "1.34775064561379"
      ],
      "text/plain": [
       "[1] 1.347751"
      ]
     },
     "metadata": {},
     "output_type": "display_data"
    },
    {
     "data": {
      "text/html": [
       "0.101316309606214"
      ],
      "text/latex": [
       "0.101316309606214"
      ],
      "text/markdown": [
       "0.101316309606214"
      ],
      "text/plain": [
       "[1] 0.1013163"
      ]
     },
     "metadata": {},
     "output_type": "display_data"
    }
   ],
   "source": [
    "# Treatment 2\n",
    "\n",
    "# H0: mu_diff_2 = 0\n",
    "# HA: mu_diff_2 > 0\n",
    "\n",
    "df = 13 - 1 \n",
    "(se = 7.94/sqrt(14))\n",
    "(t = (2.86-0)/se)\n",
    "\n",
    "pt(t, df, lower.tail = FALSE) "
   ]
  },
  {
   "cell_type": "code",
   "execution_count": 92,
   "metadata": {},
   "outputs": [
    {
     "data": {
      "text/html": [
       "2.29042884318948"
      ],
      "text/latex": [
       "2.29042884318948"
      ],
      "text/markdown": [
       "2.29042884318948"
      ],
      "text/plain": [
       "[1] 2.290429"
      ]
     },
     "metadata": {},
     "output_type": "display_data"
    },
    {
     "data": {
      "text/html": [
       "-1.40148427205885"
      ],
      "text/latex": [
       "-1.40148427205885"
      ],
      "text/markdown": [
       "-1.40148427205885"
      ],
      "text/plain": [
       "[1] -1.401484"
      ]
     },
     "metadata": {},
     "output_type": "display_data"
    },
    {
     "data": {
      "text/html": [
       "0.906800211653283"
      ],
      "text/latex": [
       "0.906800211653283"
      ],
      "text/markdown": [
       "0.906800211653283"
      ],
      "text/plain": [
       "[1] 0.9068002"
      ]
     },
     "metadata": {},
     "output_type": "display_data"
    }
   ],
   "source": [
    "# Treatment 3\n",
    "\n",
    "# H0: mu_diff_3 = 0\n",
    "# HA: mu_diff_3 > 0\n",
    "\n",
    "df = 13 - 1 \n",
    "(se = 8.57/sqrt(14))\n",
    "(t = (-3.21-0)/se)\n",
    "\n",
    "pt(t, df, lower.tail = FALSE) "
   ]
  }
 ],
 "metadata": {
  "kernelspec": {
   "display_name": "R",
   "language": "R",
   "name": "ir"
  },
  "language_info": {
   "codemirror_mode": "r",
   "file_extension": ".r",
   "mimetype": "text/x-r-source",
   "name": "R",
   "pygments_lexer": "r",
   "version": "3.5.3"
  }
 },
 "nbformat": 4,
 "nbformat_minor": 2
}
